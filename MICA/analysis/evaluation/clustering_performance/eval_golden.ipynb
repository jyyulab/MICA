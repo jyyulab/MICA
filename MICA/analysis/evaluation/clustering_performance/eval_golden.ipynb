{
 "cells": [
  {
   "cell_type": "code",
   "execution_count": 21,
   "outputs": [],
   "source": [
    "from sklearn.metrics.cluster import adjusted_rand_score\n",
    "import pandas as pd\n",
    "import anndata\n"
   ],
   "metadata": {
    "collapsed": false,
    "pycharm": {
     "name": "#%%\n"
    }
   }
  },
  {
   "cell_type": "code",
   "execution_count": 14,
   "outputs": [],
   "source": [
    "true_label_file = '/Users/lding/Documents/MICA/Datasets/with_true_labels/GoldernStd/yan/yan_true_label_1.txt'\n",
    "true_label = pd.read_csv(true_label_file, delimiter='\\t', header=0)"
   ],
   "metadata": {
    "collapsed": false,
    "pycharm": {
     "name": "#%% Yan\n"
    }
   }
  },
  {
   "cell_type": "code",
   "execution_count": 15,
   "outputs": [],
   "source": [
    "predict_label_file = '/Users/lding/Documents/MICA/outputs/GoldernStd/Yan/cwl_lsf_k8_tsne_ClusterMem_rm_V.txt'\n",
    "predict_label = pd.read_csv(predict_label_file, delimiter='\\t')"
   ],
   "metadata": {
    "collapsed": false,
    "pycharm": {
     "name": "#%%\n"
    }
   }
  },
  {
   "cell_type": "code",
   "execution_count": 17,
   "outputs": [],
   "source": [
    "merged_label = true_label.merge(predict_label, left_on='cell', right_on='ID')"
   ],
   "metadata": {
    "collapsed": false,
    "pycharm": {
     "name": "#%%\n"
    }
   }
  },
  {
   "cell_type": "code",
   "execution_count": 18,
   "outputs": [
    {
     "data": {
      "text/plain": "0.9390370609566371"
     },
     "execution_count": 18,
     "metadata": {},
     "output_type": "execute_result"
    }
   ],
   "source": [
    "adjusted_rand_score(merged_label['label_x'], merged_label['label_y'])\n",
    "\n",
    "\n"
   ],
   "metadata": {
    "collapsed": false,
    "pycharm": {
     "name": "#%%\n"
    }
   }
  },
  {
   "cell_type": "code",
   "execution_count": 41,
   "outputs": [],
   "source": [
    "true_label_file = '/Users/lding/Documents/MICA/Datasets/with_true_labels/GoldernStd/buettner/buettner_true_label.txt'\n",
    "true_label = pd.read_csv(true_label_file, delimiter='\\t', header=0)"
   ],
   "metadata": {
    "collapsed": false,
    "pycharm": {
     "name": "#%% Buettner\n"
    }
   }
  },
  {
   "cell_type": "code",
   "execution_count": 42,
   "outputs": [],
   "source": [
    "predict_label_file = '/Users/lding/Documents/MICA/outputs/GoldernStd/Buttner/mica-db8/cwl_lsf_k3_tsne_ClusterMem.txt'\n",
    "predict_label = pd.read_csv(predict_label_file, delimiter='\\t')"
   ],
   "metadata": {
    "collapsed": false,
    "pycharm": {
     "name": "#%%\n"
    }
   }
  },
  {
   "cell_type": "code",
   "execution_count": 43,
   "outputs": [],
   "source": [
    "merged_label = true_label.merge(predict_label, left_on='cell', right_on='ID')"
   ],
   "metadata": {
    "collapsed": false,
    "pycharm": {
     "name": "#%%\n"
    }
   }
  },
  {
   "cell_type": "code",
   "execution_count": 44,
   "outputs": [
    {
     "name": "stdout",
     "output_type": "stream",
     "text": [
      "0.8721285237208732\n"
     ]
    }
   ],
   "source": [
    "print(adjusted_rand_score(merged_label['label_x'], merged_label['label_y']))\n",
    "\n"
   ],
   "metadata": {
    "collapsed": false,
    "pycharm": {
     "name": "#%%\n"
    }
   }
  },
  {
   "cell_type": "code",
   "execution_count": 33,
   "outputs": [],
   "source": [
    "true_label_file = '/Users/lding/Documents/MICA/Datasets/with_true_labels/GoldernStd/kolod/kolod_true_label.txt'\n",
    "true_label = pd.read_csv(true_label_file, delimiter='\\t', header=0)"
   ],
   "metadata": {
    "collapsed": false,
    "pycharm": {
     "name": "#%% Kolod\n"
    }
   }
  },
  {
   "cell_type": "code",
   "execution_count": 34,
   "outputs": [],
   "source": [
    "predict_label_file = '/Users/lding/Documents/MICA/outputs/GoldernStd/Kolod/cwl_lsf_k3_tsne_ClusterMem.txt'\n",
    "predict_label = pd.read_csv(predict_label_file, delimiter='\\t')"
   ],
   "metadata": {
    "collapsed": false,
    "pycharm": {
     "name": "#%%\n"
    }
   }
  },
  {
   "cell_type": "code",
   "execution_count": 35,
   "outputs": [],
   "source": [
    "merged_label = true_label.merge(predict_label, left_on='cell', right_on='ID')"
   ],
   "metadata": {
    "collapsed": false,
    "pycharm": {
     "name": "#%%\n"
    }
   }
  },
  {
   "cell_type": "code",
   "execution_count": 36,
   "outputs": [
    {
     "name": "stdout",
     "output_type": "stream",
     "text": [
      "1.0\n"
     ]
    }
   ],
   "source": [
    "print(adjusted_rand_score(merged_label['label_x'], merged_label['label_y']))\n",
    "\n"
   ],
   "metadata": {
    "collapsed": false,
    "pycharm": {
     "name": "#%%\n"
    }
   }
  },
  {
   "cell_type": "code",
   "execution_count": 37,
   "outputs": [],
   "source": [
    "true_label_file = '/Users/lding/Documents/MICA/Datasets/with_true_labels/GoldernStd/Pollen/pollen_true_label.txt'\n",
    "true_label = pd.read_csv(true_label_file, delimiter='\\t', header=0)"
   ],
   "metadata": {
    "collapsed": false,
    "pycharm": {
     "name": "#%% Pollen\n"
    }
   }
  },
  {
   "cell_type": "code",
   "execution_count": 38,
   "outputs": [],
   "source": [
    "predict_label_file = '/Users/lding/Documents/MICA/outputs/GoldernStd/Pollen/cwl_lsf_k11_tsne_ClusterMem.txt'\n",
    "predict_label = pd.read_csv(predict_label_file, delimiter='\\t')"
   ],
   "metadata": {
    "collapsed": false,
    "pycharm": {
     "name": "#%%\n"
    }
   }
  },
  {
   "cell_type": "code",
   "execution_count": 39,
   "outputs": [],
   "source": [
    "merged_label = true_label.merge(predict_label, left_on='cell', right_on='ID')"
   ],
   "metadata": {
    "collapsed": false,
    "pycharm": {
     "name": "#%%\n"
    }
   }
  },
  {
   "cell_type": "code",
   "execution_count": 40,
   "outputs": [
    {
     "name": "stdout",
     "output_type": "stream",
     "text": [
      "0.9418979476855714\n"
     ]
    }
   ],
   "source": [
    "print(adjusted_rand_score(merged_label['label_x'], merged_label['label_y']))\n",
    "\n"
   ],
   "metadata": {
    "collapsed": false,
    "pycharm": {
     "name": "#%%\n"
    }
   }
  },
  {
   "cell_type": "code",
   "execution_count": 147,
   "outputs": [],
   "source": [
    "true_label_file = '../../tests/answerkey/clustering/kolod_true_label_1.txt'\n",
    "true_label = pd.read_csv(true_label_file, delimiter='\\t', dtype=int, header=0)\n",
    "\n"
   ],
   "metadata": {
    "collapsed": false,
    "pycharm": {
     "name": "#%%\n"
    }
   }
  },
  {
   "cell_type": "code",
   "execution_count": 148,
   "outputs": [],
   "source": [
    "true_label = true_label.iloc[0]"
   ],
   "metadata": {
    "collapsed": false,
    "pycharm": {
     "name": "#%%\n"
    }
   }
  },
  {
   "cell_type": "code",
   "execution_count": 149,
   "outputs": [
    {
     "data": {
      "text/plain": "1      0\n2      0\n3      0\n4      0\n5      0\n      ..\n700    1\n701    1\n702    1\n703    1\n704    1\nName: 0, Length: 704, dtype: int64"
     },
     "execution_count": 149,
     "metadata": {},
     "output_type": "execute_result"
    }
   ],
   "source": [
    "true_label"
   ],
   "metadata": {
    "collapsed": false,
    "pycharm": {
     "name": "#%%\n"
    }
   }
  },
  {
   "cell_type": "code",
   "execution_count": 191,
   "outputs": [],
   "source": [
    "# predict_label_file = '../../test_data/outputs/clustering_umap_euclidean_13473.txt'\n",
    "predict_label_file = '../../test_data/outputs/clustering_umap_euclidean_12.txt'\n",
    "predict_label = pd.read_csv(predict_label_file, delimiter='\\t')"
   ],
   "metadata": {
    "collapsed": false,
    "pycharm": {
     "name": "#%%\n"
    }
   }
  },
  {
   "cell_type": "code",
   "execution_count": 192,
   "outputs": [],
   "source": [
    "predict_label = predict_label['label']"
   ],
   "metadata": {
    "collapsed": false,
    "pycharm": {
     "name": "#%%\n"
    }
   }
  },
  {
   "cell_type": "code",
   "execution_count": 193,
   "outputs": [
    {
     "data": {
      "text/plain": "0      1\n1      1\n2      1\n3      1\n4      1\n      ..\n699    3\n700    3\n701    3\n702    3\n703    3\nName: label, Length: 704, dtype: int64"
     },
     "execution_count": 193,
     "metadata": {},
     "output_type": "execute_result"
    }
   ],
   "source": [
    "predict_label"
   ],
   "metadata": {
    "collapsed": false,
    "pycharm": {
     "name": "#%%\n"
    }
   }
  },
  {
   "cell_type": "code",
   "execution_count": 194,
   "outputs": [
    {
     "data": {
      "text/plain": "0.9959874701556554"
     },
     "execution_count": 194,
     "metadata": {},
     "output_type": "execute_result"
    }
   ],
   "source": [
    "adjusted_rand_score(true_label, predict_label)"
   ],
   "metadata": {
    "collapsed": false,
    "pycharm": {
     "name": "#%%\n"
    }
   }
  },
  {
   "cell_type": "code",
   "execution_count": 165,
   "outputs": [
    {
     "data": {
      "text/plain": "[1, 2, 3, 4, 5, 6, 7, 8, 9]"
     },
     "execution_count": 165,
     "metadata": {},
     "output_type": "execute_result"
    }
   ],
   "source": [
    "import numpy as np\n",
    "list(range(1, 9+1))\n",
    "list(np.arange(1, 9+1))"
   ],
   "metadata": {
    "collapsed": false,
    "pycharm": {
     "name": "#%%\n"
    }
   }
  },
  {
   "cell_type": "code",
   "execution_count": 177,
   "outputs": [
    {
     "data": {
      "text/plain": "            1         2         3         4         5         6         7  \\\n0   -0.602167 -1.415160 -0.411313 -1.223510 -0.404088  0.523746  0.268541   \n1   -0.495241 -1.501840 -0.273258 -1.297920 -0.497208  0.364753  0.124607   \n2   -0.737575 -1.435950 -0.158057 -1.185850 -0.404148  0.505257  0.003914   \n3   -0.002750 -1.879510 -0.642763 -1.107510 -0.267840  0.078828  0.417533   \n4    0.005477 -1.780630 -0.619100 -1.320880 -0.341325 -0.034367  0.352529   \n..        ...       ...       ...       ...       ...       ...       ...   \n699  1.266290 -0.551645  0.450595 -0.451681  0.219022  2.161950  0.121917   \n700  1.263970 -0.479572  0.417244 -0.494782  0.160141  1.899070  0.159367   \n701  1.347890 -0.504792  0.374600 -0.433571  0.118403  1.834150  0.159962   \n702  1.063330 -0.435065  0.468318 -0.353516  0.061297  1.761070  0.096007   \n703  0.745595 -0.326340  0.876795 -0.446832 -0.131985  1.562390 -0.252490   \n\n            8  \n0    0.580609  \n1    0.457490  \n2    0.434027  \n3    1.018290  \n4    1.131760  \n..        ...  \n699  0.811945  \n700  1.081780  \n701  1.202540  \n702  1.317830  \n703  1.305940  \n\n[704 rows x 8 columns]",
      "text/html": "<div>\n<style scoped>\n    .dataframe tbody tr th:only-of-type {\n        vertical-align: middle;\n    }\n\n    .dataframe tbody tr th {\n        vertical-align: top;\n    }\n\n    .dataframe thead th {\n        text-align: right;\n    }\n</style>\n<table border=\"1\" class=\"dataframe\">\n  <thead>\n    <tr style=\"text-align: right;\">\n      <th></th>\n      <th>1</th>\n      <th>2</th>\n      <th>3</th>\n      <th>4</th>\n      <th>5</th>\n      <th>6</th>\n      <th>7</th>\n      <th>8</th>\n    </tr>\n  </thead>\n  <tbody>\n    <tr>\n      <th>0</th>\n      <td>-0.602167</td>\n      <td>-1.415160</td>\n      <td>-0.411313</td>\n      <td>-1.223510</td>\n      <td>-0.404088</td>\n      <td>0.523746</td>\n      <td>0.268541</td>\n      <td>0.580609</td>\n    </tr>\n    <tr>\n      <th>1</th>\n      <td>-0.495241</td>\n      <td>-1.501840</td>\n      <td>-0.273258</td>\n      <td>-1.297920</td>\n      <td>-0.497208</td>\n      <td>0.364753</td>\n      <td>0.124607</td>\n      <td>0.457490</td>\n    </tr>\n    <tr>\n      <th>2</th>\n      <td>-0.737575</td>\n      <td>-1.435950</td>\n      <td>-0.158057</td>\n      <td>-1.185850</td>\n      <td>-0.404148</td>\n      <td>0.505257</td>\n      <td>0.003914</td>\n      <td>0.434027</td>\n    </tr>\n    <tr>\n      <th>3</th>\n      <td>-0.002750</td>\n      <td>-1.879510</td>\n      <td>-0.642763</td>\n      <td>-1.107510</td>\n      <td>-0.267840</td>\n      <td>0.078828</td>\n      <td>0.417533</td>\n      <td>1.018290</td>\n    </tr>\n    <tr>\n      <th>4</th>\n      <td>0.005477</td>\n      <td>-1.780630</td>\n      <td>-0.619100</td>\n      <td>-1.320880</td>\n      <td>-0.341325</td>\n      <td>-0.034367</td>\n      <td>0.352529</td>\n      <td>1.131760</td>\n    </tr>\n    <tr>\n      <th>...</th>\n      <td>...</td>\n      <td>...</td>\n      <td>...</td>\n      <td>...</td>\n      <td>...</td>\n      <td>...</td>\n      <td>...</td>\n      <td>...</td>\n    </tr>\n    <tr>\n      <th>699</th>\n      <td>1.266290</td>\n      <td>-0.551645</td>\n      <td>0.450595</td>\n      <td>-0.451681</td>\n      <td>0.219022</td>\n      <td>2.161950</td>\n      <td>0.121917</td>\n      <td>0.811945</td>\n    </tr>\n    <tr>\n      <th>700</th>\n      <td>1.263970</td>\n      <td>-0.479572</td>\n      <td>0.417244</td>\n      <td>-0.494782</td>\n      <td>0.160141</td>\n      <td>1.899070</td>\n      <td>0.159367</td>\n      <td>1.081780</td>\n    </tr>\n    <tr>\n      <th>701</th>\n      <td>1.347890</td>\n      <td>-0.504792</td>\n      <td>0.374600</td>\n      <td>-0.433571</td>\n      <td>0.118403</td>\n      <td>1.834150</td>\n      <td>0.159962</td>\n      <td>1.202540</td>\n    </tr>\n    <tr>\n      <th>702</th>\n      <td>1.063330</td>\n      <td>-0.435065</td>\n      <td>0.468318</td>\n      <td>-0.353516</td>\n      <td>0.061297</td>\n      <td>1.761070</td>\n      <td>0.096007</td>\n      <td>1.317830</td>\n    </tr>\n    <tr>\n      <th>703</th>\n      <td>0.745595</td>\n      <td>-0.326340</td>\n      <td>0.876795</td>\n      <td>-0.446832</td>\n      <td>-0.131985</td>\n      <td>1.562390</td>\n      <td>-0.252490</td>\n      <td>1.305940</td>\n    </tr>\n  </tbody>\n</table>\n<p>704 rows × 8 columns</p>\n</div>"
     },
     "execution_count": 177,
     "metadata": {},
     "output_type": "execute_result"
    }
   ],
   "source": [
    "emb_file = '/Users/lding/Git/MICA/test_data/outputs/knn_graph.node2vec.emb.txt'\n",
    "mat_dr_df = pd.read_csv(emb_file, delimiter=' ', skiprows=1, index_col=0, names=np.arange(1, 8+1))\n",
    "mat_dr_df.sort_index(inplace=True)\n",
    "mat_dr_df"
   ],
   "metadata": {
    "collapsed": false,
    "pycharm": {
     "name": "#%%\n"
    }
   }
  }
 ],
 "metadata": {
  "kernelspec": {
   "display_name": "Python 3",
   "language": "python",
   "name": "python3"
  },
  "language_info": {
   "codemirror_mode": {
    "name": "ipython",
    "version": 2
   },
   "file_extension": ".py",
   "mimetype": "text/x-python",
   "name": "python",
   "nbconvert_exporter": "python",
   "pygments_lexer": "ipython2",
   "version": "2.7.6"
  }
 },
 "nbformat": 4,
 "nbformat_minor": 0
}