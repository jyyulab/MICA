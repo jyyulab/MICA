{
 "cells": [
  {
   "cell_type": "code",
   "execution_count": 1,
   "metadata": {},
   "outputs": [],
   "source": [
    "#import scanpy as sc\n",
    "#import scipy as sci\n",
    "#import numpy as np\n",
    "#import anndata\n",
    "#import time\n",
    "#from sklearn.decomposition import PCA\n",
    "#import fast_histogram\n",
    "#import logging\n",
    "#logging.basicConfig(level=logging.INFO)\n",
    "#import pandas as pd\n",
    "\n",
    "#import numba"
   ]
  },
  {
   "cell_type": "markdown",
   "metadata": {},
   "source": [
    "prep.py component \\\n",
    "Read input file and slice into manageable sizes"
   ]
  },
  {
   "cell_type": "code",
   "execution_count": 2,
   "metadata": {},
   "outputs": [],
   "source": [
    "#from MICA.lib import utils"
   ]
  },
  {
   "cell_type": "code",
   "execution_count": 3,
   "metadata": {},
   "outputs": [],
   "source": [
    "#from IPython import parallel\n",
    "import ipyparallel as ipp"
   ]
  },
  {
   "cell_type": "code",
   "execution_count": 4,
   "metadata": {},
   "outputs": [
    {
     "data": {
      "text/plain": [
       "[0, 1, 2]"
      ]
     },
     "execution_count": 4,
     "metadata": {},
     "output_type": "execute_result"
    }
   ],
   "source": [
    "#We need to launch an ipython parallel cluster\n",
    "#run this on hpc node to launch a cluster with mpi engines\n",
    "#ipcluster start --engines=MPIEngineSetLauncher --log-level DEBUG --n=3 &\n",
    "#create a parallel client so that we can use %%px cell magic\n",
    "#rc = parallel.Client()\n",
    "rc = ipp.Client()\n",
    "dview = rc[:]\n",
    "rc.ids"
   ]
  },
  {
   "cell_type": "code",
   "execution_count": 19,
   "metadata": {},
   "outputs": [],
   "source": [
    "#load all necessary libraries onto each rank\n",
    "from scipy.sparse import csr_matrix\n",
    "from mpi4py import MPI\n",
    "import sys\n",
    "import numba\n",
    "import pandas as pd\n",
    "import scanpy as sc\n",
    "import scipy as sci\n",
    "import numpy as np\n",
    "import anndata\n",
    "import time\n",
    "from sklearn.decomposition import PCA\n",
    "import fast_histogram\n",
    "import logging\n",
    "logging.basicConfig(level=logging.INFO)\n",
    "from MICA.lib import utils"
   ]
  },
  {
   "cell_type": "code",
   "execution_count": 20,
   "metadata": {},
   "outputs": [
    {
     "name": "stdout",
     "output_type": "stream",
     "text": [
      "[stdout:0] Hello, World! I am process 0 of 3 on noderome166.\n",
      "[stdout:1] Hello, World! I am process 1 of 3 on noderome166.\n",
      "[stdout:2] Hello, World! I am process 2 of 3 on noderome166.\n"
     ]
    }
   ],
   "source": [
    "%%px\n",
    "#from mpi4py import MPI\n",
    "#import sys\n",
    "\n",
    "comm = MPI.COMM_WORLD\n",
    "#rank = comm.Get_rank()\n",
    "size = comm.Get_size()\n",
    "rank = comm.Get_rank()\n",
    "name = MPI.Get_processor_name()\n",
    "sys.stdout.write(\n",
    "    \"Hello, World! I am process %d of %d on %s.\\n\" \n",
    "    % (rank, size, name))"
   ]
  },
  {
   "cell_type": "code",
   "execution_count": 7,
   "metadata": {},
   "outputs": [],
   "source": [
    "#%%file hellompi.py\n",
    "#\"\"\"\n",
    "#Parallel Hello World\n",
    "#\"\"\"\n",
    "#from mpi4py import MPI\n",
    "#import sys\n",
    "#MPI_Init(NULL, NULL);\n",
    "#MPI_Comm_size(MPI_COMM_WORLD, &world_size);\n",
    "#size = MPI.COMM_WORLD.Get_size()\n",
    "#rank = MPI.COMM_WORLD.Get_rank()\n",
    "#name = MPI.Get_processor_name()\n",
    "#sys.stdout.write(\n",
    "#    \"Hello, World! I am process %d of %d on %s.\\n\" \n",
    "#    % (rank, size, name))"
   ]
  },
  {
   "cell_type": "code",
   "execution_count": 8,
   "metadata": {},
   "outputs": [],
   "source": [
    "#!mpiexec -n 3 python3 hellompi.py"
   ]
  },
  {
   "cell_type": "code",
   "execution_count": 9,
   "metadata": {},
   "outputs": [],
   "source": [
    "#def read_anndata_file(in_file):\n",
    "#    \"\"\" Reads text file and stores data in a temporary HDF5-format file.\n",
    "#\n",
    "#    Args:\n",
    "#        in_file_name  (str): path to input text file\n",
    "#        out_file_name (str): user-defined name for output file\n",
    "#    \"\"\"\n",
    "#    if in_file.endswith('.h5ad'):\n",
    "#        adata = anndata.read_h5ad(in_file)\n",
    "#    #write dataframe to hdf\n",
    "#    #adata.to_hdf(out_file_name + \".h5.tmp\", \"slice_0\")\n",
    "#    return adata"
   ]
  },
  {
   "cell_type": "code",
   "execution_count": 21,
   "metadata": {},
   "outputs": [],
   "source": [
    "#this is a defined elsewhere as a standalone python executable\n",
    "#we are duplicating here to experiment with format for distrubuted computing\n",
    "def prep_dist(input_file, out_name, slice_unit):\n",
    "    \"\"\" Preprocess input file to create sliced matrices.\n",
    "\n",
    "    Reads file into HDF5-format, adds parameters, slices data in file, generates several files with\n",
    "    different combinations of slices.\n",
    "\n",
    "    Args:\n",
    "        input_file (str): path to input text-file\n",
    "        out_name   (str): common rootname of generated output files\n",
    "        slice_unit (int): size of each slice of cell data in input text-file\n",
    "    \"\"\"\n",
    "    logging.basicConfig(level=logging.INFO)\n",
    "    \n",
    "    #Read in whole file stored in anndata csr format\n",
    "    #adf=utils.read_anndata_file(in_file)\n",
    "    adf=utils.read_anndata_file(input_file)\n",
    "\n",
    "\n",
    "    #anndata object can be split easily by subsetting\n",
    "\n",
    "    #patch_file\n",
    "    \"\"\" Prepares the HDF5 file for slicing. Completes the \"temporary\" HDF5-format file.\n",
    "    Reads input file into several data frames. Indexes attributes as row, col and slice.\n",
    "    Indexes columns and rows of data. Converts all data frames into an output HDF5 file\n",
    "    with separate keys for each piece of data.\n",
    "    Args:\n",
    "        df_file       (str): path to HDF5-format file\n",
    "        out_file_name (str): path to complete HDF5-format file\n",
    "    \"\"\"\n",
    "    #patch adds parameters to anndata object\n",
    "    #ceb I'm not sure what value the patch function adds\n",
    "    \n",
    "    # prepare h5 files (whole)\n",
    "    #h5_tmp = out_name + \".h5ad.tmp\"\n",
    "    #utils.patch_anndata_csr_file(h5_tmp, out_name)\n",
    "\n",
    "    #adata_sub = utils.patch_anndata_csr_file(adf, out_name)\n",
    "\n",
    "    #os.remove(h5_tmp)\n",
    "    \n",
    "    #def patch_file(df_file,  out_file_name):\n",
    "    #df = pd.HDFStore(df_file)[\"slice_0\"]\n",
    "    #df.to_hdf(out_file_name + \".whole.h5\", \"slice_0\")\n",
    "    #pd.DataFrame(data=np.array(df.shape + (1,)), index=[\"row\", \"col\", \"slice\"]).to_hdf(\n",
    "    #    out_file_name + \".whole.h5\", \"attr\"\n",
    "    #)\n",
    "    #pd.DataFrame(data=df.columns, index=df.columns).to_hdf(\n",
    "    #    out_file_name + \".whole.h5\", \"cols\"\n",
    "    #)\n",
    "    #pd.DataFrame(data=df.index, index=df.index).to_hdf(\n",
    "    #    out_file_name + \".whole.h5\", \"rows\"\n",
    "    #)    \n",
    "    \n",
    "    \n",
    "    #Slice_file\n",
    "    #def slice_file(df_file,  out_file_name, slice_size=\"1000\"):\n",
    "    \"\"\" Slices the HDF5 file.\n",
    "    Determines the number of slices for the data, based on slice_size.\n",
    "    Calculates start and end indices for slicing, creating a new dataframe\n",
    "    based on those indices and appends them to the sliced output file using\n",
    "    a unique-identifier in the format 'slice_00x' as key.\n",
    "    Args:\n",
    "        df_file       (str): path to HDF5-format file\n",
    "        out_file_name (str): path to sliced output HDF5 file\n",
    "        slice_size    (str): number of items in each slice\n",
    "    \"\"\"\n",
    "    \n",
    "    #h5_whole = out_name + \".whole.h5ad\"\n",
    "    slice_size = int(slice_unit)\n",
    "    \n",
    "    #df = pd.HDFStore(df_file)[\"slice_0\"]\n",
    "    \n",
    "    #compute number of slices needed to break dataset in to slice_size batches\n",
    "    b = int(np.ceil(float(adf.shape[0]) / float(slice_size)))\n",
    "    #determine how many digits are in b so we can pad spaces for the string output\n",
    "    digit = int(np.floor(np.log10(b)) + 1)\n",
    "    #loop over slice numbers\n",
    "    for i in range(b):\n",
    "        #slice name is equal to batch index\n",
    "        slice_name = str(i).zfill(digit)\n",
    "        #compute batch row indices\n",
    "        start = i * slice_size\n",
    "        end = np.min([(i + 1) * slice_size, adf.shape[0]])\n",
    "        #copy slice to array of slices\n",
    "        adf_sub=adf[start:end,:]\n",
    "        #write to file so we don't have to keep each slice in memory\n",
    "        output_file_name = out_name + \".slice_\" + slice_name +\".h5ad\"\n",
    "        print(\"output_file_name: \",output_file_name)\n",
    "        adf_sub.write(output_file_name)\n",
    "        \n",
    " \n",
    "    \n",
    "    #return nrows and nslices\n",
    "    return adf.shape[0], adf.shape[1], b\n",
    "    \n",
    "    #ceb this function creates pairwise block comparison files for each b(b-1)/2 block comparisons to be done.\n",
    "    #calc_mi function is called to run independently on each of these comparison files.\n",
    "    #We can replace this if we use mpi to spawn ranks and then have each rank perform one or more of these block comparisons.\n",
    "    # The mpi rank will read the two files that it needs, so we can reduce the number of files generated\n",
    "    # We can repurpose the following loop to direct the matrix file to the mpi ranks\n",
    "    \n",
    "\n",
    "  \n",
    "    #in_.close()    \n",
    "    #logging.info('MICA-prep step completed successfully.')"
   ]
  },
  {
   "cell_type": "code",
   "execution_count": 22,
   "metadata": {},
   "outputs": [],
   "source": [
    "%%px\n",
    "#ceb create csr version of numba_histogram2d, also compute_bin with knowledge that minx will always be zero\n",
    "\n",
    "@numba.jit(nopython=True)\n",
    "def numba_nan_fill(x):\n",
    "    shape = x.shape\n",
    "    x = x.ravel()\n",
    "    x[np.isnan(x)] = 0.0\n",
    "    x = x.reshape(shape)\n",
    "    return x\n",
    "\n",
    "@numba.jit(nopython=True)\n",
    "def numba_inf_fill(x):\n",
    "    shape = x.shape\n",
    "    x = x.ravel()\n",
    "    x[np.isinf(x)] = 0.0\n",
    "    x = x.reshape(shape)\n",
    "    return x\n",
    "\n",
    "@numba.jit(nopython=True, fastmath=True)\n",
    "def compute_bin_upperbound(x, max, num_bins):\n",
    "    \"\"\" Compute bin index for a give number.\n",
    "        Assume that min is always zero\n",
    "    \"\"\"\n",
    "    # special case to mirror NumPy behavior for last bin\n",
    "    if x == max:\n",
    "        return num_bins - 1 # a_max always in last bin\n",
    "\n",
    "    bin = int(num_bins * x / max)\n",
    "\n",
    "    if bin >= num_bins:\n",
    "        return None\n",
    "    else:\n",
    "        return bin\n",
    "\n",
    "@numba.jit(nopython=True, fastmath=True)\n",
    "def numba_histogram2d_csr(arr1, cols1, arr2, cols2, ncols, num_bins):\n",
    "    \"\"\" Compute the bi-dimensional histogram of two data samples.\n",
    "    Args:\n",
    "        arr1 (array_like, shape (N,)): An array containing the x coordinates of the points to be histogrammed.\n",
    "        arr2 (array_like, shape (N,)): An array containing the y coordinates of the points to be histogrammed.\n",
    "        num_bins (int): int\n",
    "    Return:\n",
    "        hist (2D ndarray)\n",
    "    \"\"\"\n",
    "    #for csr arrays we have to compute zero bins ahead of time \n",
    "        \n",
    "    bin_indices1 = np.zeros((ncols,), dtype=np.int16)\n",
    "    max1 = arr1.max()\n",
    "    #note that bin_indices has same size/indices as full array x and y\n",
    "    for i, x in enumerate(arr1.flat):\n",
    "        #assume zero min\n",
    "        bin_indices1[cols1[i]] = compute_bin_upperbound(x, max1, num_bins)\n",
    "        #bin_indices1[cols1[i]] = compute_bin(x, 0, max1, num_bins)\n",
    "\n",
    "    bin_indices2 = np.zeros((ncols,), dtype=np.int16)\n",
    "    max2 = arr2.max()\n",
    "    for i, y in enumerate(arr2.flat):\n",
    "        #assume zero min\n",
    "        bin_indices2[cols2[i]] = compute_bin_upperbound(y, max2, num_bins)\n",
    "        #bin_indices2[cols2[i]] = compute_bin(y, 0, max2, num_bins)\n",
    "\n",
    "    hist = np.zeros((num_bins, num_bins), dtype=np.int16)\n",
    "    for i, b in enumerate(bin_indices1):\n",
    "        hist[b, bin_indices2[i]] += 1\n",
    "        \n",
    "    return hist"
   ]
  },
  {
   "cell_type": "code",
   "execution_count": 23,
   "metadata": {},
   "outputs": [],
   "source": [
    "%%px\n",
    "import numba\n",
    "@numba.jit(nopython=True, fastmath=True)\n",
    "def numba_calc_mi_dis_csr(arr1, cols1, arr2, cols2, bins, m):\n",
    "    \"\"\" Calculates a mutual information distance D(X, Y) = H(X, Y) - I(X, Y) using bin-based method\n",
    "\n",
    "    It takes gene expression data from single cells, and compares them using standard calculation for\n",
    "    mutual information and joint entropy. It builds a 2d histogram, which is used to calculate P(arr1, arr2).\n",
    "\n",
    "    Args:\n",
    "        arr1 (float) nparray of csr: gene expression data for cell 1\n",
    "        cols1 (int): column indices for csr arr1\n",
    "        arr2 (float) nparray of csr: gene expression data for cell 2\n",
    "        cols2 (int): column indices for csr arr\n",
    "        bins           (int): number of bins\n",
    "        m              (int): number of genes\n",
    "    Returns:\n",
    "        a float between 0 and 1\n",
    "    \"\"\"\n",
    "    hist = numba_histogram2d_csr(arr1, cols1, arr2, cols2, m, bins)\n",
    "    \n",
    "    sm = np.sum(hist, axis=1)\n",
    "    tm = np.sum(hist, axis=0)\n",
    "    sm = sm / float(sm.sum())\n",
    "    tm = tm / float(tm.sum())\n",
    "\n",
    "    sm_tm = np.zeros((bins, bins), dtype=np.float32)\n",
    "    for i, s in enumerate(sm):\n",
    "        for j, t in enumerate(tm):\n",
    "            sm_tm[i, j] = s * t\n",
    "\n",
    "    fq = hist / float(m)\n",
    "    div = np.true_divide(fq, sm_tm)\n",
    "    numba_nan_fill(div)\n",
    "    ent = np.log(div)\n",
    "    numba_inf_fill(ent)\n",
    "    agg = np.multiply(fq, ent)\n",
    "    joint_ent = -np.multiply(fq, numba_inf_fill(np.log(fq))).sum()\n",
    "    return joint_ent - agg.sum()"
   ]
  },
  {
   "cell_type": "code",
   "execution_count": 24,
   "metadata": {},
   "outputs": [],
   "source": [
    "%%px\n",
    "#numba compilation cannot interpret the creation of a 2d array inside of this function so we pass in and out SM_block instead of returning it\n",
    "import numba\n",
    "@numba.jit(nopython=True, fastmath=True)\n",
    "def process_matrices(Arows,Amat_data,Amat_indptr,Amat_indices,\n",
    "                     Brows,Bmat_data,Bmat_indptr,Bmat_indices,\n",
    "                     num_bins,num_genes,\n",
    "                     SM_block, symmetric=False\n",
    "                    ):\n",
    "    #(mat1.n_obs,mat1.X.data,mat1.X.indptr,mat1.X.indices, mat2.n_obs,mat2.X.data,mat2.X.indptr,mat2.X.indices,SM,num_bins,mat2.n_vars,symmetric)\n",
    "\n",
    "    #Arows = mat1.n_obs\n",
    "    #Brows = mat2.n_obs\n",
    "    #num_genes = mat1.n_vars\n",
    "    \n",
    "    #SM_block = np.ndarray(shape=(Arows,Brows))#, dtype=float, order='F')\n",
    "    if 0 :\n",
    "        for i in range(Arows):\n",
    "            Arowstart = Amat_indptr[i]\n",
    "            Arowend   = Amat_indptr[i+1]\n",
    "            Arow_cols = Amat_indices[Arowstart:Arowend]\n",
    "            Arow_data = Amat_data[Arowstart:Arowend]\n",
    "            for j in range(i,Brows):\n",
    "                Browstart = Bmat_indptr[j]\n",
    "                Browend   = Bmat_indptr[j+1]\n",
    "                Brow_cols = Bmat_indices[Browstart:Browend]\n",
    "                Brow_data = Bmat_data[Browstart:Browend]               \n",
    "\n",
    "                SM_block[i,j] = numba_calc_mi_dis_csr(Arow_data, Arow_cols, Brow_data, Brow_cols, num_bins, num_genes)        \n",
    "    else :\n",
    "        \n",
    "        for i in range(Arows):\n",
    "            Arowstart = Amat_indptr[i]\n",
    "            Arowend   = Amat_indptr[i+1]\n",
    "            Arow_cols = Amat_indices[Arowstart:Arowend]\n",
    "            Arow_data = Amat_data[Arowstart:Arowend]\n",
    "            Bstart=i*int(symmetric)\n",
    "            for j in range(Bstart,Brows):\n",
    "                Browstart = Bmat_indptr[j]\n",
    "                Browend   = Bmat_indptr[j+1]\n",
    "                Brow_cols = Bmat_indices[Browstart:Browend]\n",
    "                Brow_data = Bmat_data[Browstart:Browend]               \n",
    "\n",
    "                SM_block[i,j] = numba_calc_mi_dis_csr(Arow_data, Arow_cols, Brow_data, Brow_cols, num_bins, num_genes)\n",
    "            \n",
    "            \n",
    "\n",
    "    return #SM_block\n"
   ]
  },
  {
   "cell_type": "code",
   "execution_count": 74,
   "metadata": {},
   "outputs": [],
   "source": [
    "%%px\n",
    "from mpi4py import MPI\n",
    "from scipy.sparse import csr_matrix\n",
    "#import sys\n",
    "import pandas as pd\n",
    "\n",
    "#create a 2d list to hold blocks of similarity matrix\n",
    "#this should be a global var\n",
    "#SM = [[None for j in range(b)] for i in range(b)] \n",
    "\n",
    "def calc_distance_metric_distributed(in_file_path, project_name, nrows, ncols, nslices, SM):\n",
    "    \n",
    "    \"\"\" Prepares the already sliced input file for further calculation in MICA.\n",
    "    Enters pairs of slices (matrices) into temporary HDF5-format files. It enters them\n",
    "    individually, using their unique key. It also enters the parameter data for every single \n",
    "    pair into the key \"params\", which consists of: [key1, key2, num_bins, num_genes,\n",
    "    pair_index, project_name, num_slices]\n",
    "    Args:\n",
    "        in_file      (str): path to sliced HDF5-format file\n",
    "        project_name (str): project name used to generate path for final outputs\n",
    "        nrows : number of rows in global matrix\n",
    "        ncols : number of vars in global matrix\n",
    "    \"\"\"\n",
    "\n",
    "    \n",
    "    #create a 2d list to hold blocks of similarity matrix\n",
    "    #this should be a global var\n",
    "    #SM = [[None for j in range(b)] for i in range(b)] \n",
    "    \n",
    "    \n",
    "    #input file is full input that has been segmented into b blocks of rows\n",
    "    \n",
    "    #nranks would ideally be equal to  b(b+1)/2\n",
    "    comm = MPI.COMM_WORLD\n",
    "    size = comm.Get_size()\n",
    "    myrank = comm.Get_rank()\n",
    "    name = MPI.Get_processor_name()\n",
    "    #sys.stdout.write(\"Hello, World! I am process %d of %d on %s.\\n\" % (myrank, size, name))\n",
    "    \n",
    "    #in_ = pd.HDFStore(in_file, \"r\")  # slice.h5\n",
    "    #b = int(np.ceil(float(nrows) / float(slice_size)))\n",
    "    digit = int(np.floor(np.log10(nslices)) + 1)\n",
    "\n",
    "    \n",
    "    num_bins = int(np.floor(nrows ** (1 / 3.0)))  # number of bins\n",
    "    #print(\"bins= \",bins)\n",
    "    #b = in_[\"attr\"].loc[\"slice\", 0]  # number of sliced matrix\n",
    "    b = nslices\n",
    "    m = ncols  # number of genes\n",
    "\n",
    "    n_block_comparisons = int((b * (b + 1)) / 2)  # total number of calc jobs execute\n",
    "    n_jobs_per_rank = n_block_comparisons/size\n",
    "    if (myrank == 0): print(\"block comparsons = %d. jobs per rank = %d\\n\" % (n_block_comparisons, n_jobs_per_rank))\n",
    "\n",
    "    #build list of slices that current mpi rank will process\n",
    "    myslices=[]\n",
    "    for i in range(b):\n",
    "        for j in range(i,b): # j in range [i,b]\n",
    "            idx = int(i * b + j - (i * (i + 1)) / 2)\n",
    "            targetrank = idx//n_jobs_per_rank\n",
    "            if (targetrank == myrank): myslices.append((i,j))            \n",
    "\n",
    "\n",
    "    #only do work assigned to your rank\n",
    "    for index, tuple in enumerate(myslices):\n",
    "        print(\"tuple=\",tuple)\n",
    "        i=tuple[0] #block row\n",
    "        j=tuple[1] #block col      \n",
    "        \n",
    "        #get 1st slice file\n",
    "        #digit = int(np.floor(np.log10(i+1)) + 1)\n",
    "        #digit = int(np.floor(np.log10(b)) + 1)\n",
    "\n",
    "        slice_name = str(i).zfill(digit)\n",
    "        ##ceb we only want to read this once per i,j combination\n",
    "        input_file = in_file_path + project_name + \".slice_\" + slice_name +\".h5ad\"\n",
    "        print(\"infile seg1: \",input_file)\n",
    "        mat1 = utils.read_anndata_file(input_file)\n",
    "    \n",
    "\n",
    "        #get 2nd slice file\n",
    "        #digit = int(np.floor(np.log10(j+1)) + 1)\n",
    "        slice_name = str(j).zfill(digit)\n",
    "        input_file = in_file_path + project_name + \".slice_\" + slice_name +\".h5ad\"\n",
    "        print(\"infile seg2: \",input_file)\n",
    "        mat2 = utils.read_anndata_file(input_file)    \n",
    "\n",
    "        #check to see if block comparison will result in a symmetric SM matrix\n",
    "        # so that we can reduce the number of computations in half\n",
    "        symmetric=False\n",
    "        if i==j: symmetric=True\n",
    "        #print(\"\",symmetric)    \n",
    "        \n",
    "        print(\"rank: \",myrank,\" comparison between segs:\",i,\" x \",j,\" symmetric=\",symmetric)\n",
    "            \n",
    "        #compute distance metrics between blocks\n",
    "        \n",
    "        Arows = mat1.n_obs\n",
    "        Brows = mat2.n_obs\n",
    "        num_genes = mat1.n_vars #we will assume Acols==Bcols==num_genes\n",
    "        \n",
    "        \n",
    "        #df = pd.DataFrame(data=0, index=mat1.obs.index, columns=mat2.obs.index) \n",
    "        #need SM for each block pair\n",
    "        #SM[i][j] = np.ndarray(shape=(Arows,Brows), dtype=float, order='C')\n",
    "        \n",
    "        SM[i][j] = np.zeros(shape=(Arows,Brows), dtype = float, order = 'C')\n",
    "        \n",
    "        ## store in csr matrix\n",
    "        #SM[i][j] = csr_matrix((Arows, Brows), dtype=np.float32)\n",
    "        \n",
    "\n",
    "        #This numba function cannot create a numpy array internally so we return SM[i,j] as a variable\n",
    "        process_matrices(mat1.n_obs,mat1.X.data,mat1.X.indptr,mat1.X.indices, \n",
    "                         mat2.n_obs,mat2.X.data,mat2.X.indptr,mat2.X.indices,\n",
    "                         num_bins, num_genes, SM[i][j],\n",
    "                         symmetric #if i==j we can eliminate half of computations\n",
    "                        )\n",
    "\n",
    "        #convert to csr\n",
    "        #SM[i][j] = csr_matrix(data=SM[i][j],(row=mat1.n_obs,col=mat2.n_obs),shape=(Arows, Brows))\n",
    "        #SM[i][j] = csr_matrix(SM[i][j],(Arows,Brows),shape=(Arows, 1000))\n",
    "        SM[i][j]=csr_matrix(SM[i][j])\n",
    "\n",
    "    return"
   ]
  },
  {
   "cell_type": "code",
   "execution_count": 72,
   "metadata": {},
   "outputs": [
    {
     "data": {
      "text/plain": [
       "'/research/rgs01/home/clusterHome/cburdysh/MICA_Project/MICA_distributed/MICA/MICA/analysis'"
      ]
     },
     "execution_count": 72,
     "metadata": {},
     "output_type": "execute_result"
    }
   ],
   "source": [
    "import os\n",
    "os.getcwd()"
   ]
  },
  {
   "cell_type": "code",
   "execution_count": 29,
   "metadata": {},
   "outputs": [],
   "source": [
    "cwd = '/research/rgs01/home/clusterHome/cburdysh/MICA_Project/MICA_distributed/MICA/'"
   ]
  },
  {
   "cell_type": "code",
   "execution_count": 66,
   "metadata": {},
   "outputs": [
    {
     "name": "stdout",
     "output_type": "stream",
     "text": [
      "output_file_name:  /research/rgs01/home/clusterHome/cburdysh/MICA_Project/MICA_distributed/MICA/test_data/inputs/10x/PBMC/3k/pre-processed/pbmc3k.slice_00.h5ad\n",
      "output_file_name:  /research/rgs01/home/clusterHome/cburdysh/MICA_Project/MICA_distributed/MICA/test_data/inputs/10x/PBMC/3k/pre-processed/pbmc3k.slice_01.h5ad\n",
      "output_file_name:  /research/rgs01/home/clusterHome/cburdysh/MICA_Project/MICA_distributed/MICA/test_data/inputs/10x/PBMC/3k/pre-processed/pbmc3k.slice_02.h5ad\n",
      "output_file_name:  /research/rgs01/home/clusterHome/cburdysh/MICA_Project/MICA_distributed/MICA/test_data/inputs/10x/PBMC/3k/pre-processed/pbmc3k.slice_03.h5ad\n",
      "output_file_name:  /research/rgs01/home/clusterHome/cburdysh/MICA_Project/MICA_distributed/MICA/test_data/inputs/10x/PBMC/3k/pre-processed/pbmc3k.slice_04.h5ad\n",
      "output_file_name:  /research/rgs01/home/clusterHome/cburdysh/MICA_Project/MICA_distributed/MICA/test_data/inputs/10x/PBMC/3k/pre-processed/pbmc3k.slice_05.h5ad\n",
      "output_file_name:  /research/rgs01/home/clusterHome/cburdysh/MICA_Project/MICA_distributed/MICA/test_data/inputs/10x/PBMC/3k/pre-processed/pbmc3k.slice_06.h5ad\n",
      "output_file_name:  /research/rgs01/home/clusterHome/cburdysh/MICA_Project/MICA_distributed/MICA/test_data/inputs/10x/PBMC/3k/pre-processed/pbmc3k.slice_07.h5ad\n",
      "output_file_name:  /research/rgs01/home/clusterHome/cburdysh/MICA_Project/MICA_distributed/MICA/test_data/inputs/10x/PBMC/3k/pre-processed/pbmc3k.slice_08.h5ad\n",
      "output_file_name:  /research/rgs01/home/clusterHome/cburdysh/MICA_Project/MICA_distributed/MICA/test_data/inputs/10x/PBMC/3k/pre-processed/pbmc3k.slice_09.h5ad\n",
      "output_file_name:  /research/rgs01/home/clusterHome/cburdysh/MICA_Project/MICA_distributed/MICA/test_data/inputs/10x/PBMC/3k/pre-processed/pbmc3k.slice_10.h5ad\n",
      "output_file_name:  /research/rgs01/home/clusterHome/cburdysh/MICA_Project/MICA_distributed/MICA/test_data/inputs/10x/PBMC/3k/pre-processed/pbmc3k.slice_11.h5ad\n",
      "output_file_name:  /research/rgs01/home/clusterHome/cburdysh/MICA_Project/MICA_distributed/MICA/test_data/inputs/10x/PBMC/3k/pre-processed/pbmc3k.slice_12.h5ad\n"
     ]
    },
    {
     "data": {
      "text/plain": [
       "<AsyncResult: _push>"
      ]
     },
     "execution_count": 66,
     "metadata": {},
     "output_type": "execute_result"
    }
   ],
   "source": [
    "\n",
    "data_file_path = cwd+'test_data/inputs/10x/PBMC/3k/pre-processed/'\n",
    "input_file_name = data_file_path + 'pbmc3k_preprocessed.h5ad'\n",
    "project_name = 'pbmc3k'\n",
    "\n",
    "output_file_name = data_file_path+project_name\n",
    "slice_size = 200\n",
    "\n",
    "nrows, ncols, nslices = prep_dist(input_file_name, output_file_name, slice_size)\n",
    "\n",
    "# cant remember what this does?\n",
    "# I think it distributes these variables to all ranks\n",
    "dview.push(dict(nrows=nrows, ncols=ncols, nslices=nslices))"
   ]
  },
  {
   "cell_type": "code",
   "execution_count": 67,
   "metadata": {},
   "outputs": [
    {
     "name": "stdout",
     "output_type": "stream",
     "text": [
      "global nrows, ncols, slices:  2496 10499 13\n"
     ]
    }
   ],
   "source": [
    "print(\"global nrows, ncols, slices: \",nrows, ncols, nslices)"
   ]
  },
  {
   "cell_type": "markdown",
   "metadata": {},
   "source": [
    "Read in anndata preprocessed files (in distributed mode, by node number)"
   ]
  },
  {
   "cell_type": "code",
   "execution_count": 75,
   "metadata": {},
   "outputs": [
    {
     "name": "stdout",
     "output_type": "stream",
     "text": [
      "[stdout:0] \n",
      "block comparsons = 91. jobs per rank = 30\n",
      "\n",
      "tuple= (0, 0)\n",
      "infile seg1:  /research/rgs01/home/clusterHome/cburdysh/MICA_Project/MICA_distributed/MICA/test_data/inputs/10x/PBMC/3k/pre-processed/pbmc3k.slice_00.h5ad\n",
      "infile seg2:  /research/rgs01/home/clusterHome/cburdysh/MICA_Project/MICA_distributed/MICA/test_data/inputs/10x/PBMC/3k/pre-processed/pbmc3k.slice_00.h5ad\n",
      "rank:  0  comparison between segs: 0  x  0  symmetric= True\n",
      "tuple= (0, 1)\n",
      "infile seg1:  /research/rgs01/home/clusterHome/cburdysh/MICA_Project/MICA_distributed/MICA/test_data/inputs/10x/PBMC/3k/pre-processed/pbmc3k.slice_00.h5ad\n",
      "infile seg2:  /research/rgs01/home/clusterHome/cburdysh/MICA_Project/MICA_distributed/MICA/test_data/inputs/10x/PBMC/3k/pre-processed/pbmc3k.slice_01.h5ad\n",
      "rank:  0  comparison between segs: 0  x  1  symmetric= False\n",
      "tuple= (0, 2)\n",
      "infile seg1:  /research/rgs01/home/clusterHome/cburdysh/MICA_Project/MICA_distributed/MICA/test_data/inputs/10x/PBMC/3k/pre-processed/pbmc3k.slice_00.h5ad\n",
      "infile seg2:  /research/rgs01/home/clusterHome/cburdysh/MICA_Project/MICA_distributed/MICA/test_data/inputs/10x/PBMC/3k/pre-processed/pbmc3k.slice_02.h5ad\n",
      "rank:  0  comparison between segs: 0  x  2  symmetric= False\n",
      "tuple= (0, 3)\n",
      "infile seg1:  /research/rgs01/home/clusterHome/cburdysh/MICA_Project/MICA_distributed/MICA/test_data/inputs/10x/PBMC/3k/pre-processed/pbmc3k.slice_00.h5ad\n",
      "infile seg2:  /research/rgs01/home/clusterHome/cburdysh/MICA_Project/MICA_distributed/MICA/test_data/inputs/10x/PBMC/3k/pre-processed/pbmc3k.slice_03.h5ad\n",
      "rank:  0  comparison between segs: 0  x  3  symmetric= False\n",
      "tuple= (0, 4)\n",
      "infile seg1:  /research/rgs01/home/clusterHome/cburdysh/MICA_Project/MICA_distributed/MICA/test_data/inputs/10x/PBMC/3k/pre-processed/pbmc3k.slice_00.h5ad\n",
      "infile seg2:  /research/rgs01/home/clusterHome/cburdysh/MICA_Project/MICA_distributed/MICA/test_data/inputs/10x/PBMC/3k/pre-processed/pbmc3k.slice_04.h5ad\n",
      "rank:  0  comparison between segs: 0  x  4  symmetric= False\n",
      "tuple= (0, 5)\n",
      "infile seg1:  /research/rgs01/home/clusterHome/cburdysh/MICA_Project/MICA_distributed/MICA/test_data/inputs/10x/PBMC/3k/pre-processed/pbmc3k.slice_00.h5ad\n",
      "infile seg2:  /research/rgs01/home/clusterHome/cburdysh/MICA_Project/MICA_distributed/MICA/test_data/inputs/10x/PBMC/3k/pre-processed/pbmc3k.slice_05.h5ad\n",
      "rank:  0  comparison between segs: 0  x  5  symmetric= False\n",
      "tuple= (0, 6)\n",
      "infile seg1:  /research/rgs01/home/clusterHome/cburdysh/MICA_Project/MICA_distributed/MICA/test_data/inputs/10x/PBMC/3k/pre-processed/pbmc3k.slice_00.h5ad\n",
      "infile seg2:  /research/rgs01/home/clusterHome/cburdysh/MICA_Project/MICA_distributed/MICA/test_data/inputs/10x/PBMC/3k/pre-processed/pbmc3k.slice_06.h5ad\n",
      "rank:  0  comparison between segs: 0  x  6  symmetric= False\n",
      "tuple= (0, 7)\n",
      "infile seg1:  /research/rgs01/home/clusterHome/cburdysh/MICA_Project/MICA_distributed/MICA/test_data/inputs/10x/PBMC/3k/pre-processed/pbmc3k.slice_00.h5ad\n",
      "infile seg2:  /research/rgs01/home/clusterHome/cburdysh/MICA_Project/MICA_distributed/MICA/test_data/inputs/10x/PBMC/3k/pre-processed/pbmc3k.slice_07.h5ad\n",
      "rank:  0  comparison between segs: 0  x  7  symmetric= False\n",
      "tuple= (0, 8)\n",
      "infile seg1:  /research/rgs01/home/clusterHome/cburdysh/MICA_Project/MICA_distributed/MICA/test_data/inputs/10x/PBMC/3k/pre-processed/pbmc3k.slice_00.h5ad\n",
      "infile seg2:  /research/rgs01/home/clusterHome/cburdysh/MICA_Project/MICA_distributed/MICA/test_data/inputs/10x/PBMC/3k/pre-processed/pbmc3k.slice_08.h5ad\n",
      "rank:  0  comparison between segs: 0  x  8  symmetric= False\n",
      "tuple= (0, 9)\n",
      "infile seg1:  /research/rgs01/home/clusterHome/cburdysh/MICA_Project/MICA_distributed/MICA/test_data/inputs/10x/PBMC/3k/pre-processed/pbmc3k.slice_00.h5ad\n",
      "infile seg2:  /research/rgs01/home/clusterHome/cburdysh/MICA_Project/MICA_distributed/MICA/test_data/inputs/10x/PBMC/3k/pre-processed/pbmc3k.slice_09.h5ad\n",
      "rank:  0  comparison between segs: 0  x  9  symmetric= False\n",
      "tuple= (0, 10)\n",
      "infile seg1:  /research/rgs01/home/clusterHome/cburdysh/MICA_Project/MICA_distributed/MICA/test_data/inputs/10x/PBMC/3k/pre-processed/pbmc3k.slice_00.h5ad\n",
      "infile seg2:  /research/rgs01/home/clusterHome/cburdysh/MICA_Project/MICA_distributed/MICA/test_data/inputs/10x/PBMC/3k/pre-processed/pbmc3k.slice_10.h5ad\n",
      "rank:  0  comparison between segs: 0  x  10  symmetric= False\n",
      "tuple= (0, 11)\n",
      "infile seg1:  /research/rgs01/home/clusterHome/cburdysh/MICA_Project/MICA_distributed/MICA/test_data/inputs/10x/PBMC/3k/pre-processed/pbmc3k.slice_00.h5ad\n",
      "infile seg2:  /research/rgs01/home/clusterHome/cburdysh/MICA_Project/MICA_distributed/MICA/test_data/inputs/10x/PBMC/3k/pre-processed/pbmc3k.slice_11.h5ad\n",
      "rank:  0  comparison between segs: 0  x  11  symmetric= False\n",
      "tuple= (0, 12)\n",
      "infile seg1:  /research/rgs01/home/clusterHome/cburdysh/MICA_Project/MICA_distributed/MICA/test_data/inputs/10x/PBMC/3k/pre-processed/pbmc3k.slice_00.h5ad\n",
      "infile seg2:  /research/rgs01/home/clusterHome/cburdysh/MICA_Project/MICA_distributed/MICA/test_data/inputs/10x/PBMC/3k/pre-processed/pbmc3k.slice_12.h5ad\n",
      "rank:  0  comparison between segs: 0  x  12  symmetric= False\n",
      "tuple= (1, 1)\n",
      "infile seg1:  /research/rgs01/home/clusterHome/cburdysh/MICA_Project/MICA_distributed/MICA/test_data/inputs/10x/PBMC/3k/pre-processed/pbmc3k.slice_01.h5ad\n",
      "infile seg2:  /research/rgs01/home/clusterHome/cburdysh/MICA_Project/MICA_distributed/MICA/test_data/inputs/10x/PBMC/3k/pre-processed/pbmc3k.slice_01.h5ad\n",
      "rank:  0  comparison between segs: 1  x  1  symmetric= True\n",
      "tuple= (1, 2)\n",
      "infile seg1:  /research/rgs01/home/clusterHome/cburdysh/MICA_Project/MICA_distributed/MICA/test_data/inputs/10x/PBMC/3k/pre-processed/pbmc3k.slice_01.h5ad\n",
      "infile seg2:  /research/rgs01/home/clusterHome/cburdysh/MICA_Project/MICA_distributed/MICA/test_data/inputs/10x/PBMC/3k/pre-processed/pbmc3k.slice_02.h5ad\n",
      "rank:  0  comparison between segs: 1  x  2  symmetric= False\n",
      "tuple= (1, 3)\n",
      "infile seg1:  /research/rgs01/home/clusterHome/cburdysh/MICA_Project/MICA_distributed/MICA/test_data/inputs/10x/PBMC/3k/pre-processed/pbmc3k.slice_01.h5ad\n",
      "infile seg2:  /research/rgs01/home/clusterHome/cburdysh/MICA_Project/MICA_distributed/MICA/test_data/inputs/10x/PBMC/3k/pre-processed/pbmc3k.slice_03.h5ad\n",
      "rank:  0  comparison between segs: 1  x  3  symmetric= False\n",
      "tuple= (1, 4)\n",
      "infile seg1:  /research/rgs01/home/clusterHome/cburdysh/MICA_Project/MICA_distributed/MICA/test_data/inputs/10x/PBMC/3k/pre-processed/pbmc3k.slice_01.h5ad\n",
      "infile seg2:  /research/rgs01/home/clusterHome/cburdysh/MICA_Project/MICA_distributed/MICA/test_data/inputs/10x/PBMC/3k/pre-processed/pbmc3k.slice_04.h5ad\n",
      "rank:  0  comparison between segs: 1  x  4  symmetric= False\n",
      "tuple= (1, 5)\n",
      "infile seg1:  /research/rgs01/home/clusterHome/cburdysh/MICA_Project/MICA_distributed/MICA/test_data/inputs/10x/PBMC/3k/pre-processed/pbmc3k.slice_01.h5ad\n",
      "infile seg2:  /research/rgs01/home/clusterHome/cburdysh/MICA_Project/MICA_distributed/MICA/test_data/inputs/10x/PBMC/3k/pre-processed/pbmc3k.slice_05.h5ad\n",
      "rank:  0  comparison between segs: 1  x  5  symmetric= False\n",
      "tuple= (1, 6)\n",
      "infile seg1:  /research/rgs01/home/clusterHome/cburdysh/MICA_Project/MICA_distributed/MICA/test_data/inputs/10x/PBMC/3k/pre-processed/pbmc3k.slice_01.h5ad\n",
      "infile seg2:  /research/rgs01/home/clusterHome/cburdysh/MICA_Project/MICA_distributed/MICA/test_data/inputs/10x/PBMC/3k/pre-processed/pbmc3k.slice_06.h5ad\n",
      "rank:  0  comparison between segs: 1  x  6  symmetric= False\n",
      "tuple= (1, 7)\n",
      "infile seg1:  /research/rgs01/home/clusterHome/cburdysh/MICA_Project/MICA_distributed/MICA/test_data/inputs/10x/PBMC/3k/pre-processed/pbmc3k.slice_01.h5ad\n",
      "infile seg2:  /research/rgs01/home/clusterHome/cburdysh/MICA_Project/MICA_distributed/MICA/test_data/inputs/10x/PBMC/3k/pre-processed/pbmc3k.slice_07.h5ad\n",
      "rank:  0  comparison between segs: 1  x  7  symmetric= False\n",
      "tuple= (1, 8)\n",
      "infile seg1:  /research/rgs01/home/clusterHome/cburdysh/MICA_Project/MICA_distributed/MICA/test_data/inputs/10x/PBMC/3k/pre-processed/pbmc3k.slice_01.h5ad\n",
      "infile seg2:  /research/rgs01/home/clusterHome/cburdysh/MICA_Project/MICA_distributed/MICA/test_data/inputs/10x/PBMC/3k/pre-processed/pbmc3k.slice_08.h5ad\n",
      "rank:  0  comparison between segs: 1  x  8  symmetric= False\n",
      "tuple= (1, 9)\n",
      "infile seg1:  /research/rgs01/home/clusterHome/cburdysh/MICA_Project/MICA_distributed/MICA/test_data/inputs/10x/PBMC/3k/pre-processed/pbmc3k.slice_01.h5ad\n",
      "infile seg2:  /research/rgs01/home/clusterHome/cburdysh/MICA_Project/MICA_distributed/MICA/test_data/inputs/10x/PBMC/3k/pre-processed/pbmc3k.slice_09.h5ad\n",
      "rank:  0  comparison between segs: 1  x  9  symmetric= False\n",
      "tuple= (1, 10)\n",
      "infile seg1:  /research/rgs01/home/clusterHome/cburdysh/MICA_Project/MICA_distributed/MICA/test_data/inputs/10x/PBMC/3k/pre-processed/pbmc3k.slice_01.h5ad\n",
      "infile seg2:  /research/rgs01/home/clusterHome/cburdysh/MICA_Project/MICA_distributed/MICA/test_data/inputs/10x/PBMC/3k/pre-processed/pbmc3k.slice_10.h5ad\n",
      "rank:  0  comparison between segs: 1  x  10  symmetric= False\n",
      "tuple= (1, 11)\n",
      "infile seg1:  /research/rgs01/home/clusterHome/cburdysh/MICA_Project/MICA_distributed/MICA/test_data/inputs/10x/PBMC/3k/pre-processed/pbmc3k.slice_01.h5ad\n",
      "infile seg2:  /research/rgs01/home/clusterHome/cburdysh/MICA_Project/MICA_distributed/MICA/test_data/inputs/10x/PBMC/3k/pre-processed/pbmc3k.slice_11.h5ad\n",
      "rank:  0  comparison between segs: 1  x  11  symmetric= False\n",
      "tuple= (1, 12)\n",
      "infile seg1:  /research/rgs01/home/clusterHome/cburdysh/MICA_Project/MICA_distributed/MICA/test_data/inputs/10x/PBMC/3k/pre-processed/pbmc3k.slice_01.h5ad\n",
      "infile seg2:  /research/rgs01/home/clusterHome/cburdysh/MICA_Project/MICA_distributed/MICA/test_data/inputs/10x/PBMC/3k/pre-processed/pbmc3k.slice_12.h5ad\n",
      "rank:  0  comparison between segs: 1  x  12  symmetric= False\n",
      "tuple= (2, 2)\n",
      "infile seg1:  /research/rgs01/home/clusterHome/cburdysh/MICA_Project/MICA_distributed/MICA/test_data/inputs/10x/PBMC/3k/pre-processed/pbmc3k.slice_02.h5ad\n",
      "infile seg2:  /research/rgs01/home/clusterHome/cburdysh/MICA_Project/MICA_distributed/MICA/test_data/inputs/10x/PBMC/3k/pre-processed/pbmc3k.slice_02.h5ad\n",
      "rank:  0  comparison between segs: 2  x  2  symmetric= True\n",
      "tuple= (2, 3)\n",
      "infile seg1:  /research/rgs01/home/clusterHome/cburdysh/MICA_Project/MICA_distributed/MICA/test_data/inputs/10x/PBMC/3k/pre-processed/pbmc3k.slice_02.h5ad\n",
      "infile seg2:  /research/rgs01/home/clusterHome/cburdysh/MICA_Project/MICA_distributed/MICA/test_data/inputs/10x/PBMC/3k/pre-processed/pbmc3k.slice_03.h5ad\n",
      "rank:  0  comparison between segs: 2  x  3  symmetric= False\n",
      "tuple= (2, 4)\n",
      "infile seg1:  /research/rgs01/home/clusterHome/cburdysh/MICA_Project/MICA_distributed/MICA/test_data/inputs/10x/PBMC/3k/pre-processed/pbmc3k.slice_02.h5ad\n",
      "infile seg2:  /research/rgs01/home/clusterHome/cburdysh/MICA_Project/MICA_distributed/MICA/test_data/inputs/10x/PBMC/3k/pre-processed/pbmc3k.slice_04.h5ad\n",
      "rank:  0  comparison between segs: 2  x  4  symmetric= False\n",
      "tuple= (2, 5)\n",
      "infile seg1:  /research/rgs01/home/clusterHome/cburdysh/MICA_Project/MICA_distributed/MICA/test_data/inputs/10x/PBMC/3k/pre-processed/pbmc3k.slice_02.h5ad\n",
      "infile seg2:  /research/rgs01/home/clusterHome/cburdysh/MICA_Project/MICA_distributed/MICA/test_data/inputs/10x/PBMC/3k/pre-processed/pbmc3k.slice_05.h5ad\n",
      "rank:  0  comparison between segs: 2  x  5  symmetric= False\n",
      "tuple= (2, 6)\n",
      "infile seg1:  /research/rgs01/home/clusterHome/cburdysh/MICA_Project/MICA_distributed/MICA/test_data/inputs/10x/PBMC/3k/pre-processed/pbmc3k.slice_02.h5ad\n",
      "infile seg2:  /research/rgs01/home/clusterHome/cburdysh/MICA_Project/MICA_distributed/MICA/test_data/inputs/10x/PBMC/3k/pre-processed/pbmc3k.slice_06.h5ad\n",
      "rank:  0  comparison between segs: 2  x  6  symmetric= False\n",
      "tuple= (2, 7)\n",
      "infile seg1:  /research/rgs01/home/clusterHome/cburdysh/MICA_Project/MICA_distributed/MICA/test_data/inputs/10x/PBMC/3k/pre-processed/pbmc3k.slice_02.h5ad\n",
      "infile seg2:  /research/rgs01/home/clusterHome/cburdysh/MICA_Project/MICA_distributed/MICA/test_data/inputs/10x/PBMC/3k/pre-processed/pbmc3k.slice_07.h5ad\n",
      "rank:  0  comparison between segs: 2  x  7  symmetric= False\n",
      "Elapsed = 42.07814383506775\n",
      "[stdout:1] \n",
      "tuple= (2, 8)\n",
      "infile seg1:  /research/rgs01/home/clusterHome/cburdysh/MICA_Project/MICA_distributed/MICA/test_data/inputs/10x/PBMC/3k/pre-processed/pbmc3k.slice_02.h5ad\n",
      "infile seg2:  /research/rgs01/home/clusterHome/cburdysh/MICA_Project/MICA_distributed/MICA/test_data/inputs/10x/PBMC/3k/pre-processed/pbmc3k.slice_08.h5ad\n",
      "rank:  1  comparison between segs: 2  x  8  symmetric= False\n",
      "tuple= (2, 9)\n",
      "infile seg1:  /research/rgs01/home/clusterHome/cburdysh/MICA_Project/MICA_distributed/MICA/test_data/inputs/10x/PBMC/3k/pre-processed/pbmc3k.slice_02.h5ad\n",
      "infile seg2:  /research/rgs01/home/clusterHome/cburdysh/MICA_Project/MICA_distributed/MICA/test_data/inputs/10x/PBMC/3k/pre-processed/pbmc3k.slice_09.h5ad\n",
      "rank:  1  comparison between segs: 2  x  9  symmetric= False\n",
      "tuple= (2, 10)\n",
      "infile seg1:  /research/rgs01/home/clusterHome/cburdysh/MICA_Project/MICA_distributed/MICA/test_data/inputs/10x/PBMC/3k/pre-processed/pbmc3k.slice_02.h5ad\n",
      "infile seg2:  /research/rgs01/home/clusterHome/cburdysh/MICA_Project/MICA_distributed/MICA/test_data/inputs/10x/PBMC/3k/pre-processed/pbmc3k.slice_10.h5ad\n",
      "rank:  1  comparison between segs: 2  x  10  symmetric= False\n",
      "tuple= (2, 11)\n",
      "infile seg1:  /research/rgs01/home/clusterHome/cburdysh/MICA_Project/MICA_distributed/MICA/test_data/inputs/10x/PBMC/3k/pre-processed/pbmc3k.slice_02.h5ad\n",
      "infile seg2:  /research/rgs01/home/clusterHome/cburdysh/MICA_Project/MICA_distributed/MICA/test_data/inputs/10x/PBMC/3k/pre-processed/pbmc3k.slice_11.h5ad\n",
      "rank:  1  comparison between segs: 2  x  11  symmetric= False\n",
      "tuple= (2, 12)\n",
      "infile seg1:  /research/rgs01/home/clusterHome/cburdysh/MICA_Project/MICA_distributed/MICA/test_data/inputs/10x/PBMC/3k/pre-processed/pbmc3k.slice_02.h5ad\n",
      "infile seg2:  /research/rgs01/home/clusterHome/cburdysh/MICA_Project/MICA_distributed/MICA/test_data/inputs/10x/PBMC/3k/pre-processed/pbmc3k.slice_12.h5ad\n",
      "rank:  1  comparison between segs: 2  x  12  symmetric= False\n",
      "tuple= (3, 3)\n",
      "infile seg1:  /research/rgs01/home/clusterHome/cburdysh/MICA_Project/MICA_distributed/MICA/test_data/inputs/10x/PBMC/3k/pre-processed/pbmc3k.slice_03.h5ad\n",
      "infile seg2:  /research/rgs01/home/clusterHome/cburdysh/MICA_Project/MICA_distributed/MICA/test_data/inputs/10x/PBMC/3k/pre-processed/pbmc3k.slice_03.h5ad\n",
      "rank:  1  comparison between segs: 3  x  3  symmetric= True\n",
      "tuple= (3, 4)\n",
      "infile seg1:  /research/rgs01/home/clusterHome/cburdysh/MICA_Project/MICA_distributed/MICA/test_data/inputs/10x/PBMC/3k/pre-processed/pbmc3k.slice_03.h5ad\n",
      "infile seg2:  /research/rgs01/home/clusterHome/cburdysh/MICA_Project/MICA_distributed/MICA/test_data/inputs/10x/PBMC/3k/pre-processed/pbmc3k.slice_04.h5ad\n",
      "rank:  1  comparison between segs: 3  x  4  symmetric= False\n",
      "tuple= (3, 5)\n",
      "infile seg1:  /research/rgs01/home/clusterHome/cburdysh/MICA_Project/MICA_distributed/MICA/test_data/inputs/10x/PBMC/3k/pre-processed/pbmc3k.slice_03.h5ad\n",
      "infile seg2:  /research/rgs01/home/clusterHome/cburdysh/MICA_Project/MICA_distributed/MICA/test_data/inputs/10x/PBMC/3k/pre-processed/pbmc3k.slice_05.h5ad\n",
      "rank:  1  comparison between segs: 3  x  5  symmetric= False\n",
      "tuple= (3, 6)\n",
      "infile seg1:  /research/rgs01/home/clusterHome/cburdysh/MICA_Project/MICA_distributed/MICA/test_data/inputs/10x/PBMC/3k/pre-processed/pbmc3k.slice_03.h5ad\n",
      "infile seg2:  /research/rgs01/home/clusterHome/cburdysh/MICA_Project/MICA_distributed/MICA/test_data/inputs/10x/PBMC/3k/pre-processed/pbmc3k.slice_06.h5ad\n",
      "rank:  1  comparison between segs: 3  x  6  symmetric= False\n",
      "tuple= (3, 7)\n",
      "infile seg1:  /research/rgs01/home/clusterHome/cburdysh/MICA_Project/MICA_distributed/MICA/test_data/inputs/10x/PBMC/3k/pre-processed/pbmc3k.slice_03.h5ad\n",
      "infile seg2:  /research/rgs01/home/clusterHome/cburdysh/MICA_Project/MICA_distributed/MICA/test_data/inputs/10x/PBMC/3k/pre-processed/pbmc3k.slice_07.h5ad\n",
      "rank:  1  comparison between segs: 3  x  7  symmetric= False\n",
      "tuple= (3, 8)\n",
      "infile seg1:  /research/rgs01/home/clusterHome/cburdysh/MICA_Project/MICA_distributed/MICA/test_data/inputs/10x/PBMC/3k/pre-processed/pbmc3k.slice_03.h5ad\n",
      "infile seg2:  /research/rgs01/home/clusterHome/cburdysh/MICA_Project/MICA_distributed/MICA/test_data/inputs/10x/PBMC/3k/pre-processed/pbmc3k.slice_08.h5ad\n",
      "rank:  1  comparison between segs: 3  x  8  symmetric= False\n",
      "tuple= (3, 9)\n",
      "infile seg1:  /research/rgs01/home/clusterHome/cburdysh/MICA_Project/MICA_distributed/MICA/test_data/inputs/10x/PBMC/3k/pre-processed/pbmc3k.slice_03.h5ad\n",
      "infile seg2:  /research/rgs01/home/clusterHome/cburdysh/MICA_Project/MICA_distributed/MICA/test_data/inputs/10x/PBMC/3k/pre-processed/pbmc3k.slice_09.h5ad\n",
      "rank:  1  comparison between segs: 3  x  9  symmetric= False\n",
      "tuple= (3, 10)\n",
      "infile seg1:  /research/rgs01/home/clusterHome/cburdysh/MICA_Project/MICA_distributed/MICA/test_data/inputs/10x/PBMC/3k/pre-processed/pbmc3k.slice_03.h5ad\n",
      "infile seg2:  /research/rgs01/home/clusterHome/cburdysh/MICA_Project/MICA_distributed/MICA/test_data/inputs/10x/PBMC/3k/pre-processed/pbmc3k.slice_10.h5ad\n",
      "rank:  1  comparison between segs: 3  x  10  symmetric= False\n",
      "tuple= (3, 11)\n",
      "infile seg1:  /research/rgs01/home/clusterHome/cburdysh/MICA_Project/MICA_distributed/MICA/test_data/inputs/10x/PBMC/3k/pre-processed/pbmc3k.slice_03.h5ad\n",
      "infile seg2:  /research/rgs01/home/clusterHome/cburdysh/MICA_Project/MICA_distributed/MICA/test_data/inputs/10x/PBMC/3k/pre-processed/pbmc3k.slice_11.h5ad\n",
      "rank:  1  comparison between segs: 3  x  11  symmetric= False\n",
      "tuple= (3, 12)\n",
      "infile seg1:  /research/rgs01/home/clusterHome/cburdysh/MICA_Project/MICA_distributed/MICA/test_data/inputs/10x/PBMC/3k/pre-processed/pbmc3k.slice_03.h5ad\n",
      "infile seg2:  /research/rgs01/home/clusterHome/cburdysh/MICA_Project/MICA_distributed/MICA/test_data/inputs/10x/PBMC/3k/pre-processed/pbmc3k.slice_12.h5ad\n",
      "rank:  1  comparison between segs: 3  x  12  symmetric= False\n",
      "tuple= (4, 4)\n",
      "infile seg1:  /research/rgs01/home/clusterHome/cburdysh/MICA_Project/MICA_distributed/MICA/test_data/inputs/10x/PBMC/3k/pre-processed/pbmc3k.slice_04.h5ad\n",
      "infile seg2:  /research/rgs01/home/clusterHome/cburdysh/MICA_Project/MICA_distributed/MICA/test_data/inputs/10x/PBMC/3k/pre-processed/pbmc3k.slice_04.h5ad\n",
      "rank:  1  comparison between segs: 4  x  4  symmetric= True\n",
      "tuple= (4, 5)\n",
      "infile seg1:  /research/rgs01/home/clusterHome/cburdysh/MICA_Project/MICA_distributed/MICA/test_data/inputs/10x/PBMC/3k/pre-processed/pbmc3k.slice_04.h5ad\n",
      "infile seg2:  /research/rgs01/home/clusterHome/cburdysh/MICA_Project/MICA_distributed/MICA/test_data/inputs/10x/PBMC/3k/pre-processed/pbmc3k.slice_05.h5ad\n",
      "rank:  1  comparison between segs: 4  x  5  symmetric= False\n",
      "tuple= (4, 6)\n",
      "infile seg1:  /research/rgs01/home/clusterHome/cburdysh/MICA_Project/MICA_distributed/MICA/test_data/inputs/10x/PBMC/3k/pre-processed/pbmc3k.slice_04.h5ad\n",
      "infile seg2:  /research/rgs01/home/clusterHome/cburdysh/MICA_Project/MICA_distributed/MICA/test_data/inputs/10x/PBMC/3k/pre-processed/pbmc3k.slice_06.h5ad\n",
      "rank:  1  comparison between segs: 4  x  6  symmetric= False\n",
      "tuple= (4, 7)\n",
      "infile seg1:  /research/rgs01/home/clusterHome/cburdysh/MICA_Project/MICA_distributed/MICA/test_data/inputs/10x/PBMC/3k/pre-processed/pbmc3k.slice_04.h5ad\n",
      "infile seg2:  /research/rgs01/home/clusterHome/cburdysh/MICA_Project/MICA_distributed/MICA/test_data/inputs/10x/PBMC/3k/pre-processed/pbmc3k.slice_07.h5ad\n",
      "rank:  1  comparison between segs: 4  x  7  symmetric= False\n",
      "tuple= (4, 8)\n",
      "infile seg1:  /research/rgs01/home/clusterHome/cburdysh/MICA_Project/MICA_distributed/MICA/test_data/inputs/10x/PBMC/3k/pre-processed/pbmc3k.slice_04.h5ad\n",
      "infile seg2:  /research/rgs01/home/clusterHome/cburdysh/MICA_Project/MICA_distributed/MICA/test_data/inputs/10x/PBMC/3k/pre-processed/pbmc3k.slice_08.h5ad\n",
      "rank:  1  comparison between segs: 4  x  8  symmetric= False\n",
      "tuple= (4, 9)\n",
      "infile seg1:  /research/rgs01/home/clusterHome/cburdysh/MICA_Project/MICA_distributed/MICA/test_data/inputs/10x/PBMC/3k/pre-processed/pbmc3k.slice_04.h5ad\n",
      "infile seg2:  /research/rgs01/home/clusterHome/cburdysh/MICA_Project/MICA_distributed/MICA/test_data/inputs/10x/PBMC/3k/pre-processed/pbmc3k.slice_09.h5ad\n",
      "rank:  1  comparison between segs: 4  x  9  symmetric= False\n",
      "tuple= (4, 10)\n",
      "infile seg1:  /research/rgs01/home/clusterHome/cburdysh/MICA_Project/MICA_distributed/MICA/test_data/inputs/10x/PBMC/3k/pre-processed/pbmc3k.slice_04.h5ad\n",
      "infile seg2:  /research/rgs01/home/clusterHome/cburdysh/MICA_Project/MICA_distributed/MICA/test_data/inputs/10x/PBMC/3k/pre-processed/pbmc3k.slice_10.h5ad\n",
      "rank:  1  comparison between segs: 4  x  10  symmetric= False\n",
      "tuple= (4, 11)\n",
      "infile seg1:  /research/rgs01/home/clusterHome/cburdysh/MICA_Project/MICA_distributed/MICA/test_data/inputs/10x/PBMC/3k/pre-processed/pbmc3k.slice_04.h5ad\n",
      "infile seg2:  /research/rgs01/home/clusterHome/cburdysh/MICA_Project/MICA_distributed/MICA/test_data/inputs/10x/PBMC/3k/pre-processed/pbmc3k.slice_11.h5ad\n",
      "rank:  1  comparison between segs: 4  x  11  symmetric= False\n",
      "tuple= (4, 12)\n",
      "infile seg1:  /research/rgs01/home/clusterHome/cburdysh/MICA_Project/MICA_distributed/MICA/test_data/inputs/10x/PBMC/3k/pre-processed/pbmc3k.slice_04.h5ad\n",
      "infile seg2:  /research/rgs01/home/clusterHome/cburdysh/MICA_Project/MICA_distributed/MICA/test_data/inputs/10x/PBMC/3k/pre-processed/pbmc3k.slice_12.h5ad\n",
      "rank:  1  comparison between segs: 4  x  12  symmetric= False\n",
      "tuple= (5, 5)\n",
      "infile seg1:  /research/rgs01/home/clusterHome/cburdysh/MICA_Project/MICA_distributed/MICA/test_data/inputs/10x/PBMC/3k/pre-processed/pbmc3k.slice_05.h5ad\n",
      "infile seg2:  /research/rgs01/home/clusterHome/cburdysh/MICA_Project/MICA_distributed/MICA/test_data/inputs/10x/PBMC/3k/pre-processed/pbmc3k.slice_05.h5ad\n",
      "rank:  1  comparison between segs: 5  x  5  symmetric= True\n",
      "tuple= (5, 6)\n",
      "infile seg1:  /research/rgs01/home/clusterHome/cburdysh/MICA_Project/MICA_distributed/MICA/test_data/inputs/10x/PBMC/3k/pre-processed/pbmc3k.slice_05.h5ad\n",
      "infile seg2:  /research/rgs01/home/clusterHome/cburdysh/MICA_Project/MICA_distributed/MICA/test_data/inputs/10x/PBMC/3k/pre-processed/pbmc3k.slice_06.h5ad\n",
      "rank:  1  comparison between segs: 5  x  6  symmetric= False\n",
      "tuple= (5, 7)\n",
      "infile seg1:  /research/rgs01/home/clusterHome/cburdysh/MICA_Project/MICA_distributed/MICA/test_data/inputs/10x/PBMC/3k/pre-processed/pbmc3k.slice_05.h5ad\n",
      "infile seg2:  /research/rgs01/home/clusterHome/cburdysh/MICA_Project/MICA_distributed/MICA/test_data/inputs/10x/PBMC/3k/pre-processed/pbmc3k.slice_07.h5ad\n",
      "rank:  1  comparison between segs: 5  x  7  symmetric= False\n",
      "tuple= (5, 8)\n",
      "infile seg1:  /research/rgs01/home/clusterHome/cburdysh/MICA_Project/MICA_distributed/MICA/test_data/inputs/10x/PBMC/3k/pre-processed/pbmc3k.slice_05.h5ad\n",
      "infile seg2:  /research/rgs01/home/clusterHome/cburdysh/MICA_Project/MICA_distributed/MICA/test_data/inputs/10x/PBMC/3k/pre-processed/pbmc3k.slice_08.h5ad\n",
      "rank:  1  comparison between segs: 5  x  8  symmetric= False\n",
      "tuple= (5, 9)\n",
      "infile seg1:  /research/rgs01/home/clusterHome/cburdysh/MICA_Project/MICA_distributed/MICA/test_data/inputs/10x/PBMC/3k/pre-processed/pbmc3k.slice_05.h5ad\n",
      "infile seg2:  /research/rgs01/home/clusterHome/cburdysh/MICA_Project/MICA_distributed/MICA/test_data/inputs/10x/PBMC/3k/pre-processed/pbmc3k.slice_09.h5ad\n",
      "rank:  1  comparison between segs: 5  x  9  symmetric= False\n",
      "tuple= (5, 10)\n",
      "infile seg1:  /research/rgs01/home/clusterHome/cburdysh/MICA_Project/MICA_distributed/MICA/test_data/inputs/10x/PBMC/3k/pre-processed/pbmc3k.slice_05.h5ad\n",
      "infile seg2:  /research/rgs01/home/clusterHome/cburdysh/MICA_Project/MICA_distributed/MICA/test_data/inputs/10x/PBMC/3k/pre-processed/pbmc3k.slice_10.h5ad\n",
      "rank:  1  comparison between segs: 5  x  10  symmetric= False\n",
      "Elapsed = 39.288252115249634\n",
      "[stdout:2] \n",
      "tuple= (5, 11)\n",
      "infile seg1:  /research/rgs01/home/clusterHome/cburdysh/MICA_Project/MICA_distributed/MICA/test_data/inputs/10x/PBMC/3k/pre-processed/pbmc3k.slice_05.h5ad\n",
      "infile seg2:  /research/rgs01/home/clusterHome/cburdysh/MICA_Project/MICA_distributed/MICA/test_data/inputs/10x/PBMC/3k/pre-processed/pbmc3k.slice_11.h5ad\n",
      "rank:  2  comparison between segs: 5  x  11  symmetric= False\n",
      "tuple= (5, 12)\n",
      "infile seg1:  /research/rgs01/home/clusterHome/cburdysh/MICA_Project/MICA_distributed/MICA/test_data/inputs/10x/PBMC/3k/pre-processed/pbmc3k.slice_05.h5ad\n",
      "infile seg2:  /research/rgs01/home/clusterHome/cburdysh/MICA_Project/MICA_distributed/MICA/test_data/inputs/10x/PBMC/3k/pre-processed/pbmc3k.slice_12.h5ad\n",
      "rank:  2  comparison between segs: 5  x  12  symmetric= False\n",
      "tuple= (6, 6)\n",
      "infile seg1:  /research/rgs01/home/clusterHome/cburdysh/MICA_Project/MICA_distributed/MICA/test_data/inputs/10x/PBMC/3k/pre-processed/pbmc3k.slice_06.h5ad\n",
      "infile seg2:  /research/rgs01/home/clusterHome/cburdysh/MICA_Project/MICA_distributed/MICA/test_data/inputs/10x/PBMC/3k/pre-processed/pbmc3k.slice_06.h5ad\n",
      "rank:  2  comparison between segs: 6  x  6  symmetric= True\n",
      "tuple= (6, 7)\n",
      "infile seg1:  /research/rgs01/home/clusterHome/cburdysh/MICA_Project/MICA_distributed/MICA/test_data/inputs/10x/PBMC/3k/pre-processed/pbmc3k.slice_06.h5ad\n",
      "infile seg2:  /research/rgs01/home/clusterHome/cburdysh/MICA_Project/MICA_distributed/MICA/test_data/inputs/10x/PBMC/3k/pre-processed/pbmc3k.slice_07.h5ad\n",
      "rank:  2  comparison between segs: 6  x  7  symmetric= False\n",
      "tuple= (6, 8)\n",
      "infile seg1:  /research/rgs01/home/clusterHome/cburdysh/MICA_Project/MICA_distributed/MICA/test_data/inputs/10x/PBMC/3k/pre-processed/pbmc3k.slice_06.h5ad\n",
      "infile seg2:  /research/rgs01/home/clusterHome/cburdysh/MICA_Project/MICA_distributed/MICA/test_data/inputs/10x/PBMC/3k/pre-processed/pbmc3k.slice_08.h5ad\n",
      "rank:  2  comparison between segs: 6  x  8  symmetric= False\n",
      "tuple= (6, 9)\n",
      "infile seg1:  /research/rgs01/home/clusterHome/cburdysh/MICA_Project/MICA_distributed/MICA/test_data/inputs/10x/PBMC/3k/pre-processed/pbmc3k.slice_06.h5ad\n",
      "infile seg2:  /research/rgs01/home/clusterHome/cburdysh/MICA_Project/MICA_distributed/MICA/test_data/inputs/10x/PBMC/3k/pre-processed/pbmc3k.slice_09.h5ad\n",
      "rank:  2  comparison between segs: 6  x  9  symmetric= False\n",
      "tuple= (6, 10)\n",
      "infile seg1:  /research/rgs01/home/clusterHome/cburdysh/MICA_Project/MICA_distributed/MICA/test_data/inputs/10x/PBMC/3k/pre-processed/pbmc3k.slice_06.h5ad\n",
      "infile seg2:  /research/rgs01/home/clusterHome/cburdysh/MICA_Project/MICA_distributed/MICA/test_data/inputs/10x/PBMC/3k/pre-processed/pbmc3k.slice_10.h5ad\n",
      "rank:  2  comparison between segs: 6  x  10  symmetric= False\n",
      "tuple= (6, 11)\n",
      "infile seg1:  /research/rgs01/home/clusterHome/cburdysh/MICA_Project/MICA_distributed/MICA/test_data/inputs/10x/PBMC/3k/pre-processed/pbmc3k.slice_06.h5ad\n",
      "infile seg2:  /research/rgs01/home/clusterHome/cburdysh/MICA_Project/MICA_distributed/MICA/test_data/inputs/10x/PBMC/3k/pre-processed/pbmc3k.slice_11.h5ad\n",
      "rank:  2  comparison between segs: 6  x  11  symmetric= False\n",
      "tuple= (6, 12)\n",
      "infile seg1:  /research/rgs01/home/clusterHome/cburdysh/MICA_Project/MICA_distributed/MICA/test_data/inputs/10x/PBMC/3k/pre-processed/pbmc3k.slice_06.h5ad\n",
      "infile seg2:  /research/rgs01/home/clusterHome/cburdysh/MICA_Project/MICA_distributed/MICA/test_data/inputs/10x/PBMC/3k/pre-processed/pbmc3k.slice_12.h5ad\n",
      "rank:  2  comparison between segs: 6  x  12  symmetric= False\n",
      "tuple= (7, 7)\n",
      "infile seg1:  /research/rgs01/home/clusterHome/cburdysh/MICA_Project/MICA_distributed/MICA/test_data/inputs/10x/PBMC/3k/pre-processed/pbmc3k.slice_07.h5ad\n",
      "infile seg2:  /research/rgs01/home/clusterHome/cburdysh/MICA_Project/MICA_distributed/MICA/test_data/inputs/10x/PBMC/3k/pre-processed/pbmc3k.slice_07.h5ad\n",
      "rank:  2  comparison between segs: 7  x  7  symmetric= True\n",
      "tuple= (7, 8)\n",
      "infile seg1:  /research/rgs01/home/clusterHome/cburdysh/MICA_Project/MICA_distributed/MICA/test_data/inputs/10x/PBMC/3k/pre-processed/pbmc3k.slice_07.h5ad\n",
      "infile seg2:  /research/rgs01/home/clusterHome/cburdysh/MICA_Project/MICA_distributed/MICA/test_data/inputs/10x/PBMC/3k/pre-processed/pbmc3k.slice_08.h5ad\n",
      "rank:  2  comparison between segs: 7  x  8  symmetric= False\n",
      "tuple= (7, 9)\n",
      "infile seg1:  /research/rgs01/home/clusterHome/cburdysh/MICA_Project/MICA_distributed/MICA/test_data/inputs/10x/PBMC/3k/pre-processed/pbmc3k.slice_07.h5ad\n",
      "infile seg2:  /research/rgs01/home/clusterHome/cburdysh/MICA_Project/MICA_distributed/MICA/test_data/inputs/10x/PBMC/3k/pre-processed/pbmc3k.slice_09.h5ad\n",
      "rank:  2  comparison between segs: 7  x  9  symmetric= False\n",
      "tuple= (7, 10)\n",
      "infile seg1:  /research/rgs01/home/clusterHome/cburdysh/MICA_Project/MICA_distributed/MICA/test_data/inputs/10x/PBMC/3k/pre-processed/pbmc3k.slice_07.h5ad\n",
      "infile seg2:  /research/rgs01/home/clusterHome/cburdysh/MICA_Project/MICA_distributed/MICA/test_data/inputs/10x/PBMC/3k/pre-processed/pbmc3k.slice_10.h5ad\n",
      "rank:  2  comparison between segs: 7  x  10  symmetric= False\n",
      "tuple= (7, 11)\n",
      "infile seg1:  /research/rgs01/home/clusterHome/cburdysh/MICA_Project/MICA_distributed/MICA/test_data/inputs/10x/PBMC/3k/pre-processed/pbmc3k.slice_07.h5ad\n",
      "infile seg2:  /research/rgs01/home/clusterHome/cburdysh/MICA_Project/MICA_distributed/MICA/test_data/inputs/10x/PBMC/3k/pre-processed/pbmc3k.slice_11.h5ad\n",
      "rank:  2  comparison between segs: 7  x  11  symmetric= False\n",
      "tuple= (7, 12)\n",
      "infile seg1:  /research/rgs01/home/clusterHome/cburdysh/MICA_Project/MICA_distributed/MICA/test_data/inputs/10x/PBMC/3k/pre-processed/pbmc3k.slice_07.h5ad\n",
      "infile seg2:  /research/rgs01/home/clusterHome/cburdysh/MICA_Project/MICA_distributed/MICA/test_data/inputs/10x/PBMC/3k/pre-processed/pbmc3k.slice_12.h5ad\n",
      "rank:  2  comparison between segs: 7  x  12  symmetric= False\n",
      "tuple= (8, 8)\n",
      "infile seg1:  /research/rgs01/home/clusterHome/cburdysh/MICA_Project/MICA_distributed/MICA/test_data/inputs/10x/PBMC/3k/pre-processed/pbmc3k.slice_08.h5ad\n",
      "infile seg2:  /research/rgs01/home/clusterHome/cburdysh/MICA_Project/MICA_distributed/MICA/test_data/inputs/10x/PBMC/3k/pre-processed/pbmc3k.slice_08.h5ad\n",
      "rank:  2  comparison between segs: 8  x  8  symmetric= True\n",
      "tuple= (8, 9)\n",
      "infile seg1:  /research/rgs01/home/clusterHome/cburdysh/MICA_Project/MICA_distributed/MICA/test_data/inputs/10x/PBMC/3k/pre-processed/pbmc3k.slice_08.h5ad\n",
      "infile seg2:  /research/rgs01/home/clusterHome/cburdysh/MICA_Project/MICA_distributed/MICA/test_data/inputs/10x/PBMC/3k/pre-processed/pbmc3k.slice_09.h5ad\n",
      "rank:  2  comparison between segs: 8  x  9  symmetric= False\n",
      "tuple= (8, 10)\n",
      "infile seg1:  /research/rgs01/home/clusterHome/cburdysh/MICA_Project/MICA_distributed/MICA/test_data/inputs/10x/PBMC/3k/pre-processed/pbmc3k.slice_08.h5ad\n",
      "infile seg2:  /research/rgs01/home/clusterHome/cburdysh/MICA_Project/MICA_distributed/MICA/test_data/inputs/10x/PBMC/3k/pre-processed/pbmc3k.slice_10.h5ad\n",
      "rank:  2  comparison between segs: 8  x  10  symmetric= False\n",
      "tuple= (8, 11)\n",
      "infile seg1:  /research/rgs01/home/clusterHome/cburdysh/MICA_Project/MICA_distributed/MICA/test_data/inputs/10x/PBMC/3k/pre-processed/pbmc3k.slice_08.h5ad\n",
      "infile seg2:  /research/rgs01/home/clusterHome/cburdysh/MICA_Project/MICA_distributed/MICA/test_data/inputs/10x/PBMC/3k/pre-processed/pbmc3k.slice_11.h5ad\n",
      "rank:  2  comparison between segs: 8  x  11  symmetric= False\n",
      "tuple= (8, 12)\n",
      "infile seg1:  /research/rgs01/home/clusterHome/cburdysh/MICA_Project/MICA_distributed/MICA/test_data/inputs/10x/PBMC/3k/pre-processed/pbmc3k.slice_08.h5ad\n",
      "infile seg2:  /research/rgs01/home/clusterHome/cburdysh/MICA_Project/MICA_distributed/MICA/test_data/inputs/10x/PBMC/3k/pre-processed/pbmc3k.slice_12.h5ad\n",
      "rank:  2  comparison between segs: 8  x  12  symmetric= False\n",
      "tuple= (9, 9)\n",
      "infile seg1:  /research/rgs01/home/clusterHome/cburdysh/MICA_Project/MICA_distributed/MICA/test_data/inputs/10x/PBMC/3k/pre-processed/pbmc3k.slice_09.h5ad\n",
      "infile seg2:  /research/rgs01/home/clusterHome/cburdysh/MICA_Project/MICA_distributed/MICA/test_data/inputs/10x/PBMC/3k/pre-processed/pbmc3k.slice_09.h5ad\n",
      "rank:  2  comparison between segs: 9  x  9  symmetric= True\n",
      "tuple= (9, 10)\n",
      "infile seg1:  /research/rgs01/home/clusterHome/cburdysh/MICA_Project/MICA_distributed/MICA/test_data/inputs/10x/PBMC/3k/pre-processed/pbmc3k.slice_09.h5ad\n",
      "infile seg2:  /research/rgs01/home/clusterHome/cburdysh/MICA_Project/MICA_distributed/MICA/test_data/inputs/10x/PBMC/3k/pre-processed/pbmc3k.slice_10.h5ad\n",
      "rank:  2  comparison between segs: 9  x  10  symmetric= False\n",
      "tuple= (9, 11)\n",
      "infile seg1:  /research/rgs01/home/clusterHome/cburdysh/MICA_Project/MICA_distributed/MICA/test_data/inputs/10x/PBMC/3k/pre-processed/pbmc3k.slice_09.h5ad\n",
      "infile seg2:  /research/rgs01/home/clusterHome/cburdysh/MICA_Project/MICA_distributed/MICA/test_data/inputs/10x/PBMC/3k/pre-processed/pbmc3k.slice_11.h5ad\n",
      "rank:  2  comparison between segs: 9  x  11  symmetric= False\n",
      "tuple= (9, 12)\n",
      "infile seg1:  /research/rgs01/home/clusterHome/cburdysh/MICA_Project/MICA_distributed/MICA/test_data/inputs/10x/PBMC/3k/pre-processed/pbmc3k.slice_09.h5ad\n",
      "infile seg2:  /research/rgs01/home/clusterHome/cburdysh/MICA_Project/MICA_distributed/MICA/test_data/inputs/10x/PBMC/3k/pre-processed/pbmc3k.slice_12.h5ad\n",
      "rank:  2  comparison between segs: 9  x  12  symmetric= False\n",
      "tuple= (10, 10)\n",
      "infile seg1:  /research/rgs01/home/clusterHome/cburdysh/MICA_Project/MICA_distributed/MICA/test_data/inputs/10x/PBMC/3k/pre-processed/pbmc3k.slice_10.h5ad\n",
      "infile seg2:  /research/rgs01/home/clusterHome/cburdysh/MICA_Project/MICA_distributed/MICA/test_data/inputs/10x/PBMC/3k/pre-processed/pbmc3k.slice_10.h5ad\n",
      "rank:  2  comparison between segs: 10  x  10  symmetric= True\n",
      "tuple= (10, 11)\n",
      "infile seg1:  /research/rgs01/home/clusterHome/cburdysh/MICA_Project/MICA_distributed/MICA/test_data/inputs/10x/PBMC/3k/pre-processed/pbmc3k.slice_10.h5ad\n",
      "infile seg2:  /research/rgs01/home/clusterHome/cburdysh/MICA_Project/MICA_distributed/MICA/test_data/inputs/10x/PBMC/3k/pre-processed/pbmc3k.slice_11.h5ad\n",
      "rank:  2  comparison between segs: 10  x  11  symmetric= False\n",
      "tuple= (10, 12)\n",
      "infile seg1:  /research/rgs01/home/clusterHome/cburdysh/MICA_Project/MICA_distributed/MICA/test_data/inputs/10x/PBMC/3k/pre-processed/pbmc3k.slice_10.h5ad\n",
      "infile seg2:  /research/rgs01/home/clusterHome/cburdysh/MICA_Project/MICA_distributed/MICA/test_data/inputs/10x/PBMC/3k/pre-processed/pbmc3k.slice_12.h5ad\n",
      "rank:  2  comparison between segs: 10  x  12  symmetric= False\n",
      "tuple= (11, 11)\n",
      "infile seg1:  /research/rgs01/home/clusterHome/cburdysh/MICA_Project/MICA_distributed/MICA/test_data/inputs/10x/PBMC/3k/pre-processed/pbmc3k.slice_11.h5ad\n",
      "infile seg2:  /research/rgs01/home/clusterHome/cburdysh/MICA_Project/MICA_distributed/MICA/test_data/inputs/10x/PBMC/3k/pre-processed/pbmc3k.slice_11.h5ad\n",
      "rank:  2  comparison between segs: 11  x  11  symmetric= True\n",
      "tuple= (11, 12)\n",
      "infile seg1:  /research/rgs01/home/clusterHome/cburdysh/MICA_Project/MICA_distributed/MICA/test_data/inputs/10x/PBMC/3k/pre-processed/pbmc3k.slice_11.h5ad\n",
      "infile seg2:  /research/rgs01/home/clusterHome/cburdysh/MICA_Project/MICA_distributed/MICA/test_data/inputs/10x/PBMC/3k/pre-processed/pbmc3k.slice_12.h5ad\n",
      "rank:  2  comparison between segs: 11  x  12  symmetric= False\n",
      "tuple= (12, 12)\n",
      "infile seg1:  /research/rgs01/home/clusterHome/cburdysh/MICA_Project/MICA_distributed/MICA/test_data/inputs/10x/PBMC/3k/pre-processed/pbmc3k.slice_12.h5ad\n",
      "infile seg2:  /research/rgs01/home/clusterHome/cburdysh/MICA_Project/MICA_distributed/MICA/test_data/inputs/10x/PBMC/3k/pre-processed/pbmc3k.slice_12.h5ad\n",
      "rank:  2  comparison between segs: 12  x  12  symmetric= True\n",
      "Elapsed = 33.502426624298096\n"
     ]
    }
   ],
   "source": [
    "%%px\n",
    "\n",
    "#create a 2d list to hold blocks of similarity matrix\n",
    "#this should be stored in a distributed scalapack matrix\n",
    "b=nslices\n",
    "SM = [[None for j in range(b)] for i in range(b)] \n",
    "\n",
    "start = time.time()\n",
    "calc_distance_metric_distributed(data_file_path, project_name, nrows, ncols, nslices, SM)\n",
    "end = time.time()\n",
    "print(\"Elapsed = %s\" % (end - start))\n"
   ]
  },
  {
   "cell_type": "code",
   "execution_count": null,
   "metadata": {},
   "outputs": [],
   "source": [
    "%%px \n",
    "from scipy.sparse import csr_matrix\n",
    "if comm.Get_rank() == 0:\n",
    "    #print(SM[0][0].shape)\n",
    "    #B=csr_matrix(SM[0][0]) \n",
    "    print(SM[0][0].getnnz)"
   ]
  },
  {
   "cell_type": "code",
   "execution_count": 41,
   "metadata": {},
   "outputs": [
    {
     "ename": "CompositeError",
     "evalue": "one or more exceptions from call to method: execute\n[0:execute]: TypeError: __init__() got multiple values for argument 'shape'",
     "output_type": "error",
     "traceback": [
      "[0:execute]: ",
      "\u001b[0;31m---------------------------------------------------------------------------\u001b[0m\u001b[0;31mTypeError\u001b[0m                                 Traceback (most recent call last)\u001b[0;32m<ipython-input-388-eb015a6bcfe5>\u001b[0m in \u001b[0;36m<module>\u001b[0;34m\u001b[0m",
      "\u001b[1;32m      1\u001b[0m \u001b[0;32mfrom\u001b[0m \u001b[0mscipy\u001b[0m\u001b[0;34m.\u001b[0m\u001b[0msparse\u001b[0m \u001b[0;32mimport\u001b[0m \u001b[0mcsr_matrix\u001b[0m\u001b[0;34m\u001b[0m\u001b[0;34m\u001b[0m\u001b[0m",
      "\u001b[1;32m      2\u001b[0m \u001b[0;32mif\u001b[0m \u001b[0mcomm\u001b[0m\u001b[0;34m.\u001b[0m\u001b[0mGet_rank\u001b[0m\u001b[0;34m(\u001b[0m\u001b[0;34m)\u001b[0m \u001b[0;34m==\u001b[0m \u001b[0;36m0\u001b[0m\u001b[0;34m:\u001b[0m\u001b[0;34m\u001b[0m\u001b[0;34m\u001b[0m\u001b[0m",
      "\u001b[0;32m----> 3\u001b[0;31m     \u001b[0mSM_csr\u001b[0m\u001b[0;34m=\u001b[0m\u001b[0mcsr_matrix\u001b[0m\u001b[0;34m(\u001b[0m\u001b[0mSM\u001b[0m\u001b[0;34m[\u001b[0m\u001b[0;36m0\u001b[0m\u001b[0;34m]\u001b[0m\u001b[0;34m[\u001b[0m\u001b[0;36m0\u001b[0m\u001b[0;34m]\u001b[0m\u001b[0;34m,\u001b[0m\u001b[0;34m(\u001b[0m\u001b[0;36m1000\u001b[0m\u001b[0;34m,\u001b[0m\u001b[0;36m1000\u001b[0m\u001b[0;34m)\u001b[0m\u001b[0;34m,\u001b[0m\u001b[0mshape\u001b[0m\u001b[0;34m=\u001b[0m\u001b[0;34m(\u001b[0m\u001b[0;36m1000\u001b[0m\u001b[0;34m,\u001b[0m \u001b[0;36m1000\u001b[0m\u001b[0;34m)\u001b[0m\u001b[0;34m)\u001b[0m\u001b[0;34m\u001b[0m\u001b[0;34m\u001b[0m\u001b[0m",
      "\u001b[0m\u001b[0;31mTypeError\u001b[0m: __init__() got multiple values for argument 'shape'",
      ""
     ]
    }
   ],
   "source": [
    "%%px \n",
    "from scipy.sparse import csr_matrix\n",
    "if comm.Get_rank() == 0:\n",
    "    SM_csr=csr_matrix(SM[0][0],(1000,1000),shape=(1000, 1000))\n"
   ]
  },
  {
   "cell_type": "code",
   "execution_count": 37,
   "metadata": {},
   "outputs": [
    {
     "name": "stdout",
     "output_type": "stream",
     "text": [
      "[stdout:0] \n",
      "0.6541460427482868\n",
      "0.0\n"
     ]
    }
   ],
   "source": [
    "%%px\n",
    "#show that diagonal blocks are symmetric\n",
    "if comm.Get_rank() == 0:\n",
    "    i=1\n",
    "    j=100\n",
    "    print((SM[0][0])[i,j])\n",
    "    print((SM[0][0])[j,i])"
   ]
  },
  {
   "cell_type": "code",
   "execution_count": null,
   "metadata": {},
   "outputs": [],
   "source": [
    "#adata_sub1=adata[0:1000,:]\n",
    "#adata_sub2=adata[1000:2000,:]\n",
    "#adata_sub3=adata[2000:,:]\n",
    "\n",
    "#print(adata_sub1.shape)\n",
    "#print(adata_sub2.shape)\n",
    "#print(adata_sub3.shape)"
   ]
  },
  {
   "cell_type": "code",
   "execution_count": null,
   "metadata": {},
   "outputs": [],
   "source": [
    "#We can split the anndata object by rows in the following way:\n",
    "#print(adata.X.indptr)\n",
    "#print(adata_sub1.X.indptr)\n",
    "#print(adata_sub2.X.indptr)\n",
    "#print(adata_sub3.X.indptr)"
   ]
  },
  {
   "cell_type": "code",
   "execution_count": null,
   "metadata": {},
   "outputs": [],
   "source": []
  },
  {
   "cell_type": "code",
   "execution_count": null,
   "metadata": {},
   "outputs": [],
   "source": [
    "#Convert to dataframe for comparison\n",
    "aframe = adata.to_df()\n",
    "bframe = bdata.to_df()\n",
    "aframe.shape"
   ]
  },
  {
   "cell_type": "code",
   "execution_count": null,
   "metadata": {},
   "outputs": [],
   "source": [
    "#print(frame.iloc[2000,:])\n",
    "#(frame == 0).astype(int).sum(axis=1)\n",
    "#print(frame[frame == 0].count(axis=1)/len(frame.columns))"
   ]
  },
  {
   "cell_type": "code",
   "execution_count": null,
   "metadata": {
    "collapsed": false,
    "jupyter": {
     "outputs_hidden": false
    },
    "pycharm": {
     "is_executing": true,
     "name": "#%%\n"
    }
   },
   "outputs": [],
   "source": [
    "#frame.to_csv('../../test_data/outputs/kgraph/pmbc3k.csv')"
   ]
  },
  {
   "cell_type": "code",
   "execution_count": null,
   "metadata": {},
   "outputs": [],
   "source": [
    "def calc_distance_mat_dist(mat1, mat2, paras, method):\n",
    "    \"\"\" Calculates a distance metric in between two matrices (slices)\n",
    "\n",
    "    Calculates a distance metric using the preferred method of comparison. Iterates over each cell's\n",
    "    gene expression data and populates a new matrix with rows and columns as cells from the input\n",
    "    matrices. The resulting matrix is then converted to an HDF5-format file.\n",
    "\n",
    "    Args:\n",
    "        mat1  (anndata dataframe): a sliced part of the original matrix, with some fraction of the\n",
    "                                  total cells as rows from original file and all gene expression\n",
    "                                  attributes as columns\n",
    "        mat2  (anndata dataframe): similar to mat1\n",
    "        paras (anndata dataframe): a dataframe that holds an array of parameters from the whole dataset\n",
    "        method             (str): the method to be used for the distance calculation (\n",
    "                                        mutual information: \"mi\")\n",
    "    \"\"\"\n",
    "\n",
    "    bins = int(paras.loc[\"num_bins\", 0])\n",
    "    m = int(paras.loc[\"n_genes\", 0])\n",
    "    key = paras.loc[\"MI_indx\", 0]\n",
    "\n",
    "    project_name = paras.loc[\"project_name\", 0]\n",
    "    out_file_name = project_name + \"_\" + key + \".h5\"\n",
    "    print(out_file_name)\n",
    "\n",
    "    if method == \"mi\":\n",
    "\n",
    "        df = pd.DataFrame(data=0, index=mat1.index, columns=mat2.index) \n",
    "        start = time.time()\n",
    "        \n",
    "        for c in mat2.index:\n",
    "            df.loc[mat1.index, c] = mat1.apply(\n",
    "                calc_mi, axis=1, args=(mat2.loc[c, :], bins, m)\n",
    "            )\n",
    "            \n",
    "        end = time.time()\n",
    "\n",
    "    else:\n",
    "        sys.exit(\"Distance Metrics not supported!\\n\")\n",
    "\n",
    "        \n",
    "    df.to_hdf(out_file_name, str(key))  # key: MI_indx\n",
    "    paras.to_hdf(out_file_name, \"params\")\n"
   ]
  },
  {
   "cell_type": "code",
   "execution_count": null,
   "metadata": {},
   "outputs": [],
   "source": [
    "    #tmp hardcode input file\n",
    "    inputfileA = '../../test_data/inputs/10x/PBMC/3k/pre-processed/pbmc3k_preprocessed.h5ad'\n",
    "    inputfileB = '../../test_data/inputs/10x/PBMC/3k/pre-processed/pbmc3k_preprocessed.h5ad'\n",
    "\n",
    "    #For given rank id, read in A and B matrix slices \n",
    "    matA = anndata.read_h5ad(inputfileA)\n",
    "    matB = anndata.read_h5ad(inputfileB)\n",
    "    metrics = metric.lower()\n",
    "    params = matA[\"params\"]"
   ]
  },
  {
   "cell_type": "code",
   "execution_count": null,
   "metadata": {},
   "outputs": [],
   "source": [
    "#reproducing standalone calc_scatter function here to experiment with distributed processing\n",
    "def calc_scatter(input_file, metric='mi'):\n",
    "    \"\"\" Calls calc_distance_mat utility function and calculates a metric in between cells that is chosen by the user\n",
    "\n",
    "    Args:\n",
    "        input_file (str): path to input HDF5-format file\n",
    "        metric     (str): metric for calculation (mutual info, euclidean dist, pearson or spearman correlations\n",
    "    \"\"\"\n",
    "\n",
    "    #mat = pd.HDFStore(input_file)\n",
    "    #metrics = metric.lower()\n",
    "    #params = mat[\"params\"]\n",
    "    #mat1 = mat[params.loc[\"key1\", 0]]\n",
    "    #mat2 = mat[params.loc[\"key2\", 0]]\n",
    "    #mat.close()\n",
    "    \n",
    "    #ceb set up an MPI rank list and coordinator to read in appropriate matrix slice files, \n",
    "    # compute distance matrix blocks and store results in distributed distance matrix\n",
    "\n",
    "    #tmp hardcode input file\n",
    "    inputfileA = '../../test_data/inputs/10x/PBMC/3k/pre-processed/pbmc3k_preprocessed.h5ad'\n",
    "    inputfileB = '../../test_data/inputs/10x/PBMC/3k/pre-processed/pbmc3k_preprocessed.h5ad'\n",
    "\n",
    "    #For given rank id, read in A and B matrix slices \n",
    "    matA = anndata.read_h5ad(inputfileA)\n",
    "    matB = anndata.read_h5ad(inputfileB)\n",
    "    metrics = metric.lower()\n",
    "    params = matA[\"params\"]\n",
    "\n",
    "    #utils.calc_distance_mat(matA, matB, params, method=metrics)\n",
    "    calc_distance_mat_distributed(matA, matB, params, method=metrics)"
   ]
  },
  {
   "cell_type": "code",
   "execution_count": null,
   "metadata": {},
   "outputs": [],
   "source": [
    "inputfile = '../../test_data/inputs/10x/PBMC/3k/pre-processed/pbmc3k_preprocessed.h5ad'\n",
    "calc_scatter(inputfile,'mi')"
   ]
  },
  {
   "cell_type": "code",
   "execution_count": null,
   "metadata": {
    "collapsed": false,
    "jupyter": {
     "outputs_hidden": false
    },
    "pycharm": {
     "is_executing": true,
     "name": "#%%\n"
    }
   },
   "outputs": [],
   "source": [
    "#%memit\n",
    "start = time.time()\n",
    "embedding = PCA(n_components=100)\n",
    "frame_dr = embedding.fit_transform(frame)\n",
    "frame_dr.shape\n",
    "end = time.time()\n",
    "runtime = end - start\n",
    "msg = \"The runtime for PCA took {} seconds to complete\".format(runtime)\n",
    "logging.info(msg)\n",
    "\n"
   ]
  },
  {
   "cell_type": "code",
   "execution_count": null,
   "metadata": {
    "collapsed": false,
    "jupyter": {
     "outputs_hidden": false
    },
    "pycharm": {
     "is_executing": true,
     "name": "#%%\n"
    }
   },
   "outputs": [],
   "source": [
    "%load_ext memory_profiler"
   ]
  },
  {
   "cell_type": "code",
   "execution_count": null,
   "metadata": {
    "collapsed": false,
    "jupyter": {
     "outputs_hidden": false
    },
    "pycharm": {
     "is_executing": true,
     "name": "#%%\n"
    }
   },
   "outputs": [],
   "source": [
    "def calc_mi_f(arr1, arr2, bins, m):\n",
    "    \"\"\" Calculates mutual information in between two cells, considering their gene expression levels\n",
    "\n",
    "    This function is called by calc_distance_mat. It takes gene expression data from single cells,\n",
    "    and compares them using standard calculation for mutual information. It builds a 2d histogram,\n",
    "    which is used to calculate P(arr1, arr2)\n",
    "\n",
    "    Args:\n",
    "        arr1 (pandas series): gene expression data for a given cell in matrix_1\n",
    "        arr2 (pandas series):\n",
    "        bins           (int):\n",
    "        m              (int):\n",
    "    \"\"\"\n",
    "    fq = fast_histogram.histogram2d(arr1, arr2, range=[[arr1.min(), arr1.max()+1e-9], [arr2.min(), arr2.max()+1e-9]],\n",
    "                                    bins=(bins, bins)) / float(m)\n",
    "    sm = np.sum(fq * float(m), axis=1)\n",
    "    tm = np.sum(fq * float(m), axis=0)\n",
    "    sm = np.asmatrix(sm / float(sm.sum()))\n",
    "    tm = np.asmatrix(tm / float(tm.sum()))\n",
    "    sm_tm = np.matmul(np.transpose(sm), tm)\n",
    "    div = np.divide(fq, sm_tm, where=sm_tm != 0, out=np.zeros_like(fq))\n",
    "    ent = np.log(div, where=div != 0, out=np.zeros_like(div))\n",
    "    agg = np.multiply(fq, ent, out=np.zeros_like(fq), where=fq != 0)\n",
    "    return agg.sum()"
   ]
  },
  {
   "cell_type": "code",
   "execution_count": null,
   "metadata": {
    "collapsed": false,
    "jupyter": {
     "outputs_hidden": false
    },
    "pycharm": {
     "is_executing": true,
     "name": "#%%\n"
    }
   },
   "outputs": [],
   "source": [
    "num_bins = int((frame_dr.shape[0]) ** (1 / 3.0))\n",
    "num_genes = frame_dr.shape[1]"
   ]
  },
  {
   "cell_type": "code",
   "execution_count": null,
   "metadata": {
    "collapsed": false,
    "jupyter": {
     "outputs_hidden": false
    },
    "pycharm": {
     "is_executing": true,
     "name": "#%%\n"
    }
   },
   "outputs": [],
   "source": [
    "%timeit calc_mi_f(frame_dr[0], frame_dr[1], num_bins, num_genes)"
   ]
  },
  {
   "cell_type": "code",
   "execution_count": null,
   "metadata": {
    "collapsed": false,
    "jupyter": {
     "outputs_hidden": false
    },
    "pycharm": {
     "is_executing": true,
     "name": "#%%\n"
    }
   },
   "outputs": [],
   "source": [
    "arr = frame_dr[0]\n",
    "fast_histogram.histogram1d(arr, bins=num_bins, range=[arr.min(), arr.max()+1e-9]) / num_genes\n"
   ]
  },
  {
   "cell_type": "code",
   "execution_count": null,
   "metadata": {
    "collapsed": false,
    "jupyter": {
     "outputs_hidden": false
    },
    "pycharm": {
     "is_executing": true,
     "name": "#%%\n"
    }
   },
   "outputs": [],
   "source": [
    "num_cells = frame_dr.shape[0]\n",
    "marginals = np.empty((num_cells, num_bins))\n",
    "for index, cell in enumerate(frame_dr):\n",
    "    ht1d = fast_histogram.histogram1d(cell, bins=num_bins, range=[cell.min(), cell.max()+1e-9]) / num_genes\n",
    "    marginals[index] = ht1d\n",
    "print(marginals[0])\n",
    "print(marginals[1])\n",
    "np.transpose(np.asmatrix(marginals[0]))"
   ]
  },
  {
   "cell_type": "code",
   "execution_count": null,
   "metadata": {
    "collapsed": false,
    "jupyter": {
     "outputs_hidden": false
    },
    "pycharm": {
     "is_executing": true,
     "name": "#%%\n"
    }
   },
   "outputs": [],
   "source": [
    "def calc_mi_f2(arr1, arr2, marginals, index1, index2, bins, m):\n",
    "    \"\"\" Calculates mutual information in between two cells, considering their gene expression levels\n",
    "\n",
    "    This function is called by calc_distance_mat. It takes gene expression data from single cells,\n",
    "    and compares them using standard calculation for mutual information. It builds a 2d histogram,\n",
    "    which is used to calculate P(arr1, arr2)\n",
    "\n",
    "    Args:\n",
    "        arr1 (pandas series): gene expression data for a given cell in matrix_1\n",
    "        arr2 (pandas series):\n",
    "        bins           (int):\n",
    "        m              (int):\n",
    "    \"\"\"\n",
    "    fq = fast_histogram.histogram2d(arr1, arr2, range=[[arr1.min(), arr1.max()+1e-9], [arr2.min(), arr2.max()+1e-9]],\n",
    "                                    bins=(bins, bins)) / float(m)\n",
    "    sm_tm = np.matmul(np.transpose(np.asmatrix(marginals[index1])), np.asmatrix(marginals[index2]))\n",
    "    div = np.divide(fq, sm_tm, where=sm_tm != 0, out=np.zeros_like(fq))\n",
    "    ent = np.log(div, where=div != 0, out=np.zeros_like(div))\n",
    "    agg = np.multiply(fq, ent, out=np.zeros_like(fq), where=fq != 0)\n",
    "    return agg.sum()\n"
   ]
  },
  {
   "cell_type": "code",
   "execution_count": null,
   "metadata": {
    "collapsed": false,
    "jupyter": {
     "outputs_hidden": false
    },
    "pycharm": {
     "is_executing": true,
     "name": "#%%\n"
    }
   },
   "outputs": [],
   "source": [
    "#%timeit\n",
    "calc_mi_f2(frame_dr[0], frame_dr[1], marginals, 0, 1, num_bins, num_genes)"
   ]
  },
  {
   "cell_type": "code",
   "execution_count": null,
   "metadata": {
    "collapsed": false,
    "jupyter": {
     "outputs_hidden": false
    },
    "pycharm": {
     "is_executing": true,
     "name": "#%%\n"
    }
   },
   "outputs": [],
   "source": [
    "def calc_marginals(frame_dr, num_bins, num_genes):\n",
    "    num_cells = frame_dr.shape[0]\n",
    "    marginals = np.empty((num_cells, num_bins))\n",
    "    for index, cell in enumerate(frame_dr):\n",
    "        ht1d = fast_histogram.histogram1d(cell, bins=num_bins, range=[cell.min(), cell.max() + 1e-9]) / num_genes\n",
    "        marginals[index] = ht1d\n",
    "    np.transpose(np.asmatrix(marginals[0]))\n",
    "    return marginals"
   ]
  },
  {
   "cell_type": "code",
   "execution_count": null,
   "metadata": {
    "collapsed": false,
    "jupyter": {
     "outputs_hidden": false
    },
    "pycharm": {
     "is_executing": true,
     "name": "#%%\n"
    }
   },
   "outputs": [],
   "source": [
    "def calc_norm_mi_marginal(arr1, arr2, marginals, index1, index2, bins, m):\n",
    "    \"\"\" Calculates a normalized mutual information distance in between two cells\n",
    "\n",
    "    It takes gene expression data from single cells, and compares them using standard calculation for\n",
    "    mutual information. It builds a 2d histogram, which is used to calculate P(arr1, arr2)\n",
    "\n",
    "    Args:\n",
    "        arr1 (pandas series): gene expression data for a given cell in matrix_1\n",
    "        arr2 (pandas series):\n",
    "        bins           (int):\n",
    "        m              (int):\n",
    "    \"\"\"\n",
    "    fq = fast_histogram.histogram2d(arr1, arr2, range=[[arr1.min(), arr1.max()+1e-9], [arr2.min(), arr2.max()+1e-9]],\n",
    "                                    bins=(bins, bins)) / float(m)\n",
    "    sm_tm = np.matmul(np.transpose(np.asmatrix(marginals[index1])), np.asmatrix(marginals[index2]))\n",
    "    div = np.divide(fq, sm_tm, where=sm_tm != 0, out=np.zeros_like(fq))\n",
    "    ent = np.log(div, where=div != 0, out=np.zeros_like(div))\n",
    "    agg = np.multiply(fq, ent, out=np.zeros_like(fq), where=fq != 0)\n",
    "    joint_ent = -np.multiply(fq, np.log(fq, where=fq != 0, out=np.zeros_like(fq)),\n",
    "                             out=np.zeros_like(fq), where=fq != 0).sum()\n",
    "    return (joint_ent - agg.sum()) / joint_ent"
   ]
  },
  {
   "cell_type": "code",
   "execution_count": null,
   "metadata": {
    "collapsed": false,
    "jupyter": {
     "outputs_hidden": false
    },
    "pycharm": {
     "is_executing": true,
     "name": "#%%\n"
    }
   },
   "outputs": [],
   "source": [
    "# %timeit\n",
    "calc_norm_mi_marginal(frame_dr[0], frame_dr[1], marginals, 0, 1, num_bins, num_genes)"
   ]
  },
  {
   "cell_type": "code",
   "execution_count": null,
   "metadata": {
    "collapsed": false,
    "jupyter": {
     "outputs_hidden": false
    },
    "pycharm": {
     "is_executing": true,
     "name": "#%%\n"
    }
   },
   "outputs": [],
   "source": [
    "calc_norm_mi_marginal(frame_dr[0], frame_dr[2], marginals, 0, 2, num_bins, num_genes)\n",
    "\n"
   ]
  },
  {
   "cell_type": "code",
   "execution_count": null,
   "metadata": {
    "collapsed": false,
    "jupyter": {
     "outputs_hidden": false
    },
    "pycharm": {
     "is_executing": true,
     "name": "#%%\n"
    }
   },
   "outputs": [],
   "source": [
    "def calc_norm_mi(arr1, arr2, bins, m):\n",
    "    \"\"\" Calculates a normalized mutual information distance in between two cells\n",
    "\n",
    "    It takes gene expression data from single cells, and compares them using standard calculation for\n",
    "    mutual information. It builds a 2d histogram, which is used to calculate P(arr1, arr2)\n",
    "\n",
    "    Args:\n",
    "        arr1 (pandas series): gene expression data for a given cell in matrix_1\n",
    "        arr2 (pandas series):\n",
    "        bins           (int):\n",
    "        m              (int):\n",
    "    \"\"\"\n",
    "    fq = fast_histogram.histogram2d(arr1, arr2, range=[[arr1.min(), arr1.max()+1e-9], [arr2.min(), arr2.max()+1e-9]],\n",
    "                                    bins=(bins, bins)) / float(m)\n",
    "    sm = np.sum(fq * float(m), axis=1)\n",
    "    tm = np.sum(fq * float(m), axis=0)\n",
    "    sm = np.asmatrix(sm / float(sm.sum()))\n",
    "    tm = np.asmatrix(tm / float(tm.sum()))\n",
    "    sm_tm = np.matmul(np.transpose(sm), tm)\n",
    "    div = np.divide(fq, sm_tm, where=sm_tm != 0, out=np.zeros_like(fq))\n",
    "    ent = np.log(div, where=div != 0, out=np.zeros_like(div))\n",
    "    agg = np.multiply(fq, ent, out=np.zeros_like(fq), where=fq != 0)\n",
    "    joint_ent = -np.multiply(fq, np.log(fq, where=fq != 0, out=np.zeros_like(fq)),\n",
    "                             out=np.zeros_like(fq), where=fq != 0).sum()\n",
    "    return (joint_ent - agg.sum()) / joint_ent"
   ]
  },
  {
   "cell_type": "code",
   "execution_count": null,
   "metadata": {
    "collapsed": false,
    "jupyter": {
     "outputs_hidden": false
    },
    "pycharm": {
     "is_executing": true,
     "name": "#%%\n"
    }
   },
   "outputs": [],
   "source": [
    "%timeit calc_norm_mi(frame_dr[0], frame_dr[1], num_bins, num_genes)"
   ]
  },
  {
   "cell_type": "code",
   "execution_count": null,
   "metadata": {
    "collapsed": false,
    "jupyter": {
     "outputs_hidden": false
    },
    "pycharm": {
     "is_executing": true,
     "name": "#%%\n"
    }
   },
   "outputs": [],
   "source": [
    "from sklearn.neighbors import DistanceMetric\n",
    "dist = DistanceMetric.get_metric('euclidean')\n",
    "X = [frame_dr[0], frame_dr[1]]"
   ]
  },
  {
   "cell_type": "code",
   "execution_count": null,
   "metadata": {
    "collapsed": false,
    "jupyter": {
     "outputs_hidden": false
    },
    "pycharm": {
     "is_executing": true,
     "name": "#%%\n"
    }
   },
   "outputs": [],
   "source": [
    "%timeit dist.pairwise(X)"
   ]
  },
  {
   "cell_type": "code",
   "execution_count": null,
   "metadata": {
    "collapsed": false,
    "jupyter": {
     "outputs_hidden": false
    },
    "pycharm": {
     "is_executing": true,
     "name": "#%%\n"
    }
   },
   "outputs": [],
   "source": [
    "def read_preprocessed_mat(in_file):\n",
    "    \"\"\"Read in preprocessed matrix file into a dataframe.\"\"\"\n",
    "    if in_file.endswith('.txt'):\n",
    "        frame = pd.read_csv(in_file, sep=\"\\t\", index_col=0).iloc[:, 0:]\n",
    "    if in_file.endswith('.h5ad') or in_file.endswith('.h5'):\n",
    "        adata = anndata.read_h5ad(in_file)\n",
    "        frame = adata.to_df()\n",
    "    return frame"
   ]
  },
  {
   "cell_type": "code",
   "execution_count": null,
   "metadata": {
    "collapsed": false,
    "jupyter": {
     "outputs_hidden": false
    },
    "pycharm": {
     "name": "#%%\n"
    }
   },
   "outputs": [],
   "source": [
    "adata = anndata.read_h5ad('/Users/lding/Git/MICA/test_data/inputs/10x/PBMC/3k/pre-processed/pbmc3k_preprocessed.h5ad')"
   ]
  },
  {
   "cell_type": "code",
   "execution_count": null,
   "metadata": {
    "collapsed": false,
    "jupyter": {
     "outputs_hidden": false
    },
    "pycharm": {
     "name": "#%%\n"
    }
   },
   "outputs": [],
   "source": [
    "print(adata.X.shape)"
   ]
  },
  {
   "cell_type": "code",
   "execution_count": null,
   "metadata": {
    "collapsed": false,
    "jupyter": {
     "outputs_hidden": false
    },
    "pycharm": {
     "name": "#%%\n"
    }
   },
   "outputs": [],
   "source": [
    "start = time.time()\n",
    "indices, dists, forest = sc.neighbors.compute_neighbors_umap(adata.X, n_neighbors=10)\n",
    "end = time.time()\n",
    "runtime = end - start\n",
    "msg = \"The runtime for compute_neighbors_umap took {} seconds to complete\".format(runtime)\n",
    "logging.info(msg)"
   ]
  },
  {
   "cell_type": "code",
   "execution_count": null,
   "metadata": {
    "collapsed": false,
    "jupyter": {
     "outputs_hidden": false
    },
    "pycharm": {
     "name": "#%%\n"
    }
   },
   "outputs": [],
   "source": [
    "def calc_norm_mi(arr1, arr2, bins, m):\n",
    "    \"\"\" Calculates a normalized mutual information distance D(X, Y) = 1 - I(X, Y)/H(X, Y) using bin-based method\n",
    "\n",
    "    It takes gene expression data from single cells, and compares them using standard calculation for\n",
    "    mutual information and joint entropy. It builds a 2d histogram, which is used to calculate P(arr1, arr2).\n",
    "\n",
    "    Args:\n",
    "        arr1 (pandas series): gene expression data for cell 1\n",
    "        arr2 (pandas series): gene expression data for cell 2\n",
    "        marginals  (ndarray): marginal probability matrix\n",
    "        index1         (int): index of cell 1\n",
    "        index2         (int): index of cell 2\n",
    "        bins           (int): number of bins\n",
    "        m              (int): number of genes\n",
    "    Returns:\n",
    "        a float between 0 and 1\n",
    "    \"\"\"\n",
    "    fq = fast_histogram.histogram2d(arr1, arr2, range=[[arr1.min(), arr1.max()+1e-9], [arr2.min(), arr2.max()+1e-9]],\n",
    "                                    bins=(bins, bins)) / float(m)\n",
    "    sm = np.sum(fq * float(m), axis=1)\n",
    "    tm = np.sum(fq * float(m), axis=0)\n",
    "    sm = np.asmatrix(sm / float(sm.sum()))\n",
    "    tm = np.asmatrix(tm / float(tm.sum()))\n",
    "    sm_tm = np.matmul(np.transpose(sm), tm)\n",
    "    div = np.divide(fq, sm_tm, where=sm_tm != 0, out=np.zeros_like(fq))\n",
    "    ent = np.log(div, where=div != 0, out=np.zeros_like(div))\n",
    "    agg = np.multiply(fq, ent, out=np.zeros_like(fq), where=fq != 0)\n",
    "    joint_ent = -np.multiply(fq, np.log(fq, where=fq != 0, out=np.zeros_like(fq)),\n",
    "                             out=np.zeros_like(fq), where=fq != 0).sum()\n",
    "    return (joint_ent - agg.sum()) / joint_ent"
   ]
  },
  {
   "cell_type": "code",
   "execution_count": null,
   "metadata": {
    "collapsed": false,
    "jupyter": {
     "outputs_hidden": false
    },
    "pycharm": {
     "name": "#%%\n"
    }
   },
   "outputs": [],
   "source": [
    "num_bins = int((adata.X.shape[0]) ** (1 / 3.0))\n",
    "num_genes = adata.X.shape[1]\n",
    "metric_params = {\"bins\": num_bins, \"m\": num_genes}"
   ]
  },
  {
   "cell_type": "code",
   "execution_count": null,
   "metadata": {
    "collapsed": false,
    "jupyter": {
     "outputs_hidden": false
    },
    "pycharm": {
     "name": "#%% Failed due to Numba\n"
    }
   },
   "outputs": [],
   "source": [
    "start = time.time()\n",
    "indices, dists, forest = sc.neighbors.compute_neighbors_umap(adata.X, n_neighbors=10, metric=calc_norm_mi,\n",
    "                                                             metric_kwds=metric_params)\n",
    "end = time.time()\n",
    "runtime = end - start\n",
    "msg = \"The runtime for compute_neighbors_umap took {} seconds to complete\".format(runtime)\n",
    "logging.info(msg)"
   ]
  },
  {
   "cell_type": "code",
   "execution_count": null,
   "metadata": {
    "collapsed": false,
    "jupyter": {
     "outputs_hidden": false
    },
    "pycharm": {
     "name": "#%% Test on 33k PBMC\n"
    }
   },
   "outputs": [],
   "source": [
    "adata = anndata.read_h5ad('/Users/lding/Documents/MICA/Datasets/filtered_gene_bc_matrices/hg19/pbmc33k_preprocessed.h5ad')\n",
    "frame = adata.to_df()\n",
    "frame.shape"
   ]
  },
  {
   "cell_type": "code",
   "execution_count": null,
   "metadata": {
    "collapsed": false,
    "jupyter": {
     "outputs_hidden": false
    },
    "pycharm": {
     "name": "#%%\n"
    }
   },
   "outputs": [],
   "source": [
    "frame.to_csv('/Users/lding/Documents/MICA/kgraph/pmbc33k.csv')"
   ]
  },
  {
   "cell_type": "code",
   "execution_count": null,
   "metadata": {
    "collapsed": false,
    "jupyter": {
     "outputs_hidden": false
    },
    "pycharm": {
     "name": "#%%\n"
    }
   },
   "outputs": [],
   "source": [
    "np.arange(1, 12)"
   ]
  }
 ],
 "metadata": {
  "kernelspec": {
   "display_name": "Python 3",
   "language": "python",
   "name": "python3"
  },
  "language_info": {
   "codemirror_mode": {
    "name": "ipython",
    "version": 3
   },
   "file_extension": ".py",
   "mimetype": "text/x-python",
   "name": "python",
   "nbconvert_exporter": "python",
   "pygments_lexer": "ipython3",
   "version": "3.6.12"
  }
 },
 "nbformat": 4,
 "nbformat_minor": 4
}
