{
 "cells": [
  {
   "cell_type": "markdown",
   "metadata": {},
   "source": [
    "# Use MPI and Scalapy to distribute all of MICA workflow to work on multiple nodes"
   ]
  },
  {
   "cell_type": "markdown",
   "metadata": {},
   "source": [
    "prep.py component \\\n",
    "Read input file and slice into manageable sizes"
   ]
  },
  {
   "cell_type": "code",
   "execution_count": 1,
   "metadata": {},
   "outputs": [],
   "source": [
    "from MICA.lib import utils"
   ]
  },
  {
   "cell_type": "code",
   "execution_count": 2,
   "metadata": {},
   "outputs": [],
   "source": [
    "#from IPython import parallel\n",
    "import ipyparallel as ipp"
   ]
  },
  {
   "cell_type": "markdown",
   "metadata": {},
   "source": [
    "# Launch an ipython parallel cluster\n",
    "Run this on hpc node to launch a cluster with mpi engines"
   ]
  },
  {
   "cell_type": "code",
   "execution_count": 3,
   "metadata": {},
   "outputs": [],
   "source": [
    "#this currently needs to be launched from terminal\n",
    "#import subprocess \n",
    "#We need to launch an ipython parallel cluster\n",
    "#!ipcluster start --n=4\n",
    "#subprocess.Popen(['ipcluster','start','--n=4'])\n",
    "#subprocess.Popen(['ipcluster', 'start', '--engines=MPIEngineSetLauncher', '--log-level', 'DEBUG', '--n=4'])\n",
    "#!ipcluster start --engines=MPIEngineSetLauncher --log-level DEBUG --n=4 &"
   ]
  },
  {
   "cell_type": "code",
   "execution_count": 4,
   "metadata": {},
   "outputs": [
    {
     "data": {
      "text/plain": [
       "[0, 1, 2, 3]"
      ]
     },
     "execution_count": 4,
     "metadata": {},
     "output_type": "execute_result"
    }
   ],
   "source": [
    "# Create a parallel client so that we can use %%px cell magic\n",
    "# With rc and dview, we can interact between mpi ranks and the thread running this notebook\n",
    "rc = ipp.Client()\n",
    "dview = rc[:]\n",
    "rc.ids"
   ]
  },
  {
   "cell_type": "code",
   "execution_count": 5,
   "metadata": {},
   "outputs": [],
   "source": [
    "%%px\n",
    "#load all necessary libraries onto each rank\n",
    "\n",
    "from scipy.sparse import csr_matrix\n",
    "from mpi4py import MPI\n",
    "import sys\n",
    "import numba\n",
    "import pandas as pd\n",
    "import scanpy as sc\n",
    "import scipy as sci\n",
    "import numpy as np\n",
    "import anndata\n",
    "import time\n",
    "from sklearn.decomposition import PCA\n",
    "import fast_histogram\n",
    "import logging\n",
    "logging.basicConfig(level=logging.INFO)\n",
    "from MICA.lib import utils\n",
    "from scalapy import *"
   ]
  },
  {
   "cell_type": "code",
   "execution_count": 6,
   "metadata": {},
   "outputs": [
    {
     "name": "stdout",
     "output_type": "stream",
     "text": [
      "[stdout:0] noderome186[25562]: 0/4\n",
      "[stdout:1] noderome186[25563]: 1/4\n",
      "[stdout:2] noderome186[25564]: 2/4\n",
      "[stdout:3] noderome186[25567]: 3/4\n"
     ]
    }
   ],
   "source": [
    "%%px\n",
    "import os\n",
    "import socket\n",
    "#from mpi4py import MPI\n",
    "comm = MPI.COMM_WORLD\n",
    "size = comm.Get_size()\n",
    "rank = comm.Get_rank()\n",
    "name = MPI.Get_processor_name()\n",
    "#sys.stdout.write(\n",
    "#    \"Hello, World! I am process %d of %d on %s.\\n\" \n",
    "#    % (rank, size, name))\n",
    "\n",
    "print(\"{host}[{pid}]: {rank}/{size}\".format(\n",
    "    host=socket.gethostname(),\n",
    "    pid=os.getpid(),\n",
    "    rank=comm.rank,\n",
    "    size=comm.size,\n",
    "))"
   ]
  },
  {
   "cell_type": "code",
   "execution_count": 7,
   "metadata": {},
   "outputs": [],
   "source": [
    "%%px\n",
    "#this is a defined elsewhere as a standalone python executable\n",
    "#we are duplicating here to experiment with format for distrubuted computing\n",
    "def prep_dist(input_file, out_name, slice_unit):\n",
    "    \"\"\" Preprocess input file to create sliced matrices.\n",
    "\n",
    "    Reads file into HDF5-format, adds parameters, slices data in file, generates several files with\n",
    "    different combinations of slices.\n",
    "\n",
    "    Args:\n",
    "        input_file (str): path to input text-file\n",
    "        out_name   (str): common rootname of generated output files\n",
    "        slice_unit (int): size of each slice of cell data in input text-file\n",
    "    \"\"\"\n",
    "    logging.basicConfig(level=logging.INFO)\n",
    "    \n",
    "    #Read in whole file stored in anndata csr format\n",
    "    adf=utils.read_anndata_file(input_file)\n",
    "    #if adf==None :\n",
    "    #    raise Exception(\"Input file \",input_file,\" not found.\")\n",
    "        \n",
    "    print(\"initial data size=\",adf.shape)\n",
    "\n",
    "    slice_size = int(slice_unit)\n",
    "    \n",
    "    #df = pd.HDFStore(df_file)[\"slice_0\"]\n",
    "    \n",
    "    #compute number of slices needed to break dataset in to slice_size row blocks\n",
    "    b = int(np.ceil(float(adf.shape[0]) / float(slice_size)))\n",
    "    #determine how many digits are in b so we can pad spaces for the string output\n",
    "    digit = int(np.floor(np.log10(b)) + 1)\n",
    "    #loop over slice numbers\n",
    "    for i in range(b):\n",
    "        #slice name is equal to batch index\n",
    "        slice_name = str(i).zfill(digit)\n",
    "        #compute batch row indices\n",
    "        start = i * slice_size\n",
    "        end = np.min([(i + 1) * slice_size, adf.shape[0]])\n",
    "        #copy slice to array of slices\n",
    "        adf_sub=adf[start:end,:]\n",
    "        #write to file so we don't have to keep each slice in memory\n",
    "        output_file_name = out_name + \".slice_\" + slice_name +\".h5ad\"\n",
    "        print(\"output_file_name: \",output_file_name)\n",
    "        adf_sub.write(output_file_name)\n",
    "        \n",
    "    #return nrows and nslices\n",
    "    return adf.shape[0], adf.shape[1], b\n",
    "    \n"
   ]
  },
  {
   "cell_type": "code",
   "execution_count": 8,
   "metadata": {},
   "outputs": [],
   "source": [
    "%%px\n",
    "#ceb create csr version of numba_histogram2d, also compute_bin with knowledge that minx will always be zero\n",
    "\n",
    "@numba.jit(nopython=True)\n",
    "def numba_nan_fill(x):\n",
    "    shape = x.shape\n",
    "    x = x.ravel()\n",
    "    x[np.isnan(x)] = 0.0\n",
    "    x = x.reshape(shape)\n",
    "    return x\n",
    "\n",
    "@numba.jit(nopython=True)\n",
    "def numba_inf_fill(x):\n",
    "    shape = x.shape\n",
    "    x = x.ravel()\n",
    "    x[np.isinf(x)] = 0.0\n",
    "    x = x.reshape(shape)\n",
    "    return x\n",
    "\n",
    "@numba.jit(nopython=True, fastmath=True)\n",
    "def compute_bin_upperbound(x, max, num_bins):\n",
    "    \"\"\" Compute bin index for a give number.\n",
    "        Assume that min is always zero\n",
    "    \"\"\"\n",
    "    # special case to mirror NumPy behavior for last bin\n",
    "    if x == max:\n",
    "        return num_bins - 1 # a_max always in last bin\n",
    "\n",
    "    bin = int(num_bins * x / max)\n",
    "\n",
    "    if bin >= num_bins:\n",
    "        return None\n",
    "    else:\n",
    "        return bin\n",
    "\n",
    "@numba.jit(nopython=True, fastmath=True)\n",
    "def numba_histogram2d_csr(arr1, cols1, arr2, cols2, ncols, num_bins):\n",
    "    \"\"\" Compute the bi-dimensional histogram of two data samples.\n",
    "    Args:\n",
    "        arr1 (array_like, shape (N,)): An array containing the x coordinates of the points to be histogrammed.\n",
    "        arr2 (array_like, shape (N,)): An array containing the y coordinates of the points to be histogrammed.\n",
    "        num_bins (int): int\n",
    "    Return:\n",
    "        hist (2D ndarray)\n",
    "    \"\"\"\n",
    "    #for csr arrays we have to compute zero bins ahead of time \n",
    "        \n",
    "    bin_indices1 = np.zeros((ncols,), dtype=np.int16)\n",
    "    max1 = arr1.max()\n",
    "    #note that bin_indices has same size/indices as full array x and y\n",
    "    for i, x in enumerate(arr1.flat):\n",
    "        #assume zero min\n",
    "        bin_indices1[cols1[i]] = compute_bin_upperbound(x, max1, num_bins)\n",
    "\n",
    "    bin_indices2 = np.zeros((ncols,), dtype=np.int16)\n",
    "    max2 = arr2.max()\n",
    "    for i, y in enumerate(arr2.flat):\n",
    "        #assume zero min\n",
    "        bin_indices2[cols2[i]] = compute_bin_upperbound(y, max2, num_bins)\n",
    "\n",
    "    hist = np.zeros((num_bins, num_bins), dtype=np.int16)\n",
    "    for i, b in enumerate(bin_indices1):\n",
    "        hist[b, bin_indices2[i]] += 1\n",
    "        \n",
    "    return hist"
   ]
  },
  {
   "cell_type": "code",
   "execution_count": 9,
   "metadata": {},
   "outputs": [],
   "source": [
    "%%px\n",
    "#import numba\n",
    "@numba.jit(nopython=True, fastmath=True)\n",
    "def numba_calc_mi_dis_csr(arr1, cols1, arr2, cols2, bins, m):\n",
    "    \"\"\" Calculates a mutual information distance D(X, Y) = H(X, Y) - I(X, Y) using bin-based method\n",
    "\n",
    "    It takes gene expression data from single cells, and compares them using standard calculation for\n",
    "    mutual information and joint entropy. It builds a 2d histogram, which is used to calculate P(arr1, arr2).\n",
    "\n",
    "    Args:\n",
    "        arr1 (float) nparray of csr: gene expression data for cell 1\n",
    "        cols1 (int): column indices for csr arr1\n",
    "        arr2 (float) nparray of csr: gene expression data for cell 2\n",
    "        cols2 (int): column indices for csr arr\n",
    "        bins           (int): number of bins\n",
    "        m              (int): number of genes\n",
    "    Returns:\n",
    "        a float between 0 and 1\n",
    "    \"\"\"\n",
    "    hist = numba_histogram2d_csr(arr1, cols1, arr2, cols2, m, bins)\n",
    "    \n",
    "    sm = np.sum(hist, axis=1)\n",
    "    tm = np.sum(hist, axis=0)\n",
    "    sm = sm / float(sm.sum())\n",
    "    tm = tm / float(tm.sum())\n",
    "\n",
    "    sm_tm = np.zeros((bins, bins), dtype=np.float32)\n",
    "    for i, s in enumerate(sm):\n",
    "        for j, t in enumerate(tm):\n",
    "            sm_tm[i, j] = s * t\n",
    "\n",
    "    fq = hist / float(m)\n",
    "    div = np.true_divide(fq, sm_tm)\n",
    "    numba_nan_fill(div)\n",
    "    ent = np.log(div)\n",
    "    numba_inf_fill(ent)\n",
    "    agg = np.multiply(fq, ent)\n",
    "    #joint_ent = -np.multiply(fq, numba_inf_fill(np.log(fq))).sum()\n",
    "    #return joint_ent - agg.sum()\n",
    "    return agg.sum()"
   ]
  },
  {
   "cell_type": "code",
   "execution_count": 10,
   "metadata": {},
   "outputs": [],
   "source": [
    "%%px\n",
    "#numba compilation cannot interpret the creation of a 2d array inside of this function so we pass in and out SM_block instead of returning it\n",
    "#import numba\n",
    "@numba.jit(nopython=True, fastmath=True)\n",
    "def process_matrices(Arows,Amat_data,Amat_indptr,Amat_indices,\n",
    "                     Brows,Bmat_data,Bmat_indptr,Bmat_indices,\n",
    "                     num_bins,num_genes,\n",
    "                     SM_block, symmetric=False):\n",
    "    #(mat1.n_obs,mat1.X.data,mat1.X.indptr,mat1.X.indices, mat2.n_obs,mat2.X.data,mat2.X.indptr,mat2.X.indices,SM,num_bins,mat2.n_vars,symmetric)\n",
    "\n",
    "    #Arows = mat1.n_obs\n",
    "    #Brows = mat2.n_obs\n",
    "    #num_genes = mat1.n_vars\n",
    "    \n",
    "    #SM_block = np.ndarray(shape=(Arows,Brows))#, dtype=float, order='F')\n",
    "    #SM_block = SM_block.reshape(Arows,Brows)\n",
    "    for i in range(Arows):\n",
    "        Arowstart = Amat_indptr[i]\n",
    "        Arowend   = Amat_indptr[i+1]\n",
    "        Arow_cols = Amat_indices[Arowstart:Arowend]\n",
    "        Arow_data = Amat_data[Arowstart:Arowend]\n",
    "\n",
    "        Bstart=0\n",
    "        Bend=Brows\n",
    "        #if(symmetric):Bstart=i #upper triangluar\n",
    "        if(symmetric):Bend=i+1 #lower triangular\n",
    "        for j in range(Bstart,Bend): \n",
    "            Browstart = Bmat_indptr[j]\n",
    "            Browend   = Bmat_indptr[j+1]\n",
    "            Brow_cols = Bmat_indices[Browstart:Browend]\n",
    "            Brow_data = Bmat_data[Browstart:Browend]               \n",
    "            SM_block[i,j] = numba_calc_mi_dis_csr(Arow_data, Arow_cols, Brow_data, Brow_cols, num_bins, num_genes)\n",
    "            #SM_block[i*Arows+j] = numba_calc_mi_dis_csr(Arow_data, Arow_cols, Brow_data, Brow_cols, num_bins, num_genes)\n",
    "\n",
    "            \n",
    "    return #SM_block\n"
   ]
  },
  {
   "cell_type": "code",
   "execution_count": 11,
   "metadata": {},
   "outputs": [],
   "source": [
    "%%px\n",
    "#from mpi4py import MPI\n",
    "from scipy.sparse import csr_matrix\n",
    "#import sys\n",
    "import pandas as pd\n",
    "\n",
    "#create a 2d list to hold blocks of similarity matrix\n",
    "#this should be a global var\n",
    "#SM = [[None for j in range(b)] for i in range(b)] \n",
    "\n",
    "def calc_distance_metric_distributed(in_file_path, project_name, nrows, ncols, nslices, SM):\n",
    "    \n",
    "    \"\"\" Prepares the already sliced input file for further calculation in MICA.\n",
    "    Enters pairs of slices (matrices) into temporary HDF5-format files. It enters them\n",
    "    individually, using their unique key. It also enters the parameter data for every single \n",
    "    pair into the key \"params\", which consists of: [key1, key2, num_bins, num_genes,\n",
    "    pair_index, project_name, num_slices]\n",
    "    Args:\n",
    "        in_file      (str): path to sliced HDF5-format file\n",
    "        project_name (str): project name used to generate path for final outputs\n",
    "        nrows : number of rows in global matrix\n",
    "        ncols : number of vars in global matrix\n",
    "    \"\"\"\n",
    "\n",
    "    \n",
    "    #create a 2d list to hold blocks of similarity matrix\n",
    "    #this should be a global var\n",
    "    #SM = [[None for j in range(b)] for i in range(b)] \n",
    "    \n",
    "    \n",
    "    #input file is full input that has been segmented into b blocks of rows\n",
    "    \n",
    "    #nranks would ideally be equal to  b(b+1)/2\n",
    "    comm = MPI.COMM_WORLD\n",
    "    size = comm.Get_size()\n",
    "    myrank = comm.Get_rank()\n",
    "    name = MPI.Get_processor_name()\n",
    "    #sys.stdout.write(\"Hello, World! I am process %d of %d on %s.\\n\" % (myrank, size, name))\n",
    "    \n",
    "    #in_ = pd.HDFStore(in_file, \"r\")  # slice.h5\n",
    "    #b = int(np.ceil(float(nrows) / float(slice_size)))\n",
    "    digit = int(np.floor(np.log10(nslices)) + 1)\n",
    "\n",
    "    num_bins = int(np.floor(nrows ** (1 / 3.0)))  # number of bins\n",
    "    #print(\"bins= \",bins)\n",
    "    #b = in_[\"attr\"].loc[\"slice\", 0]  # number of sliced matrix\n",
    "    b = nslices #number of row blocks (cells)\n",
    "    m = ncols  # number of cols per row (genes)\n",
    "\n",
    "    n_block_comparisons = int((b * (b + 1)) / 2)  # total number of row block comparisons needed to compute entire global similarity matrix\n",
    "    n_jobs_per_rank = n_block_comparisons/size\n",
    "    if (myrank == 0): print(\"block comparsons = %d. jobs per rank = %d\\n\" % (n_block_comparisons, n_jobs_per_rank))\n",
    "\n",
    "    #build list of row block comparisons that current mpi rank will process\n",
    "    myslices=[]\n",
    "    for i in range(b):\n",
    "        for j in range(i,b): # j in range [i,b]\n",
    "            idx = int(i * b + j - (i * (i + 1)) / 2)\n",
    "            targetrank = idx//n_jobs_per_rank\n",
    "            if (targetrank == myrank): myslices.append((i,j))            \n",
    "\n",
    "    #from list just generated, only do work assigned to your rank\n",
    "    for index, tuple in enumerate(myslices):\n",
    "        #print(\"tuple=\",tuple)\n",
    "        i=tuple[0] #block row\n",
    "        j=tuple[1] #block col      \n",
    "\n",
    "        #get 1st slice (row block) file\n",
    "        slice_name = str(i).zfill(digit)\n",
    "        ##ceb we only want to read this once per i,j combination\n",
    "        input_file = in_file_path + project_name + \".slice_\" + slice_name +\".h5ad\"\n",
    "        #print(\"infile seg1: \",input_file)\n",
    "        mat1 = utils.read_anndata_file(input_file)\n",
    "    \n",
    "\n",
    "        #get 2nd slice (row block) file\n",
    "        slice_name = str(j).zfill(digit)\n",
    "        input_file = in_file_path + project_name + \".slice_\" + slice_name +\".h5ad\"\n",
    "        #print(\"infile seg2: \",input_file)\n",
    "        mat2 = utils.read_anndata_file(input_file)    \n",
    "\n",
    "        #check to see if block comparison will result in a symmetric SM matrix\n",
    "        # so that we can reduce the number of computations in half\n",
    "        symmetric=False\n",
    "        if i==j: symmetric=True\n",
    "        \n",
    "        print(\"rank: \",myrank,\" comparison between segs:\",i,\" x \",j,\" symmetric=\",symmetric)\n",
    "            \n",
    "        #compute distance metrics between row blocks\n",
    "        \n",
    "        Arows = mat1.n_obs\n",
    "        Brows = mat2.n_obs\n",
    "        num_genes = mat1.n_vars #we will assume Acols==Bcols==num_genes\n",
    "        \n",
    "        #need SM for each block pair    \n",
    "        #creates local array of zeros and assigns to global 2d list\n",
    "        #create matrix of zeros with row order indexing\n",
    "        SM[i][j] = np.zeros(shape=(Arows,Brows), dtype = float, order = 'C')\n",
    " \n",
    "        #This numba function cannot create a numpy array internally so we return SM[i,j] as a variable\n",
    "        process_matrices(mat1.n_obs,mat1.X.data,mat1.X.indptr,mat1.X.indices, \n",
    "                         mat2.n_obs,mat2.X.data,mat2.X.indptr,mat2.X.indices,\n",
    "                         num_bins, num_genes, SM[i][j],\n",
    "                         symmetric #if i==j we can eliminate half of computations\n",
    "                        )\n",
    "\n",
    "        #convert to csr\n",
    "        #we may want to assign this to scalapack distributed matrix here\n",
    "        #SM[i][j]=csr_matrix(SM[i][j])\n",
    "\n",
    "    return"
   ]
  },
  {
   "cell_type": "code",
   "execution_count": 12,
   "metadata": {},
   "outputs": [
    {
     "name": "stdout",
     "output_type": "stream",
     "text": [
      "[stdout:0] /research/rgs01/home/clusterHome/cburdysh/MICA_Project/MICA_distributed/MICA\n"
     ]
    }
   ],
   "source": [
    "%%px\n",
    "import os\n",
    "cwd=os.getcwd()\n",
    "if rank==0:\n",
    "    print(cwd)\n",
    "    \n",
    "data_file_path = cwd+'/test_data/inputs/10x/PBMC/3k/pre-processed/'\n",
    "input_file_name = data_file_path + 'pbmc3k_preprocessed.h5ad'\n",
    "project_name = 'pbmc3k'\n",
    "output_file_name = data_file_path+project_name\n",
    "\n"
   ]
  },
  {
   "cell_type": "code",
   "execution_count": 13,
   "metadata": {},
   "outputs": [],
   "source": [
    "%%px\n",
    "#set slice size (max size of row blocks)\n",
    "slice_size = 500"
   ]
  },
  {
   "cell_type": "code",
   "execution_count": 14,
   "metadata": {},
   "outputs": [
    {
     "name": "stdout",
     "output_type": "stream",
     "text": [
      "[stdout:0] /research/rgs01/home/clusterHome/cburdysh/MICA_Project/MICA_distributed/MICA/test_data/inputs/10x/PBMC/3k/pre-processed/pbmc3k_preprocessed.h5ad\n"
     ]
    }
   ],
   "source": [
    "%%px\n",
    "if rank==0:\n",
    "    print (input_file_name)"
   ]
  },
  {
   "cell_type": "markdown",
   "metadata": {},
   "source": [
    "## Run Prep_dist() to split file into slices"
   ]
  },
  {
   "cell_type": "code",
   "execution_count": 15,
   "metadata": {},
   "outputs": [
    {
     "name": "stdout",
     "output_type": "stream",
     "text": [
      "[stdout:0] \n",
      "initial data size= (2496, 10499)\n",
      "output_file_name:  /research/rgs01/home/clusterHome/cburdysh/MICA_Project/MICA_distributed/MICA/test_data/inputs/10x/PBMC/3k/pre-processed/pbmc3k.slice_0.h5ad\n",
      "output_file_name:  /research/rgs01/home/clusterHome/cburdysh/MICA_Project/MICA_distributed/MICA/test_data/inputs/10x/PBMC/3k/pre-processed/pbmc3k.slice_1.h5ad\n",
      "output_file_name:  /research/rgs01/home/clusterHome/cburdysh/MICA_Project/MICA_distributed/MICA/test_data/inputs/10x/PBMC/3k/pre-processed/pbmc3k.slice_2.h5ad\n",
      "output_file_name:  /research/rgs01/home/clusterHome/cburdysh/MICA_Project/MICA_distributed/MICA/test_data/inputs/10x/PBMC/3k/pre-processed/pbmc3k.slice_3.h5ad\n",
      "output_file_name:  /research/rgs01/home/clusterHome/cburdysh/MICA_Project/MICA_distributed/MICA/test_data/inputs/10x/PBMC/3k/pre-processed/pbmc3k.slice_4.h5ad\n"
     ]
    },
    {
     "name": "stderr",
     "output_type": "stream",
     "text": [
      "[stderr:0] \n",
      "/home/cburdysh/.conda/envs/py36/lib/python3.6/site-packages/anndata/_core/anndata.py:1094: FutureWarning: is_categorical is deprecated and will be removed in a future version.  Use is_categorical_dtype instead\n",
      "  if not is_categorical(df_full[k]):\n",
      "/home/cburdysh/.conda/envs/py36/lib/python3.6/site-packages/anndata/_core/anndata.py:1192: FutureWarning: is_categorical is deprecated and will be removed in a future version.  Use is_categorical_dtype instead\n",
      "  if is_string_dtype(df[key]) and not is_categorical(df[key])\n"
     ]
    }
   ],
   "source": [
    "%%px\n",
    "#Run prep.py only on one processor to create the slice files\n",
    "\n",
    "g_nrows=0 #global number of rows (cells)\n",
    "ncols=0\n",
    "nslices=0\n",
    "if rank==0: \n",
    "    #for some unknown reason, running the prep_dist defined in MICA.utils stalls here, although they are identical\n",
    "    g_nrows, ncols, nslices = prep_dist(input_file_name, output_file_name, slice_size)\n",
    "    \n",
    "# this uses the iparallel dview object to distribute these variables from the notebook thread to all mpi ranks\n",
    "# but the ranks can't communicate back to the notebook thread\n",
    "#dview.push(dict(nrows=nrows, ncols=ncols, nslices=nslices))\n",
    "\n",
    "#broadcast resultant variables from root to the other ranks\n",
    "g_nrows = comm.bcast(g_nrows, root=0)\n",
    "ncols = comm.bcast(ncols, root=0)\n",
    "nslices = comm.bcast(nslices, root=0)"
   ]
  },
  {
   "cell_type": "code",
   "execution_count": 16,
   "metadata": {},
   "outputs": [
    {
     "name": "stdout",
     "output_type": "stream",
     "text": [
      "[stdout:0] global nrows, ncols, slices:  2496 10499 5\n"
     ]
    }
   ],
   "source": [
    "%%px\n",
    "if rank==0:\n",
    "    print(\"global nrows, ncols, slices: \",g_nrows, ncols, nslices)"
   ]
  },
  {
   "cell_type": "markdown",
   "metadata": {},
   "source": [
    "## Read in anndata preprocessed files (in distributed mode, by node number) and calculate distance metrics between all row pairs\n"
   ]
  },
  {
   "cell_type": "code",
   "execution_count": 17,
   "metadata": {},
   "outputs": [
    {
     "name": "stdout",
     "output_type": "stream",
     "text": [
      "[stdout:0] \n",
      "block comparsons = 15. jobs per rank = 3\n",
      "\n",
      "rank:  0  comparison between segs: 0  x  0  symmetric= True\n",
      "rank:  0  comparison between segs: 0  x  1  symmetric= False\n",
      "rank:  0  comparison between segs: 0  x  2  symmetric= False\n",
      "rank:  0  comparison between segs: 0  x  3  symmetric= False\n",
      "Elapsed = 31.72066879272461\n",
      "[stdout:1] \n",
      "rank:  1  comparison between segs: 0  x  4  symmetric= False\n",
      "rank:  1  comparison between segs: 1  x  1  symmetric= True\n",
      "rank:  1  comparison between segs: 1  x  2  symmetric= False\n",
      "rank:  1  comparison between segs: 1  x  3  symmetric= False\n",
      "Elapsed = 31.514783143997192\n",
      "[stdout:2] \n",
      "rank:  2  comparison between segs: 1  x  4  symmetric= False\n",
      "rank:  2  comparison between segs: 2  x  2  symmetric= True\n",
      "rank:  2  comparison between segs: 2  x  3  symmetric= False\n",
      "rank:  2  comparison between segs: 2  x  4  symmetric= False\n",
      "Elapsed = 31.867146015167236\n",
      "[stdout:3] \n",
      "rank:  3  comparison between segs: 3  x  3  symmetric= True\n",
      "rank:  3  comparison between segs: 3  x  4  symmetric= False\n",
      "rank:  3  comparison between segs: 4  x  4  symmetric= True\n",
      "Elapsed = 19.97151517868042\n"
     ]
    }
   ],
   "source": [
    "%%px\n",
    "#create a 2d list to hold blocks of similarity matrix\n",
    "#this should be stored in a distributed scalapack matrix\n",
    "b=nslices #row blocks\n",
    "SM = [[None for j in range(b)] for i in range(b)] \n",
    "\n",
    "start = time.time()\n",
    "calc_distance_metric_distributed(data_file_path, project_name, g_nrows, ncols, nslices, SM)\n",
    "end = time.time()\n",
    "print(\"Elapsed = %s\" % (end - start))\n"
   ]
  },
  {
   "cell_type": "code",
   "execution_count": 62,
   "metadata": {},
   "outputs": [
    {
     "name": "stdout",
     "output_type": "stream",
     "text": [
      "[stdout:0] \n",
      "SM[ 0 ][ 0 ]= [[0.33805914 0.066332   0.05676848 ... 0.07054255 0.0512154  0.05874435]\n",
      " [0.066332   0.45212405 0.06047588 ... 0.08004723 0.05524977 0.06618731]\n",
      " [0.05676848 0.06047588 0.39173321 ... 0.06371855 0.04704487 0.05463269]\n",
      " ...\n",
      " [0.07054255 0.08004723 0.06371855 ... 0.40356913 0.05568945 0.06344674]\n",
      " [0.0512154  0.05524977 0.04704487 ... 0.05568945 0.28595673 0.04428717]\n",
      " [0.05874435 0.06618731 0.05463269 ... 0.06344674 0.04428717 0.32672655]] \n",
      "\n",
      "SM[ 0 ][ 1 ]= [[0.06175365 0.05988961 0.06091765 ... 0.05264516 0.06151162 0.06741739]\n",
      " [0.07463322 0.06648138 0.06281537 ... 0.05555061 0.0630906  0.07098869]\n",
      " [0.05996313 0.08546759 0.05180793 ... 0.08038354 0.05908661 0.05553384]\n",
      " ...\n",
      " [0.06945782 0.06715911 0.06659123 ... 0.05521862 0.06859925 0.06996816]\n",
      " [0.04923181 0.04707469 0.04850244 ... 0.04421112 0.05931689 0.05210484]\n",
      " [0.06143369 0.05605142 0.05415353 ... 0.05311433 0.05567422 0.05471078]] \n",
      "\n",
      "SM[ 0 ][ 2 ]= [[0.05419325 0.03984661 0.06144742 ... 0.05367169 0.06530753 0.05472997]\n",
      " [0.06407495 0.04264058 0.06660029 ... 0.05368422 0.07117776 0.05810067]\n",
      " [0.08622089 0.05814876 0.0605807  ... 0.04815174 0.05436043 0.05334431]\n",
      " ...\n",
      " [0.06368969 0.04557934 0.07026755 ... 0.05460584 0.07101769 0.06039171]\n",
      " [0.04645433 0.03502068 0.05843149 ... 0.05385515 0.05409279 0.05525464]\n",
      " [0.05547756 0.0411394  0.05490724 ... 0.04780348 0.05827775 0.04979826]] \n",
      "\n",
      "SM[ 0 ][ 3 ]= [[0.06422591 0.05375056 0.0716858  ... 0.04665933 0.05437516 0.04643083]\n",
      " [0.06565035 0.05718801 0.08206358 ... 0.04963229 0.05822137 0.051691  ]\n",
      " [0.05227155 0.05204597 0.06260221 ... 0.04411275 0.04634208 0.06807274]\n",
      " ...\n",
      " [0.06951994 0.05701282 0.07989406 ... 0.05093386 0.05900729 0.05304349]\n",
      " [0.05073217 0.05485231 0.05378277 ... 0.04760192 0.0461847  0.03821696]\n",
      " [0.05788704 0.0507162  0.06317546 ... 0.0399662  0.04846899 0.04493051]] \n",
      "\n",
      "[stdout:1] \n",
      "SM[ 0 ][ 4 ]= [[0.06847511 0.07097353 0.03970045 ... 0.05752099 0.04267657 0.0668972 ]\n",
      " [0.07487861 0.08324064 0.03985439 ... 0.06336014 0.04781611 0.06866279]\n",
      " [0.05921373 0.06319516 0.03860612 ... 0.05280795 0.04746441 0.05657429]\n",
      " ...\n",
      " [0.07337022 0.08141929 0.04501544 ... 0.06437086 0.04758679 0.07150667]\n",
      " [0.05424045 0.05598563 0.04197506 ... 0.06030926 0.04726073 0.04963261]\n",
      " [0.05990425 0.06294921 0.03835283 ... 0.04903976 0.03910835 0.0537745 ]] \n",
      "\n",
      "SM[ 1 ][ 1 ]= [[0.36926112 0.0649967  0.05946971 ... 0.05562528 0.05763337 0.0664442 ]\n",
      " [0.0649967  0.47480536 0.05546087 ... 0.08562544 0.0595012  0.06006738]\n",
      " [0.05946971 0.05546087 0.2805864  ... 0.04675215 0.06285615 0.06291901]\n",
      " ...\n",
      " [0.05562528 0.08562544 0.04675215 ... 0.35546833 0.05431594 0.04923544]\n",
      " [0.05763337 0.0595012  0.06285615 ... 0.05431594 0.37590516 0.06159119]\n",
      " [0.0664442  0.06006738 0.06291901 ... 0.04923544 0.06159119 0.33837848]] \n",
      "\n",
      "SM[ 1 ][ 2 ]= [[0.06065055 0.04504187 0.05893847 ... 0.04935702 0.06571482 0.05086922]\n",
      " [0.08662393 0.05990349 0.06392962 ... 0.04940382 0.05585309 0.05501573]\n",
      " [0.05087712 0.03815519 0.05841739 ... 0.05099607 0.06001078 0.05180433]\n",
      " ...\n",
      " [0.07938684 0.05457236 0.0579075  ... 0.04808268 0.04795206 0.04951413]\n",
      " [0.0561176  0.04206122 0.07078369 ... 0.05867557 0.05816296 0.06421494]\n",
      " [0.05704206 0.04102859 0.06386387 ... 0.05113714 0.06791098 0.05598462]] \n",
      "\n",
      "SM[ 1 ][ 3 ]= [[0.06076559 0.05101316 0.07101375 ... 0.04624239 0.05517769 0.04884691]\n",
      " [0.0549031  0.05313446 0.06978574 ... 0.04576841 0.05108141 0.07382728]\n",
      " [0.06259604 0.05331544 0.06407956 ... 0.04431207 0.04906652 0.04413897]\n",
      " ...\n",
      " [0.04728409 0.0498804  0.05883738 ... 0.04199276 0.0444258  0.06578285]\n",
      " [0.06396531 0.06344417 0.06392801 ... 0.05056082 0.04909084 0.04948007]\n",
      " [0.06200194 0.05412382 0.07024518 ... 0.05253737 0.0570298  0.04525735]] \n",
      "\n",
      "[stdout:2] \n",
      "SM[ 1 ][ 4 ]= [[0.06705758 0.07192665 0.03988347 ... 0.0543643  0.04315898 0.06187383]\n",
      " [0.06419489 0.06952495 0.03905148 ... 0.05505974 0.04725499 0.05700908]\n",
      " [0.06460997 0.06484586 0.03837329 ... 0.05474404 0.04266483 0.0618501 ]\n",
      " ...\n",
      " [0.05233661 0.05731147 0.0371722  ... 0.05110508 0.04053154 0.04998997]\n",
      " [0.06419932 0.0681013  0.04618461 ... 0.06303542 0.05017369 0.06052201]\n",
      " [0.06958159 0.07216021 0.0417535  ... 0.05785041 0.04603151 0.06383234]] \n",
      "\n",
      "SM[ 2 ][ 2 ]= [[0.47185888 0.05808009 0.06007871 ... 0.04696431 0.05528725 0.05336141]\n",
      " [0.05808009 0.2005066  0.04305244 ... 0.03941801 0.04159726 0.03983217]\n",
      " [0.06007871 0.04305244 0.38251957 ... 0.05816522 0.05941678 0.06260699]\n",
      " ...\n",
      " [0.04696431 0.03941801 0.05816522 ... 0.22813577 0.05348194 0.05646926]\n",
      " [0.05528725 0.04159726 0.05941678 ... 0.05348194 0.34811828 0.05645589]\n",
      " [0.05336141 0.03983217 0.06260699 ... 0.05646926 0.05645589 0.28499125]] \n",
      "\n",
      "SM[ 2 ][ 3 ]= [[0.05361056 0.04969187 0.06321347 ... 0.04257598 0.04639375 0.07628871]\n",
      " [0.04042885 0.03817032 0.04731335 ... 0.0323127  0.03778737 0.05184026]\n",
      " [0.06081794 0.06128248 0.07157888 ... 0.0528828  0.05039753 0.05338696]\n",
      " ...\n",
      " [0.05370509 0.05362942 0.05522447 ... 0.04620089 0.04620602 0.04498745]\n",
      " [0.06397216 0.05190325 0.07202193 ... 0.0471703  0.05716278 0.04634024]\n",
      " [0.05722816 0.0596744  0.0589295  ... 0.04791001 0.04712525 0.04530004]] \n",
      "\n",
      "SM[ 2 ][ 4 ]= [[0.05623877 0.06330495 0.03707432 ... 0.0532004  0.04447162 0.05510562]\n",
      " [0.04307907 0.04490316 0.03052802 ... 0.03773295 0.03303368 0.04051204]\n",
      " [0.06636056 0.06733029 0.04579162 ... 0.06413861 0.05092369 0.06292395]\n",
      " ...\n",
      " [0.0539119  0.05425625 0.03926986 ... 0.0591139  0.04263831 0.04882964]\n",
      " [0.06829232 0.07162076 0.04077879 ... 0.05506733 0.04388068 0.06391158]\n",
      " [0.05954116 0.06013628 0.04272751 ... 0.06163241 0.04991517 0.05431681]] \n",
      "\n",
      "[stdout:3] \n",
      "SM[ 3 ][ 3 ]= [[0.31820183 0.05568807 0.06682493 ... 0.04427414 0.05479535 0.04592672]\n",
      " [0.05568807 0.27833286 0.05543802 ... 0.04981099 0.0445576  0.04195716]\n",
      " [0.06682493 0.05543802 0.39473329 ... 0.04927863 0.05958015 0.05565043]\n",
      " ...\n",
      " [0.04427414 0.04981099 0.04927863 ... 0.22806095 0.03962469 0.03659553]\n",
      " [0.05479535 0.0445576  0.05958015 ... 0.03962469 0.24062358 0.04119818]\n",
      " [0.04592672 0.04195716 0.05565043 ... 0.03659553 0.04119818 0.33295979]] \n",
      "\n",
      "SM[ 3 ][ 4 ]= [[0.06814582 0.07173383 0.04175657 ... 0.05755427 0.04377787 0.06590087]\n",
      " [0.05753912 0.05664569 0.04362856 ... 0.06031119 0.04855638 0.0521648 ]\n",
      " [0.0757417  0.08382838 0.0412269  ... 0.06278606 0.04938605 0.07078979]\n",
      " ...\n",
      " [0.04752666 0.04829972 0.03668782 ... 0.05541113 0.04255601 0.04696498]\n",
      " [0.05650948 0.05814594 0.03474182 ... 0.05006466 0.03841523 0.05284863]\n",
      " [0.04740103 0.05372804 0.03329235 ... 0.04757973 0.03781599 0.0454046 ]] \n",
      "\n",
      "SM[ 4 ][ 4 ]= [[0.36571492 0.07516374 0.04148841 ... 0.06023495 0.04525105 0.06881613]\n",
      " [0.07516374 0.40360028 0.04280699 ... 0.05962865 0.04781425 0.07417937]\n",
      " [0.04148841 0.04280699 0.17391227 ... 0.04442571 0.03522224 0.04122033]\n",
      " ...\n",
      " [0.06023495 0.05962865 0.04442571 ... 0.28514319 0.05104461 0.05835302]\n",
      " [0.04525105 0.04781425 0.03522224 ... 0.05104461 0.21451758 0.04515555]\n",
      " [0.06881613 0.07417937 0.04122033 ... 0.05835302 0.04515555 0.31753523]] \n",
      "\n"
     ]
    }
   ],
   "source": [
    "%%px \n",
    "###from scipy.sparse import csr_matrix #may not use csr as it complicates copy to distributed scalapack and is not used in scalapack apparently\n",
    "import collections\n",
    "for i in range(b):\n",
    "    for j in range(i,b):\n",
    "        if isinstance(SM[i][j], collections.Iterable):\n",
    "            #print(\"Rank:\",rank, \" SM[\",i,\"][\",j,\"]=\",SM[i][j])\n",
    "            print(\"SM[\",i,\"][\",j,\"]=\",SM[i][j],\"\\n\")"
   ]
  },
  {
   "cell_type": "markdown",
   "metadata": {},
   "source": [
    "## Create distributed matrix for scalapack and copy distributed blocks into object\n",
    "### This matrix needs to be dense for use in scalapack functions, so we will copy the symmetric data into both upper and lower triangular sections of the MI matrix"
   ]
  },
  {
   "cell_type": "markdown",
   "metadata": {},
   "source": [
    "## copy lower triangular transpose to upper triangular for diagonal blocks"
   ]
  },
  {
   "cell_type": "code",
   "execution_count": 19,
   "metadata": {},
   "outputs": [],
   "source": [
    "%%px \n",
    "##from scipy.sparse import csr_matrix #may not use csr as it complicates copy to distributed scalapack and is not used in scalapack apparently\n",
    "import collections\n",
    "for i in range(b):\n",
    "    for j in range(i,b):\n",
    "        if isinstance(SM[i][j], collections.Iterable):\n",
    "            if i==j: #copy lower triangular transpose to upper triangular \n",
    "                for ii in range(SM[i][j].shape[0]):\n",
    "                    for jj in range(ii+1,SM[i][j].shape[1]):\n",
    "                        (SM[i][j])[ii,jj]=(SM[i][j])[jj,ii]\n",
    "                #print(\"Rank:\",rank, \" SM[\",i,\"][\",j,\"]=\",SM[i][j])"
   ]
  },
  {
   "cell_type": "markdown",
   "metadata": {},
   "source": [
    "## Populate a global array with all of the MI data from each rank\n",
    "\n",
    "Preferably, we would like each rank to contribute of their block MI matrices to the global matrix,\n",
    "but currently the distributed global matrix has to be constructed from a global (not distributed) array"
   ]
  },
  {
   "cell_type": "code",
   "execution_count": 20,
   "metadata": {},
   "outputs": [],
   "source": [
    "#copy SM data into global distributed matrix and then write to file?\n",
    "\n",
    "#then we can read that file into the Scalapack block cyclic matrix form"
   ]
  },
  {
   "cell_type": "code",
   "execution_count": 21,
   "metadata": {},
   "outputs": [
    {
     "name": "stdout",
     "output_type": "stream",
     "text": [
      "[stdout:0] PR= 2 PC= 2\n"
     ]
    }
   ],
   "source": [
    "%%px\n",
    "#test to distribute matrix from local blocks rather than global array\n",
    "from scalapy import blacs\n",
    "import os\n",
    "import numpy as np\n",
    "import scipy.linalg as la\n",
    "from mpi4py import MPI\n",
    "from scalapy import core\n",
    "import scalapy.routines as rt\n",
    "\n",
    "#distribute MI components to ranks as scalapack distributed matrix\n",
    "comm = MPI.COMM_WORLD\n",
    "rank = comm.rank\n",
    "size = comm.size #total number of ranks\n",
    "\n",
    "global_num_rows =g_nrows\n",
    "global_num_cols =g_nrows\n",
    "local_num_rows =g_nrows/b\n",
    "\n",
    "block_size=64 #default is 32\n",
    "\n",
    "#Define process grid with process rows and process cols\n",
    "#We'll use a 2d process grid to distribute blocks so we want to have num_ranks divisible by 2\n",
    "assert((size % 2)==0)\n",
    "#ideally we would like BR and BC to the square root of the num_ranks to get a square process matrix\n",
    "PR=int(np.sqrt(size))\n",
    "PC=PR\n",
    "\n",
    "#if we can't create a square matrix, get next best dimensions\n",
    "if PR*PR!=size:\n",
    "    PC=size//PR\n",
    "if rank==0:\n",
    "    print(\"PR=\",PR, \"PC=\",PC)\n",
    "\n",
    "#sets default context and block_shape\n",
    "core.initmpi([PR, PC],block_shape=[block_size,block_size])\n",
    "#convert to fortran array indexing to match scalapack functions\n",
    "#create global matrix from array on rank0\n",
    "dMI=core.DistributedMatrix(global_shape=[g_nrows,g_nrows],dtype=np.float64)\n"
   ]
  },
  {
   "cell_type": "code",
   "execution_count": 22,
   "metadata": {},
   "outputs": [],
   "source": [
    "%%px\n",
    "#get global indices for diagonal\n",
    "gi, lri, lci = dMI.local_diagonal_indices()"
   ]
  },
  {
   "cell_type": "code",
   "execution_count": 24,
   "metadata": {},
   "outputs": [],
   "source": [
    "#%%px\n",
    "#if rank==0: \n",
    "#    print ('rank %d has global_shape of dMI = %s' % (rank, dMI.global_shape))\n",
    "#print ('rank %d has local_shape of dMI = %s' % (rank, dMI.local_shape))\n",
    "#print ('rank %d has block_shape of dMI = %s' % (rank, dMI.block_shape))\n",
    "#print(dMI.local_array[lri,lci])\n",
    "#print(dMI.local_array)"
   ]
  },
  {
   "cell_type": "code",
   "execution_count": 25,
   "metadata": {},
   "outputs": [],
   "source": [
    "#%%px\n",
    "#blocksize=slice_size\n",
    "#testrank=3\n",
    "#testmat=np.zeros(shape=(4,4))\n",
    "#if comm.rank==testrank:\n",
    "#    testmat=SM[3][3]\n",
    "#    #testmat=np.zeros(shape=(500,500))\n",
    "#    s_block_shape=np.shape(testmat)\n",
    "#else:\n",
    "#    testmat=np.zeros(shape=(4,4))\n",
    "#    s_block_shape=np.shape(testmat)\n",
    "\n",
    "#s_block_shape = comm.bcast(s_block_shape, root=testrank)   \n",
    "#copy_from_np(dMI2, testmat, asrow=0, anrow=None, ascol=0, ancol=None, srow=0, scol=0, block_shape=s_block_shape, rank=testrank) #all ranks works\n"
   ]
  },
  {
   "cell_type": "markdown",
   "metadata": {},
   "source": [
    "## Copy each SM block submatrix to distributed block cyclic matrix"
   ]
  },
  {
   "cell_type": "code",
   "execution_count": 26,
   "metadata": {},
   "outputs": [],
   "source": [
    "%%px\n",
    "blocksize=slice_size\n",
    "n_jobs_per_rank= (int((b * (b + 1)) / 2))/comm.Get_size()\n",
    "import collections\n",
    "for i in range(b):\n",
    "    for j in range(i,b): # j in range [i,b]\n",
    "        idx = int(i * b + j - (i * (i + 1)) / 2)\n",
    "        srank = idx//n_jobs_per_rank\n",
    "        lA=np.zeros(shape=(2,2))\n",
    "        s_block_shape=np.shape(lA)\n",
    "        if isinstance(SM[i][j], collections.Iterable):\n",
    "            lA=SM[i][j]\n",
    "            s_block_shape=np.shape(lA)\n",
    "            #print(\"copy SM[\",i,j,\"] shape: \",s_block_shape)\n",
    "        #broadcast sending ranks block shape to all\n",
    "        s_block_shape = comm.bcast(s_block_shape, root=srank)   \n",
    "        dMI.np2self(lA, srow=i*blocksize, scol=j*blocksize, block_shape=s_block_shape, rank=srank )      "
   ]
  },
  {
   "cell_type": "code",
   "execution_count": 28,
   "metadata": {},
   "outputs": [
    {
     "name": "stdout",
     "output_type": "stream",
     "text": [
      "[stdout:0] \n",
      "rank 0 has global_shape of dMI = (2496, 2496)\n",
      "rank 0 has local_shape of dMI = (1280, 1280)\n",
      "rank 0 has block_shape of dMI = (64, 64)\n",
      "[[0.33805914 0.066332   0.05676848 ... 0.05752099 0.04267657 0.0668972 ]\n",
      " [0.066332   0.45212405 0.06047588 ... 0.06336014 0.04781611 0.06866279]\n",
      " [0.05676848 0.06047588 0.39173321 ... 0.05280795 0.04746441 0.05657429]\n",
      " ...\n",
      " [0.         0.         0.         ... 0.28514319 0.05104461 0.05835302]\n",
      " [0.         0.         0.         ... 0.05104461 0.21451758 0.04515555]\n",
      " [0.         0.         0.         ... 0.05835302 0.04515555 0.31753523]]\n",
      "[stdout:1] \n",
      "rank 1 has local_shape of dMI = (1280, 1216)\n",
      "rank 1 has block_shape of dMI = (64, 64)\n",
      "[[0.04636978 0.05072926 0.05500222 ... 0.05035315 0.06835701 0.06148071]\n",
      " [0.05683409 0.05903542 0.05992358 ... 0.06264001 0.07618326 0.06856185]\n",
      " [0.04752714 0.04735661 0.05504157 ... 0.07159437 0.06133829 0.05748736]\n",
      " ...\n",
      " [0.         0.         0.         ... 0.0493155  0.05951592 0.05640946]\n",
      " [0.         0.         0.         ... 0.04050844 0.04859252 0.0417306 ]\n",
      " [0.         0.         0.         ... 0.05157533 0.07009173 0.06224821]]\n",
      "[stdout:2] \n",
      "rank 2 has local_shape of dMI = (1216, 1280)\n",
      "rank 2 has block_shape of dMI = (64, 64)\n",
      "[[0.04636978 0.05683409 0.04752714 ... 0.04205094 0.0368094  0.04546185]\n",
      " [0.05072926 0.05903542 0.04735661 ... 0.0458999  0.03827015 0.04896738]\n",
      " [0.05500222 0.05992358 0.05504157 ... 0.04639795 0.03748397 0.05036232]\n",
      " ...\n",
      " [0.         0.         0.         ... 0.0493155  0.04050844 0.05157533]\n",
      " [0.         0.         0.         ... 0.05951592 0.04859252 0.07009173]\n",
      " [0.         0.         0.         ... 0.05640946 0.0417306  0.06224821]]\n",
      "[stdout:3] \n",
      "rank 3 has local_shape of dMI = (1216, 1216)\n",
      "rank 3 has block_shape of dMI = (64, 64)\n",
      "[[0.35717489 0.04458413 0.0649855  ... 0.04528153 0.05382182 0.05145039]\n",
      " [0.04458413 0.2980473  0.04995458 ... 0.04585446 0.05437559 0.0483851 ]\n",
      " [0.0649855  0.04995458 0.3907872  ... 0.04991302 0.05633744 0.0502936 ]\n",
      " ...\n",
      " [0.         0.         0.         ... 0.3529249  0.05757312 0.05081421]\n",
      " [0.         0.         0.         ... 0.05757312 0.38132678 0.06493108]\n",
      " [0.         0.         0.         ... 0.05081421 0.06493108 0.32226236]]\n"
     ]
    }
   ],
   "source": [
    "%%px\n",
    "if rank==0: \n",
    "    print ('rank %d has global_shape of dMI = %s' % (rank, dMI.global_shape))\n",
    "print ('rank %d has local_shape of dMI = %s' % (rank, dMI.local_shape))\n",
    "print ('rank %d has block_shape of dMI = %s' % (rank, dMI.block_shape))\n",
    "print(dMI.local_array)\n",
    "#print(dMI.local_array[lri,lci])"
   ]
  },
  {
   "cell_type": "markdown",
   "metadata": {},
   "source": [
    "## copy transpose of blocks to fill upper triangular distributed matrix"
   ]
  },
  {
   "cell_type": "code",
   "execution_count": 29,
   "metadata": {},
   "outputs": [],
   "source": [
    "%%px\n",
    "blocksize=slice_size\n",
    "n_jobs_per_rank= (int((b * (b + 1)) / 2))/comm.Get_size()\n",
    "import collections\n",
    "\n",
    "for i in range(b):\n",
    "    for j in range(i+1,b): # j in range [i,b]\n",
    "        idx = int(i * b + j - (i * (i + 1)) / 2)\n",
    "        srank = idx//n_jobs_per_rank\n",
    "        lA=np.zeros(shape=(2,2))\n",
    "        s_block_shape=np.shape(lA)\n",
    "        if isinstance(SM[i][j], collections.Iterable):\n",
    "            lA=np.transpose(SM[i][j])\n",
    "            s_block_shape=np.shape(lA)\n",
    "            #print(\"copy SM[\",j,i,\"] shape: \",s_block_shape)\n",
    "        #broadcast sending ranks block shape to all\n",
    "        s_block_shape = comm.bcast(s_block_shape, root=srank)   \n",
    "        dMI.np2self(lA, srow=j*blocksize, scol=i*blocksize, block_shape=s_block_shape, rank=srank )      "
   ]
  },
  {
   "cell_type": "code",
   "execution_count": null,
   "metadata": {},
   "outputs": [],
   "source": [
    "## need to also fill in empty symmetric upper triangular portion"
   ]
  },
  {
   "cell_type": "code",
   "execution_count": null,
   "metadata": {},
   "outputs": [],
   "source": [
    "# Even though this is a symmetric matrix, for further processing, we need to copy block data to rest of matrix"
   ]
  },
  {
   "cell_type": "code",
   "execution_count": 30,
   "metadata": {},
   "outputs": [
    {
     "name": "stdout",
     "output_type": "stream",
     "text": [
      "[stdout:0] \n",
      "rank 0 has global_shape of dMI = (2496, 2496)\n",
      "rank 0 has local_shape of dMI = (1280, 1280)\n",
      "rank 0 has block_shape of dMI = (64, 64)\n",
      "[[0.33805914 0.066332   0.05676848 ... 0.05752099 0.04267657 0.0668972 ]\n",
      " [0.066332   0.45212405 0.06047588 ... 0.06336014 0.04781611 0.06866279]\n",
      " [0.05676848 0.06047588 0.39173321 ... 0.05280795 0.04746441 0.05657429]\n",
      " ...\n",
      " [0.05752099 0.06336014 0.05280795 ... 0.28514319 0.05104461 0.05835302]\n",
      " [0.04267657 0.04781611 0.04746441 ... 0.05104461 0.21451758 0.04515555]\n",
      " [0.0668972  0.06866279 0.05657429 ... 0.05835302 0.04515555 0.31753523]]\n",
      "[stdout:1] \n",
      "rank 1 has local_shape of dMI = (1280, 1216)\n",
      "rank 1 has block_shape of dMI = (64, 64)\n",
      "[[0.04636978 0.05072926 0.05500222 ... 0.05035315 0.06835701 0.06148071]\n",
      " [0.05683409 0.05903542 0.05992358 ... 0.06264001 0.07618326 0.06856185]\n",
      " [0.04752714 0.04735661 0.05504157 ... 0.07159437 0.06133829 0.05748736]\n",
      " ...\n",
      " [0.04205094 0.0458999  0.04639795 ... 0.0493155  0.05951592 0.05640946]\n",
      " [0.0368094  0.03827015 0.03748397 ... 0.04050844 0.04859252 0.0417306 ]\n",
      " [0.04546185 0.04896738 0.05036232 ... 0.05157533 0.07009173 0.06224821]]\n",
      "[stdout:2] \n",
      "rank 2 has local_shape of dMI = (1216, 1280)\n",
      "rank 2 has block_shape of dMI = (64, 64)\n",
      "[[0.04636978 0.05683409 0.04752714 ... 0.04205094 0.0368094  0.04546185]\n",
      " [0.05072926 0.05903542 0.04735661 ... 0.0458999  0.03827015 0.04896738]\n",
      " [0.05500222 0.05992358 0.05504157 ... 0.04639795 0.03748397 0.05036232]\n",
      " ...\n",
      " [0.05035315 0.06264001 0.07159437 ... 0.0493155  0.04050844 0.05157533]\n",
      " [0.06835701 0.07618326 0.06133829 ... 0.05951592 0.04859252 0.07009173]\n",
      " [0.06148071 0.06856185 0.05748736 ... 0.05640946 0.0417306  0.06224821]]\n",
      "[stdout:3] \n",
      "rank 3 has local_shape of dMI = (1216, 1216)\n",
      "rank 3 has block_shape of dMI = (64, 64)\n",
      "[[0.35717489 0.04458413 0.0649855  ... 0.04528153 0.05382182 0.05145039]\n",
      " [0.04458413 0.2980473  0.04995458 ... 0.04585446 0.05437559 0.0483851 ]\n",
      " [0.0649855  0.04995458 0.3907872  ... 0.04991302 0.05633744 0.0502936 ]\n",
      " ...\n",
      " [0.04528153 0.04585446 0.04991302 ... 0.3529249  0.05757312 0.05081421]\n",
      " [0.05382182 0.05437559 0.05633744 ... 0.05757312 0.38132678 0.06493108]\n",
      " [0.05145039 0.0483851  0.0502936  ... 0.05081421 0.06493108 0.32226236]]\n"
     ]
    }
   ],
   "source": [
    "%%px\n",
    "if rank==0: \n",
    "    print ('rank %d has global_shape of dMI = %s' % (rank, dMI.global_shape))\n",
    "print ('rank %d has local_shape of dMI = %s' % (rank, dMI.local_shape))\n",
    "print ('rank %d has block_shape of dMI = %s' % (rank, dMI.block_shape))\n",
    "#print(dMI.local_array[0:20,0:20])\n",
    "print(dMI.local_array)"
   ]
  },
  {
   "cell_type": "code",
   "execution_count": 31,
   "metadata": {},
   "outputs": [],
   "source": [
    "#redistribute for "
   ]
  },
  {
   "cell_type": "code",
   "execution_count": null,
   "metadata": {},
   "outputs": [],
   "source": []
  },
  {
   "cell_type": "code",
   "execution_count": 32,
   "metadata": {},
   "outputs": [],
   "source": [
    "#%%px\n",
    "###lr=[range(4)]\n",
    "###lc=[range(4)]\n",
    "####Check to see of data was transferred to rank 0\n",
    "#if rank==0:\n",
    "#    for i in range(b):\n",
    "#            for j in range(i,b): # j in range [i,b]\n",
    "#                #print(\"SM[\",i,j,\"] \",np.shape(SM[i][i]))\n",
    "#                print(\"SM[\",i,j,\"] \",SM[i][j])\n",
    "##                print( (SM[i][j])[lr,lc] )   "
   ]
  },
  {
   "cell_type": "code",
   "execution_count": 33,
   "metadata": {},
   "outputs": [],
   "source": [
    "#%%px\n",
    "#from inspect import getmembers, isfunction, ismodule\n",
    "#if rank == 0:\n",
    "#    print([o[0] for o in getmembers(scalapy) if ismodule(o[1])])"
   ]
  },
  {
   "cell_type": "code",
   "execution_count": 34,
   "metadata": {},
   "outputs": [],
   "source": [
    "#%%px\n",
    "#from inspect import getmembers, isfunction, ismodule\n",
    "#import scalapy\n",
    "#if rank==0:\n",
    "#    print(getmembers(scalapy.blacs, isfunction))\n",
    "#    #print(getmembers(scalapy.routines, isfunction))"
   ]
  },
  {
   "cell_type": "code",
   "execution_count": 35,
   "metadata": {},
   "outputs": [],
   "source": [
    "#%%px\n",
    "#total number of global blocks = total number of block comparisons\n",
    "#Should be greater than number of ranks to improve load balancing\n",
    "# b is number of slices (blocks of rows) original data has been discretized into.\n",
    "#The size of these blocks can be variable\n",
    "#global_number_of_matrix_blocks= int((b * (b + 1)) / 2) \n",
    "\n",
    "#We'll use a 2d process grid to distribute blocks so we want to have num_ranks divisivle by 2"
   ]
  },
  {
   "cell_type": "code",
   "execution_count": 36,
   "metadata": {},
   "outputs": [],
   "source": [
    "#bcast SM[i][j] from each rank to root rank 0 so that we can load global matrix array\n"
   ]
  },
  {
   "cell_type": "markdown",
   "metadata": {},
   "source": [
    "## Copy distributed MI matrix to file\n",
    "### So we can read this in to Scalapack later on"
   ]
  },
  {
   "cell_type": "code",
   "execution_count": 37,
   "metadata": {},
   "outputs": [],
   "source": [
    "%%px\n",
    "#Write MI matrix to file\n",
    "mi_filename = data_file_path+project_name+'_mi_distributed.scalapack'\n",
    "dMI.to_file(mi_filename)"
   ]
  },
  {
   "cell_type": "markdown",
   "metadata": {},
   "source": [
    "## The following code snippet reads MI matrix from a file and loads it into a distributed Scalapack matrix"
   ]
  },
  {
   "cell_type": "code",
   "execution_count": 38,
   "metadata": {},
   "outputs": [],
   "source": [
    "#%%px\n",
    "#Read MI matrix from file\n",
    "#mi_filename = data_file_path+project_name+'_mi_distributed.scalapack'\n",
    "#dMI.from_file(mi_filename, global_shape=[g_nrows,g_nrows], dtype=np.float64, block_shape=[block_size,block_size])"
   ]
  },
  {
   "cell_type": "code",
   "execution_count": null,
   "metadata": {},
   "outputs": [],
   "source": []
  },
  {
   "cell_type": "code",
   "execution_count": 39,
   "metadata": {},
   "outputs": [],
   "source": [
    "#%%px\n",
    "#if rank==0: \n",
    "#    print ('rank %d has global_shape of dMI = %s' % (rank, dMI2.global_shape))\n",
    "#print ('rank %d has local_shape of dMI = %s' % (rank, dMI2.local_shape))\n",
    "#print ('rank %d has block_shape of dMI = %s' % (rank, dMI2.block_shape))\n",
    "#print(dMI2.local_array)"
   ]
  },
  {
   "cell_type": "markdown",
   "metadata": {},
   "source": [
    "## Now we need to create a matrix with the diagonal as the first column"
   ]
  },
  {
   "cell_type": "code",
   "execution_count": 40,
   "metadata": {},
   "outputs": [],
   "source": [
    "%%px\n",
    "#get global indices for diagonal\n",
    "gi, lri, lci = dMI.local_diagonal_indices()"
   ]
  },
  {
   "cell_type": "code",
   "execution_count": 41,
   "metadata": {},
   "outputs": [],
   "source": [
    "%%px\n",
    "#create matrix to store diagonal row\n",
    "dMI_diag=core.DistributedMatrix.empty_like(dMI)\n",
    "dMI_row1=core.DistributedMatrix.empty_like(dMI)"
   ]
  },
  {
   "cell_type": "code",
   "execution_count": 42,
   "metadata": {},
   "outputs": [],
   "source": [
    "%%px\n",
    "dgi, dlri, dlci = dMI_diag.local_diagonal_indices()"
   ]
  },
  {
   "cell_type": "code",
   "execution_count": 43,
   "metadata": {},
   "outputs": [],
   "source": [
    "%%px\n",
    "dMI_diag.local_array[dlri,dlci]=dMI.local_array[lri,lci]\n",
    "#dMI_diag.local_array[0,dlci]=dMI.local_array[lri,lci]\n",
    "#my_diag[comm.rank]=dMI.local_array[lri,lci]"
   ]
  },
  {
   "cell_type": "code",
   "execution_count": 44,
   "metadata": {},
   "outputs": [],
   "source": [
    "#%%px\n",
    "#print(dMI_diag.local_array)"
   ]
  },
  {
   "cell_type": "code",
   "execution_count": 45,
   "metadata": {},
   "outputs": [],
   "source": [
    "%%px\n",
    "ri, ci = dMI_row1.indices()\n",
    "dMI_row1.local_array[:]= ((ri==0).astype(int)).astype(float)\n",
    "#print(dMI_row1.local_array)"
   ]
  },
  {
   "cell_type": "code",
   "execution_count": 46,
   "metadata": {},
   "outputs": [],
   "source": [
    "%%px\n",
    "#dMI_norm = rt.dot(dMI_diag,dMI_row1,transA='T')\n",
    "dMI_norm = rt.dot(dMI_row1,dMI_diag)\n",
    "\n",
    "#dMI_norm = dMI_diag.dot(dMI_row1)"
   ]
  },
  {
   "cell_type": "code",
   "execution_count": 47,
   "metadata": {},
   "outputs": [],
   "source": [
    "#%%px\n",
    "####print(dMI_norm.local_array)"
   ]
  },
  {
   "cell_type": "code",
   "execution_count": 48,
   "metadata": {},
   "outputs": [],
   "source": [
    "%%px\n",
    "import scalapy.routines as rt\n",
    "#dMI_norm=dMI_diag.T*dMI_diag\n",
    "dMI_norm2 = rt.dot(dMI_norm,dMI_norm,transA='T')"
   ]
  },
  {
   "cell_type": "code",
   "execution_count": 49,
   "metadata": {},
   "outputs": [],
   "source": [
    "#%%px\n",
    "#print(dMI_norm2.local_array)"
   ]
  },
  {
   "cell_type": "code",
   "execution_count": 50,
   "metadata": {},
   "outputs": [],
   "source": [
    "#%%px\n",
    "#if rank==0: \n",
    "#    print ('rank %d has global_shape of dMI_diag = %s' % (rank, dMI_diag.global_shape))\n",
    "#print ('rank %d has local_shape of dMI_diag = %s' % (rank, dMI_diag.local_shape))\n",
    "#print ('rank %d has block_shape of dMI_diag = %s' % (rank, dMI_diag.block_shape))\n",
    "#print(dMI_diag.local_array)"
   ]
  },
  {
   "cell_type": "code",
   "execution_count": 51,
   "metadata": {},
   "outputs": [],
   "source": [
    "#%%px\n",
    "#blocksize=slice_size\n",
    "#n_jobs_per_rank= (int((b * (b + 1)) / 2))/comm.Get_size()\n",
    "#import collections\n",
    "#for i in range(b):\n",
    "#    #for j in range(i+1,b): # j in range [i,b]\n",
    "#    #idx = int(i * b + j - (i * (i + 1)) / 2)\n",
    "#    #srank = idx//n_jobs_per_rank\n",
    "#    lA=\n",
    "#    s_block_shape=np.shape(lA)\n",
    "#    if isinstance(SM[i][j], collections.Iterable):\n",
    "#        lA=local_diag\n",
    "#        s_block_shape=np.shape(lA)\n",
    "#    #broadcast sending ranks block shape to all\n",
    "#    s_block_shape = comm.bcast(s_block_shape, root=srank)   \n",
    "#    dMI_diag.np2self(lA, srow=i*blocksize, scol=0, block_shape=s_block_shape, rank=srank )  "
   ]
  },
  {
   "cell_type": "code",
   "execution_count": 52,
   "metadata": {},
   "outputs": [],
   "source": [
    "#%%px\n",
    "##Array must be 2D for this to work\n",
    "##convert to fortran array indexing to match scalapack functions\n",
    "#global_diag=np.asfortranarray(global_diag)\n",
    "##create global matrix from array on rank0\n",
    "#dMI_diag=core.DistributedMatrix.from_global_array(global_diag,rank=0)"
   ]
  },
  {
   "cell_type": "code",
   "execution_count": 53,
   "metadata": {},
   "outputs": [],
   "source": [
    "#%%px\n",
    "#if rank==0: \n",
    "#    print ('rank %d has global_shape of dMI_diag = %s' % (rank, dMI_diag.global_shape))\n",
    "#print ('rank %d has local_shape of dMI_diag = %s' % (rank, dMI_diag.local_shape))\n",
    "#print ('rank %d has block_shape of dMI_diag = %s' % (rank, dMI_diag.block_shape))\n",
    "##print(dMI_diag.local_array)"
   ]
  },
  {
   "cell_type": "code",
   "execution_count": 54,
   "metadata": {},
   "outputs": [],
   "source": [
    "#%%px\n",
    "#dMI_diag_T=dMI_diag.T\n",
    "#if rank==0: \n",
    "#    print ('rank %d has global_shape of dMI_diag = %s' % (rank, dMI_diag_T.global_shape))\n",
    "#print ('rank %d has local_shape of dMI_diag = %s' % (rank, dMI_diag_T.local_shape))\n",
    "#print ('rank %d has block_shape of dMI_diag = %s' % (rank, dMI_diag_T.block_shape))\n",
    "#\n",
    "#print(dMI_diag_T.local_array)"
   ]
  },
  {
   "cell_type": "markdown",
   "metadata": {},
   "source": [
    "## Use scalapack to compute distributed GEMM"
   ]
  },
  {
   "cell_type": "code",
   "execution_count": 55,
   "metadata": {},
   "outputs": [],
   "source": [
    "#%%px\n",
    "#import scalapy.routines as rt\n",
    "##dMI_norm=dMI_diag.T*dMI_diag\n",
    "#dMI_norm = rt.dot(dMI_diag,dMI_diag,transA='T')\n"
   ]
  },
  {
   "cell_type": "code",
   "execution_count": 56,
   "metadata": {},
   "outputs": [],
   "source": [
    "#%%px\n",
    "#if rank==0: \n",
    "#    print ('rank %d has global_shape of dMI_diag = %s' % (rank, dMI_norm2.global_shape))\n",
    "#print ('rank %d has local_shape of dMI_diag = %s' % (rank, dMI_norm2.local_shape))\n",
    "#print ('rank %d has block_shape of dMI_diag = %s' % (rank, dMI_norm2.block_shape))\n",
    "#print(dMI_norm2.local_array)"
   ]
  },
  {
   "cell_type": "code",
   "execution_count": 57,
   "metadata": {},
   "outputs": [],
   "source": [
    "%%px\n",
    "#compute sqrt of each element\n",
    "dMI_norm_square=core.DistributedMatrix.empty_like(dMI)\n",
    "dMI_norm_square.local_array[:] = np.sqrt(dMI_norm2.local_array[:])"
   ]
  },
  {
   "cell_type": "code",
   "execution_count": 58,
   "metadata": {},
   "outputs": [
    {
     "name": "stdout",
     "output_type": "stream",
     "text": [
      "[stdout:0] \n",
      "rank 0 has global_shape of dMI_diag = (2496, 2496)\n",
      "rank 0 has local_shape of dMI_diag = (1280, 1280)\n",
      "rank 0 has block_shape of dMI_diag = (64, 64)\n",
      "[[0.33805914 0.39095354 0.36390795 ... 0.31047587 0.26929469 0.32763652]\n",
      " [0.39095354 0.45212405 0.42084677 ... 0.35905445 0.31142986 0.37890014]\n",
      " [0.36390795 0.42084677 0.39173321 ... 0.33421559 0.2898856  0.35268839]\n",
      " ...\n",
      " [0.31047587 0.35905445 0.33421559 ... 0.28514319 0.24732211 0.30090366]\n",
      " [0.26929469 0.31142986 0.2898856  ... 0.24732211 0.21451758 0.26099213]\n",
      " [0.32763652 0.37890014 0.35268839 ... 0.30090366 0.26099213 0.31753523]]\n",
      "[stdout:1] \n",
      "rank 1 has local_shape of dMI_diag = (1280, 1216)\n",
      "rank 1 has block_shape of dMI_diag = (64, 64)\n",
      "[[0.34748559 0.3174234  0.36346827 ... 0.34541206 0.35904179 0.33006626]\n",
      " [0.4018549  0.36708902 0.42033831 ... 0.39945692 0.41521923 0.38171005]\n",
      " [0.37405517 0.34169434 0.39125992 ... 0.37182308 0.38649497 0.35530391]\n",
      " ...\n",
      " [0.31913318 0.29152385 0.33381179 ... 0.31722883 0.32974647 0.30313515]\n",
      " [0.27680371 0.25285645 0.28953536 ... 0.27515195 0.28600926 0.26292763]\n",
      " [0.33677234 0.30763699 0.35226227 ... 0.33476274 0.34797225 0.31989006]]\n",
      "[stdout:2] \n",
      "rank 2 has local_shape of dMI_diag = (1216, 1280)\n",
      "rank 2 has block_shape of dMI_diag = (64, 64)\n",
      "[[0.34748559 0.4018549  0.37405517 ... 0.31913318 0.27680371 0.33677234]\n",
      " [0.3174234  0.36708902 0.34169434 ... 0.29152385 0.25285645 0.30763699]\n",
      " [0.36346827 0.42033831 0.39125992 ... 0.33381179 0.28953536 0.35226227]\n",
      " ...\n",
      " [0.34541206 0.39945692 0.37182308 ... 0.31722883 0.27515195 0.33476274]\n",
      " [0.35904179 0.41521923 0.38649497 ... 0.32974647 0.28600926 0.34797225]\n",
      " [0.33006626 0.38171005 0.35530391 ... 0.30313515 0.26292763 0.31989006]]\n",
      "[stdout:3] \n",
      "rank 3 has local_shape of dMI_diag = (1216, 1216)\n",
      "rank 3 has block_shape of dMI_diag = (64, 64)\n",
      "[[0.35717489 0.32627444 0.37360323 ... 0.35504353 0.36905332 0.33926984]\n",
      " [0.32627444 0.2980473  0.34128151 ... 0.32432747 0.33712522 0.30991842]\n",
      " [0.37360323 0.34128151 0.3907872  ... 0.37137384 0.38602801 0.35487463]\n",
      " ...\n",
      " [0.35504353 0.32432747 0.37137384 ... 0.3529249  0.36685108 0.33724533]\n",
      " [0.36905332 0.33712522 0.38602801 ... 0.36685108 0.38132678 0.3505528 ]\n",
      " [0.33926984 0.30991842 0.35487463 ... 0.33724533 0.3505528  0.32226236]]\n"
     ]
    }
   ],
   "source": [
    "#%%px\n",
    "#if rank==0: \n",
    "#    print ('rank %d has global_shape of dMI_diag = %s' % (rank, dMI_norm_square.global_shape))\n",
    "#print ('rank %d has local_shape of dMI_diag = %s' % (rank, dMI_norm_square.local_shape))\n",
    "#print ('rank %d has block_shape of dMI_diag = %s' % (rank, dMI_norm_square.block_shape))\n",
    "#print(dMI_norm_square.local_array)"
   ]
  },
  {
   "cell_type": "code",
   "execution_count": 59,
   "metadata": {},
   "outputs": [],
   "source": [
    "%%px\n",
    "dMI_normed=core.DistributedMatrix.empty_like(dMI)\n",
    "dMI_normed.local_array[:] = dMI.local_array[:] / dMI_norm_square.local_array[:]"
   ]
  },
  {
   "cell_type": "code",
   "execution_count": 61,
   "metadata": {},
   "outputs": [
    {
     "name": "stdout",
     "output_type": "stream",
     "text": [
      "[stdout:0] \n",
      "rank 0 has global_shape of dMI_diag = (2496, 2496)\n",
      "rank 0 has local_shape of dMI_diag = (1280, 1280)\n",
      "rank 0 has block_shape of dMI_diag = (64, 64)\n",
      "[[1.         0.16966721 0.15599682 ... 0.18526718 0.15847534 0.20418114]\n",
      " [0.16966721 1.         0.14370048 ... 0.17646388 0.15353732 0.18121605]\n",
      " [0.15599682 0.14370048 1.         ... 0.15800564 0.16373497 0.16040872]\n",
      " ...\n",
      " [0.18526718 0.17646388 0.15800564 ... 1.         0.2063892  0.19392593]\n",
      " [0.15847534 0.15353732 0.16373497 ... 0.2063892  1.         0.17301498]\n",
      " [0.20418114 0.18121605 0.16040872 ... 0.19392593 0.17301498 1.        ]]\n",
      "[stdout:1] \n",
      "rank 1 has local_shape of dMI_diag = (1280, 1216)\n",
      "rank 1 has block_shape of dMI_diag = (64, 64)\n",
      "[[0.13344376 0.15981576 0.15132607 ... 0.14577705 0.19038733 0.18626778]\n",
      " [0.14142939 0.16082045 0.14256036 ... 0.15681292 0.1834772  0.17961762]\n",
      " [0.12705919 0.13859349 0.14067777 ... 0.19254956 0.15870398 0.16179771]\n",
      " ...\n",
      " [0.13176611 0.15744818 0.13899435 ... 0.15545719 0.18048995 0.18608682]\n",
      " [0.13298016 0.1513513  0.12946251 ... 0.14722209 0.16989842 0.15871516]\n",
      " [0.13499283 0.15917259 0.14296825 ... 0.15406532 0.20142909 0.19459249]]\n",
      "[stdout:2] \n",
      "rank 2 has local_shape of dMI_diag = (1216, 1280)\n",
      "rank 2 has block_shape of dMI_diag = (64, 64)\n",
      "[[0.13344376 0.14142939 0.12705919 ... 0.13176611 0.13298016 0.13499283]\n",
      " [0.15981576 0.16082045 0.13859349 ... 0.15744818 0.1513513  0.15917259]\n",
      " [0.15132607 0.14256036 0.14067777 ... 0.13899435 0.12946251 0.14296825]\n",
      " ...\n",
      " [0.14577705 0.15681292 0.19254956 ... 0.15545719 0.14722209 0.15406532]\n",
      " [0.19038733 0.1834772  0.15870398 ... 0.18048995 0.16989842 0.20142909]\n",
      " [0.18626778 0.17961762 0.16179771 ... 0.18608682 0.15871516 0.19459249]]\n",
      "[stdout:3] \n",
      "rank 3 has local_shape of dMI_diag = (1216, 1216)\n",
      "rank 3 has block_shape of dMI_diag = (64, 64)\n",
      "[[1.         0.13664611 0.17394256 ... 0.12753795 0.14583751 0.15165035]\n",
      " [0.13664611 1.         0.14637354 ... 0.14138322 0.16129197 0.15612205]\n",
      " [0.17394256 0.14637354 1.         ... 0.134401   0.14594133 0.14172217]\n",
      " ...\n",
      " [0.12753795 0.14138322 0.134401   ... 1.         0.15693867 0.15067431]\n",
      " [0.14583751 0.16129197 0.14594133 ... 0.15693867 1.         0.18522482]\n",
      " [0.15165035 0.15612205 0.14172217 ... 0.15067431 0.18522482 1.        ]]\n"
     ]
    }
   ],
   "source": [
    "%%px\n",
    "if rank==0: \n",
    "    print ('rank %d has global_shape of dMI_diag = %s' % (rank, dMI_normed.global_shape))\n",
    "print ('rank %d has local_shape of dMI_diag = %s' % (rank, dMI_normed.local_shape))\n",
    "print ('rank %d has block_shape of dMI_diag = %s' % (rank, dMI_normed.block_shape))\n",
    "print(dMI_normed.local_array)"
   ]
  },
  {
   "cell_type": "code",
   "execution_count": 60,
   "metadata": {},
   "outputs": [],
   "source": [
    "%%px\n",
    "mi_normed_filename = data_file_path+project_name+'_mi_normed_distributed.scalapack'\n",
    "dMI_normed.to_file(mi_normed_filename)"
   ]
  },
  {
   "cell_type": "markdown",
   "metadata": {},
   "source": [
    "## Now compute eigenvalues and eigenvectors of dissimmilarity matrix"
   ]
  },
  {
   "cell_type": "code",
   "execution_count": null,
   "metadata": {},
   "outputs": [],
   "source": [
    "#def mds(in_mat_file, max_dim, out_file_name, perplexity=30, print_plot=\"True\", dist_method=\"mi\",):\n",
    "#    hdf = pd.HDFStore(in_mat_file)\n",
    "#    if dist_method == \"mi\":\n",
    "#        dlplf = 1 - hdf[\"norm_mi\"]\n",
    "#    elif dist_method == \"euclidean\":\n",
    "#        df = hdf[dist_method]\n",
    "#    else:\n",
    "#        df = 1 - hdf[dist_method]\n",
    "#\n",
    "#    hdf.close()\n",
    "#    n = df.shape[0]\n",
    "#    H = np.eye(n) - np.ones((n, n)) / n\n",
    "#    B = -H.dot(df ** 2).dot(H) / 2\n",
    "#    evals, evecs = eigh(B, eigvals=(n - np.min([n, 200]), n - 1))\n",
    "#    \n",
    "#    idx = np.argsort(evals)[::-1]\n",
    "#    evals = evals[idx]\n",
    "#    evecs = evecs[:, idx]\n",
    "#    evals_pos = evals > 0\n",
    "#    L = np.diag(np.sqrt(evals[evals_pos]))\n",
    "#    V = evecs[:, evals_pos]\n",
    "#    Y = pd.DataFrame(\n",
    "#        data=V.dot(L),\n",
    "#        index=df.index,\n",
    "#        columns=[\"mds_\" + str(x) for x in np.arange(1, L.shape[0] + 1)],\n",
    "#    )\n",
    "#\n",
    "#    Y.to_hdf(out_file_name + \"_reduced.h5\", \"mds\")  # save reduced mi in mds\n",
    "#\n",
    "#    if print_plot == \"True\":\n",
    "#        vis = tsne(\n",
    "#            Y,\n",
    "#            max_dim,\n",
    "#            out_file_name,\n",
    "#            \"mds\",\n",
    "#            perplexity,\n",
    "#            print_plot,\n",
    "#        )\n",
    "#        vis.to_hdf(out_file_name + \"_reduced\", \"mds_tsne\")  # save preview in key \"mds_tsne\""
   ]
  },
  {
   "cell_type": "code",
   "execution_count": 63,
   "metadata": {},
   "outputs": [],
   "source": [
    "%%px\n",
    "import scalapy.routines as rt\n",
    "\n",
    "n= g_nrows\n",
    "\n",
    "#convert similarity matrix to dissimilarity matrix\n",
    "#df= 1-df\n",
    "MDS= core.DistributedMatrix.empty_like(dMI)\n",
    "MDS.local_array[:]=1.0-dMI_normed.local_array[:]\n",
    "\n",
    "# H = I-Ones/n\n",
    "I= core.DistributedMatrix.identity(n=g_nrows)\n",
    "Ones= core.DistributedMatrix.empty_like(dMI)\n",
    "Ones.local_array[:]=1.0/n\n",
    "H = core.DistributedMatrix.empty_like(dMI)\n",
    "H.local_array[:] = I.local_array[:] - Ones.local_array[:]\n",
    "\n",
    "# B = -H.dot(MDS**2).dot(H)/2\n",
    "negH= core.DistributedMatrix.empty_like(dMI)\n",
    "negH.local_array[:]= -H.local_array[:]\n",
    "MDS2= core.DistributedMatrix.empty_like(dMI)\n",
    "MDS2.local_array[:] = MDS.local_array[:]**2\n",
    "C=rt.dot(negH,MDS2)\n",
    "B = rt.dot(C,H)\n",
    "B.local_array[:]=B.local_array[:]/2.0\n",
    "#dMI_norm=dMI_diag.T*dMI_diag\n",
    "#dMI_norm = rt.dot(dMI_diag,dMI_diag,transA='T')\n"
   ]
  },
  {
   "cell_type": "code",
   "execution_count": null,
   "metadata": {},
   "outputs": [],
   "source": [
    "#%%px\n",
    "#if rank==0: \n",
    "#    print ('rank %d has global_shape of dMI_diag = %s' % (rank, MDS.global_shape))\n",
    "#print ('rank %d has local_shape of dMI_diag = %s' % (rank, MDS.local_shape))\n",
    "#print ('rank %d has block_shape of dMI_diag = %s' % (rank, MDS.block_shape))\n",
    "##print(MDS.local_array)"
   ]
  },
  {
   "cell_type": "code",
   "execution_count": null,
   "metadata": {},
   "outputs": [],
   "source": [
    "#%%px\n",
    "#if rank==0: \n",
    "#    print ('rank %d has global_shape of dMI_diag = %s' % (rank, MDS2.global_shape))\n",
    "#print ('rank %d has local_shape of dMI_diag = %s' % (rank, MDS2.local_shape))\n",
    "#print ('rank %d has block_shape of dMI_diag = %s' % (rank, MDS2.block_shape))\n",
    "#print(MDS2.local_array)"
   ]
  },
  {
   "cell_type": "code",
   "execution_count": null,
   "metadata": {},
   "outputs": [],
   "source": [
    "#%%px\n",
    "#if rank==0: \n",
    "#    print ('rank %d has global_shape of dMI_diag = %s' % (rank, B.global_shape))\n",
    "#print ('rank %d has local_shape of dMI_diag = %s' % (rank, B.local_shape))\n",
    "#print ('rank %d has block_shape of dMI_diag = %s' % (rank, B.block_shape))\n",
    "#print(B.local_array)"
   ]
  },
  {
   "cell_type": "code",
   "execution_count": 64,
   "metadata": {},
   "outputs": [],
   "source": [
    "%%px\n",
    "import scalapy.routines as rt\n",
    "#compute eigh(B,)\n",
    "#we want to pick out the top 200 eigenvalues/vectors from the matrix\n",
    "#evals, evecs = eigh(B, eigvals=(n - np.min([n, 200]), n - 1))\n",
    "\n",
    "#evals, dZd = rt.eigh(B,overwrite_a=False)\n",
    "#returns same evals np.array to all ranks\n",
    "# and distributed evecs matrix dZd\n",
    "evals, dZd = rt.eigh(B,overwrite_a=False,eigvals=(n - np.min([n, 200]), n - 1))\n",
    "#copy evecs to root\n",
    "evecs = dZd.to_global_array(rank=0)\n",
    "#gZd = dZd.to_global_array(rank=0)"
   ]
  },
  {
   "cell_type": "code",
   "execution_count": 65,
   "metadata": {},
   "outputs": [
    {
     "name": "stdout",
     "output_type": "stream",
     "text": [
      "[stdout:0] \n",
      "[ 0.63653653  0.63718665  0.63856906  0.63913447  0.63951631  0.64141837\n",
      "  0.6416083   0.64199858  0.64309684  0.64515302  0.64600987  0.6465693\n",
      "  0.64770702  0.64962061  0.65130261  0.65158366  0.65353592  0.65458884\n",
      "  0.65490567  0.65566407  0.65607526  0.65771841  0.65880259  0.65932652\n",
      "  0.66112078  0.66144263  0.66239989  0.66347846  0.66480679  0.66515495\n",
      "  0.6666297   0.66794033  0.66959897  0.67151719  0.67174352  0.67227765\n",
      "  0.67398626  0.67444886  0.67525269  0.67737147  0.67810749  0.67928807\n",
      "  0.68064238  0.68127193  0.68181287  0.68417543  0.68510449  0.68661375\n",
      "  0.68782991  0.68945798  0.68971988  0.6917769   0.69289193  0.69435186\n",
      "  0.69544161  0.69610655  0.69730158  0.69856377  0.70052196  0.70165805\n",
      "  0.70250321  0.70330761  0.70428105  0.7061929   0.70717293  0.70730084\n",
      "  0.70940083  0.71110775  0.71227849  0.71410865  0.71577565  0.7172199\n",
      "  0.71812038  0.71923984  0.72120975  0.72229011  0.72406995  0.72500372\n",
      "  0.72573429  0.72668299  0.72920854  0.7303352   0.73072125  0.7327679\n",
      "  0.73452121  0.73575812  0.73844175  0.74067606  0.74113537  0.7427409\n",
      "  0.74385499  0.74402983  0.7462424   0.75046455  0.75079407  0.75305295\n",
      "  0.75382352  0.75476231  0.75597579  0.75855612  0.76109972  0.76283313\n",
      "  0.76456341  0.76631053  0.76683372  0.77002792  0.77057308  0.7730721\n",
      "  0.77478634  0.77650712  0.77897439  0.78011253  0.78050907  0.78361359\n",
      "  0.78384517  0.7854012   0.78840578  0.78884185  0.79081832  0.79282445\n",
      "  0.79430911  0.79533833  0.79823803  0.79980852  0.80350078  0.80488407\n",
      "  0.8067837   0.80957493  0.81048815  0.81276066  0.81387368  0.81632272\n",
      "  0.82111235  0.82150562  0.82419533  0.82444613  0.82635983  0.83220514\n",
      "  0.83352128  0.83584945  0.83816908  0.84072858  0.84196038  0.84327521\n",
      "  0.84685987  0.84732079  0.85460816  0.85710043  0.8591926   0.85957777\n",
      "  0.86297131  0.86510786  0.86808883  0.87027155  0.87527547  0.87690455\n",
      "  0.88063371  0.88402955  0.8863447   0.88973951  0.89414705  0.89664582\n",
      "  0.90093692  0.90288229  0.90539078  0.90703704  0.9113889   0.9181333\n",
      "  0.91823559  0.92041039  0.9228887   0.93054047  0.93909703  0.94475391\n",
      "  0.94833061  0.95124441  0.95926793  0.96871447  0.97430503  0.98528711\n",
      "  0.99217325  1.0053074   1.02433929  1.05853479  1.07453274  1.11562333\n",
      "  1.20043255  1.23427151  1.28553788  1.41879535  1.67820712  2.13494381\n",
      "  2.21581566  2.39633028  2.5428791   2.86921626  4.04181061  8.43778466\n",
      " 10.75553284 29.83400371]\n"
     ]
    }
   ],
   "source": [
    "%%px\n",
    "if rank==0:\n",
    "    print(evals)\n",
    "    #print(evecs)"
   ]
  },
  {
   "cell_type": "code",
   "execution_count": null,
   "metadata": {},
   "outputs": [],
   "source": [
    "#gather the top 200 eigenvalues on a single rank"
   ]
  },
  {
   "cell_type": "code",
   "execution_count": 66,
   "metadata": {},
   "outputs": [
    {
     "name": "stdout",
     "output_type": "stream",
     "text": [
      "[stdout:0] \n",
      "[[ 0.01468645 -0.00223302  0.01106707 ...  0.01339326 -0.00432337\n",
      "  -0.00438385]\n",
      " [ 0.00943586 -0.01715544  0.01569153 ...  0.00192537 -0.01729476\n",
      "  -0.03001981]\n",
      " [-0.03448515  0.00729943  0.00454717 ... -0.00297281  0.03522983\n",
      "  -0.00213711]\n",
      " ...\n",
      " [ 0.00795561  0.04249614 -0.03216508 ... -0.02224412 -0.02813351\n",
      "   0.02922512]\n",
      " [ 0.00059434  0.02982748 -0.04455422 ...  0.01702971 -0.02594927\n",
      "   0.01674737]\n",
      " [ 0.0166286   0.00551013  0.0196269  ...  0.02222502  0.00051805\n",
      "   0.02786173]]\n"
     ]
    }
   ],
   "source": [
    "%%px\n",
    "if rank==0:\n",
    "    idx = np.argsort(evals)[::-1]\n",
    "    evals = evals[idx]\n",
    "    evecs = evecs[:, idx]\n",
    "    evals_pos = evals > 0\n",
    "    L = np.diag(np.sqrt(evals[evals_pos]))\n",
    "    V = evecs[:, evals_pos]\n",
    "    print(V)\n",
    "    \n",
    "    #Y = pd.DataFrame(\n",
    "    #    data=V.dot(L),\n",
    "    #    index=df.index, #need to reattach index names to eigenvectors\n",
    "    #    columns=[\"mds_\" + str(x) for x in np.arange(1, L.shape[0] + 1)],\n",
    "    #)\n",
    "    #print(Y) \n",
    "#Y.to_hdf(out_file_name + \"_reduced.h5\", \"mds\")  # save reduced mi in mds"
   ]
  },
  {
   "cell_type": "code",
   "execution_count": 92,
   "metadata": {},
   "outputs": [],
   "source": [
    "%%px\n",
    "import pandas as pd\n",
    "if rank==0:\n",
    "\n",
    "    data_file_path = cwd+'/test_data/inputs/10x/PBMC/3k/pre-processed/'\n",
    "    input_file_name = data_file_path + 'pbmc3k_preprocessed.h5ad'\n",
    "    #project_name='pbmc3k_sliced_serial'\n",
    "    #hdf = pd.HDFStore(input_file_name)\n",
    "    #df = pd.HDFStore(input_file_name)[\"slice_0\"]\n",
    "    adf=utils.read_anndata_file(input_file_name)\n",
    "\n",
    "    #df = hdf[\"mi\"]\n",
    "    index=adf.obs.index\n",
    "    #print(adf.obs)"
   ]
  },
  {
   "cell_type": "code",
   "execution_count": 91,
   "metadata": {},
   "outputs": [
    {
     "name": "stdout",
     "output_type": "stream",
     "text": [
      "[stdout:0] \n",
      "Index(['AAACATACAACCAC-1', 'AAACATTGATCAGC-1', 'AAACCGTGCTTCCG-1',\n",
      "       'AAACCGTGTATGCG-1', 'AAACGCACTGGTAC-1', 'AAACGCTGACCAGT-1',\n",
      "       'AAACGCTGGTTCTT-1', 'AAACGCTGTAGCCA-1', 'AAACGCTGTTTCTG-1',\n",
      "       'AAACTTGAAAAACG-1',\n",
      "       ...\n",
      "       'TTTCAGTGGAAGGC-1', 'TTTCAGTGTCACGA-1', 'TTTCAGTGTCTATC-1',\n",
      "       'TTTCAGTGTGCAGT-1', 'TTTCCAGAGGTGAG-1', 'TTTCGAACTCTCAT-1',\n",
      "       'TTTCTACTGAGGCA-1', 'TTTCTACTTCCTCG-1', 'TTTGCATGAGAGGC-1',\n",
      "       'TTTGCATGCCTCAC-1'],\n",
      "      dtype='object', length=2496)\n"
     ]
    }
   ],
   "source": [
    "%%px\n",
    "if rank==0:\n",
    "    #print(adf.__dict__)\n",
    "    #print(adf.obs.__dict__)\n",
    "    print(adf.obs.index)"
   ]
  },
  {
   "cell_type": "code",
   "execution_count": 67,
   "metadata": {},
   "outputs": [
    {
     "name": "stdout",
     "output_type": "stream",
     "text": [
      "[stdout:0] \n",
      "[[ 0.08021812 -0.00732333  0.03214747 ...  0.01070262 -0.00345109\n",
      "  -0.00349758]\n",
      " [ 0.05153917 -0.05626236  0.04558056 ...  0.00153857 -0.01380537\n",
      "  -0.02395078]\n",
      " [-0.18835964  0.02393893  0.01320856 ... -0.00237559  0.02812185\n",
      "  -0.00170505]\n",
      " ...\n",
      " [ 0.04345398  0.13936876 -0.0934327  ... -0.01777539 -0.02245729\n",
      "   0.02331675]\n",
      " [ 0.00324634  0.09782109 -0.12942049 ...  0.01360853 -0.02071373\n",
      "   0.0133616 ]\n",
      " [ 0.09082626  0.01807082  0.05701195 ...  0.01776013  0.00041353\n",
      "   0.02222899]]\n"
     ]
    }
   ],
   "source": [
    "%%px\n",
    "if rank==0:\n",
    "    data=V.dot(L)\n",
    "    print(data)"
   ]
  },
  {
   "cell_type": "code",
   "execution_count": 94,
   "metadata": {},
   "outputs": [
    {
     "name": "stdout",
     "output_type": "stream",
     "text": [
      "[stdout:0] \n",
      "                     mds_1     mds_2     mds_3     mds_4     mds_5     mds_6  \\\n",
      "AAACATACAACCAC-1  0.080218 -0.007323  0.032147 -0.021112 -0.008207 -0.000903   \n",
      "AAACATTGATCAGC-1  0.051539 -0.056262  0.045581  0.053011  0.010254  0.053645   \n",
      "AAACCGTGCTTCCG-1 -0.188360  0.023939  0.013209  0.032328 -0.012209 -0.021553   \n",
      "AAACCGTGTATGCG-1 -0.056562 -0.144185 -0.148594 -0.018133  0.063652  0.010560   \n",
      "AAACGCACTGGTAC-1  0.038719 -0.022159  0.008433  0.000035 -0.009473  0.002272   \n",
      "...                    ...       ...       ...       ...       ...       ...   \n",
      "TTTCGAACTCTCAT-1 -0.208469  0.031346  0.019770  0.031711 -0.039463  0.031550   \n",
      "TTTCTACTGAGGCA-1 -0.007556 -0.000021 -0.039614  0.084780 -0.006493  0.035069   \n",
      "TTTCTACTTCCTCG-1  0.043454  0.139369 -0.093433  0.012428 -0.007409  0.014009   \n",
      "TTTGCATGAGAGGC-1  0.003246  0.097821 -0.129420 -0.020403  0.009517  0.044159   \n",
      "TTTGCATGCCTCAC-1  0.090826  0.018071  0.057012  0.003005  0.021881  0.010015   \n",
      "\n",
      "                     mds_7     mds_8     mds_9    mds_10  ...   mds_191  \\\n",
      "AAACATACAACCAC-1  0.031880 -0.009273 -0.017462  0.049151  ...  0.002239   \n",
      "AAACATTGATCAGC-1  0.024677 -0.021591  0.012128 -0.031019  ... -0.012638   \n",
      "AAACCGTGCTTCCG-1  0.015321 -0.007232  0.006290  0.025058  ...  0.004149   \n",
      "AAACCGTGTATGCG-1 -0.062892 -0.018896 -0.005781 -0.028186  ... -0.009265   \n",
      "AAACGCACTGGTAC-1  0.004931  0.067741  0.030675 -0.047999  ...  0.008916   \n",
      "...                    ...       ...       ...       ...  ...       ...   \n",
      "TTTCGAACTCTCAT-1 -0.059284 -0.015521 -0.034725  0.020430  ...  0.026824   \n",
      "TTTCTACTGAGGCA-1 -0.048476  0.028254 -0.008665 -0.017081  ... -0.028006   \n",
      "TTTCTACTTCCTCG-1  0.036398 -0.064123 -0.027630 -0.017725  ... -0.016676   \n",
      "TTTGCATGAGAGGC-1  0.017281 -0.053414  0.027121  0.002572  ...  0.004310   \n",
      "TTTGCATGCCTCAC-1 -0.029836 -0.027129  0.025564  0.006511  ... -0.002661   \n",
      "\n",
      "                   mds_192   mds_193   mds_194   mds_195   mds_196   mds_197  \\\n",
      "AAACATACAACCAC-1 -0.022240  0.010726 -0.004933  0.012688  0.003064 -0.017539   \n",
      "AAACATTGATCAGC-1  0.021262 -0.008125  0.003422  0.003511 -0.007451 -0.018855   \n",
      "AAACCGTGCTTCCG-1  0.009565  0.003437  0.020055 -0.007267  0.027475 -0.007106   \n",
      "AAACCGTGTATGCG-1  0.007689 -0.018929  0.010247 -0.037014  0.004172  0.011180   \n",
      "AAACGCACTGGTAC-1  0.007547  0.022570 -0.026644 -0.004199  0.014892 -0.012679   \n",
      "...                    ...       ...       ...       ...       ...       ...   \n",
      "TTTCGAACTCTCAT-1 -0.002184 -0.004967  0.007321  0.012372  0.014197 -0.000649   \n",
      "TTTCTACTGAGGCA-1  0.010855 -0.018123  0.017103  0.011716  0.013310 -0.013343   \n",
      "TTTCTACTTCCTCG-1 -0.014360 -0.006884 -0.009140 -0.004879  0.002407 -0.009625   \n",
      "TTTGCATGAGAGGC-1 -0.029850  0.004462 -0.030809 -0.040227  0.001213 -0.012828   \n",
      "TTTGCATGCCTCAC-1 -0.008603  0.009447 -0.006990 -0.019070 -0.015489 -0.010414   \n",
      "\n",
      "                   mds_198   mds_199   mds_200  \n",
      "AAACATACAACCAC-1  0.010703 -0.003451 -0.003498  \n",
      "AAACATTGATCAGC-1  0.001539 -0.013805 -0.023951  \n",
      "AAACCGTGCTTCCG-1 -0.002376  0.028122 -0.001705  \n",
      "AAACCGTGTATGCG-1  0.011146  0.018554  0.008425  \n",
      "AAACGCACTGGTAC-1 -0.001683  0.018311  0.026561  \n",
      "...                    ...       ...       ...  \n",
      "TTTCGAACTCTCAT-1 -0.006383 -0.019538 -0.000683  \n",
      "TTTCTACTGAGGCA-1  0.008310  0.021434 -0.020372  \n",
      "TTTCTACTTCCTCG-1 -0.017775 -0.022457  0.023317  \n",
      "TTTGCATGAGAGGC-1  0.013609 -0.020714  0.013362  \n",
      "TTTGCATGCCTCAC-1  0.017760  0.000414  0.022229  \n",
      "\n",
      "[2496 rows x 200 columns]\n"
     ]
    }
   ],
   "source": [
    "%%px\n",
    "if rank==0:\n",
    "    Y = pd.DataFrame(\n",
    "        data=V.dot(L),\n",
    "        index=index, #need to reattach index names to eigenvectors\n",
    "        columns=[\"mds_\" + str(x) for x in np.arange(1, L.shape[0] + 1)],\n",
    "        )\n",
    "    print(Y) "
   ]
  },
  {
   "cell_type": "code",
   "execution_count": null,
   "metadata": {},
   "outputs": [],
   "source": [
    "%%px\n",
    "perplexity=30\n",
    "max_dim=200\n",
    "#    Y.to_hdf(out_file_name + \"_reduced.h5\", \"mds\")  # save reduced mi in mds\n",
    "#\n",
    "#    if print_plot == \"True\":\n",
    "#        vis = tsne(\n",
    "#            Y,\n",
    "#            max_dim,\n",
    "#            out_file_name,\n",
    "#            \"mds\",\n",
    "#            perplexity,\n",
    "#            print_plot,\n",
    "#        )\n",
    "#        vis.to_hdf(out_file_name + \"_reduced\", \"mds_tsne\")  # save preview in key \"mds_tsne\""
   ]
  },
  {
   "cell_type": "code",
   "execution_count": null,
   "metadata": {},
   "outputs": [],
   "source": [
    "#%%px\n",
    "#import scalapy.routines as rt\n",
    "##obtain dissimilarity matrix\n",
    "#n= g_nrows\n",
    "##MDS=1-dMI\n",
    "#MDS= core.DistributedMatrix.empty_like(dMI)\n",
    "##MDS.local_array[:]=1.0-dMI.local_Array[:]\n",
    "#I= core.DistributedMatrix.identity(n=g_nrows)\n",
    "#Ones= core.DistributedMatrix.empty_like(dMI)\n",
    "#Ones.local_array[:]=1.0/n\n",
    "##create arrays\n",
    "##create identity matrix and then subtract 1/n from all entries\n",
    "#H= np.eye(n) - np.ones((n, n)) / n\n",
    "#H= I - Ones\n",
    "#B= -H.dot(df ** 2).dot(H) / 2\n",
    "#\n",
    "##compute eigh(B,)\n",
    "##we want to pick out the top 200 eigenvalues/vectors from the matrix\n",
    "##evals, evecs = eigh(B, eigvals=(n - np.min([n, 200]), n - 1))\n",
    "#evals, dZd = rt.eigh(B,overwrite_a=False)\n",
    "#evecs = dZd.to_global_array(rank=0)"
   ]
  },
  {
   "cell_type": "code",
   "execution_count": null,
   "metadata": {},
   "outputs": [],
   "source": []
  },
  {
   "cell_type": "code",
   "execution_count": null,
   "metadata": {},
   "outputs": [],
   "source": []
  },
  {
   "cell_type": "code",
   "execution_count": null,
   "metadata": {},
   "outputs": [],
   "source": []
  },
  {
   "cell_type": "code",
   "execution_count": null,
   "metadata": {},
   "outputs": [],
   "source": []
  },
  {
   "cell_type": "code",
   "execution_count": null,
   "metadata": {},
   "outputs": [],
   "source": [
    "#%%px\n",
    "#dgi, dlri, dlci = diagMI.local_diagonal_indices()"
   ]
  },
  {
   "cell_type": "code",
   "execution_count": null,
   "metadata": {},
   "outputs": [],
   "source": [
    "#%%px\n",
    "#gi, lri, lci = dMI.local_diagonal_indices()"
   ]
  },
  {
   "cell_type": "code",
   "execution_count": null,
   "metadata": {},
   "outputs": [],
   "source": [
    "#%%px\n",
    "#diagMI.local_array[lri,0] = dMI.local_array[lri,lci]"
   ]
  },
  {
   "cell_type": "code",
   "execution_count": null,
   "metadata": {},
   "outputs": [],
   "source": [
    "#%%px\n",
    "#print ('rank %d has local_shape of dMI = %s' % (rank, diagMI.local_shape))\n",
    "#print ('rank %d has block_shape of dMI = %s' % (rank, diagMI.block_shape))\n",
    "#print(diagMI.local_array)"
   ]
  },
  {
   "cell_type": "code",
   "execution_count": null,
   "metadata": {},
   "outputs": [],
   "source": [
    "#%%px\n",
    "#diagMI_dot = dot(dMI_diag,dMI_diag,transB='T')\n",
    "#diagMI_dot = dMI_diag.T * dMI_diag\n",
    "\n",
    "#diagMI_dot.local_array[lri,lci] = 1.0/np.sqrt(diagMI_dot.local_array[lri,lci])"
   ]
  },
  {
   "cell_type": "code",
   "execution_count": null,
   "metadata": {},
   "outputs": [],
   "source": [
    "#%%px\n",
    "#print(diagMI_dot.local_array)"
   ]
  },
  {
   "cell_type": "code",
   "execution_count": null,
   "metadata": {},
   "outputs": [],
   "source": [
    "#%%px\n",
    "#print(diagMI_dot.local_array)"
   ]
  },
  {
   "cell_type": "code",
   "execution_count": null,
   "metadata": {},
   "outputs": [],
   "source": [
    "#%%px\n",
    "#diagMI_normed = dMI*diagMI_dot"
   ]
  },
  {
   "cell_type": "code",
   "execution_count": null,
   "metadata": {},
   "outputs": [],
   "source": [
    "#%%px\n",
    "#print(dMI_normed.local_array)"
   ]
  },
  {
   "cell_type": "code",
   "execution_count": null,
   "metadata": {},
   "outputs": [],
   "source": [
    "#%%px\n",
    "##lr=[range(2400,2495)]\n",
    "##lc=[range(2400,2495)]\n",
    "#print(len(dMI.local_array[lri,lci]))\n",
    "#diag=dMI.local_array[lri,lci]\n",
    "#print(diag)"
   ]
  },
  {
   "cell_type": "code",
   "execution_count": null,
   "metadata": {},
   "outputs": [],
   "source": [
    "#%%px\n",
    "#dMI_dot=dot(dMI,dMI,transB='T')"
   ]
  },
  {
   "cell_type": "code",
   "execution_count": null,
   "metadata": {},
   "outputs": [],
   "source": [
    "#%%px\n",
    "#dMI_dot.desc"
   ]
  },
  {
   "cell_type": "code",
   "execution_count": null,
   "metadata": {},
   "outputs": [],
   "source": [
    "#%%px\n",
    "#dgi, dlri, dlci = dMI_dot.local_diagonal_indices()\n",
    "#print(dMI_dot.local_array[dlri,dlci])"
   ]
  },
  {
   "cell_type": "code",
   "execution_count": null,
   "metadata": {},
   "outputs": [],
   "source": [
    "#%%px\n",
    "#Note these values are in mixed order due to block cyclic partition. last rank last block does not correspond to last values in global diagonal\n",
    "#print(diag)\n"
   ]
  },
  {
   "cell_type": "code",
   "execution_count": null,
   "metadata": {},
   "outputs": [],
   "source": []
  },
  {
   "cell_type": "code",
   "execution_count": null,
   "metadata": {},
   "outputs": [],
   "source": [
    "%%px\n",
    "if rank==0:\n",
    "    print(evals)"
   ]
  },
  {
   "cell_type": "code",
   "execution_count": null,
   "metadata": {},
   "outputs": [],
   "source": [
    "%%px\n",
    "if rank==0:\n",
    "    nnzgZd=\n",
    "    print(len(gZd))\n",
    "    print(gZd)"
   ]
  },
  {
   "cell_type": "code",
   "execution_count": null,
   "metadata": {},
   "outputs": [],
   "source": [
    "#compute eigenvalues,vectors\n",
    "#evals1, evecs1 = scalapy.eigh(dMI, overwrite_a=False)"
   ]
  },
  {
   "cell_type": "code",
   "execution_count": null,
   "metadata": {},
   "outputs": [],
   "source": []
  },
  {
   "cell_type": "markdown",
   "metadata": {},
   "source": [
    "## Write distributed matrix to files"
   ]
  },
  {
   "cell_type": "code",
   "execution_count": null,
   "metadata": {},
   "outputs": [],
   "source": []
  },
  {
   "cell_type": "code",
   "execution_count": null,
   "metadata": {},
   "outputs": [],
   "source": []
  },
  {
   "cell_type": "code",
   "execution_count": null,
   "metadata": {},
   "outputs": [],
   "source": []
  },
  {
   "cell_type": "code",
   "execution_count": null,
   "metadata": {},
   "outputs": [],
   "source": []
  },
  {
   "cell_type": "code",
   "execution_count": null,
   "metadata": {},
   "outputs": [],
   "source": []
  },
  {
   "cell_type": "code",
   "execution_count": null,
   "metadata": {},
   "outputs": [],
   "source": [
    "## test function to sort out copy_from_np\n",
    "%%px\n",
    "from mpi4py import MPI\n",
    "from scalapy import *\n",
    "\n",
    "def _chk_2d_size(shape, positive=True):\n",
    "    # Check that the shape describes a valid 2D grid. Zero shape not allowed when positive = True.\n",
    "    if len(shape) != 2:\n",
    "        return False\n",
    "    if positive:\n",
    "        if shape[0] <= 0 or shape[1] <= 0:\n",
    "            return False\n",
    "    else:\n",
    "        if shape[0] < 0 or shape[1] < 0:\n",
    "            return False\n",
    "    return True\n",
    "\n",
    "\n",
    "def copy_from_np(dmat, a, asrow=0, anrow=None, ascol=0, ancol=None, srow=0, scol=0, block_shape=None, rank=0):\n",
    "        ## copy a section of a numpy array a[asrow:asrow+anrow, ascol:ascol+ancol] to self[srow:srow+anrow, scol:scol+ancol], once per block_shape\n",
    "\n",
    "        Nrow, Ncol = dmat.global_shape\n",
    "        srow = srow if srow >= 0 else srow + Nrow\n",
    "        srow = max(0, srow)\n",
    "        srow = min(srow, Nrow)\n",
    "        scol = scol if scol >= 0 else scol + Ncol\n",
    "        scol = max(0, scol)\n",
    "        scol = min(scol, Ncol)\n",
    "        if dmat.context.mpi_comm.rank == rank:\n",
    "            if not (a.ndim == 1 or a.ndim == 2):\n",
    "                raise ScalapyException('Unsupported high dimensional array.')\n",
    "\n",
    "            a = np.asfortranarray(a.astype(dmat.dtype)) # type conversion\n",
    "            a = a.reshape(-1, a.shape[-1]) # reshape to two dimensional\n",
    "            am, an = a.shape\n",
    "            asrow = asrow if asrow >= 0 else asrow + am\n",
    "            asrow = max(0, asrow)\n",
    "            asrow = min(asrow, am)\n",
    "            ascol = ascol if ascol >= 0 else ascol + an\n",
    "            ascol = max(0, ascol)\n",
    "            ascol = min(ascol, an)\n",
    "            m = am - asrow if anrow is None else anrow\n",
    "            m = max(0, m)\n",
    "            m = min(m, am - asrow, Nrow - srow)\n",
    "            n = an - ascol if ancol is None else ancol\n",
    "            n = max(0, n)\n",
    "            n = min(n, an - ascol, Ncol - scol)\n",
    "        else:\n",
    "            m, n = 1, 1\n",
    "\n",
    "        asrow = dmat.context.mpi_comm.bcast(asrow, root=rank)\n",
    "        ascol = dmat.context.mpi_comm.bcast(ascol, root=rank)\n",
    "        #print(\"asrow ascol=\",asrow,ascol)\n",
    "        #get sending ranks size\n",
    "        m = dmat.context.mpi_comm.bcast(m, root=rank) # number of rows to copy\n",
    "        n = dmat.context.mpi_comm.bcast(n, root=rank) # number of columes to copy\n",
    "        #print(\"m,n=\",m,n)\n",
    "        if m == 0 or n == 0:\n",
    "            return dmat\n",
    "\n",
    "        block_shape = dmat.block_shape if block_shape is None else block_shape\n",
    "        if not _chk_2d_size(block_shape):\n",
    "            raise ScalapyException(\"Invalid block_shape\")\n",
    "        #print(\"block_shape=\",block_shape)\n",
    "        bm, bn = block_shape\n",
    "        br = blockcyclic.num_blocks(m, bm) # number of blocks for row\n",
    "        bc = blockcyclic.num_blocks(n, bn) # number of blocks for column\n",
    "        rm = m - (br - 1) * bm # remained number of rows of the last block\n",
    "        rn = n - (bc - 1) * bn # remained number of columes of the last block\n",
    "        #print(\"bm,bn=\",bm,bn)\n",
    "\n",
    "        # due to bugs in scalapy, it is needed to first init an process context here\n",
    "        ProcessContext([1, dmat.context.mpi_comm.size], comm=dmat.context.mpi_comm) # process context\n",
    "        #print(\"br,bc=\",br,bc)\n",
    "        \n",
    "        for bri in range(br):\n",
    "            M = bm if bri != br - 1 else rm\n",
    "            for bci in range(bc):\n",
    "                N = bn if bci != bc - 1 else rn\n",
    "                if dmat.context.mpi_comm.rank == rank:\n",
    "                    #print(\"main rank=\",dmat.context.mpi_comm.rank,\" bm bn: \",bm,bn,\" bri bci: \",bri,bci,\"srow scol: \",srow,scol)\n",
    "                    pc = ProcessContext([1, 1], comm=MPI.COMM_SELF) # process context\n",
    "                    desc = dmat.desc\n",
    "                    desc[1] = pc.blacs_context #new context containing only this rank\n",
    "                    desc[2], desc[3] = a.shape\n",
    "                    desc[4], desc[5] = a.shape\n",
    "                    desc[8] = a.shape[0]\n",
    "                    #print(\"descA= \",desc)\n",
    "                    #print(\"descB= \",dmat.desc)\n",
    "\n",
    "                    args = [M, N, a,                              asrow+1+bm*bri, ascol+1+bn*bci, desc,   \n",
    "                            dmat._local_array, srow+1+bm*bri, scol+1+bn*bci, dmat.desc, dmat.context.blacs_context]\n",
    "                else:#these processes do not own submatrix, but must still call function\n",
    "                    #print(\"other rank=\",dmat.context.mpi_comm.rank,\" bm bn: \",bm,bn,\" bri bci: \",bri,bci,\"srow scol: \",srow,scol)\n",
    "                    desc = np.zeros(9, dtype=np.int32)\n",
    "                    desc[1] = -1           \n",
    "                    #print(\"descA= \",desc)\n",
    "                    #print(\"descB= \",dmat.desc)\n",
    "                    args = [M, N, np.zeros(1, dtype=dmat.dtype) , asrow+1+bm*bri, ascol+1+bn*bci, desc,   \n",
    "                            dmat._local_array, srow+1+bm*bri, scol+1+bn*bci, dmat.desc, dmat.context.blacs_context]\n",
    "                from scalapy import lowlevel as ll\n",
    "                call_table = {'S': (ll.psgemr2d, args),\n",
    "                              'D': (ll.pdgemr2d, args),\n",
    "                              'C': (ll.pcgemr2d, args),\n",
    "                              'Z': (ll.pzgemr2d, args)}\n",
    "                func, args = call_table[dmat.sc_dtype]\n",
    "                #print (args)\n",
    "                func(*args)\n",
    "        return dmat"
   ]
  },
  {
   "cell_type": "code",
   "execution_count": null,
   "metadata": {},
   "outputs": [],
   "source": []
  },
  {
   "cell_type": "code",
   "execution_count": null,
   "metadata": {},
   "outputs": [],
   "source": [
    "##formerly used to copy to a global array\n",
    "%%px\n",
    "#copy SM[i][j] from each rank to root rank 0\n",
    "n_jobs_per_rank= (int((b * (b + 1)) / 2))/comm.Get_size()\n",
    "import collections\n",
    "for i in range(b):\n",
    "    for j in range(i,b): # j in range [i,b]\n",
    "        idx = int(i * b + j - (i * (i + 1)) / 2)\n",
    "        srank = idx//n_jobs_per_rank\n",
    "        if rank!=0 and isinstance(SM[i][j], collections.Iterable):\n",
    "            #print(\"send[\",i,j,\"] tag: \",idx)\n",
    "            comm.send(SM[i][j],dest=0,tag=idx)\n",
    "        elif rank==0 and not isinstance(SM[i][j], collections.Iterable):\n",
    "            #MB=np.zeros(shape=(Arows,Brows), dtype = float, order = 'C')\n",
    "            MB=comm.recv( source=srank, tag=idx)\n",
    "            SM[i][j]=MB\n",
    "            #print(\"recv[\",i,j,\"] tag: \",idx,\" shape: \",MB.shape, SM[i][j])\n",
    "            "
   ]
  },
  {
   "cell_type": "code",
   "execution_count": null,
   "metadata": {},
   "outputs": [],
   "source": []
  },
  {
   "cell_type": "code",
   "execution_count": null,
   "metadata": {},
   "outputs": [],
   "source": []
  },
  {
   "cell_type": "code",
   "execution_count": null,
   "metadata": {},
   "outputs": [],
   "source": [
    "#create and fill distributed matrix from global array\n",
    "%%px\n",
    "from scalapy import blacs\n",
    "import os\n",
    "import numpy as np\n",
    "import scipy.linalg as la\n",
    "from mpi4py import MPI\n",
    "from scalapy import core\n",
    "import scalapy.routines as rt\n",
    "\n",
    "#distribute MI components to ranks as scalapack distributed matrix\n",
    "comm = MPI.COMM_WORLD\n",
    "rank = comm.rank\n",
    "size = comm.size #total number of ranks\n",
    "\n",
    "global_num_rows =g_nrows\n",
    "global_num_cols =g_nrows\n",
    "local_num_rows =g_nrows/b\n",
    "\n",
    "block_size=64 #default is 32\n",
    "\n",
    "#Define process grid with process rows and process cols\n",
    "#We'll use a 2d process grid to distribute blocks so we want to have num_ranks divisible by 2\n",
    "assert((size % 2)==0)\n",
    "#ideally we would like BR and BC to the square root of the num_ranks to get a square process matrix\n",
    "PR=int(np.sqrt(size))\n",
    "PC=PR\n",
    "\n",
    "#if we can't create a square matrix, get next best dimensions\n",
    "if PR*PR!=size:\n",
    "    PC=size//PR\n",
    "if rank==0:\n",
    "    print(\"PR=\",PR, \"PC=\",PC)\n",
    "\n",
    "#create mpi comm context to send to blacs communicator    \n",
    "#process context\n",
    "#do I need this?\n",
    "#cntxt = blacs.sys2blacs_handle(comm)\n",
    "#initialize a process grid to distribute matrix blocks to.\n",
    "#blacs.gridinit(ctxt,order='R',BR,BC)\n",
    "#blacs.gridinit(pc,order='R',BR,BC)\n",
    "#core.initmpi([PR, PC], block_shape=[local_num_rows,local_num_rows])\n",
    "#instead of creating a global array on every processor, we want to load a \n",
    "#global array with local data\n",
    "#MI=core.DistributedMatrix(global_shape=[global_num_rows,global_num_cols])\n",
    "\n",
    "\n",
    "core.initmpi([PR, PC],block_shape=[block_size,block_size])\n",
    "\n",
    "#convert to fortran array indexing to match scalapack functions\n",
    "global_MI=np.asfortranarray(global_MI)\n",
    "#create global matrix from array on rank0\n",
    "dMI=core.DistributedMatrix.from_global_array(global_MI,rank=0)\n",
    "\n",
    "#Array must be 2D, so this fails\n",
    "#convert to fortran array indexing to match scalapack functions\n",
    "#global_diag=np.asfortranarray(global_diag)\n",
    "#create global matrix from array on rank0\n",
    "#dMI_diag=core.DistributedMatrix.from_global_array(global_diag,rank=0)\n",
    "\n",
    "\n",
    "\n",
    "\n",
    "#blacs.gridinit(ctxt, b, b)\n",
    "#ranklist = [(0, 0), \n",
    "#            (0, 1), (1, 1),\n",
    "#            (0, 2), (1, 2), (2, 2),\n",
    "#            (0, 3), (1, 3), (2, 3), (3, 3),\n",
    "#            (0, 4), (1, 4), (2, 4), (3, 4), (4, 4)\n",
    "#           ]"
   ]
  }
 ],
 "metadata": {
  "kernelspec": {
   "display_name": "Python 3",
   "language": "python",
   "name": "python3"
  },
  "language_info": {
   "codemirror_mode": {
    "name": "ipython",
    "version": 3
   },
   "file_extension": ".py",
   "mimetype": "text/x-python",
   "name": "python",
   "nbconvert_exporter": "python",
   "pygments_lexer": "ipython3",
   "version": "3.6.12"
  }
 },
 "nbformat": 4,
 "nbformat_minor": 4
}
