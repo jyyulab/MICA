{
 "cells": [
  {
   "cell_type": "markdown",
   "metadata": {},
   "source": [
    "# Use MPI and Scalapy to distribute all of MICA workflow to work on multiple nodes"
   ]
  },
  {
   "cell_type": "markdown",
   "metadata": {},
   "source": [
    "prep.py component \\\n",
    "Read input file and slice into manageable sizes"
   ]
  },
  {
   "cell_type": "code",
   "execution_count": 1,
   "metadata": {},
   "outputs": [],
   "source": [
    "from MICA.lib import utils"
   ]
  },
  {
   "cell_type": "code",
   "execution_count": 2,
   "metadata": {},
   "outputs": [],
   "source": [
    "#from IPython import parallel\n",
    "import ipyparallel as ipp"
   ]
  },
  {
   "cell_type": "markdown",
   "metadata": {},
   "source": [
    "# Launch an ipython parallel cluster\n",
    "Run this on hpc node to launch a cluster with mpi engines"
   ]
  },
  {
   "cell_type": "code",
   "execution_count": 3,
   "metadata": {},
   "outputs": [],
   "source": [
    "#this currently needs to be launched from terminal\n",
    "\n",
    "#import subprocess \n",
    "#We need to launch an ipython parallel cluster\n",
    "\n",
    "#!ipcluster start --n=4\n",
    "#subprocess.Popen(['ipcluster','start','--n=4'])\n",
    "#subprocess.Popen(['ipcluster', 'start', '--engines=MPIEngineSetLauncher', '--log-level', 'DEBUG', '--n=4'])\n"
   ]
  },
  {
   "cell_type": "code",
   "execution_count": 4,
   "metadata": {},
   "outputs": [],
   "source": [
    "#!ipcluster start --engines=MPIEngineSetLauncher --log-level DEBUG --n=4 &"
   ]
  },
  {
   "cell_type": "code",
   "execution_count": 5,
   "metadata": {},
   "outputs": [
    {
     "data": {
      "text/plain": [
       "[0, 1, 2, 3]"
      ]
     },
     "execution_count": 5,
     "metadata": {},
     "output_type": "execute_result"
    }
   ],
   "source": [
    "# Create a parallel client so that we can use %%px cell magic\n",
    "# With rc and dview, we can interact between mpi ranks and the thread running this notebook\n",
    "rc = ipp.Client()\n",
    "dview = rc[:]\n",
    "rc.ids"
   ]
  },
  {
   "cell_type": "code",
   "execution_count": 6,
   "metadata": {},
   "outputs": [],
   "source": [
    "%%px\n",
    "#load all necessary libraries onto each rank\n",
    "\n",
    "from scipy.sparse import csr_matrix\n",
    "from mpi4py import MPI\n",
    "import sys\n",
    "import numba\n",
    "import pandas as pd\n",
    "import scanpy as sc\n",
    "import scipy as sci\n",
    "import numpy as np\n",
    "import anndata\n",
    "import time\n",
    "from sklearn.decomposition import PCA\n",
    "import fast_histogram\n",
    "import logging\n",
    "logging.basicConfig(level=logging.INFO)\n",
    "from MICA.lib import utils"
   ]
  },
  {
   "cell_type": "code",
   "execution_count": 7,
   "metadata": {},
   "outputs": [],
   "source": [
    "%%px\n",
    "from scalapy import *"
   ]
  },
  {
   "cell_type": "code",
   "execution_count": 8,
   "metadata": {},
   "outputs": [
    {
     "name": "stdout",
     "output_type": "stream",
     "text": [
      "[stdout:0] noderome203[36079]: 0/4\n",
      "[stdout:1] noderome203[36080]: 1/4\n",
      "[stdout:2] noderome203[36081]: 2/4\n",
      "[stdout:3] noderome203[36082]: 3/4\n"
     ]
    }
   ],
   "source": [
    "%%px\n",
    "import os\n",
    "import socket\n",
    "from mpi4py import MPI\n",
    "comm = MPI.COMM_WORLD\n",
    "size = comm.Get_size()\n",
    "rank = comm.Get_rank()\n",
    "name = MPI.Get_processor_name()\n",
    "#sys.stdout.write(\n",
    "#    \"Hello, World! I am process %d of %d on %s.\\n\" \n",
    "#    % (rank, size, name))\n",
    "\n",
    "print(\"{host}[{pid}]: {rank}/{size}\".format(\n",
    "    host=socket.gethostname(),\n",
    "    pid=os.getpid(),\n",
    "    rank=comm.rank,\n",
    "    size=comm.size,\n",
    "))"
   ]
  },
  {
   "cell_type": "code",
   "execution_count": 9,
   "metadata": {},
   "outputs": [],
   "source": [
    "%%px\n",
    "#this is a defined elsewhere as a standalone python executable\n",
    "#we are duplicating here to experiment with format for distrubuted computing\n",
    "def prep_dist(input_file, out_name, slice_unit):\n",
    "    \"\"\" Preprocess input file to create sliced matrices.\n",
    "\n",
    "    Reads file into HDF5-format, adds parameters, slices data in file, generates several files with\n",
    "    different combinations of slices.\n",
    "\n",
    "    Args:\n",
    "        input_file (str): path to input text-file\n",
    "        out_name   (str): common rootname of generated output files\n",
    "        slice_unit (int): size of each slice of cell data in input text-file\n",
    "    \"\"\"\n",
    "    logging.basicConfig(level=logging.INFO)\n",
    "    \n",
    "    #Read in whole file stored in anndata csr format\n",
    "    adf=utils.read_anndata_file(input_file)\n",
    "    #if adf==None :\n",
    "    #    raise Exception(\"Input file \",input_file,\" not found.\")\n",
    "        \n",
    "    print(\"initial data size=\",adf.shape)\n",
    "\n",
    "    slice_size = int(slice_unit)\n",
    "    \n",
    "    #df = pd.HDFStore(df_file)[\"slice_0\"]\n",
    "    \n",
    "    #compute number of slices needed to break dataset in to slice_size row blocks\n",
    "    b = int(np.ceil(float(adf.shape[0]) / float(slice_size)))\n",
    "    #determine how many digits are in b so we can pad spaces for the string output\n",
    "    digit = int(np.floor(np.log10(b)) + 1)\n",
    "    #loop over slice numbers\n",
    "    for i in range(b):\n",
    "        #slice name is equal to batch index\n",
    "        slice_name = str(i).zfill(digit)\n",
    "        #compute batch row indices\n",
    "        start = i * slice_size\n",
    "        end = np.min([(i + 1) * slice_size, adf.shape[0]])\n",
    "        #copy slice to array of slices\n",
    "        adf_sub=adf[start:end,:]\n",
    "        #write to file so we don't have to keep each slice in memory\n",
    "        output_file_name = out_name + \".slice_\" + slice_name +\".h5ad\"\n",
    "        print(\"output_file_name: \",output_file_name)\n",
    "        adf_sub.write(output_file_name)\n",
    "        \n",
    "    #return nrows and nslices\n",
    "    return adf.shape[0], adf.shape[1], b\n",
    "    \n"
   ]
  },
  {
   "cell_type": "code",
   "execution_count": 10,
   "metadata": {},
   "outputs": [],
   "source": [
    "%%px\n",
    "#ceb create csr version of numba_histogram2d, also compute_bin with knowledge that minx will always be zero\n",
    "\n",
    "@numba.jit(nopython=True)\n",
    "def numba_nan_fill(x):\n",
    "    shape = x.shape\n",
    "    x = x.ravel()\n",
    "    x[np.isnan(x)] = 0.0\n",
    "    x = x.reshape(shape)\n",
    "    return x\n",
    "\n",
    "@numba.jit(nopython=True)\n",
    "def numba_inf_fill(x):\n",
    "    shape = x.shape\n",
    "    x = x.ravel()\n",
    "    x[np.isinf(x)] = 0.0\n",
    "    x = x.reshape(shape)\n",
    "    return x\n",
    "\n",
    "@numba.jit(nopython=True, fastmath=True)\n",
    "def compute_bin_upperbound(x, max, num_bins):\n",
    "    \"\"\" Compute bin index for a give number.\n",
    "        Assume that min is always zero\n",
    "    \"\"\"\n",
    "    # special case to mirror NumPy behavior for last bin\n",
    "    if x == max:\n",
    "        return num_bins - 1 # a_max always in last bin\n",
    "\n",
    "    bin = int(num_bins * x / max)\n",
    "\n",
    "    if bin >= num_bins:\n",
    "        return None\n",
    "    else:\n",
    "        return bin\n",
    "\n",
    "@numba.jit(nopython=True, fastmath=True)\n",
    "def numba_histogram2d_csr(arr1, cols1, arr2, cols2, ncols, num_bins):\n",
    "    \"\"\" Compute the bi-dimensional histogram of two data samples.\n",
    "    Args:\n",
    "        arr1 (array_like, shape (N,)): An array containing the x coordinates of the points to be histogrammed.\n",
    "        arr2 (array_like, shape (N,)): An array containing the y coordinates of the points to be histogrammed.\n",
    "        num_bins (int): int\n",
    "    Return:\n",
    "        hist (2D ndarray)\n",
    "    \"\"\"\n",
    "    #for csr arrays we have to compute zero bins ahead of time \n",
    "        \n",
    "    bin_indices1 = np.zeros((ncols,), dtype=np.int16)\n",
    "    max1 = arr1.max()\n",
    "    #note that bin_indices has same size/indices as full array x and y\n",
    "    for i, x in enumerate(arr1.flat):\n",
    "        #assume zero min\n",
    "        bin_indices1[cols1[i]] = compute_bin_upperbound(x, max1, num_bins)\n",
    "\n",
    "    bin_indices2 = np.zeros((ncols,), dtype=np.int16)\n",
    "    max2 = arr2.max()\n",
    "    for i, y in enumerate(arr2.flat):\n",
    "        #assume zero min\n",
    "        bin_indices2[cols2[i]] = compute_bin_upperbound(y, max2, num_bins)\n",
    "\n",
    "    hist = np.zeros((num_bins, num_bins), dtype=np.int16)\n",
    "    for i, b in enumerate(bin_indices1):\n",
    "        hist[b, bin_indices2[i]] += 1\n",
    "        \n",
    "    return hist"
   ]
  },
  {
   "cell_type": "code",
   "execution_count": 11,
   "metadata": {},
   "outputs": [],
   "source": [
    "%%px\n",
    "#import numba\n",
    "@numba.jit(nopython=True, fastmath=True)\n",
    "def numba_calc_mi_dis_csr(arr1, cols1, arr2, cols2, bins, m):\n",
    "    \"\"\" Calculates a mutual information distance D(X, Y) = H(X, Y) - I(X, Y) using bin-based method\n",
    "\n",
    "    It takes gene expression data from single cells, and compares them using standard calculation for\n",
    "    mutual information and joint entropy. It builds a 2d histogram, which is used to calculate P(arr1, arr2).\n",
    "\n",
    "    Args:\n",
    "        arr1 (float) nparray of csr: gene expression data for cell 1\n",
    "        cols1 (int): column indices for csr arr1\n",
    "        arr2 (float) nparray of csr: gene expression data for cell 2\n",
    "        cols2 (int): column indices for csr arr\n",
    "        bins           (int): number of bins\n",
    "        m              (int): number of genes\n",
    "    Returns:\n",
    "        a float between 0 and 1\n",
    "    \"\"\"\n",
    "    hist = numba_histogram2d_csr(arr1, cols1, arr2, cols2, m, bins)\n",
    "    \n",
    "    sm = np.sum(hist, axis=1)\n",
    "    tm = np.sum(hist, axis=0)\n",
    "    sm = sm / float(sm.sum())\n",
    "    tm = tm / float(tm.sum())\n",
    "\n",
    "    sm_tm = np.zeros((bins, bins), dtype=np.float32)\n",
    "    for i, s in enumerate(sm):\n",
    "        for j, t in enumerate(tm):\n",
    "            sm_tm[i, j] = s * t\n",
    "\n",
    "    fq = hist / float(m)\n",
    "    div = np.true_divide(fq, sm_tm)\n",
    "    numba_nan_fill(div)\n",
    "    ent = np.log(div)\n",
    "    numba_inf_fill(ent)\n",
    "    agg = np.multiply(fq, ent)\n",
    "    #joint_ent = -np.multiply(fq, numba_inf_fill(np.log(fq))).sum()\n",
    "    #return joint_ent - agg.sum()\n",
    "    return agg.sum()"
   ]
  },
  {
   "cell_type": "code",
   "execution_count": 12,
   "metadata": {},
   "outputs": [],
   "source": [
    "%%px\n",
    "#numba compilation cannot interpret the creation of a 2d array inside of this function so we pass in and out SM_block instead of returning it\n",
    "#import numba\n",
    "@numba.jit(nopython=True, fastmath=True)\n",
    "def process_matrices(Arows,Amat_data,Amat_indptr,Amat_indices,\n",
    "                     Brows,Bmat_data,Bmat_indptr,Bmat_indices,\n",
    "                     num_bins,num_genes,\n",
    "                     SM_block, symmetric=False):\n",
    "    #(mat1.n_obs,mat1.X.data,mat1.X.indptr,mat1.X.indices, mat2.n_obs,mat2.X.data,mat2.X.indptr,mat2.X.indices,SM,num_bins,mat2.n_vars,symmetric)\n",
    "\n",
    "    #Arows = mat1.n_obs\n",
    "    #Brows = mat2.n_obs\n",
    "    #num_genes = mat1.n_vars\n",
    "    \n",
    "    #SM_block = np.ndarray(shape=(Arows,Brows))#, dtype=float, order='F')\n",
    "    #SM_block = SM_block.reshape(Arows,Brows)\n",
    "    for i in range(Arows):\n",
    "        Arowstart = Amat_indptr[i]\n",
    "        Arowend   = Amat_indptr[i+1]\n",
    "        Arow_cols = Amat_indices[Arowstart:Arowend]\n",
    "        Arow_data = Amat_data[Arowstart:Arowend]\n",
    "\n",
    "        Bstart=0\n",
    "        Bend=Brows\n",
    "        #if(symmetric):Bstart=i #upper triangluar\n",
    "        if(symmetric):Bend=i+1 #lower triangular\n",
    "        for j in range(Bstart,Bend): \n",
    "            Browstart = Bmat_indptr[j]\n",
    "            Browend   = Bmat_indptr[j+1]\n",
    "            Brow_cols = Bmat_indices[Browstart:Browend]\n",
    "            Brow_data = Bmat_data[Browstart:Browend]               \n",
    "            SM_block[i,j] = numba_calc_mi_dis_csr(Arow_data, Arow_cols, Brow_data, Brow_cols, num_bins, num_genes)\n",
    "            #SM_block[i*Arows+j] = numba_calc_mi_dis_csr(Arow_data, Arow_cols, Brow_data, Brow_cols, num_bins, num_genes)\n",
    "\n",
    "            \n",
    "    return #SM_block\n"
   ]
  },
  {
   "cell_type": "code",
   "execution_count": 13,
   "metadata": {},
   "outputs": [],
   "source": [
    "%%px\n",
    "#from mpi4py import MPI\n",
    "from scipy.sparse import csr_matrix\n",
    "#import sys\n",
    "import pandas as pd\n",
    "\n",
    "#create a 2d list to hold blocks of similarity matrix\n",
    "#this should be a global var\n",
    "#SM = [[None for j in range(b)] for i in range(b)] \n",
    "\n",
    "def calc_distance_metric_distributed(in_file_path, project_name, nrows, ncols, nslices, SM):\n",
    "    \n",
    "    \"\"\" Prepares the already sliced input file for further calculation in MICA.\n",
    "    Enters pairs of slices (matrices) into temporary HDF5-format files. It enters them\n",
    "    individually, using their unique key. It also enters the parameter data for every single \n",
    "    pair into the key \"params\", which consists of: [key1, key2, num_bins, num_genes,\n",
    "    pair_index, project_name, num_slices]\n",
    "    Args:\n",
    "        in_file      (str): path to sliced HDF5-format file\n",
    "        project_name (str): project name used to generate path for final outputs\n",
    "        nrows : number of rows in global matrix\n",
    "        ncols : number of vars in global matrix\n",
    "    \"\"\"\n",
    "\n",
    "    \n",
    "    #create a 2d list to hold blocks of similarity matrix\n",
    "    #this should be a global var\n",
    "    #SM = [[None for j in range(b)] for i in range(b)] \n",
    "    \n",
    "    \n",
    "    #input file is full input that has been segmented into b blocks of rows\n",
    "    \n",
    "    #nranks would ideally be equal to  b(b+1)/2\n",
    "    comm = MPI.COMM_WORLD\n",
    "    size = comm.Get_size()\n",
    "    myrank = comm.Get_rank()\n",
    "    name = MPI.Get_processor_name()\n",
    "    #sys.stdout.write(\"Hello, World! I am process %d of %d on %s.\\n\" % (myrank, size, name))\n",
    "    \n",
    "    #in_ = pd.HDFStore(in_file, \"r\")  # slice.h5\n",
    "    #b = int(np.ceil(float(nrows) / float(slice_size)))\n",
    "    digit = int(np.floor(np.log10(nslices)) + 1)\n",
    "\n",
    "    num_bins = int(np.floor(nrows ** (1 / 3.0)))  # number of bins\n",
    "    #print(\"bins= \",bins)\n",
    "    #b = in_[\"attr\"].loc[\"slice\", 0]  # number of sliced matrix\n",
    "    b = nslices #number of row blocks (cells)\n",
    "    m = ncols  # number of cols per row (genes)\n",
    "\n",
    "    n_block_comparisons = int((b * (b + 1)) / 2)  # total number of row block comparisons needed to compute entire global similarity matrix\n",
    "    n_jobs_per_rank = n_block_comparisons/size\n",
    "    if (myrank == 0): print(\"block comparsons = %d. jobs per rank = %d\\n\" % (n_block_comparisons, n_jobs_per_rank))\n",
    "\n",
    "    #build list of row block comparisons that current mpi rank will process\n",
    "    myslices=[]\n",
    "    for i in range(b):\n",
    "        for j in range(i,b): # j in range [i,b]\n",
    "            idx = int(i * b + j - (i * (i + 1)) / 2)\n",
    "            targetrank = idx//n_jobs_per_rank\n",
    "            if (targetrank == myrank): myslices.append((i,j))            \n",
    "\n",
    "    #from list just generated, only do work assigned to your rank\n",
    "    for index, tuple in enumerate(myslices):\n",
    "        #print(\"tuple=\",tuple)\n",
    "        i=tuple[0] #block row\n",
    "        j=tuple[1] #block col      \n",
    "\n",
    "        #get 1st slice (row block) file\n",
    "        slice_name = str(i).zfill(digit)\n",
    "        ##ceb we only want to read this once per i,j combination\n",
    "        input_file = in_file_path + project_name + \".slice_\" + slice_name +\".h5ad\"\n",
    "        #print(\"infile seg1: \",input_file)\n",
    "        mat1 = utils.read_anndata_file(input_file)\n",
    "    \n",
    "\n",
    "        #get 2nd slice (row block) file\n",
    "        slice_name = str(j).zfill(digit)\n",
    "        input_file = in_file_path + project_name + \".slice_\" + slice_name +\".h5ad\"\n",
    "        #print(\"infile seg2: \",input_file)\n",
    "        mat2 = utils.read_anndata_file(input_file)    \n",
    "\n",
    "        #check to see if block comparison will result in a symmetric SM matrix\n",
    "        # so that we can reduce the number of computations in half\n",
    "        symmetric=False\n",
    "        if i==j: symmetric=True\n",
    "        \n",
    "        print(\"rank: \",myrank,\" comparison between segs:\",i,\" x \",j,\" symmetric=\",symmetric)\n",
    "            \n",
    "        #compute distance metrics between row blocks\n",
    "        \n",
    "        Arows = mat1.n_obs\n",
    "        Brows = mat2.n_obs\n",
    "        num_genes = mat1.n_vars #we will assume Acols==Bcols==num_genes\n",
    "        \n",
    "        #need SM for each block pair    \n",
    "        #creates local array of zeros and assigns to global 2d list\n",
    "        #create matrix of zeros with row order indexing\n",
    "        SM[i][j] = np.zeros(shape=(Arows,Brows), dtype = float, order = 'C')\n",
    " \n",
    "        #This numba function cannot create a numpy array internally so we return SM[i,j] as a variable\n",
    "        process_matrices(mat1.n_obs,mat1.X.data,mat1.X.indptr,mat1.X.indices, \n",
    "                         mat2.n_obs,mat2.X.data,mat2.X.indptr,mat2.X.indices,\n",
    "                         num_bins, num_genes, SM[i][j],\n",
    "                         symmetric #if i==j we can eliminate half of computations\n",
    "                        )\n",
    "\n",
    "        #convert to csr\n",
    "        #we may want to assign this to scalapack distributed matrix here\n",
    "        #SM[i][j]=csr_matrix(SM[i][j])\n",
    "\n",
    "    return"
   ]
  },
  {
   "cell_type": "code",
   "execution_count": 14,
   "metadata": {},
   "outputs": [
    {
     "name": "stdout",
     "output_type": "stream",
     "text": [
      "[stdout:0] /research/rgs01/home/clusterHome/cburdysh/MICA_Project/MICA_distributed/MICA\n"
     ]
    }
   ],
   "source": [
    "%%px\n",
    "import os\n",
    "cwd=os.getcwd()\n",
    "if rank==0:\n",
    "    print(cwd)\n",
    "    \n",
    "data_file_path = cwd+'/test_data/inputs/10x/PBMC/3k/pre-processed/'\n",
    "input_file_name = data_file_path + 'pbmc3k_preprocessed.h5ad'\n",
    "project_name = 'pbmc3k'\n",
    "output_file_name = data_file_path+project_name\n",
    "\n"
   ]
  },
  {
   "cell_type": "code",
   "execution_count": 15,
   "metadata": {},
   "outputs": [],
   "source": [
    "%%px\n",
    "#set slice size (max size of row blocks)\n",
    "slice_size = 500"
   ]
  },
  {
   "cell_type": "code",
   "execution_count": 16,
   "metadata": {},
   "outputs": [
    {
     "name": "stdout",
     "output_type": "stream",
     "text": [
      "[stdout:0] /research/rgs01/home/clusterHome/cburdysh/MICA_Project/MICA_distributed/MICA/test_data/inputs/10x/PBMC/3k/pre-processed/pbmc3k_preprocessed.h5ad\n"
     ]
    }
   ],
   "source": [
    "%%px\n",
    "if rank==0:\n",
    "    print (input_file_name)"
   ]
  },
  {
   "cell_type": "markdown",
   "metadata": {},
   "source": [
    "## Run Prep_dist() to split file into slices"
   ]
  },
  {
   "cell_type": "code",
   "execution_count": 17,
   "metadata": {},
   "outputs": [
    {
     "name": "stdout",
     "output_type": "stream",
     "text": [
      "[stdout:0] \n",
      "initial data size= (2496, 10499)\n",
      "output_file_name:  /research/rgs01/home/clusterHome/cburdysh/MICA_Project/MICA_distributed/MICA/test_data/inputs/10x/PBMC/3k/pre-processed/pbmc3k.slice_0.h5ad\n",
      "output_file_name:  /research/rgs01/home/clusterHome/cburdysh/MICA_Project/MICA_distributed/MICA/test_data/inputs/10x/PBMC/3k/pre-processed/pbmc3k.slice_1.h5ad\n",
      "output_file_name:  /research/rgs01/home/clusterHome/cburdysh/MICA_Project/MICA_distributed/MICA/test_data/inputs/10x/PBMC/3k/pre-processed/pbmc3k.slice_2.h5ad\n",
      "output_file_name:  /research/rgs01/home/clusterHome/cburdysh/MICA_Project/MICA_distributed/MICA/test_data/inputs/10x/PBMC/3k/pre-processed/pbmc3k.slice_3.h5ad\n",
      "output_file_name:  /research/rgs01/home/clusterHome/cburdysh/MICA_Project/MICA_distributed/MICA/test_data/inputs/10x/PBMC/3k/pre-processed/pbmc3k.slice_4.h5ad\n"
     ]
    },
    {
     "name": "stderr",
     "output_type": "stream",
     "text": [
      "[stderr:0] \n",
      "/home/cburdysh/.conda/envs/py36/lib/python3.6/site-packages/anndata/_core/anndata.py:1094: FutureWarning: is_categorical is deprecated and will be removed in a future version.  Use is_categorical_dtype instead\n",
      "  if not is_categorical(df_full[k]):\n",
      "/home/cburdysh/.conda/envs/py36/lib/python3.6/site-packages/anndata/_core/anndata.py:1192: FutureWarning: is_categorical is deprecated and will be removed in a future version.  Use is_categorical_dtype instead\n",
      "  if is_string_dtype(df[key]) and not is_categorical(df[key])\n"
     ]
    }
   ],
   "source": [
    "%%px\n",
    "#Run prep.py only on one processor to create the slice files\n",
    "\n",
    "g_nrows=0 #global number of rows (cells)\n",
    "ncols=0\n",
    "nslices=0\n",
    "if rank==0: \n",
    "    #for some unknown reason, running the prep_dist defined in MICA.utils stalls here, although they are identical\n",
    "    g_nrows, ncols, nslices = prep_dist(input_file_name, output_file_name, slice_size)\n",
    "    \n",
    "# this uses the iparallel dview object to distribute these variables from the notebook thread to all mpi ranks\n",
    "# but the ranks can't communicate back to the notebook thread\n",
    "#dview.push(dict(nrows=nrows, ncols=ncols, nslices=nslices))\n",
    "\n",
    "#broadcast resultant variables from root to the other ranks\n",
    "g_nrows = comm.bcast(g_nrows, root=0)\n",
    "ncols = comm.bcast(ncols, root=0)\n",
    "nslices = comm.bcast(nslices, root=0)"
   ]
  },
  {
   "cell_type": "code",
   "execution_count": 20,
   "metadata": {},
   "outputs": [
    {
     "name": "stdout",
     "output_type": "stream",
     "text": [
      "[stdout:0] global nrows, ncols, slices:  2496 10499 5\n"
     ]
    }
   ],
   "source": [
    "%%px\n",
    "if rank==0:\n",
    "    print(\"global nrows, ncols, slices: \",g_nrows, ncols, nslices)"
   ]
  },
  {
   "cell_type": "markdown",
   "metadata": {},
   "source": [
    "## Read in anndata preprocessed files (in distributed mode, by node number) and calculate distance metrics between all row pairs\n"
   ]
  },
  {
   "cell_type": "code",
   "execution_count": 21,
   "metadata": {},
   "outputs": [
    {
     "name": "stdout",
     "output_type": "stream",
     "text": [
      "[stdout:0] \n",
      "block comparsons = 15. jobs per rank = 3\n",
      "\n",
      "rank:  0  comparison between segs: 0  x  0  symmetric= True\n",
      "rank:  0  comparison between segs: 0  x  1  symmetric= False\n",
      "rank:  0  comparison between segs: 0  x  2  symmetric= False\n",
      "rank:  0  comparison between segs: 0  x  3  symmetric= False\n",
      "Elapsed = 27.025275945663452\n",
      "[stdout:1] \n",
      "rank:  1  comparison between segs: 0  x  4  symmetric= False\n",
      "rank:  1  comparison between segs: 1  x  1  symmetric= True\n",
      "rank:  1  comparison between segs: 1  x  2  symmetric= False\n",
      "rank:  1  comparison between segs: 1  x  3  symmetric= False\n",
      "Elapsed = 26.987526178359985\n",
      "[stdout:2] \n",
      "rank:  2  comparison between segs: 1  x  4  symmetric= False\n",
      "rank:  2  comparison between segs: 2  x  2  symmetric= True\n",
      "rank:  2  comparison between segs: 2  x  3  symmetric= False\n",
      "rank:  2  comparison between segs: 2  x  4  symmetric= False\n",
      "Elapsed = 27.067891359329224\n",
      "[stdout:3] \n",
      "rank:  3  comparison between segs: 3  x  3  symmetric= True\n",
      "rank:  3  comparison between segs: 3  x  4  symmetric= False\n",
      "rank:  3  comparison between segs: 4  x  4  symmetric= True\n",
      "Elapsed = 15.482733011245728\n"
     ]
    }
   ],
   "source": [
    "%%px\n",
    "#create a 2d list to hold blocks of similarity matrix\n",
    "#this should be stored in a distributed scalapack matrix\n",
    "b=nslices #row blocks\n",
    "SM = [[None for j in range(b)] for i in range(b)] \n",
    "\n",
    "start = time.time()\n",
    "calc_distance_metric_distributed(data_file_path, project_name, g_nrows, ncols, nslices, SM)\n",
    "end = time.time()\n",
    "print(\"Elapsed = %s\" % (end - start))\n"
   ]
  },
  {
   "cell_type": "markdown",
   "metadata": {},
   "source": [
    "## Create distributed matrix for scalapack and copy distributed blocks into object"
   ]
  },
  {
   "cell_type": "code",
   "execution_count": 28,
   "metadata": {},
   "outputs": [
    {
     "name": "stdout",
     "output_type": "stream",
     "text": [
      "[stdout:0] \n",
      "Rank: 0  SM[ 0 ][ 0 ]= [[0.33805914 0.         0.         ... 0.         0.         0.        ]\n",
      " [0.066332   0.45212405 0.         ... 0.         0.         0.        ]\n",
      " [0.05676848 0.06047588 0.39173321 ... 0.         0.         0.        ]\n",
      " ...\n",
      " [0.07054255 0.08004723 0.06371855 ... 0.40356913 0.         0.        ]\n",
      " [0.0512154  0.05524977 0.04704487 ... 0.05568945 0.28595673 0.        ]\n",
      " [0.05874435 0.06618731 0.05463269 ... 0.06344674 0.04428717 0.32672655]]\n",
      "Rank: 0  SM[ 0 ][ 0 ] size= (500, 500)\n",
      "Rank: 0  SM[ 0 ][ 1 ]= [[0.06175365 0.05988961 0.06091765 ... 0.05264516 0.06151162 0.06741739]\n",
      " [0.07463322 0.06648138 0.06281537 ... 0.05555061 0.0630906  0.07098869]\n",
      " [0.05996313 0.08546759 0.05180793 ... 0.08038354 0.05908661 0.05553384]\n",
      " ...\n",
      " [0.06945782 0.06715911 0.06659123 ... 0.05521862 0.06859925 0.06996816]\n",
      " [0.04923181 0.04707469 0.04850244 ... 0.04421112 0.05931689 0.05210484]\n",
      " [0.06143369 0.05605142 0.05415353 ... 0.05311433 0.05567422 0.05471078]]\n",
      "Rank: 0  SM[ 0 ][ 1 ] size= (500, 500)\n",
      "Rank: 0  SM[ 0 ][ 2 ]= [[0.05419325 0.03984661 0.06144742 ... 0.05367169 0.06530753 0.05472997]\n",
      " [0.06407495 0.04264058 0.06660029 ... 0.05368422 0.07117776 0.05810067]\n",
      " [0.08622089 0.05814876 0.0605807  ... 0.04815174 0.05436043 0.05334431]\n",
      " ...\n",
      " [0.06368969 0.04557934 0.07026755 ... 0.05460584 0.07101769 0.06039171]\n",
      " [0.04645433 0.03502068 0.05843149 ... 0.05385515 0.05409279 0.05525464]\n",
      " [0.05547756 0.0411394  0.05490724 ... 0.04780348 0.05827775 0.04979826]]\n",
      "Rank: 0  SM[ 0 ][ 2 ] size= (500, 500)\n",
      "Rank: 0  SM[ 0 ][ 3 ]= [[0.06422591 0.05375056 0.0716858  ... 0.04665933 0.05437516 0.04643083]\n",
      " [0.06565035 0.05718801 0.08206358 ... 0.04963229 0.05822137 0.051691  ]\n",
      " [0.05227155 0.05204597 0.06260221 ... 0.04411275 0.04634208 0.06807274]\n",
      " ...\n",
      " [0.06951994 0.05701282 0.07989406 ... 0.05093386 0.05900729 0.05304349]\n",
      " [0.05073217 0.05485231 0.05378277 ... 0.04760192 0.0461847  0.03821696]\n",
      " [0.05788704 0.0507162  0.06317546 ... 0.0399662  0.04846899 0.04493051]]\n",
      "Rank: 0  SM[ 0 ][ 3 ] size= (500, 500)\n",
      "[stdout:1] \n",
      "Rank: 1  SM[ 0 ][ 4 ]= [[0.06847511 0.07097353 0.03970045 ... 0.05752099 0.04267657 0.0668972 ]\n",
      " [0.07487861 0.08324064 0.03985439 ... 0.06336014 0.04781611 0.06866279]\n",
      " [0.05921373 0.06319516 0.03860612 ... 0.05280795 0.04746441 0.05657429]\n",
      " ...\n",
      " [0.07337022 0.08141929 0.04501544 ... 0.06437086 0.04758679 0.07150667]\n",
      " [0.05424045 0.05598563 0.04197506 ... 0.06030926 0.04726073 0.04963261]\n",
      " [0.05990425 0.06294921 0.03835283 ... 0.04903976 0.03910835 0.0537745 ]]\n",
      "Rank: 1  SM[ 0 ][ 4 ] size= (500, 496)\n",
      "Rank: 1  SM[ 1 ][ 1 ]= [[0.36926112 0.         0.         ... 0.         0.         0.        ]\n",
      " [0.0649967  0.47480536 0.         ... 0.         0.         0.        ]\n",
      " [0.05946971 0.05546087 0.2805864  ... 0.         0.         0.        ]\n",
      " ...\n",
      " [0.05562528 0.08562544 0.04675215 ... 0.35546833 0.         0.        ]\n",
      " [0.05763337 0.0595012  0.06285615 ... 0.05431594 0.37590516 0.        ]\n",
      " [0.0664442  0.06006738 0.06291901 ... 0.04923544 0.06159119 0.33837848]]\n",
      "Rank: 1  SM[ 1 ][ 1 ] size= (500, 500)\n",
      "Rank: 1  SM[ 1 ][ 2 ]= [[0.06065055 0.04504187 0.05893847 ... 0.04935702 0.06571482 0.05086922]\n",
      " [0.08662393 0.05990349 0.06392962 ... 0.04940382 0.05585309 0.05501573]\n",
      " [0.05087712 0.03815519 0.05841739 ... 0.05099607 0.06001078 0.05180433]\n",
      " ...\n",
      " [0.07938684 0.05457236 0.0579075  ... 0.04808268 0.04795206 0.04951413]\n",
      " [0.0561176  0.04206122 0.07078369 ... 0.05867557 0.05816296 0.06421494]\n",
      " [0.05704206 0.04102859 0.06386387 ... 0.05113714 0.06791098 0.05598462]]\n",
      "Rank: 1  SM[ 1 ][ 2 ] size= (500, 500)\n",
      "Rank: 1  SM[ 1 ][ 3 ]= [[0.06076559 0.05101316 0.07101375 ... 0.04624239 0.05517769 0.04884691]\n",
      " [0.0549031  0.05313446 0.06978574 ... 0.04576841 0.05108141 0.07382728]\n",
      " [0.06259604 0.05331544 0.06407956 ... 0.04431207 0.04906652 0.04413897]\n",
      " ...\n",
      " [0.04728409 0.0498804  0.05883738 ... 0.04199276 0.0444258  0.06578285]\n",
      " [0.06396531 0.06344417 0.06392801 ... 0.05056082 0.04909084 0.04948007]\n",
      " [0.06200194 0.05412382 0.07024518 ... 0.05253737 0.0570298  0.04525735]]\n",
      "Rank: 1  SM[ 1 ][ 3 ] size= (500, 500)\n",
      "[stdout:2] \n",
      "Rank: 2  SM[ 1 ][ 4 ]= [[0.06705758 0.07192665 0.03988347 ... 0.0543643  0.04315898 0.06187383]\n",
      " [0.06419489 0.06952495 0.03905148 ... 0.05505974 0.04725499 0.05700908]\n",
      " [0.06460997 0.06484586 0.03837329 ... 0.05474404 0.04266483 0.0618501 ]\n",
      " ...\n",
      " [0.05233661 0.05731147 0.0371722  ... 0.05110508 0.04053154 0.04998997]\n",
      " [0.06419932 0.0681013  0.04618461 ... 0.06303542 0.05017369 0.06052201]\n",
      " [0.06958159 0.07216021 0.0417535  ... 0.05785041 0.04603151 0.06383234]]\n",
      "Rank: 2  SM[ 1 ][ 4 ] size= (500, 496)\n",
      "Rank: 2  SM[ 2 ][ 2 ]= [[0.47185888 0.         0.         ... 0.         0.         0.        ]\n",
      " [0.05808009 0.2005066  0.         ... 0.         0.         0.        ]\n",
      " [0.06007871 0.04305244 0.38251957 ... 0.         0.         0.        ]\n",
      " ...\n",
      " [0.04696431 0.03941801 0.05816522 ... 0.22813577 0.         0.        ]\n",
      " [0.05528725 0.04159726 0.05941678 ... 0.05348194 0.34811828 0.        ]\n",
      " [0.05336141 0.03983217 0.06260699 ... 0.05646926 0.05645589 0.28499125]]\n",
      "Rank: 2  SM[ 2 ][ 2 ] size= (500, 500)\n",
      "Rank: 2  SM[ 2 ][ 3 ]= [[0.05361056 0.04969187 0.06321347 ... 0.04257598 0.04639375 0.07628871]\n",
      " [0.04042885 0.03817032 0.04731335 ... 0.0323127  0.03778737 0.05184026]\n",
      " [0.06081794 0.06128248 0.07157888 ... 0.0528828  0.05039753 0.05338696]\n",
      " ...\n",
      " [0.05370509 0.05362942 0.05522447 ... 0.04620089 0.04620602 0.04498745]\n",
      " [0.06397216 0.05190325 0.07202193 ... 0.0471703  0.05716278 0.04634024]\n",
      " [0.05722816 0.0596744  0.0589295  ... 0.04791001 0.04712525 0.04530004]]\n",
      "Rank: 2  SM[ 2 ][ 3 ] size= (500, 500)\n",
      "Rank: 2  SM[ 2 ][ 4 ]= [[0.05623877 0.06330495 0.03707432 ... 0.0532004  0.04447162 0.05510562]\n",
      " [0.04307907 0.04490316 0.03052802 ... 0.03773295 0.03303368 0.04051204]\n",
      " [0.06636056 0.06733029 0.04579162 ... 0.06413861 0.05092369 0.06292395]\n",
      " ...\n",
      " [0.0539119  0.05425625 0.03926986 ... 0.0591139  0.04263831 0.04882964]\n",
      " [0.06829232 0.07162076 0.04077879 ... 0.05506733 0.04388068 0.06391158]\n",
      " [0.05954116 0.06013628 0.04272751 ... 0.06163241 0.04991517 0.05431681]]\n",
      "Rank: 2  SM[ 2 ][ 4 ] size= (500, 496)\n",
      "[stdout:3] \n",
      "Rank: 3  SM[ 3 ][ 3 ]= [[0.31820183 0.         0.         ... 0.         0.         0.        ]\n",
      " [0.05568807 0.27833286 0.         ... 0.         0.         0.        ]\n",
      " [0.06682493 0.05543802 0.39473329 ... 0.         0.         0.        ]\n",
      " ...\n",
      " [0.04427414 0.04981099 0.04927863 ... 0.22806095 0.         0.        ]\n",
      " [0.05479535 0.0445576  0.05958015 ... 0.03962469 0.24062358 0.        ]\n",
      " [0.04592672 0.04195716 0.05565043 ... 0.03659553 0.04119818 0.33295979]]\n",
      "Rank: 3  SM[ 3 ][ 3 ] size= (500, 500)\n",
      "Rank: 3  SM[ 3 ][ 4 ]= [[0.06814582 0.07173383 0.04175657 ... 0.05755427 0.04377787 0.06590087]\n",
      " [0.05753912 0.05664569 0.04362856 ... 0.06031119 0.04855638 0.0521648 ]\n",
      " [0.0757417  0.08382838 0.0412269  ... 0.06278606 0.04938605 0.07078979]\n",
      " ...\n",
      " [0.04752666 0.04829972 0.03668782 ... 0.05541113 0.04255601 0.04696498]\n",
      " [0.05650948 0.05814594 0.03474182 ... 0.05006466 0.03841523 0.05284863]\n",
      " [0.04740103 0.05372804 0.03329235 ... 0.04757973 0.03781599 0.0454046 ]]\n",
      "Rank: 3  SM[ 3 ][ 4 ] size= (500, 496)\n",
      "Rank: 3  SM[ 4 ][ 4 ]= [[0.36571492 0.         0.         ... 0.         0.         0.        ]\n",
      " [0.07516374 0.40360028 0.         ... 0.         0.         0.        ]\n",
      " [0.04148841 0.04280699 0.17391227 ... 0.         0.         0.        ]\n",
      " ...\n",
      " [0.06023495 0.05962865 0.04442571 ... 0.28514319 0.         0.        ]\n",
      " [0.04525105 0.04781425 0.03522224 ... 0.05104461 0.21451758 0.        ]\n",
      " [0.06881613 0.07417937 0.04122033 ... 0.05835302 0.04515555 0.31753523]]\n",
      "Rank: 3  SM[ 4 ][ 4 ] size= (496, 496)\n"
     ]
    }
   ],
   "source": [
    "%%px \n",
    "#from scipy.sparse import csr_matrix #may not use csr as it complicates copy to distributed scalapack and is not used in scalapack apparently\n",
    "import collections\n",
    "##lr=[range(5)]\n",
    "##lc=[range(5)]\n",
    "for i in range(b):\n",
    "    for j in range(i,b): # j in range [i,b]\n",
    "        if isinstance(SM[i][j], collections.Iterable):\n",
    "            #lm=SM[i][j]#.ravel()\n",
    "            #B=csr_matrix(SM[0][0]) \n",
    "            #print(\"Rank:\",rank, \" SM[\",i,\"][\",j,\"] nnz=\",SM[i][j].getnnz)\n",
    "            print(\"Rank:\",rank, \" SM[\",i,\"][\",j,\"]=\",SM[i][j])\n",
    "            print(\"Rank:\",rank, \" SM[\",i,\"][\",j,\"] size=\",np.shape(SM[i][j]))"
   ]
  },
  {
   "cell_type": "markdown",
   "metadata": {},
   "source": [
    "## Populate a global array with all of the MI data from each rank\n",
    "\n",
    "Preferably, we would like each rank to contribute of their block MI matrices to the global matrix,\n",
    "but currently the distributed global matrix has to be constructed from a global (not distributed) array"
   ]
  },
  {
   "cell_type": "markdown",
   "metadata": {},
   "source": [
    "First, each rank loads it's matrix contribution into a global block matrix, \\\n",
    "And then we use MPI to transfer these contributions to rank 0 from all other ranks."
   ]
  },
  {
   "cell_type": "code",
   "execution_count": 25,
   "metadata": {},
   "outputs": [],
   "source": [
    "#We may be able to have each rank copy their data directly to the distributed global matrix (that we have yet to initialize) \n",
    "#so that we can avoid having to agglomerate matrix data on a single rank\n",
    "#dA = dA.np2self(local_a, srow, scol, rank=0)"
   ]
  },
  {
   "cell_type": "code",
   "execution_count": 31,
   "metadata": {},
   "outputs": [
    {
     "name": "stdout",
     "output_type": "stream",
     "text": [
      "[stdout:0] \n",
      "recv[ 0 4 ] tag:  4  shape:  (500, 496) [[0.06847511 0.07097353 0.03970045 ... 0.05752099 0.04267657 0.0668972 ]\n",
      " [0.07487861 0.08324064 0.03985439 ... 0.06336014 0.04781611 0.06866279]\n",
      " [0.05921373 0.06319516 0.03860612 ... 0.05280795 0.04746441 0.05657429]\n",
      " ...\n",
      " [0.07337022 0.08141929 0.04501544 ... 0.06437086 0.04758679 0.07150667]\n",
      " [0.05424045 0.05598563 0.04197506 ... 0.06030926 0.04726073 0.04963261]\n",
      " [0.05990425 0.06294921 0.03835283 ... 0.04903976 0.03910835 0.0537745 ]]\n",
      "recv[ 1 1 ] tag:  5  shape:  (500, 500) [[0.36926112 0.         0.         ... 0.         0.         0.        ]\n",
      " [0.0649967  0.47480536 0.         ... 0.         0.         0.        ]\n",
      " [0.05946971 0.05546087 0.2805864  ... 0.         0.         0.        ]\n",
      " ...\n",
      " [0.05562528 0.08562544 0.04675215 ... 0.35546833 0.         0.        ]\n",
      " [0.05763337 0.0595012  0.06285615 ... 0.05431594 0.37590516 0.        ]\n",
      " [0.0664442  0.06006738 0.06291901 ... 0.04923544 0.06159119 0.33837848]]\n",
      "recv[ 1 2 ] tag:  6  shape:  (500, 500) [[0.06065055 0.04504187 0.05893847 ... 0.04935702 0.06571482 0.05086922]\n",
      " [0.08662393 0.05990349 0.06392962 ... 0.04940382 0.05585309 0.05501573]\n",
      " [0.05087712 0.03815519 0.05841739 ... 0.05099607 0.06001078 0.05180433]\n",
      " ...\n",
      " [0.07938684 0.05457236 0.0579075  ... 0.04808268 0.04795206 0.04951413]\n",
      " [0.0561176  0.04206122 0.07078369 ... 0.05867557 0.05816296 0.06421494]\n",
      " [0.05704206 0.04102859 0.06386387 ... 0.05113714 0.06791098 0.05598462]]\n",
      "recv[ 1 3 ] tag:  7  shape:  (500, 500) [[0.06076559 0.05101316 0.07101375 ... 0.04624239 0.05517769 0.04884691]\n",
      " [0.0549031  0.05313446 0.06978574 ... 0.04576841 0.05108141 0.07382728]\n",
      " [0.06259604 0.05331544 0.06407956 ... 0.04431207 0.04906652 0.04413897]\n",
      " ...\n",
      " [0.04728409 0.0498804  0.05883738 ... 0.04199276 0.0444258  0.06578285]\n",
      " [0.06396531 0.06344417 0.06392801 ... 0.05056082 0.04909084 0.04948007]\n",
      " [0.06200194 0.05412382 0.07024518 ... 0.05253737 0.0570298  0.04525735]]\n",
      "recv[ 1 4 ] tag:  8  shape:  (500, 496) [[0.06705758 0.07192665 0.03988347 ... 0.0543643  0.04315898 0.06187383]\n",
      " [0.06419489 0.06952495 0.03905148 ... 0.05505974 0.04725499 0.05700908]\n",
      " [0.06460997 0.06484586 0.03837329 ... 0.05474404 0.04266483 0.0618501 ]\n",
      " ...\n",
      " [0.05233661 0.05731147 0.0371722  ... 0.05110508 0.04053154 0.04998997]\n",
      " [0.06419932 0.0681013  0.04618461 ... 0.06303542 0.05017369 0.06052201]\n",
      " [0.06958159 0.07216021 0.0417535  ... 0.05785041 0.04603151 0.06383234]]\n",
      "recv[ 2 2 ] tag:  9  shape:  (500, 500) [[0.47185888 0.         0.         ... 0.         0.         0.        ]\n",
      " [0.05808009 0.2005066  0.         ... 0.         0.         0.        ]\n",
      " [0.06007871 0.04305244 0.38251957 ... 0.         0.         0.        ]\n",
      " ...\n",
      " [0.04696431 0.03941801 0.05816522 ... 0.22813577 0.         0.        ]\n",
      " [0.05528725 0.04159726 0.05941678 ... 0.05348194 0.34811828 0.        ]\n",
      " [0.05336141 0.03983217 0.06260699 ... 0.05646926 0.05645589 0.28499125]]\n",
      "recv[ 2 3 ] tag:  10  shape:  (500, 500) [[0.05361056 0.04969187 0.06321347 ... 0.04257598 0.04639375 0.07628871]\n",
      " [0.04042885 0.03817032 0.04731335 ... 0.0323127  0.03778737 0.05184026]\n",
      " [0.06081794 0.06128248 0.07157888 ... 0.0528828  0.05039753 0.05338696]\n",
      " ...\n",
      " [0.05370509 0.05362942 0.05522447 ... 0.04620089 0.04620602 0.04498745]\n",
      " [0.06397216 0.05190325 0.07202193 ... 0.0471703  0.05716278 0.04634024]\n",
      " [0.05722816 0.0596744  0.0589295  ... 0.04791001 0.04712525 0.04530004]]\n",
      "recv[ 2 4 ] tag:  11  shape:  (500, 496) [[0.05623877 0.06330495 0.03707432 ... 0.0532004  0.04447162 0.05510562]\n",
      " [0.04307907 0.04490316 0.03052802 ... 0.03773295 0.03303368 0.04051204]\n",
      " [0.06636056 0.06733029 0.04579162 ... 0.06413861 0.05092369 0.06292395]\n",
      " ...\n",
      " [0.0539119  0.05425625 0.03926986 ... 0.0591139  0.04263831 0.04882964]\n",
      " [0.06829232 0.07162076 0.04077879 ... 0.05506733 0.04388068 0.06391158]\n",
      " [0.05954116 0.06013628 0.04272751 ... 0.06163241 0.04991517 0.05431681]]\n",
      "recv[ 3 3 ] tag:  12  shape:  (500, 500) [[0.31820183 0.         0.         ... 0.         0.         0.        ]\n",
      " [0.05568807 0.27833286 0.         ... 0.         0.         0.        ]\n",
      " [0.06682493 0.05543802 0.39473329 ... 0.         0.         0.        ]\n",
      " ...\n",
      " [0.04427414 0.04981099 0.04927863 ... 0.22806095 0.         0.        ]\n",
      " [0.05479535 0.0445576  0.05958015 ... 0.03962469 0.24062358 0.        ]\n",
      " [0.04592672 0.04195716 0.05565043 ... 0.03659553 0.04119818 0.33295979]]\n",
      "recv[ 3 4 ] tag:  13  shape:  (500, 496) [[0.06814582 0.07173383 0.04175657 ... 0.05755427 0.04377787 0.06590087]\n",
      " [0.05753912 0.05664569 0.04362856 ... 0.06031119 0.04855638 0.0521648 ]\n",
      " [0.0757417  0.08382838 0.0412269  ... 0.06278606 0.04938605 0.07078979]\n",
      " ...\n",
      " [0.04752666 0.04829972 0.03668782 ... 0.05541113 0.04255601 0.04696498]\n",
      " [0.05650948 0.05814594 0.03474182 ... 0.05006466 0.03841523 0.05284863]\n",
      " [0.04740103 0.05372804 0.03329235 ... 0.04757973 0.03781599 0.0454046 ]]\n",
      "recv[ 4 4 ] tag:  14  shape:  (496, 496) [[0.36571492 0.         0.         ... 0.         0.         0.        ]\n",
      " [0.07516374 0.40360028 0.         ... 0.         0.         0.        ]\n",
      " [0.04148841 0.04280699 0.17391227 ... 0.         0.         0.        ]\n",
      " ...\n",
      " [0.06023495 0.05962865 0.04442571 ... 0.28514319 0.         0.        ]\n",
      " [0.04525105 0.04781425 0.03522224 ... 0.05104461 0.21451758 0.        ]\n",
      " [0.06881613 0.07417937 0.04122033 ... 0.05835302 0.04515555 0.31753523]]\n",
      "[stdout:1] \n",
      "send[ 0 4 ] tag:  4\n",
      "send[ 1 1 ] tag:  5\n",
      "send[ 1 2 ] tag:  6\n",
      "send[ 1 3 ] tag:  7\n",
      "[stdout:2] \n",
      "send[ 1 4 ] tag:  8\n",
      "send[ 2 2 ] tag:  9\n",
      "send[ 2 3 ] tag:  10\n",
      "send[ 2 4 ] tag:  11\n",
      "[stdout:3] \n",
      "send[ 3 3 ] tag:  12\n",
      "send[ 3 4 ] tag:  13\n",
      "send[ 4 4 ] tag:  14\n"
     ]
    }
   ],
   "source": [
    "%%px\n",
    "#copy SM[i][j] from each rank to root rank 0\n",
    "n_jobs_per_rank= (int((b * (b + 1)) / 2))/comm.Get_size()\n",
    "import collections\n",
    "for i in range(b):\n",
    "    for j in range(i,b): # j in range [i,b]\n",
    "        idx = int(i * b + j - (i * (i + 1)) / 2)\n",
    "        srank = idx//n_jobs_per_rank\n",
    "        if rank!=0 and isinstance(SM[i][j], collections.Iterable):\n",
    "            #print(\"send[\",i,j,\"] tag: \",idx)\n",
    "            comm.send(SM[i][j],dest=0,tag=idx)\n",
    "        elif rank==0 and not isinstance(SM[i][j], collections.Iterable):\n",
    "            #MB=np.zeros(shape=(Arows,Brows), dtype = float, order = 'C')\n",
    "            MB=comm.recv( source=srank, tag=idx)\n",
    "            SM[i][j]=MB\n",
    "            #print(\"recv[\",i,j,\"] tag: \",idx,\" shape: \",MB.shape, SM[i][j])\n",
    "            "
   ]
  },
  {
   "cell_type": "code",
   "execution_count": 33,
   "metadata": {},
   "outputs": [],
   "source": [
    "#%%px\n",
    "###lr=[range(4)]\n",
    "###lc=[range(4)]\n",
    "####Check to see of data was transferred to rank 0\n",
    "#if rank==0:\n",
    "#    for i in range(b):\n",
    "#            for j in range(i,b): # j in range [i,b]\n",
    "#                #print(\"SM[\",i,j,\"] \",np.shape(SM[i][i]))\n",
    "#                print(\"SM[\",i,j,\"] \",SM[i][j])\n",
    "##                print( (SM[i][j])[lr,lc] )   "
   ]
  },
  {
   "cell_type": "code",
   "execution_count": 24,
   "metadata": {},
   "outputs": [],
   "source": [
    "#%%px\n",
    "#from inspect import getmembers, isfunction, ismodule\n",
    "#if rank == 0:\n",
    "#    print([o[0] for o in getmembers(scalapy) if ismodule(o[1])])"
   ]
  },
  {
   "cell_type": "code",
   "execution_count": 25,
   "metadata": {},
   "outputs": [],
   "source": [
    "#%%px\n",
    "#from inspect import getmembers, isfunction, ismodule\n",
    "#import scalapy\n",
    "#if rank==0:\n",
    "#    print(getmembers(scalapy.blacs, isfunction))\n",
    "#    #print(getmembers(scalapy.routines, isfunction))"
   ]
  },
  {
   "cell_type": "code",
   "execution_count": 26,
   "metadata": {},
   "outputs": [],
   "source": [
    "#%%px\n",
    "#total number of global blocks = total number of block comparisons\n",
    "#Should be greater than number of ranks to improve load balancing\n",
    "# b is number of slices (blocks of rows) original data has been discretized into.\n",
    "#The size of these blocks can be variable\n",
    "#global_number_of_matrix_blocks= int((b * (b + 1)) / 2) \n",
    "\n",
    "#We'll use a 2d process grid to distribute blocks so we want to have num_ranks divisivle by 2"
   ]
  },
  {
   "cell_type": "code",
   "execution_count": 27,
   "metadata": {},
   "outputs": [],
   "source": [
    "#bcast SM[i][j] from each rank to root rank 0 so that we can load global matrix array\n"
   ]
  },
  {
   "cell_type": "markdown",
   "metadata": {},
   "source": [
    "## Convert array into distributed block cyclic global matrix\n",
    "Simply load a numpy vector with data from each block matrix to use in scalapak distributed matrix initialization"
   ]
  },
  {
   "cell_type": "code",
   "execution_count": 34,
   "metadata": {},
   "outputs": [
    {
     "name": "stdout",
     "output_type": "stream",
     "text": [
      "[stdout:0] \n",
      "rank= 0 loading SM[ 0 , 0  shape= (500, 500)\n",
      "rank= 0 loading SM[ 0 , 1  shape= (500, 500)\n",
      "rank= 0 loading SM[ 0 , 2  shape= (500, 500)\n",
      "rank= 0 loading SM[ 0 , 3  shape= (500, 500)\n",
      "rank= 0 loading SM[ 0 , 4  shape= (500, 496)\n",
      "rank= 0 loading SM[ 1 , 1  shape= (500, 500)\n",
      "rank= 0 loading SM[ 1 , 2  shape= (500, 500)\n",
      "rank= 0 loading SM[ 1 , 3  shape= (500, 500)\n",
      "rank= 0 loading SM[ 1 , 4  shape= (500, 496)\n",
      "rank= 0 loading SM[ 2 , 2  shape= (500, 500)\n",
      "rank= 0 loading SM[ 2 , 3  shape= (500, 500)\n",
      "rank= 0 loading SM[ 2 , 4  shape= (500, 496)\n",
      "rank= 0 loading SM[ 3 , 3  shape= (500, 500)\n",
      "rank= 0 loading SM[ 3 , 4  shape= (500, 496)\n",
      "rank= 0 loading SM[ 4 , 4  shape= (496, 496)\n"
     ]
    }
   ],
   "source": [
    "%%px\n",
    "import collections\n",
    "\n",
    "#create global 2d array to store MI info which will be sent to create block cyclic distributed matrix\n",
    "#I would like to know how to create this matrix without having to have the memory of a global array on each rank\n",
    "\n",
    "#the following two functions are part of the scalapy blockcyclic.py file\n",
    "#possibly use readmatrix, if we can write out in correct format\n",
    "#mpi_readmatrix(fname, comm, gshape, dtype, blocksize, process_grid, order='F', displacement=0)\n",
    "\n",
    "#We can write out local arrays with the following function, and hopefully this creates a distributed matrix file we can read back in\n",
    "#without having to gather all of the data on a single rank\n",
    "#To do this we need to create a process grid\n",
    "#def mpi_writematrix(fname, local_array, comm, gshape, dtype, blocksize, process_grid, order='F', displacement=0):\n",
    "\n",
    "global_MI=np.zeros([g_nrows,g_nrows])\n",
    "#global_diag=np.zeros([g_nrows,2]) #add a second col so we can do scalapack matrix ops on it\n",
    "global_diag=np.zeros([g_nrows,g_nrows]) #add a second col so we can do scalapack matrix ops on it\n",
    "\n",
    "blocksize=slice_size\n",
    "if rank==0:\n",
    "    #load rank data into global matrix\n",
    "    for i in range(b):\n",
    "        for j in range(i,b): # j in range [i,b]\n",
    "            #if SM[i][j]!=None:\n",
    "            if isinstance(SM[i][j], collections.Iterable):\n",
    "                lA = SM[i][j]\n",
    "                print( \"rank=\",rank,\"loading SM[\",i,\",\",j,\" shape=\",np.shape(lA) )\n",
    "                lr=np.shape(lA)[0]\n",
    "                lc=np.shape(lA)[1]\n",
    "                for ii in range(lr):\n",
    "                    for jj in range(lc):\n",
    "                        global_MI[i*blocksize+ii, j*blocksize+jj] = lA[ii,jj]\n",
    "                        #for now we will also store symmetric upper triangular part\n",
    "                        global_MI[j*blocksize+jj, i*blocksize+ii] = lA[ii,jj]\n",
    "\n",
    "                        if i==j and ii==jj: \n",
    "                            #global_diag[i*blocksize+ii,0]=lA[ii,jj]\n",
    "                            #global_diag[i*blocksize+ii,0]=lA[ii,jj]\n",
    "                            global_diag[0,j*blocksize+jj]=lA[ii,jj]\n",
    "                            "
   ]
  },
  {
   "cell_type": "code",
   "execution_count": 35,
   "metadata": {},
   "outputs": [
    {
     "name": "stdout",
     "output_type": "stream",
     "text": [
      "[stdout:0] PR= 2 PC= 2\n"
     ]
    }
   ],
   "source": [
    "%%px\n",
    "from scalapy import blacs\n",
    "import os\n",
    "import numpy as np\n",
    "import scipy.linalg as la\n",
    "from mpi4py import MPI\n",
    "from scalapy import core\n",
    "import scalapy.routines as rt\n",
    "\n",
    "#distribute MI components to ranks as scalapack distributed matrix\n",
    "comm = MPI.COMM_WORLD\n",
    "rank = comm.rank\n",
    "size = comm.size #total number of ranks\n",
    "\n",
    "global_num_rows =g_nrows\n",
    "global_num_cols =g_nrows\n",
    "local_num_rows =g_nrows/b\n",
    "\n",
    "block_size=64 #default is 32\n",
    "\n",
    "#Define process grid with process rows and process cols\n",
    "#We'll use a 2d process grid to distribute blocks so we want to have num_ranks divisible by 2\n",
    "assert((size % 2)==0)\n",
    "#ideally we would like BR and BC to the square root of the num_ranks to get a square process matrix\n",
    "PR=int(np.sqrt(size))\n",
    "PC=PR\n",
    "\n",
    "#if we can't create a square matrix, get next best dimensions\n",
    "if PR*PR!=size:\n",
    "    PC=size//PR\n",
    "if rank==0:\n",
    "    print(\"PR=\",PR, \"PC=\",PC)\n",
    "\n",
    "#create mpi comm context to send to blacs communicator    \n",
    "#process context\n",
    "#do I need this?\n",
    "#cntxt = blacs.sys2blacs_handle(comm)\n",
    "#initialize a process grid to distribute matrix blocks to.\n",
    "#blacs.gridinit(ctxt,order='R',BR,BC)\n",
    "#blacs.gridinit(pc,order='R',BR,BC)\n",
    "#core.initmpi([PR, PC], block_shape=[local_num_rows,local_num_rows])\n",
    "#instead of creating a global array on every processor, we want to load a \n",
    "#global array with local data\n",
    "#MI=core.DistributedMatrix(global_shape=[global_num_rows,global_num_cols])\n",
    "\n",
    "\n",
    "core.initmpi([PR, PC],block_shape=[block_size,block_size])\n",
    "\n",
    "#convert to fortran array indexing to match scalapack functions\n",
    "global_MI=np.asfortranarray(global_MI)\n",
    "#create global matrix from array on rank0\n",
    "dMI=core.DistributedMatrix.from_global_array(global_MI,rank=0)\n",
    "\n",
    "#Array must be 2D, so this fails\n",
    "#convert to fortran array indexing to match scalapack functions\n",
    "#global_diag=np.asfortranarray(global_diag)\n",
    "#create global matrix from array on rank0\n",
    "#dMI_diag=core.DistributedMatrix.from_global_array(global_diag,rank=0)\n",
    "\n",
    "\n",
    "\n",
    "\n",
    "#blacs.gridinit(ctxt, b, b)\n",
    "#ranklist = [(0, 0), \n",
    "#            (0, 1), (1, 1),\n",
    "#            (0, 2), (1, 2), (2, 2),\n",
    "#            (0, 3), (1, 3), (2, 3), (3, 3),\n",
    "#            (0, 4), (1, 4), (2, 4), (3, 4), (4, 4)\n",
    "#           ]"
   ]
  },
  {
   "cell_type": "code",
   "execution_count": 36,
   "metadata": {},
   "outputs": [],
   "source": [
    "%%px\n",
    "mi_filename = data_file_path+project_name+'_mi_distributed.scalapack'\n",
    "dMI.to_file(mi_filename)"
   ]
  },
  {
   "cell_type": "code",
   "execution_count": 93,
   "metadata": {},
   "outputs": [],
   "source": [
    "#%%px\n",
    "#mi_filename = data_file_path+project_name+'_mi_distributed.scalapack'\n",
    "#dMI.from_file(mi_filename, global_shape=[g_nrows,g_nrows], dtype=np.float64, block_shape=[block_size,block_size])"
   ]
  },
  {
   "cell_type": "code",
   "execution_count": 37,
   "metadata": {},
   "outputs": [],
   "source": [
    "#%%px\n",
    "#if rank==0: \n",
    "#    print ('rank %d has global_shape of dMI = %s' % (rank, dMI.global_shape))\n",
    "#print ('rank %d has local_shape of dMI = %s' % (rank, dMI.local_shape))\n",
    "#print ('rank %d has block_shape of dMI = %s' % (rank, dMI.block_shape))\n",
    "#print(dMI.local_array)"
   ]
  },
  {
   "cell_type": "code",
   "execution_count": 38,
   "metadata": {},
   "outputs": [],
   "source": [
    "%%px\n",
    "#Array must be 2D for this to work\n",
    "#convert to fortran array indexing to match scalapack functions\n",
    "global_diag=np.asfortranarray(global_diag)\n",
    "#create global matrix from array on rank0\n",
    "dMI_diag=core.DistributedMatrix.from_global_array(global_diag,rank=0)"
   ]
  },
  {
   "cell_type": "code",
   "execution_count": 39,
   "metadata": {},
   "outputs": [],
   "source": [
    "#%%px\n",
    "#if rank==0: \n",
    "#    print ('rank %d has global_shape of dMI_diag = %s' % (rank, dMI_diag.global_shape))\n",
    "#print ('rank %d has local_shape of dMI_diag = %s' % (rank, dMI_diag.local_shape))\n",
    "#print ('rank %d has block_shape of dMI_diag = %s' % (rank, dMI_diag.block_shape))\n",
    "##print(dMI_diag.local_array)"
   ]
  },
  {
   "cell_type": "code",
   "execution_count": 40,
   "metadata": {},
   "outputs": [],
   "source": [
    "#%%px\n",
    "#dMI_diag_T=dMI_diag.T\n",
    "#if rank==0: \n",
    "#    print ('rank %d has global_shape of dMI_diag = %s' % (rank, dMI_diag_T.global_shape))\n",
    "#print ('rank %d has local_shape of dMI_diag = %s' % (rank, dMI_diag_T.local_shape))\n",
    "#print ('rank %d has block_shape of dMI_diag = %s' % (rank, dMI_diag_T.block_shape))\n",
    "#\n",
    "#print(dMI_diag_T.local_array)"
   ]
  },
  {
   "cell_type": "markdown",
   "metadata": {},
   "source": [
    "## Use scalapack to compute distributed GEMM"
   ]
  },
  {
   "cell_type": "code",
   "execution_count": 41,
   "metadata": {},
   "outputs": [],
   "source": [
    "%%px\n",
    "import scalapy.routines as rt\n",
    "#dMI_norm=dMI_diag.T*dMI_diag\n",
    "dMI_norm = rt.dot(dMI_diag,dMI_diag,transA='T')\n"
   ]
  },
  {
   "cell_type": "code",
   "execution_count": 42,
   "metadata": {},
   "outputs": [],
   "source": [
    "#%%px\n",
    "#if rank==0: \n",
    "#    print ('rank %d has global_shape of dMI_diag = %s' % (rank, dMI_norm.global_shape))\n",
    "#print ('rank %d has local_shape of dMI_diag = %s' % (rank, dMI_norm.local_shape))\n",
    "#print ('rank %d has block_shape of dMI_diag = %s' % (rank, dMI_norm.block_shape))\n",
    "#print(dMI_norm.local_array)"
   ]
  },
  {
   "cell_type": "code",
   "execution_count": 43,
   "metadata": {},
   "outputs": [],
   "source": [
    "%%px\n",
    "#compute sqrt of each element\n",
    "dMI_norm_square=core.DistributedMatrix.empty_like(dMI)\n",
    "dMI_norm_square.local_array[:] = np.sqrt(dMI_norm.local_array[:])"
   ]
  },
  {
   "cell_type": "code",
   "execution_count": 44,
   "metadata": {},
   "outputs": [],
   "source": [
    "#%%px\n",
    "#if rank==0: \n",
    "#    print ('rank %d has global_shape of dMI_diag = %s' % (rank, dMI_norm_square.global_shape))\n",
    "#print ('rank %d has local_shape of dMI_diag = %s' % (rank, dMI_norm_square.local_shape))\n",
    "#print ('rank %d has block_shape of dMI_diag = %s' % (rank, dMI_norm_square.block_shape))\n",
    "#print(dMI_norm_square.local_array)"
   ]
  },
  {
   "cell_type": "code",
   "execution_count": 45,
   "metadata": {},
   "outputs": [],
   "source": [
    "%%px\n",
    "dMI_normed=core.DistributedMatrix.empty_like(dMI)\n",
    "dMI_normed.local_array[:] = dMI.local_array[:] / dMI_norm_square.local_array[:]"
   ]
  },
  {
   "cell_type": "code",
   "execution_count": 46,
   "metadata": {},
   "outputs": [
    {
     "name": "stdout",
     "output_type": "stream",
     "text": [
      "[stdout:0] \n",
      "rank 0 has global_shape of dMI_diag = (2496, 2496)\n",
      "rank 0 has local_shape of dMI_diag = (1280, 1280)\n",
      "rank 0 has block_shape of dMI_diag = (64, 64)\n",
      "[[1.         0.16966721 0.15599682 ... 0.18526718 0.15847534 0.20418114]\n",
      " [0.16966721 1.         0.14370048 ... 0.17646388 0.15353732 0.18121605]\n",
      " [0.15599682 0.14370048 1.         ... 0.15800564 0.16373497 0.16040872]\n",
      " ...\n",
      " [0.18526718 0.17646388 0.15800564 ... 1.         0.2063892  0.19392593]\n",
      " [0.15847534 0.15353732 0.16373497 ... 0.2063892  1.         0.17301498]\n",
      " [0.20418114 0.18121605 0.16040872 ... 0.19392593 0.17301498 1.        ]]\n",
      "[stdout:1] \n",
      "rank 1 has local_shape of dMI_diag = (1280, 1216)\n",
      "rank 1 has block_shape of dMI_diag = (64, 64)\n",
      "[[0.13344376 0.15981576 0.15132607 ... 0.14577705 0.19038733 0.18626778]\n",
      " [0.14142939 0.16082045 0.14256036 ... 0.15681292 0.1834772  0.17961762]\n",
      " [0.12705919 0.13859349 0.14067777 ... 0.19254956 0.15870398 0.16179771]\n",
      " ...\n",
      " [0.13176611 0.15744818 0.13899435 ... 0.15545719 0.18048995 0.18608682]\n",
      " [0.13298016 0.1513513  0.12946251 ... 0.14722209 0.16989842 0.15871516]\n",
      " [0.13499283 0.15917259 0.14296825 ... 0.15406532 0.20142909 0.19459249]]\n",
      "[stdout:2] \n",
      "rank 2 has local_shape of dMI_diag = (1216, 1280)\n",
      "rank 2 has block_shape of dMI_diag = (64, 64)\n",
      "[[0.13344376 0.14142939 0.12705919 ... 0.13176611 0.13298016 0.13499283]\n",
      " [0.15981576 0.16082045 0.13859349 ... 0.15744818 0.1513513  0.15917259]\n",
      " [0.15132607 0.14256036 0.14067777 ... 0.13899435 0.12946251 0.14296825]\n",
      " ...\n",
      " [0.14577705 0.15681292 0.19254956 ... 0.15545719 0.14722209 0.15406532]\n",
      " [0.19038733 0.1834772  0.15870398 ... 0.18048995 0.16989842 0.20142909]\n",
      " [0.18626778 0.17961762 0.16179771 ... 0.18608682 0.15871516 0.19459249]]\n",
      "[stdout:3] \n",
      "rank 3 has local_shape of dMI_diag = (1216, 1216)\n",
      "rank 3 has block_shape of dMI_diag = (64, 64)\n",
      "[[1.         0.13664611 0.17394256 ... 0.12753795 0.14583751 0.15165035]\n",
      " [0.13664611 1.         0.14637354 ... 0.14138322 0.16129197 0.15612205]\n",
      " [0.17394256 0.14637354 1.         ... 0.134401   0.14594133 0.14172217]\n",
      " ...\n",
      " [0.12753795 0.14138322 0.134401   ... 1.         0.15693867 0.15067431]\n",
      " [0.14583751 0.16129197 0.14594133 ... 0.15693867 1.         0.18522482]\n",
      " [0.15165035 0.15612205 0.14172217 ... 0.15067431 0.18522482 1.        ]]\n"
     ]
    }
   ],
   "source": [
    "%%px\n",
    "if rank==0: \n",
    "    print ('rank %d has global_shape of dMI_diag = %s' % (rank, dMI_normed.global_shape))\n",
    "print ('rank %d has local_shape of dMI_diag = %s' % (rank, dMI_normed.local_shape))\n",
    "print ('rank %d has block_shape of dMI_diag = %s' % (rank, dMI_normed.block_shape))\n",
    "print(dMI_normed.local_array)"
   ]
  },
  {
   "cell_type": "code",
   "execution_count": 47,
   "metadata": {},
   "outputs": [],
   "source": [
    "%%px\n",
    "mi_normed_filename = data_file_path+project_name+'_mi_normed_distributed.scalapack'\n",
    "dMI_normed.to_file(mi_normed_filename)"
   ]
  },
  {
   "cell_type": "markdown",
   "metadata": {},
   "source": [
    "## Now compute eigenvalues and eigenvectors of dissimmilarity matrix"
   ]
  },
  {
   "cell_type": "code",
   "execution_count": null,
   "metadata": {},
   "outputs": [],
   "source": [
    "def mds(in_mat_file, max_dim, out_file_name, perplexity=30, print_plot=\"True\", dist_method=\"mi\",):\n",
    "    hdf = pd.HDFStore(in_mat_file)\n",
    "    if dist_method == \"mi\":\n",
    "        dlplf = 1 - hdf[\"norm_mi\"]\n",
    "    elif dist_method == \"euclidean\":\n",
    "        df = hdf[dist_method]\n",
    "    else:\n",
    "        df = 1 - hdf[dist_method]\n",
    "\n",
    "    hdf.close()\n",
    "    n = df.shape[0]\n",
    "    H = np.eye(n) - np.ones((n, n)) / n\n",
    "    B = -H.dot(df ** 2).dot(H) / 2\n",
    "    evals, evecs = eigh(B, eigvals=(n - np.min([n, 200]), n - 1))\n",
    "    \n",
    "    idx = np.argsort(evals)[::-1]\n",
    "    evals = evals[idx]\n",
    "    evecs = evecs[:, idx]\n",
    "    evals_pos = evals > 0\n",
    "    L = np.diag(np.sqrt(evals[evals_pos]))\n",
    "    V = evecs[:, evals_pos]\n",
    "    Y = pd.DataFrame(\n",
    "        data=V.dot(L),\n",
    "        index=df.index,\n",
    "        columns=[\"mds_\" + str(x) for x in np.arange(1, L.shape[0] + 1)],\n",
    "    )\n",
    "\n",
    "    Y.to_hdf(out_file_name + \"_reduced.h5\", \"mds\")  # save reduced mi in mds\n",
    "\n",
    "    if print_plot == \"True\":\n",
    "        vis = tsne(\n",
    "            Y,\n",
    "            max_dim,\n",
    "            out_file_name,\n",
    "            \"mds\",\n",
    "            perplexity,\n",
    "            print_plot,\n",
    "        )\n",
    "        vis.to_hdf(out_file_name + \"_reduced\", \"mds_tsne\")  # save preview in key \"mds_tsne\""
   ]
  },
  {
   "cell_type": "code",
   "execution_count": 48,
   "metadata": {},
   "outputs": [],
   "source": [
    "%%px\n",
    "import scalapy.routines as rt\n",
    "\n",
    "n= g_nrows\n",
    "\n",
    "#convert similarity matrix to dissimilarity matrix\n",
    "#df= 1-df\n",
    "MDS= core.DistributedMatrix.empty_like(dMI)\n",
    "MDS.local_array[:]=1.0-dMI_normed.local_array[:]\n",
    "\n",
    "# H = I-Ones/n\n",
    "I= core.DistributedMatrix.identity(n=g_nrows)\n",
    "Ones= core.DistributedMatrix.empty_like(dMI)\n",
    "Ones.local_array[:]=1.0/n\n",
    "H = core.DistributedMatrix.empty_like(dMI)\n",
    "H.local_array[:] = I.local_array[:] - Ones.local_array[:]\n",
    "\n",
    "# B = -H.dot(MDS**2).dot(H)/2\n",
    "negH= core.DistributedMatrix.empty_like(dMI)\n",
    "negH.local_array[:]= -H.local_array[:]\n",
    "MDS2= core.DistributedMatrix.empty_like(dMI)\n",
    "MDS2.local_array[:] = MDS.local_array[:]**2\n",
    "C=rt.dot(negH,MDS2)\n",
    "B = rt.dot(C,H)\n",
    "B.local_array[:]=B.local_array[:]/2.0\n",
    "#dMI_norm=dMI_diag.T*dMI_diag\n",
    "#dMI_norm = rt.dot(dMI_diag,dMI_diag,transA='T')\n"
   ]
  },
  {
   "cell_type": "code",
   "execution_count": 49,
   "metadata": {},
   "outputs": [
    {
     "name": "stdout",
     "output_type": "stream",
     "text": [
      "[stdout:0] \n",
      "rank 0 has global_shape of dMI_diag = (2496, 2496)\n",
      "rank 0 has local_shape of dMI_diag = (1280, 1280)\n",
      "rank 0 has block_shape of dMI_diag = (64, 64)\n",
      "[[0.         0.83033279 0.84400318 ... 0.81473282 0.84152466 0.79581886]\n",
      " [0.83033279 0.         0.85629952 ... 0.82353612 0.84646268 0.81878395]\n",
      " [0.84400318 0.85629952 0.         ... 0.84199436 0.83626503 0.83959128]\n",
      " ...\n",
      " [0.81473282 0.82353612 0.84199436 ... 0.         0.7936108  0.80607407]\n",
      " [0.84152466 0.84646268 0.83626503 ... 0.7936108  0.         0.82698502]\n",
      " [0.79581886 0.81878395 0.83959128 ... 0.80607407 0.82698502 0.        ]]\n",
      "[stdout:1] \n",
      "rank 1 has local_shape of dMI_diag = (1280, 1216)\n",
      "rank 1 has block_shape of dMI_diag = (64, 64)\n",
      "[[0.86655624 0.84018424 0.84867393 ... 0.85422295 0.80961267 0.81373222]\n",
      " [0.85857061 0.83917955 0.85743964 ... 0.84318708 0.8165228  0.82038238]\n",
      " [0.87294081 0.86140651 0.85932223 ... 0.80745044 0.84129602 0.83820229]\n",
      " ...\n",
      " [0.86823389 0.84255182 0.86100565 ... 0.84454281 0.81951005 0.81391318]\n",
      " [0.86701984 0.8486487  0.87053749 ... 0.85277791 0.83010158 0.84128484]\n",
      " [0.86500717 0.84082741 0.85703175 ... 0.84593468 0.79857091 0.80540751]]\n",
      "[stdout:2] \n",
      "rank 2 has local_shape of dMI_diag = (1216, 1280)\n",
      "rank 2 has block_shape of dMI_diag = (64, 64)\n",
      "[[0.86655624 0.85857061 0.87294081 ... 0.86823389 0.86701984 0.86500717]\n",
      " [0.84018424 0.83917955 0.86140651 ... 0.84255182 0.8486487  0.84082741]\n",
      " [0.84867393 0.85743964 0.85932223 ... 0.86100565 0.87053749 0.85703175]\n",
      " ...\n",
      " [0.85422295 0.84318708 0.80745044 ... 0.84454281 0.85277791 0.84593468]\n",
      " [0.80961267 0.8165228  0.84129602 ... 0.81951005 0.83010158 0.79857091]\n",
      " [0.81373222 0.82038238 0.83820229 ... 0.81391318 0.84128484 0.80540751]]\n",
      "[stdout:3] \n",
      "rank 3 has local_shape of dMI_diag = (1216, 1216)\n",
      "rank 3 has block_shape of dMI_diag = (64, 64)\n",
      "[[0.         0.86335389 0.82605744 ... 0.87246205 0.85416249 0.84834965]\n",
      " [0.86335389 0.         0.85362646 ... 0.85861678 0.83870803 0.84387795]\n",
      " [0.82605744 0.85362646 0.         ... 0.865599   0.85405867 0.85827783]\n",
      " ...\n",
      " [0.87246205 0.85861678 0.865599   ... 0.         0.84306133 0.84932569]\n",
      " [0.85416249 0.83870803 0.85405867 ... 0.84306133 0.         0.81477518]\n",
      " [0.84834965 0.84387795 0.85827783 ... 0.84932569 0.81477518 0.        ]]\n"
     ]
    }
   ],
   "source": [
    "%%px\n",
    "if rank==0: \n",
    "    print ('rank %d has global_shape of dMI_diag = %s' % (rank, MDS.global_shape))\n",
    "print ('rank %d has local_shape of dMI_diag = %s' % (rank, MDS.local_shape))\n",
    "print ('rank %d has block_shape of dMI_diag = %s' % (rank, MDS.block_shape))\n",
    "print(MDS.local_array)"
   ]
  },
  {
   "cell_type": "code",
   "execution_count": 50,
   "metadata": {},
   "outputs": [
    {
     "name": "stdout",
     "output_type": "stream",
     "text": [
      "[stdout:0] \n",
      "rank 0 has global_shape of dMI_diag = (2496, 2496)\n",
      "rank 0 has local_shape of dMI_diag = (1280, 1280)\n",
      "rank 0 has block_shape of dMI_diag = (64, 64)\n",
      "[[0.         0.68945254 0.71234137 ... 0.66378957 0.70816375 0.63332766]\n",
      " [0.68945254 0.         0.73324887 ... 0.67821173 0.71649907 0.67040716]\n",
      " [0.71234137 0.73324887 0.         ... 0.7089545  0.6993392  0.70491351]\n",
      " ...\n",
      " [0.66378957 0.67821173 0.7089545  ... 0.         0.6298181  0.6497554 ]\n",
      " [0.70816375 0.71649907 0.6993392  ... 0.6298181  0.         0.68390422]\n",
      " [0.63332766 0.67040716 0.70491351 ... 0.6497554  0.68390422 0.        ]]\n",
      "[stdout:1] \n",
      "rank 1 has local_shape of dMI_diag = (1280, 1216)\n",
      "rank 1 has block_shape of dMI_diag = (64, 64)\n",
      "[[0.75091973 0.70590956 0.72024745 ... 0.72969685 0.65547268 0.66216012]\n",
      " [0.73714349 0.70422232 0.73520274 ... 0.71096445 0.66670948 0.67302724]\n",
      " [0.76202567 0.74202118 0.73843469 ... 0.65197621 0.707779   0.70258308]\n",
      " ...\n",
      " [0.75383009 0.70989358 0.74133073 ... 0.71325257 0.67159672 0.66245466]\n",
      " [0.75172339 0.72020462 0.75783553 ... 0.72723016 0.68906863 0.70776018]\n",
      " [0.7482374  0.70699073 0.73450343 ... 0.71560548 0.63771551 0.64868125]]\n",
      "[stdout:2] \n",
      "rank 2 has local_shape of dMI_diag = (1216, 1280)\n",
      "rank 2 has block_shape of dMI_diag = (64, 64)\n",
      "[[0.75091973 0.73714349 0.76202567 ... 0.75383009 0.75172339 0.7482374 ]\n",
      " [0.70590956 0.70422232 0.74202118 ... 0.70989358 0.72020462 0.70699073]\n",
      " [0.72024745 0.73520274 0.73843469 ... 0.74133073 0.75783553 0.73450343]\n",
      " ...\n",
      " [0.72969685 0.71096445 0.65197621 ... 0.71325257 0.72723016 0.71560548]\n",
      " [0.65547268 0.66670948 0.707779   ... 0.67159672 0.68906863 0.63771551]\n",
      " [0.66216012 0.67302724 0.70258308 ... 0.66245466 0.70776018 0.64868125]]\n",
      "[stdout:3] \n",
      "rank 3 has local_shape of dMI_diag = (1216, 1216)\n",
      "rank 3 has block_shape of dMI_diag = (64, 64)\n",
      "[[0.         0.74537994 0.68237089 ... 0.76119002 0.72959356 0.71969712]\n",
      " [0.74537994 0.         0.72867813 ... 0.73722277 0.70343115 0.71212999]\n",
      " [0.68237089 0.72867813 0.         ... 0.74926163 0.7294162  0.73664083]\n",
      " ...\n",
      " [0.76119002 0.73722277 0.74926163 ... 0.         0.7107524  0.72135412]\n",
      " [0.72959356 0.70343115 0.7294162  ... 0.7107524  0.         0.6638586 ]\n",
      " [0.71969712 0.71212999 0.73664083 ... 0.72135412 0.6638586  0.        ]]\n"
     ]
    }
   ],
   "source": [
    "%%px\n",
    "if rank==0: \n",
    "    print ('rank %d has global_shape of dMI_diag = %s' % (rank, MDS2.global_shape))\n",
    "print ('rank %d has local_shape of dMI_diag = %s' % (rank, MDS2.local_shape))\n",
    "print ('rank %d has block_shape of dMI_diag = %s' % (rank, MDS2.block_shape))\n",
    "print(MDS2.local_array)"
   ]
  },
  {
   "cell_type": "code",
   "execution_count": 51,
   "metadata": {},
   "outputs": [
    {
     "name": "stdout",
     "output_type": "stream",
     "text": [
      "[stdout:0] \n",
      "rank 0 has global_shape of dMI_diag = (2496, 2496)\n",
      "rank 0 has local_shape of dMI_diag = (1280, 1280)\n",
      "rank 0 has block_shape of dMI_diag = (64, 64)\n",
      "[[ 3.32606572e-01 -4.48879650e-03 -1.22124044e-02 ... -4.99538265e-04\n",
      "  -9.33603291e-03  1.19542557e-02]\n",
      " [-4.48879650e-03  3.47868371e-01 -1.50352510e-02 ... -7.97225127e-05\n",
      "  -5.87279447e-03  1.04540298e-03]\n",
      " [-1.22124044e-02 -1.50352510e-02  3.55309993e-01 ... -1.17302924e-02\n",
      "   6.42794877e-03 -1.24869591e-02]\n",
      " ...\n",
      " [-4.99538265e-04 -7.97225127e-05 -1.17302924e-02 ...  3.30183917e-01\n",
      "   2.86254621e-02  2.52905849e-03]\n",
      " [-9.33603291e-03 -5.87279447e-03  6.42794877e-03 ...  2.86254621e-02\n",
      "   3.56885108e-01 -1.19475721e-03]\n",
      " [ 1.19542557e-02  1.04540298e-03 -1.24869591e-02 ...  2.52905849e-03\n",
      "  -1.19475721e-03  3.24629599e-01]]\n",
      "[stdout:1] \n",
      "rank 1 has local_shape of dMI_diag = (1280, 1216)\n",
      "rank 1 has block_shape of dMI_diag = (64, 64)\n",
      "[[-0.01057509 -0.00223418 -0.00174018 ... -0.01561031  0.00304875\n",
      "   0.0050489 ]\n",
      " [ 0.00394393  0.00624034 -0.00158692 ...  0.00138679  0.00506125\n",
      "   0.00724624]\n",
      " [-0.00477635 -0.00893827  0.00051791 ...  0.03460172 -0.0117527\n",
      "  -0.00381087]\n",
      " ...\n",
      " [-0.0132416  -0.00543751 -0.01349315 ... -0.00859949 -0.0062246\n",
      "   0.0036903 ]\n",
      " [ 0.00116234  0.00275756 -0.00839495 ... -0.0022377  -0.00160996\n",
      "  -0.00561186]\n",
      " [-0.01322241 -0.00676325 -0.01285665 ... -0.01255311  0.00793885\n",
      "   0.00779985]]\n",
      "[stdout:2] \n",
      "rank 2 has local_shape of dMI_diag = (1216, 1280)\n",
      "rank 2 has block_shape of dMI_diag = (64, 64)\n",
      "[[-0.01057509  0.00394393 -0.00477635 ... -0.0132416   0.00116234\n",
      "  -0.01322241]\n",
      " [-0.00223418  0.00624034 -0.00893827 ... -0.00543751  0.00275756\n",
      "  -0.00676325]\n",
      " [-0.00174018 -0.00158692  0.00051791 ... -0.01349315 -0.00839495\n",
      "  -0.01285665]\n",
      " ...\n",
      " [-0.01561031  0.00138679  0.03460172 ... -0.00859949 -0.0022377\n",
      "  -0.01255311]\n",
      " [ 0.00304875  0.00506125 -0.0117527  ... -0.0062246  -0.00160996\n",
      "   0.00793885]\n",
      " [ 0.0050489   0.00724624 -0.00381087 ...  0.0036903  -0.00561186\n",
      "   0.00779985]]\n",
      "[stdout:3] \n",
      "rank 3 has local_shape of dMI_diag = (1216, 1216)\n",
      "rank 3 has block_shape of dMI_diag = (64, 64)\n",
      "[[ 3.97162970e-01  1.03088298e-02  4.94763003e-02 ...  9.21303637e-04\n",
      "  -1.73349279e-03  8.55859707e-03]\n",
      " [ 1.03088298e-02  3.68834634e-01  1.21585104e-02 ... -1.25923715e-03\n",
      "  -2.81645491e-03 -1.82200303e-03]\n",
      " [ 4.94763003e-02  1.21585104e-02  3.84160521e-01 ...  3.84274016e-04\n",
      "  -8.14603733e-03 -6.41448019e-03]\n",
      " ...\n",
      " [ 9.21303637e-04 -1.25923715e-03  3.84274016e-04 ...  3.65869659e-01\n",
      "  -7.95956836e-03 -7.91655564e-03]\n",
      " [-1.73349279e-03 -2.81645491e-03 -8.14603733e-03 ... -7.95956836e-03\n",
      "   3.28963608e-01  2.37818099e-03]\n",
      " [ 8.55859707e-03 -1.82200303e-03 -6.41448019e-03 ... -7.91655564e-03\n",
      "   2.37818099e-03  3.39651349e-01]]\n"
     ]
    }
   ],
   "source": [
    "%%px\n",
    "if rank==0: \n",
    "    print ('rank %d has global_shape of dMI_diag = %s' % (rank, B.global_shape))\n",
    "print ('rank %d has local_shape of dMI_diag = %s' % (rank, B.local_shape))\n",
    "print ('rank %d has block_shape of dMI_diag = %s' % (rank, B.block_shape))\n",
    "print(B.local_array)"
   ]
  },
  {
   "cell_type": "code",
   "execution_count": 52,
   "metadata": {},
   "outputs": [],
   "source": [
    "%%px\n",
    "import scalapy.routines as rt\n",
    "#compute eigh(B,)\n",
    "#we want to pick out the top 200 eigenvalues/vectors from the matrix\n",
    "#evals, evecs = eigh(B, eigvals=(n - np.min([n, 200]), n - 1))\n",
    "evals, dZd = rt.eigh(B,overwrite_a=False)\n",
    "evecs = dZd.to_global_array(rank=0)\n",
    "#gZd = dZd.to_global_array(rank=0)"
   ]
  },
  {
   "cell_type": "code",
   "execution_count": 53,
   "metadata": {},
   "outputs": [
    {
     "name": "stdout",
     "output_type": "stream",
     "text": [
      "[stdout:0] \n",
      "[7.27742329e-16 1.11552126e-01 1.15620174e-01 ... 8.43778466e+00\n",
      " 1.07555328e+01 2.98340037e+01]\n",
      "[stdout:1] \n",
      "[7.27742329e-16 1.11552126e-01 1.15620174e-01 ... 8.43778466e+00\n",
      " 1.07555328e+01 2.98340037e+01]\n",
      "[stdout:2] \n",
      "[7.27742329e-16 1.11552126e-01 1.15620174e-01 ... 8.43778466e+00\n",
      " 1.07555328e+01 2.98340037e+01]\n",
      "[stdout:3] \n",
      "[7.27742329e-16 1.11552126e-01 1.15620174e-01 ... 8.43778466e+00\n",
      " 1.07555328e+01 2.98340037e+01]\n"
     ]
    }
   ],
   "source": [
    "%%px\n",
    "print(evals)"
   ]
  },
  {
   "cell_type": "code",
   "execution_count": null,
   "metadata": {},
   "outputs": [],
   "source": []
  },
  {
   "cell_type": "code",
   "execution_count": null,
   "metadata": {},
   "outputs": [],
   "source": [
    "#%%px\n",
    "#import scalapy.routines as rt\n",
    "##obtain dissimilarity matrix\n",
    "#n= g_nrows\n",
    "##MDS=1-dMI\n",
    "#MDS= core.DistributedMatrix.empty_like(dMI)\n",
    "##MDS.local_array[:]=1.0-dMI.local_Array[:]\n",
    "#I= core.DistributedMatrix.identity(n=g_nrows)\n",
    "#Ones= core.DistributedMatrix.empty_like(dMI)\n",
    "#Ones.local_array[:]=1.0/n\n",
    "##create arrays\n",
    "##create identity matrix and then subtract 1/n from all entries\n",
    "#H= np.eye(n) - np.ones((n, n)) / n\n",
    "#H= I - Ones\n",
    "#B= -H.dot(df ** 2).dot(H) / 2\n",
    "#\n",
    "##compute eigh(B,)\n",
    "##we want to pick out the top 200 eigenvalues/vectors from the matrix\n",
    "##evals, evecs = eigh(B, eigvals=(n - np.min([n, 200]), n - 1))\n",
    "#evals, dZd = rt.eigh(B,overwrite_a=False)\n",
    "#evecs = dZd.to_global_array(rank=0)"
   ]
  },
  {
   "cell_type": "code",
   "execution_count": null,
   "metadata": {},
   "outputs": [],
   "source": []
  },
  {
   "cell_type": "code",
   "execution_count": null,
   "metadata": {},
   "outputs": [],
   "source": []
  },
  {
   "cell_type": "code",
   "execution_count": null,
   "metadata": {},
   "outputs": [],
   "source": []
  },
  {
   "cell_type": "code",
   "execution_count": null,
   "metadata": {},
   "outputs": [],
   "source": []
  },
  {
   "cell_type": "code",
   "execution_count": null,
   "metadata": {},
   "outputs": [],
   "source": [
    "#%%px\n",
    "#dgi, dlri, dlci = diagMI.local_diagonal_indices()"
   ]
  },
  {
   "cell_type": "code",
   "execution_count": null,
   "metadata": {},
   "outputs": [],
   "source": [
    "#%%px\n",
    "#gi, lri, lci = dMI.local_diagonal_indices()"
   ]
  },
  {
   "cell_type": "code",
   "execution_count": null,
   "metadata": {},
   "outputs": [],
   "source": [
    "#%%px\n",
    "#diagMI.local_array[lri,0] = dMI.local_array[lri,lci]"
   ]
  },
  {
   "cell_type": "code",
   "execution_count": null,
   "metadata": {},
   "outputs": [],
   "source": [
    "#%%px\n",
    "#print ('rank %d has local_shape of dMI = %s' % (rank, diagMI.local_shape))\n",
    "#print ('rank %d has block_shape of dMI = %s' % (rank, diagMI.block_shape))\n",
    "#print(diagMI.local_array)"
   ]
  },
  {
   "cell_type": "code",
   "execution_count": 44,
   "metadata": {},
   "outputs": [],
   "source": [
    "#%%px\n",
    "#diagMI_dot = dot(dMI_diag,dMI_diag,transB='T')\n",
    "#diagMI_dot = dMI_diag.T * dMI_diag\n",
    "\n",
    "#diagMI_dot.local_array[lri,lci] = 1.0/np.sqrt(diagMI_dot.local_array[lri,lci])"
   ]
  },
  {
   "cell_type": "code",
   "execution_count": 55,
   "metadata": {},
   "outputs": [],
   "source": [
    "#%%px\n",
    "#print(diagMI_dot.local_array)"
   ]
  },
  {
   "cell_type": "code",
   "execution_count": null,
   "metadata": {},
   "outputs": [],
   "source": [
    "#%%px\n",
    "#print(diagMI_dot.local_array)"
   ]
  },
  {
   "cell_type": "code",
   "execution_count": null,
   "metadata": {},
   "outputs": [],
   "source": [
    "#%%px\n",
    "#diagMI_normed = dMI*diagMI_dot"
   ]
  },
  {
   "cell_type": "code",
   "execution_count": null,
   "metadata": {},
   "outputs": [],
   "source": [
    "#%%px\n",
    "#print(dMI_normed.local_array)"
   ]
  },
  {
   "cell_type": "code",
   "execution_count": null,
   "metadata": {},
   "outputs": [],
   "source": [
    "#%%px\n",
    "##lr=[range(2400,2495)]\n",
    "##lc=[range(2400,2495)]\n",
    "#print(len(dMI.local_array[lri,lci]))\n",
    "#diag=dMI.local_array[lri,lci]\n",
    "#print(diag)"
   ]
  },
  {
   "cell_type": "code",
   "execution_count": null,
   "metadata": {},
   "outputs": [],
   "source": [
    "#%%px\n",
    "#dMI_dot=dot(dMI,dMI,transB='T')"
   ]
  },
  {
   "cell_type": "code",
   "execution_count": null,
   "metadata": {},
   "outputs": [],
   "source": [
    "#%%px\n",
    "#dMI_dot.desc"
   ]
  },
  {
   "cell_type": "code",
   "execution_count": null,
   "metadata": {},
   "outputs": [],
   "source": [
    "#%%px\n",
    "#dgi, dlri, dlci = dMI_dot.local_diagonal_indices()\n",
    "#print(dMI_dot.local_array[dlri,dlci])"
   ]
  },
  {
   "cell_type": "code",
   "execution_count": null,
   "metadata": {},
   "outputs": [],
   "source": [
    "#%%px\n",
    "#Note these values are in mixed order due to block cyclic partition. last rank last block does not correspond to last values in global diagonal\n",
    "#print(diag)\n"
   ]
  },
  {
   "cell_type": "code",
   "execution_count": null,
   "metadata": {},
   "outputs": [],
   "source": []
  },
  {
   "cell_type": "code",
   "execution_count": null,
   "metadata": {},
   "outputs": [],
   "source": [
    "%%px\n",
    "if rank==0:\n",
    "    print(evals)"
   ]
  },
  {
   "cell_type": "code",
   "execution_count": null,
   "metadata": {},
   "outputs": [],
   "source": [
    "%%px\n",
    "if rank==0:\n",
    "    nnzgZd=\n",
    "    print(len(gZd))\n",
    "    print(gZd)"
   ]
  },
  {
   "cell_type": "code",
   "execution_count": null,
   "metadata": {},
   "outputs": [],
   "source": [
    "#compute eigenvalues,vectors\n",
    "#evals1, evecs1 = scalapy.eigh(dMI, overwrite_a=False)"
   ]
  },
  {
   "cell_type": "code",
   "execution_count": null,
   "metadata": {},
   "outputs": [],
   "source": []
  },
  {
   "cell_type": "markdown",
   "metadata": {},
   "source": [
    "## Write distributed matrix to files"
   ]
  },
  {
   "cell_type": "code",
   "execution_count": null,
   "metadata": {},
   "outputs": [],
   "source": []
  },
  {
   "cell_type": "code",
   "execution_count": null,
   "metadata": {},
   "outputs": [],
   "source": []
  }
 ],
 "metadata": {
  "kernelspec": {
   "display_name": "Python 3",
   "language": "python",
   "name": "python3"
  },
  "language_info": {
   "codemirror_mode": {
    "name": "ipython",
    "version": 3
   },
   "file_extension": ".py",
   "mimetype": "text/x-python",
   "name": "python",
   "nbconvert_exporter": "python",
   "pygments_lexer": "ipython3",
   "version": "3.6.12"
  }
 },
 "nbformat": 4,
 "nbformat_minor": 4
}
