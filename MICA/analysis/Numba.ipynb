{
 "cells": [
  {
   "cell_type": "code",
   "execution_count": 88,
   "metadata": {},
   "outputs": [],
   "source": [
    "import numba\n",
    "import numpy as np\n",
    "import scanpy as sc\n",
    "import anndata\n",
    "import fast_histogram\n",
    "from collections import Counter"
   ]
  },
  {
   "cell_type": "code",
   "execution_count": 89,
   "metadata": {
    "collapsed": false,
    "jupyter": {
     "outputs_hidden": false
    },
    "pycharm": {
     "name": "#%% Test on euclidean distance\n"
    }
   },
   "outputs": [],
   "source": [
    "@numba.jit(nopython=True)\n",
    "def euclidean(x, y):\n",
    "    return np.sqrt(np.sum((x - y)**2))"
   ]
  },
  {
   "cell_type": "code",
   "execution_count": 90,
   "metadata": {
    "collapsed": false,
    "jupyter": {
     "outputs_hidden": false
    },
    "pycharm": {
     "name": "#%%\n"
    }
   },
   "outputs": [
    {
     "data": {
      "text/plain": [
       "(2496, 10499)"
      ]
     },
     "execution_count": 90,
     "metadata": {},
     "output_type": "execute_result"
    }
   ],
   "source": [
    "#Read in anndata object\n",
    "preprocessed_results = '../../test_data/inputs/10x/PBMC/3k/pre-processed/pbmc3k_preprocessed.h5ad'\n",
    "adata = anndata.read_h5ad(preprocessed_results)\n",
    "adata.shape"
   ]
  },
  {
   "cell_type": "code",
   "execution_count": 91,
   "metadata": {},
   "outputs": [
    {
     "data": {
      "text/plain": [
       "(2496, 10499)"
      ]
     },
     "execution_count": 91,
     "metadata": {},
     "output_type": "execute_result"
    }
   ],
   "source": [
    "#convert anndata to pandas dataframe\n",
    "frame = adata.to_df()\n",
    "frame.shape"
   ]
  },
  {
   "cell_type": "code",
   "execution_count": 92,
   "metadata": {
    "collapsed": false,
    "jupyter": {
     "outputs_hidden": false
    },
    "pycharm": {
     "name": "#%%\n"
    }
   },
   "outputs": [],
   "source": [
    "frame_np = frame.to_numpy()\n",
    "arr1 = frame_np[0,:]\n",
    "arr2 = frame_np[2068,:]\n",
    "#indices1 = np.nonzero(arr1)\n",
    "#print(indices1)\n",
    "#print(arr1[indices1])"
   ]
  },
  {
   "cell_type": "code",
   "execution_count": 93,
   "metadata": {},
   "outputs": [],
   "source": [
    "row1=0\n",
    "row1start=adata.X.indptr[row1]\n",
    "row1end=adata.X.indptr[row1+1]\n",
    "#print(row1start,row1end) \n",
    "arr1_indices = adata.X.indices[row1start:row1end]\n",
    "arr1_csr = adata.X.data[row1start:row1end]\n",
    "#print(arr1_indices)\n",
    "#print(arr1_csr)\n",
    "\n",
    "row2=2068\n",
    "row2start=adata.X.indptr[row2]\n",
    "row2end=adata.X.indptr[row2+1]\n",
    "arr2_indices = adata.X.indices[row2start:row2end]\n",
    "arr2_csr = adata.X.data[row2start:row2end]\n",
    "#print(arr2_indices)\n",
    "#print(arr2_csr)"
   ]
  },
  {
   "cell_type": "code",
   "execution_count": 94,
   "metadata": {
    "collapsed": false,
    "jupyter": {
     "outputs_hidden": false
    },
    "pycharm": {
     "name": "#%%\n"
    }
   },
   "outputs": [
    {
     "name": "stdout",
     "output_type": "stream",
     "text": [
      "11.2 µs ± 24.5 ns per loop (mean ± std. dev. of 7 runs, 100000 loops each)\n"
     ]
    }
   ],
   "source": [
    "%timeit euclidean(arr1, arr2)"
   ]
  },
  {
   "cell_type": "code",
   "execution_count": 138,
   "metadata": {
    "collapsed": false,
    "jupyter": {
     "outputs_hidden": false
    },
    "pycharm": {
     "name": "#%%\n"
    }
   },
   "outputs": [],
   "source": [
    "def calc_norm_mi_numpy(arr1, arr2, bins, m):\n",
    "    \"\"\" Calculates a normalized mutual information distance D(X, Y) = 1 - I(X, Y)/H(X, Y) using bin-based method\n",
    "\n",
    "    It takes gene expression data from single cells, and compares them using standard calculation for\n",
    "    mutual information and joint entropy. It builds a 2d histogram, which is used to calculate P(arr1, arr2).\n",
    "\n",
    "    Args:\n",
    "        arr1 (pandas series): gene expression data for cell 1\n",
    "        arr2 (pandas series): gene expression data for cell 2\n",
    "        marginals  (ndarray): marginal probability matrix\n",
    "        index1         (int): index of cell 1\n",
    "        index2         (int): index of cell 2\n",
    "        bins           (int): number of bins\n",
    "        m              (int): number of genes\n",
    "    Returns:\n",
    "        a float between 0 and 1\n",
    "    \"\"\"\n",
    "    fq = np.histogram2d(arr1, arr2, bins=(bins, bins))[0] / float(m)\n",
    "    sm = np.sum(fq * float(m), axis=1)\n",
    "    tm = np.sum(fq * float(m), axis=0)\n",
    "    sm = np.asmatrix(sm / float(sm.sum()))\n",
    "    tm = np.asmatrix(tm / float(tm.sum()))\n",
    "    sm_tm = np.matmul(np.transpose(sm), tm)\n",
    "\n",
    "    div = np.divide(fq, sm_tm, where=sm_tm != 0, out=np.zeros_like(fq))\n",
    "    ent = np.log(div, where=div != 0, out=np.zeros_like(div))\n",
    "    agg = np.multiply(fq, ent, out=np.zeros_like(fq), where=fq != 0)\n",
    "    joint_ent = -np.multiply(fq, np.log(fq, where=fq != 0, out=np.zeros_like(fq)),\n",
    "                             out=np.zeros_like(fq), where=fq != 0).sum()\n",
    "    return joint_ent - agg.sum()\n",
    "\n",
    "def calc_norm_mi_fast(arr1, arr2, bins, m):\n",
    "    \"\"\" Calculates a normalized mutual information distance D(X, Y) = 1 - I(X, Y)/H(X, Y) using bin-based method\n",
    "\n",
    "    It takes gene expression data from single cells, and compares them using standard calculation for\n",
    "    mutual information and joint entropy. It builds a 2d histogram, which is used to calculate P(arr1, arr2).\n",
    "\n",
    "    Args:\n",
    "        arr1 (pandas series): gene expression data for cell 1\n",
    "        arr2 (pandas series): gene expression data for cell 2\n",
    "        marginals  (ndarray): marginal probability matrix\n",
    "        index1         (int): index of cell 1\n",
    "        index2         (int): index of cell 2\n",
    "        bins           (int): number of bins\n",
    "        m              (int): number of genes\n",
    "    Returns:\n",
    "        a float between 0 and 1\n",
    "    \"\"\"\n",
    "    fq = fast_histogram.histogram2d(arr1, arr2, range=[[arr1.min(), arr1.max()+1e-9], [arr2.min(), arr2.max()+1e-9]],\n",
    "                                    bins=(bins, bins)) / float(m)\n",
    "    sm = np.sum(fq * float(m), axis=1)\n",
    "    tm = np.sum(fq * float(m), axis=0)\n",
    "    sm = np.asmatrix(sm / float(sm.sum()))\n",
    "    tm = np.asmatrix(tm / float(tm.sum()))\n",
    "    sm_tm = np.matmul(np.transpose(sm), tm)\n",
    "\n",
    "    div = np.divide(fq, sm_tm, where=sm_tm != 0, out=np.zeros_like(fq))\n",
    "    ent = np.log(div, where=div != 0, out=np.zeros_like(div))\n",
    "    agg = np.multiply(fq, ent, out=np.zeros_like(fq), where=fq != 0)\n",
    "    joint_ent = -np.multiply(fq, np.log(fq, where=fq != 0, out=np.zeros_like(fq)),\n",
    "                             out=np.zeros_like(fq), where=fq != 0).sum()\n",
    "    return joint_ent - agg.sum()"
   ]
  },
  {
   "cell_type": "code",
   "execution_count": 139,
   "metadata": {
    "collapsed": false,
    "jupyter": {
     "outputs_hidden": false
    },
    "pycharm": {
     "name": "#%%\n"
    }
   },
   "outputs": [],
   "source": [
    "num_bins = int((frame.shape[0]) ** (1 / 3.0))\n",
    "num_genes = frame.shape[1]"
   ]
  },
  {
   "cell_type": "code",
   "execution_count": 135,
   "metadata": {
    "collapsed": false,
    "jupyter": {
     "outputs_hidden": false
    },
    "pycharm": {
     "name": "#%%\n"
    }
   },
   "outputs": [],
   "source": [
    "#calc_norm_mi(arr1, arr2, num_bins, num_genes)"
   ]
  },
  {
   "cell_type": "code",
   "execution_count": 136,
   "metadata": {
    "collapsed": false,
    "jupyter": {
     "outputs_hidden": false
    },
    "pycharm": {
     "name": "#%%\n"
    }
   },
   "outputs": [],
   "source": [
    "@numba.jit(nopython=True, fastmath=True)\n",
    "def compute_bin(x, min, max, num_bins):\n",
    "    \"\"\" Compute bin index for a give number.\n",
    "    \"\"\"\n",
    "    # special case to mirror NumPy behavior for last bin\n",
    "    if x == max:\n",
    "        return num_bins - 1 # a_max always in last bin\n",
    "\n",
    "    bin = int(num_bins * (x - min) / (max - min))\n",
    "\n",
    "    if bin < 0 or bin >= num_bins:\n",
    "        return None\n",
    "    else:\n",
    "        return bin\n",
    "    \n",
    "    \n",
    "@numba.jit(nopython=True, fastmath=True)\n",
    "def compute_bin_upperbound(x, max, num_bins):\n",
    "    \"\"\" Compute bin index for a give number.\n",
    "        Assume that min is always zero\n",
    "    \"\"\"\n",
    "    # special case to mirror NumPy behavior for last bin\n",
    "    if x == max:\n",
    "        return num_bins - 1 # a_max always in last bin\n",
    "\n",
    "    bin = int(num_bins * x / max)\n",
    "\n",
    "    if bin >= num_bins:\n",
    "        return None\n",
    "    else:\n",
    "        return bin\n",
    "    \n",
    "    \n",
    "\n",
    "@numba.jit(nopython=True, fastmath=True)\n",
    "def numba_histogram2d(arr1, arr2, num_bins):\n",
    "    \"\"\" Compute the bi-dimensional histogram of two data samples.\n",
    "    Args:\n",
    "        arr1 (array_like, shape (N,)): An array containing the x coordinates of the points to be histogrammed.\n",
    "        arr2 (array_like, shape (N,)): An array containing the y coordinates of the points to be histogrammed.\n",
    "        num_bins (int): int\n",
    "    Return:\n",
    "        hist (2D ndarray)\n",
    "    \"\"\"\n",
    "    bin_indices1 = np.zeros((arr1.shape[0],), dtype=np.int16)\n",
    "    min1 = arr1.min()\n",
    "    max1 = arr1.max()\n",
    "    #note that bin_indices has same size/indices as full array x and y\n",
    "    for i, x in enumerate(arr1.flat):\n",
    "        bin_indices1[i] = compute_bin(x, min1, max1, num_bins)\n",
    "\n",
    "    bin_indices2 = np.zeros((arr2.shape[0],), dtype=np.int16)\n",
    "    min2 = arr2.min()\n",
    "    max2 = arr2.max()\n",
    "    for i, y in enumerate(arr2.flat):\n",
    "        bin_indices2[i] = compute_bin(y, min2, max2, num_bins)\n",
    "\n",
    "    hist = np.zeros((num_bins, num_bins), dtype=np.int16)\n",
    "    for i, b in enumerate(bin_indices1):\n",
    "        hist[b, bin_indices2[i]] += 1\n",
    "    return hist\n",
    "\n",
    "\n",
    "#ceb create csr version of numba_histogram2d, also compute_bin with knowledge that minx will always be zero\n",
    "@numba.jit(nopython=True, fastmath=True)\n",
    "def numba_histogram2d_csr(arr1, cols1, arr2, cols2, ncols, num_bins):\n",
    "    \"\"\" Compute the bi-dimensional histogram of two data samples.\n",
    "    Args:\n",
    "        arr1 (array_like, shape (N,)): An array containing the x coordinates of the points to be histogrammed.\n",
    "        arr2 (array_like, shape (N,)): An array containing the y coordinates of the points to be histogrammed.\n",
    "        num_bins (int): int\n",
    "    Return:\n",
    "        hist (2D ndarray)\n",
    "    \"\"\"\n",
    "    #for csr arrays we have to compute zero bins ahead of time \n",
    "        \n",
    "    bin_indices1 = np.zeros((ncols,), dtype=np.int16)\n",
    "    max1 = arr1.max()\n",
    "    #note that bin_indices has same size/indices as full array x and y\n",
    "    for i, x in enumerate(arr1.flat):\n",
    "        #assume zero min\n",
    "        bin_indices1[cols1[i]] = compute_bin_upperbound(x, max1, num_bins)\n",
    "        #bin_indices1[cols1[i]] = compute_bin(x, 0, max1, num_bins)\n",
    "\n",
    "    bin_indices2 = np.zeros((ncols,), dtype=np.int16)\n",
    "    max2 = arr2.max()\n",
    "    for i, y in enumerate(arr2.flat):\n",
    "        #assume zero min\n",
    "        bin_indices2[cols2[i]] = compute_bin_upperbound(y, max2, num_bins)\n",
    "        #bin_indices2[cols2[i]] = compute_bin(y, 0, max2, num_bins)\n",
    "\n",
    "    hist = np.zeros((num_bins, num_bins), dtype=np.int16)\n",
    "    for i, b in enumerate(bin_indices1):\n",
    "        hist[b, bin_indices2[i]] += 1\n",
    "        \n",
    "    return hist\n",
    "\n",
    "@numba.jit(nopython=True)\n",
    "def numba_nan_fill(x):\n",
    "    shape = x.shape\n",
    "    x = x.ravel()\n",
    "    x[np.isnan(x)] = 0.0\n",
    "    x = x.reshape(shape)\n",
    "    return x\n",
    "\n",
    "@numba.jit(nopython=True)\n",
    "def numba_inf_fill(x):\n",
    "    shape = x.shape\n",
    "    x = x.ravel()\n",
    "    x[np.isinf(x)] = 0.0\n",
    "    x = x.reshape(shape)\n",
    "    return x\n",
    "\n",
    "@numba.jit(nopython=True, fastmath=True)\n",
    "def numba_calc_mi_dis(arr1, arr2, bins, m):\n",
    "    \"\"\" Calculates a mutual information distance D(X, Y) = H(X, Y) - I(X, Y) using bin-based method\n",
    "\n",
    "    It takes gene expression data from single cells, and compares them using standard calculation for\n",
    "    mutual information and joint entropy. It builds a 2d histogram, which is used to calculate P(arr1, arr2).\n",
    "\n",
    "    Args:\n",
    "        arr1 (pandas series): gene expression data for cell 1\n",
    "        arr2 (pandas series): gene expression data for cell 2\n",
    "        marginals  (ndarray): marginal probability matrix\n",
    "        index1         (int): index of cell 1\n",
    "        index2         (int): index of cell 2\n",
    "        bins           (int): number of bins\n",
    "        m              (int): number of genes\n",
    "    Returns:\n",
    "        a float between 0 and 1\n",
    "    \"\"\"\n",
    "    hist = numba_histogram2d(arr1, arr2, bins)\n",
    "    sm = np.sum(hist, axis=1)\n",
    "    tm = np.sum(hist, axis=0)\n",
    "    sm = sm / float(sm.sum())\n",
    "    tm = tm / float(tm.sum())\n",
    "\n",
    "    sm_tm = np.zeros((bins, bins), dtype=np.float32)\n",
    "    for i, s in enumerate(sm):\n",
    "        for j, t in enumerate(tm):\n",
    "            sm_tm[i, j] = s * t\n",
    "\n",
    "    fq = hist / float(m)\n",
    "    div = np.true_divide(fq, sm_tm)\n",
    "    numba_nan_fill(div)\n",
    "    ent = np.log(div)\n",
    "    numba_inf_fill(ent)\n",
    "    agg = np.multiply(fq, ent)\n",
    "    joint_ent = -np.multiply(fq, numba_inf_fill(np.log(fq))).sum()\n",
    "    return joint_ent - agg.sum()\n",
    "\n",
    "\n",
    "\n",
    "@numba.jit(nopython=True, fastmath=True)\n",
    "def numba_calc_mi_dis_csr(arr1, cols1, arr2, cols2, ncols, bins, m):\n",
    "    \"\"\" Calculates a mutual information distance D(X, Y) = H(X, Y) - I(X, Y) using bin-based method\n",
    "\n",
    "    It takes gene expression data from single cells, and compares them using standard calculation for\n",
    "    mutual information and joint entropy. It builds a 2d histogram, which is used to calculate P(arr1, arr2).\n",
    "\n",
    "    Args:\n",
    "        arr1 (pandas series): gene expression data for cell 1\n",
    "        arr2 (pandas series): gene expression data for cell 2\n",
    "        marginals  (ndarray): marginal probability matrix\n",
    "        index1         (int): index of cell 1\n",
    "        index2         (int): index of cell 2\n",
    "        bins           (int): number of bins\n",
    "        m              (int): number of genes\n",
    "    Returns:\n",
    "        a float between 0 and 1\n",
    "    \"\"\"\n",
    "    hist = numba_histogram2d_csr(arr1, cols1, arr2, cols2, ncols, bins)\n",
    "    sm = np.sum(hist, axis=1)\n",
    "    tm = np.sum(hist, axis=0)\n",
    "    sm = sm / float(sm.sum())\n",
    "    tm = tm / float(tm.sum())\n",
    "\n",
    "    sm_tm = np.zeros((bins, bins), dtype=np.float32)\n",
    "    for i, s in enumerate(sm):\n",
    "        for j, t in enumerate(tm):\n",
    "            sm_tm[i, j] = s * t\n",
    "\n",
    "    fq = hist / float(m)\n",
    "    div = np.true_divide(fq, sm_tm)\n",
    "    numba_nan_fill(div)\n",
    "    ent = np.log(div)\n",
    "    numba_inf_fill(ent)\n",
    "    agg = np.multiply(fq, ent)\n",
    "    joint_ent = -np.multiply(fq, numba_inf_fill(np.log(fq))).sum()\n",
    "    return joint_ent - agg.sum()\n"
   ]
  },
  {
   "cell_type": "markdown",
   "metadata": {},
   "source": [
    "Compare runtimes for for different histogram2d implementations"
   ]
  },
  {
   "cell_type": "code",
   "execution_count": 107,
   "metadata": {},
   "outputs": [
    {
     "name": "stdout",
     "output_type": "stream",
     "text": [
      "387 µs ± 1.6 µs per loop (mean ± std. dev. of 7 runs, 1000 loops each)\n"
     ]
    }
   ],
   "source": [
    "%timeit np.histogram2d(arr1, arr2, bins=(num_bins, num_bins))[0]"
   ]
  },
  {
   "cell_type": "code",
   "execution_count": 108,
   "metadata": {},
   "outputs": [
    {
     "name": "stdout",
     "output_type": "stream",
     "text": [
      "120 µs ± 170 ns per loop (mean ± std. dev. of 7 runs, 10000 loops each)\n"
     ]
    }
   ],
   "source": [
    "%timeit fast_histogram.histogram2d(arr1, arr2, range=[[arr1.min(), arr1.max()+1e-9], [arr2.min(), arr2.max()+1e-9]], bins=(num_bins, num_bins))"
   ]
  },
  {
   "cell_type": "code",
   "execution_count": 109,
   "metadata": {
    "collapsed": false,
    "jupyter": {
     "outputs_hidden": false
    },
    "pycharm": {
     "name": "#%%\n"
    }
   },
   "outputs": [
    {
     "name": "stdout",
     "output_type": "stream",
     "text": [
      "62.8 µs ± 11.9 ns per loop (mean ± std. dev. of 7 runs, 10000 loops each)\n"
     ]
    }
   ],
   "source": [
    "%timeit numba_histogram2d(arr1, arr2, num_bins)"
   ]
  },
  {
   "cell_type": "code",
   "execution_count": 120,
   "metadata": {
    "collapsed": false,
    "jupyter": {
     "outputs_hidden": false
    },
    "pycharm": {
     "name": "#%%\n"
    }
   },
   "outputs": [
    {
     "name": "stdout",
     "output_type": "stream",
     "text": [
      "25.8 µs ± 9.5 ns per loop (mean ± std. dev. of 7 runs, 10000 loops each)\n"
     ]
    }
   ],
   "source": [
    "%timeit numba_histogram2d_csr(arr1_csr, arr1_indices, arr2_csr, arr2_indices, adata.shape[1], num_bins)"
   ]
  },
  {
   "cell_type": "code",
   "execution_count": 122,
   "metadata": {},
   "outputs": [],
   "source": [
    "#print(\"numpy_hist =   \",(np.histogram2d(arr1, arr2, bins=(num_bins, num_bins))[0]).astype(int) ) \n",
    "#print(\"fast_hist =    \",(fast_histogram.histogram2d(arr1, arr2, range=[[arr1.min(), arr1.max()+1e-9], [arr2.min(), arr2.max()+1e-9]], bins=(num_bins, num_bins))).astype(int) )  \n",
    "#print(\"numba_hist =   \",numba_histogram2d(arr1, arr2, num_bins))\n",
    "#print(\"numba_csr_hist=\",numba_histogram2d_csr(arr1_csr, arr1_indices, arr2_csr, arr2_indices, adata.shape[1], num_bins))"
   ]
  },
  {
   "cell_type": "code",
   "execution_count": null,
   "metadata": {},
   "outputs": [],
   "source": []
  },
  {
   "cell_type": "code",
   "execution_count": 126,
   "metadata": {
    "collapsed": false,
    "jupyter": {
     "outputs_hidden": false
    },
    "pycharm": {
     "name": "#%%\n"
    }
   },
   "outputs": [],
   "source": [
    "arr3 = frame_np[1000,:]\n",
    "arr4 = frame_np[2401,:]"
   ]
  },
  {
   "cell_type": "code",
   "execution_count": 140,
   "metadata": {},
   "outputs": [
    {
     "name": "stdout",
     "output_type": "stream",
     "text": [
      "552 µs ± 2.34 µs per loop (mean ± std. dev. of 7 runs, 1000 loops each)\n"
     ]
    }
   ],
   "source": [
    "%timeit calc_norm_mi_numpy(arr3, arr4, num_bins, num_genes)"
   ]
  },
  {
   "cell_type": "code",
   "execution_count": 141,
   "metadata": {
    "collapsed": false,
    "jupyter": {
     "outputs_hidden": false
    },
    "pycharm": {
     "name": "#%%\n"
    }
   },
   "outputs": [
    {
     "name": "stdout",
     "output_type": "stream",
     "text": [
      "252 µs ± 713 ns per loop (mean ± std. dev. of 7 runs, 1000 loops each)\n"
     ]
    }
   ],
   "source": [
    "%timeit calc_norm_mi_fast(arr3, arr4, num_bins, num_genes)"
   ]
  },
  {
   "cell_type": "code",
   "execution_count": 146,
   "metadata": {
    "collapsed": false,
    "jupyter": {
     "outputs_hidden": false
    },
    "pycharm": {
     "name": "#%%\n"
    }
   },
   "outputs": [
    {
     "name": "stdout",
     "output_type": "stream",
     "text": [
      "68.8 µs ± 139 ns per loop (mean ± std. dev. of 7 runs, 10000 loops each)\n"
     ]
    }
   ],
   "source": [
    "%timeit numba_calc_mi_dis(arr3, arr4, num_bins, num_genes)"
   ]
  },
  {
   "cell_type": "code",
   "execution_count": 143,
   "metadata": {},
   "outputs": [],
   "source": [
    "ncols=adata.shape[1]\n",
    "row1=1000\n",
    "row1start=adata.X.indptr[row1]\n",
    "row1end=adata.X.indptr[row1+1]\n",
    "#print(row1start,row1end) \n",
    "arr1_indices = adata.X.indices[row1start:row1end]\n",
    "arr1_csr = adata.X.data[row1start:row1end]\n",
    "\n",
    "\n",
    "row2=2401\n",
    "row2start=adata.X.indptr[row2]\n",
    "row2end=adata.X.indptr[row2+1]\n",
    "arr2_indices = adata.X.indices[row2start:row2end]\n",
    "arr2_csr = adata.X.data[row2start:row2end]\n"
   ]
  },
  {
   "cell_type": "code",
   "execution_count": 145,
   "metadata": {},
   "outputs": [
    {
     "name": "stdout",
     "output_type": "stream",
     "text": [
      "32.9 µs ± 20.4 ns per loop (mean ± std. dev. of 7 runs, 10000 loops each)\n"
     ]
    }
   ],
   "source": [
    "%timeit numba_calc_mi_dis_csr(arr1_csr, arr1_indices, arr2_csr, arr2_indices, ncols, num_bins, num_genes)"
   ]
  },
  {
   "cell_type": "code",
   "execution_count": 147,
   "metadata": {},
   "outputs": [
    {
     "name": "stdout",
     "output_type": "stream",
     "text": [
      "0.7153987171007082\n",
      "0.7153987171007082\n",
      "0.7153987389627494\n",
      "0.7153987389627494\n"
     ]
    }
   ],
   "source": [
    "print(calc_norm_mi_numpy(arr3, arr4, num_bins, num_genes))\n",
    "print(calc_norm_mi_fast(arr3, arr4, num_bins, num_genes))\n",
    "print(numba_calc_mi_dis(arr3, arr4, num_bins, num_genes))\n",
    "print(numba_calc_mi_dis_csr(arr1_csr, arr1_indices, arr2_csr, arr2_indices, ncols, num_bins, num_genes))"
   ]
  },
  {
   "cell_type": "code",
   "execution_count": null,
   "metadata": {},
   "outputs": [],
   "source": []
  }
 ],
 "metadata": {
  "kernelspec": {
   "display_name": "Python 3",
   "language": "python",
   "name": "python3"
  },
  "language_info": {
   "codemirror_mode": {
    "name": "ipython",
    "version": 3
   },
   "file_extension": ".py",
   "mimetype": "text/x-python",
   "name": "python",
   "nbconvert_exporter": "python",
   "pygments_lexer": "ipython3",
   "version": "3.7.7"
  }
 },
 "nbformat": 4,
 "nbformat_minor": 4
}
