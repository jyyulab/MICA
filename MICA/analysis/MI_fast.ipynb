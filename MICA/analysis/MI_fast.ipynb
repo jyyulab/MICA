{
 "cells": [
  {
   "cell_type": "code",
   "execution_count": 1,
   "metadata": {
    "collapsed": true
   },
   "outputs": [],
   "source": [
    "import scanpy as sc\n",
    "import scipy as sci\n",
    "import numpy as np\n",
    "import anndata\n",
    "import time\n",
    "from sklearn.decomposition import PCA\n",
    "import fast_histogram\n",
    "import logging\n",
    "logging.basicConfig(level=logging.INFO)\n",
    "import pandas as pd\n"
   ]
  },
  {
   "cell_type": "code",
   "execution_count": 2,
   "outputs": [
    {
     "data": {
      "text/plain": "(2496, 10499)"
     },
     "execution_count": 2,
     "metadata": {},
     "output_type": "execute_result"
    }
   ],
   "source": [
    "preprocessed_results = '../../test_data/inputs/10x/PBMC/3k/pre-processed/pbmc3k_preprocessed.h5ad'\n",
    "adata = anndata.read_h5ad(preprocessed_results)\n",
    "frame = adata.to_df()\n",
    "frame.shape"
   ],
   "metadata": {
    "collapsed": false,
    "pycharm": {
     "name": "#%% Test on 3k PBMC\n"
    }
   }
  },
  {
   "cell_type": "code",
   "execution_count": null,
   "outputs": [],
   "source": [
    "frame.to_csv('/Users/lding/Documents/MICA/kgraph/pmbc3k.csv')"
   ],
   "metadata": {
    "collapsed": false,
    "pycharm": {
     "name": "#%%\n",
     "is_executing": true
    }
   }
  },
  {
   "cell_type": "code",
   "execution_count": null,
   "outputs": [],
   "source": [
    "%memit\n",
    "start = time.time()\n",
    "embedding = PCA(n_components=100)\n",
    "frame_dr = embedding.fit_transform(frame)\n",
    "frame_dr.shape\n",
    "end = time.time()\n",
    "runtime = end - start\n",
    "msg = \"The runtime for PCA took {} seconds to complete\".format(runtime)\n",
    "logging.info(msg)\n",
    "\n"
   ],
   "metadata": {
    "collapsed": false,
    "pycharm": {
     "name": "#%%\n",
     "is_executing": true
    }
   }
  },
  {
   "cell_type": "code",
   "execution_count": null,
   "outputs": [],
   "source": [
    "%load_ext memory_profiler"
   ],
   "metadata": {
    "collapsed": false,
    "pycharm": {
     "name": "#%%\n",
     "is_executing": true
    }
   }
  },
  {
   "cell_type": "code",
   "execution_count": null,
   "outputs": [],
   "source": [
    "def calc_mi_f(arr1, arr2, bins, m):\n",
    "    \"\"\" Calculates mutual information in between two cells, considering their gene expression levels\n",
    "\n",
    "    This function is called by calc_distance_mat. It takes gene expression data from single cells,\n",
    "    and compares them using standard calculation for mutual information. It builds a 2d histogram,\n",
    "    which is used to calculate P(arr1, arr2)\n",
    "\n",
    "    Args:\n",
    "        arr1 (pandas series): gene expression data for a given cell in matrix_1\n",
    "        arr2 (pandas series):\n",
    "        bins           (int):\n",
    "        m              (int):\n",
    "    \"\"\"\n",
    "    fq = fast_histogram.histogram2d(arr1, arr2, range=[[arr1.min(), arr1.max()+1e-9], [arr2.min(), arr2.max()+1e-9]],\n",
    "                                    bins=(bins, bins)) / float(m)\n",
    "    sm = np.sum(fq * float(m), axis=1)\n",
    "    tm = np.sum(fq * float(m), axis=0)\n",
    "    sm = np.asmatrix(sm / float(sm.sum()))\n",
    "    tm = np.asmatrix(tm / float(tm.sum()))\n",
    "    sm_tm = np.matmul(np.transpose(sm), tm)\n",
    "    div = np.divide(fq, sm_tm, where=sm_tm != 0, out=np.zeros_like(fq))\n",
    "    ent = np.log(div, where=div != 0, out=np.zeros_like(div))\n",
    "    agg = np.multiply(fq, ent, out=np.zeros_like(fq), where=fq != 0)\n",
    "    return agg.sum()"
   ],
   "metadata": {
    "collapsed": false,
    "pycharm": {
     "name": "#%%\n",
     "is_executing": true
    }
   }
  },
  {
   "cell_type": "code",
   "execution_count": null,
   "outputs": [],
   "source": [
    "num_bins = int((frame_dr.shape[0]) ** (1 / 3.0))\n",
    "num_genes = frame_dr.shape[1]"
   ],
   "metadata": {
    "collapsed": false,
    "pycharm": {
     "name": "#%%\n",
     "is_executing": true
    }
   }
  },
  {
   "cell_type": "code",
   "execution_count": null,
   "outputs": [],
   "source": [
    "%timeit calc_mi_f(frame_dr[0], frame_dr[1], num_bins, num_genes)"
   ],
   "metadata": {
    "collapsed": false,
    "pycharm": {
     "name": "#%%\n",
     "is_executing": true
    }
   }
  },
  {
   "cell_type": "code",
   "execution_count": null,
   "outputs": [],
   "source": [
    "arr = frame_dr[0]\n",
    "fast_histogram.histogram1d(arr, bins=num_bins, range=[arr.min(), arr.max()+1e-9]) / num_genes\n"
   ],
   "metadata": {
    "collapsed": false,
    "pycharm": {
     "name": "#%%\n",
     "is_executing": true
    }
   }
  },
  {
   "cell_type": "code",
   "execution_count": null,
   "outputs": [],
   "source": [
    "num_cells = frame_dr.shape[0]\n",
    "marginals = np.empty((num_cells, num_bins))\n",
    "for index, cell in enumerate(frame_dr):\n",
    "    ht1d = fast_histogram.histogram1d(cell, bins=num_bins, range=[cell.min(), cell.max()+1e-9]) / num_genes\n",
    "    marginals[index] = ht1d\n",
    "print(marginals[0])\n",
    "print(marginals[1])\n",
    "np.transpose(np.asmatrix(marginals[0]))"
   ],
   "metadata": {
    "collapsed": false,
    "pycharm": {
     "name": "#%%\n",
     "is_executing": true
    }
   }
  },
  {
   "cell_type": "code",
   "execution_count": null,
   "outputs": [],
   "source": [
    "def calc_mi_f2(arr1, arr2, marginals, index1, index2, bins, m):\n",
    "    \"\"\" Calculates mutual information in between two cells, considering their gene expression levels\n",
    "\n",
    "    This function is called by calc_distance_mat. It takes gene expression data from single cells,\n",
    "    and compares them using standard calculation for mutual information. It builds a 2d histogram,\n",
    "    which is used to calculate P(arr1, arr2)\n",
    "\n",
    "    Args:\n",
    "        arr1 (pandas series): gene expression data for a given cell in matrix_1\n",
    "        arr2 (pandas series):\n",
    "        bins           (int):\n",
    "        m              (int):\n",
    "    \"\"\"\n",
    "    fq = fast_histogram.histogram2d(arr1, arr2, range=[[arr1.min(), arr1.max()+1e-9], [arr2.min(), arr2.max()+1e-9]],\n",
    "                                    bins=(bins, bins)) / float(m)\n",
    "    sm_tm = np.matmul(np.transpose(np.asmatrix(marginals[index1])), np.asmatrix(marginals[index2]))\n",
    "    div = np.divide(fq, sm_tm, where=sm_tm != 0, out=np.zeros_like(fq))\n",
    "    ent = np.log(div, where=div != 0, out=np.zeros_like(div))\n",
    "    agg = np.multiply(fq, ent, out=np.zeros_like(fq), where=fq != 0)\n",
    "    return agg.sum()\n"
   ],
   "metadata": {
    "collapsed": false,
    "pycharm": {
     "name": "#%%\n",
     "is_executing": true
    }
   }
  },
  {
   "cell_type": "code",
   "execution_count": null,
   "outputs": [],
   "source": [
    "#%timeit\n",
    "calc_mi_f2(frame_dr[0], frame_dr[1], marginals, 0, 1, num_bins, num_genes)"
   ],
   "metadata": {
    "collapsed": false,
    "pycharm": {
     "name": "#%%\n",
     "is_executing": true
    }
   }
  },
  {
   "cell_type": "code",
   "execution_count": null,
   "outputs": [],
   "source": [
    "def calc_marginals(frame_dr, num_bins, num_genes):\n",
    "    num_cells = frame_dr.shape[0]\n",
    "    marginals = np.empty((num_cells, num_bins))\n",
    "    for index, cell in enumerate(frame_dr):\n",
    "        ht1d = fast_histogram.histogram1d(cell, bins=num_bins, range=[cell.min(), cell.max() + 1e-9]) / num_genes\n",
    "        marginals[index] = ht1d\n",
    "    np.transpose(np.asmatrix(marginals[0]))\n",
    "    return marginals"
   ],
   "metadata": {
    "collapsed": false,
    "pycharm": {
     "name": "#%%\n",
     "is_executing": true
    }
   }
  },
  {
   "cell_type": "code",
   "execution_count": null,
   "outputs": [],
   "source": [
    "def calc_norm_mi_marginal(arr1, arr2, marginals, index1, index2, bins, m):\n",
    "    \"\"\" Calculates a normalized mutual information distance in between two cells\n",
    "\n",
    "    It takes gene expression data from single cells, and compares them using standard calculation for\n",
    "    mutual information. It builds a 2d histogram, which is used to calculate P(arr1, arr2)\n",
    "\n",
    "    Args:\n",
    "        arr1 (pandas series): gene expression data for a given cell in matrix_1\n",
    "        arr2 (pandas series):\n",
    "        bins           (int):\n",
    "        m              (int):\n",
    "    \"\"\"\n",
    "    fq = fast_histogram.histogram2d(arr1, arr2, range=[[arr1.min(), arr1.max()+1e-9], [arr2.min(), arr2.max()+1e-9]],\n",
    "                                    bins=(bins, bins)) / float(m)\n",
    "    sm_tm = np.matmul(np.transpose(np.asmatrix(marginals[index1])), np.asmatrix(marginals[index2]))\n",
    "    div = np.divide(fq, sm_tm, where=sm_tm != 0, out=np.zeros_like(fq))\n",
    "    ent = np.log(div, where=div != 0, out=np.zeros_like(div))\n",
    "    agg = np.multiply(fq, ent, out=np.zeros_like(fq), where=fq != 0)\n",
    "    joint_ent = -np.multiply(fq, np.log(fq, where=fq != 0, out=np.zeros_like(fq)),\n",
    "                             out=np.zeros_like(fq), where=fq != 0).sum()\n",
    "    return (joint_ent - agg.sum()) / joint_ent"
   ],
   "metadata": {
    "collapsed": false,
    "pycharm": {
     "name": "#%%\n",
     "is_executing": true
    }
   }
  },
  {
   "cell_type": "code",
   "execution_count": null,
   "outputs": [],
   "source": [
    "# %timeit\n",
    "calc_norm_mi_marginal(frame_dr[0], frame_dr[1], marginals, 0, 1, num_bins, num_genes)"
   ],
   "metadata": {
    "collapsed": false,
    "pycharm": {
     "name": "#%%\n",
     "is_executing": true
    }
   }
  },
  {
   "cell_type": "code",
   "execution_count": null,
   "outputs": [],
   "source": [
    "calc_norm_mi_marginal(frame_dr[0], frame_dr[2], marginals, 0, 2, num_bins, num_genes)\n",
    "\n"
   ],
   "metadata": {
    "collapsed": false,
    "pycharm": {
     "name": "#%%\n",
     "is_executing": true
    }
   }
  },
  {
   "cell_type": "code",
   "execution_count": null,
   "outputs": [],
   "source": [
    "def calc_norm_mi(arr1, arr2, bins, m):\n",
    "    \"\"\" Calculates a normalized mutual information distance in between two cells\n",
    "\n",
    "    It takes gene expression data from single cells, and compares them using standard calculation for\n",
    "    mutual information. It builds a 2d histogram, which is used to calculate P(arr1, arr2)\n",
    "\n",
    "    Args:\n",
    "        arr1 (pandas series): gene expression data for a given cell in matrix_1\n",
    "        arr2 (pandas series):\n",
    "        bins           (int):\n",
    "        m              (int):\n",
    "    \"\"\"\n",
    "    fq = fast_histogram.histogram2d(arr1, arr2, range=[[arr1.min(), arr1.max()+1e-9], [arr2.min(), arr2.max()+1e-9]],\n",
    "                                    bins=(bins, bins)) / float(m)\n",
    "    sm = np.sum(fq * float(m), axis=1)\n",
    "    tm = np.sum(fq * float(m), axis=0)\n",
    "    sm = np.asmatrix(sm / float(sm.sum()))\n",
    "    tm = np.asmatrix(tm / float(tm.sum()))\n",
    "    sm_tm = np.matmul(np.transpose(sm), tm)\n",
    "    div = np.divide(fq, sm_tm, where=sm_tm != 0, out=np.zeros_like(fq))\n",
    "    ent = np.log(div, where=div != 0, out=np.zeros_like(div))\n",
    "    agg = np.multiply(fq, ent, out=np.zeros_like(fq), where=fq != 0)\n",
    "    joint_ent = -np.multiply(fq, np.log(fq, where=fq != 0, out=np.zeros_like(fq)),\n",
    "                             out=np.zeros_like(fq), where=fq != 0).sum()\n",
    "    return (joint_ent - agg.sum()) / joint_ent"
   ],
   "metadata": {
    "collapsed": false,
    "pycharm": {
     "name": "#%%\n",
     "is_executing": true
    }
   }
  },
  {
   "cell_type": "code",
   "execution_count": null,
   "outputs": [],
   "source": [
    "%timeit calc_norm_mi(frame_dr[0], frame_dr[1], num_bins, num_genes)"
   ],
   "metadata": {
    "collapsed": false,
    "pycharm": {
     "name": "#%%\n",
     "is_executing": true
    }
   }
  },
  {
   "cell_type": "code",
   "execution_count": null,
   "outputs": [],
   "source": [
    "from sklearn.neighbors import DistanceMetric\n",
    "dist = DistanceMetric.get_metric('euclidean')\n",
    "X = [frame_dr[0], frame_dr[1]]"
   ],
   "metadata": {
    "collapsed": false,
    "pycharm": {
     "name": "#%%\n",
     "is_executing": true
    }
   }
  },
  {
   "cell_type": "code",
   "execution_count": null,
   "outputs": [],
   "source": [
    "%timeit dist.pairwise(X)"
   ],
   "metadata": {
    "collapsed": false,
    "pycharm": {
     "name": "#%%\n",
     "is_executing": true
    }
   }
  },
  {
   "cell_type": "code",
   "execution_count": null,
   "outputs": [],
   "source": [
    "def read_preprocessed_mat(in_file):\n",
    "    \"\"\"Read in preprocessed matrix file into a dataframe.\"\"\"\n",
    "    if in_file.endswith('.txt'):\n",
    "        frame = pd.read_csv(in_file, sep=\"\\t\", index_col=0).iloc[:, 0:]\n",
    "    if in_file.endswith('.h5ad') or in_file.endswith('.h5'):\n",
    "        adata = anndata.read_h5ad(in_file)\n",
    "        frame = adata.to_df()\n",
    "    return frame"
   ],
   "metadata": {
    "collapsed": false,
    "pycharm": {
     "name": "#%%\n",
     "is_executing": true
    }
   }
  },
  {
   "cell_type": "code",
   "execution_count": 2,
   "outputs": [],
   "source": [
    "adata = anndata.read_h5ad('/Users/lding/Git/MICA/test_data/inputs/10x/PBMC/3k/pre-processed/pbmc3k_preprocessed.h5ad')"
   ],
   "metadata": {
    "collapsed": false,
    "pycharm": {
     "name": "#%%\n"
    }
   }
  },
  {
   "cell_type": "code",
   "execution_count": 3,
   "outputs": [
    {
     "name": "stdout",
     "output_type": "stream",
     "text": [
      "(2496, 10499)\n"
     ]
    }
   ],
   "source": [
    "print(adata.X.shape)"
   ],
   "metadata": {
    "collapsed": false,
    "pycharm": {
     "name": "#%%\n"
    }
   }
  },
  {
   "cell_type": "code",
   "execution_count": 4,
   "outputs": [
    {
     "name": "stderr",
     "output_type": "stream",
     "text": [
      "INFO:root:The runtime for compute_neighbors_umap took 123.29728174209595 seconds to complete\n"
     ]
    }
   ],
   "source": [
    "start = time.time()\n",
    "indices, dists, forest = sc.neighbors.compute_neighbors_umap(adata.X, n_neighbors=10)\n",
    "end = time.time()\n",
    "runtime = end - start\n",
    "msg = \"The runtime for compute_neighbors_umap took {} seconds to complete\".format(runtime)\n",
    "logging.info(msg)"
   ],
   "metadata": {
    "collapsed": false,
    "pycharm": {
     "name": "#%%\n"
    }
   }
  },
  {
   "cell_type": "code",
   "execution_count": 5,
   "outputs": [],
   "source": [
    "def calc_norm_mi(arr1, arr2, bins, m):\n",
    "    \"\"\" Calculates a normalized mutual information distance D(X, Y) = 1 - I(X, Y)/H(X, Y) using bin-based method\n",
    "\n",
    "    It takes gene expression data from single cells, and compares them using standard calculation for\n",
    "    mutual information and joint entropy. It builds a 2d histogram, which is used to calculate P(arr1, arr2).\n",
    "\n",
    "    Args:\n",
    "        arr1 (pandas series): gene expression data for cell 1\n",
    "        arr2 (pandas series): gene expression data for cell 2\n",
    "        marginals  (ndarray): marginal probability matrix\n",
    "        index1         (int): index of cell 1\n",
    "        index2         (int): index of cell 2\n",
    "        bins           (int): number of bins\n",
    "        m              (int): number of genes\n",
    "    Returns:\n",
    "        a float between 0 and 1\n",
    "    \"\"\"\n",
    "    fq = fast_histogram.histogram2d(arr1, arr2, range=[[arr1.min(), arr1.max()+1e-9], [arr2.min(), arr2.max()+1e-9]],\n",
    "                                    bins=(bins, bins)) / float(m)\n",
    "    sm = np.sum(fq * float(m), axis=1)\n",
    "    tm = np.sum(fq * float(m), axis=0)\n",
    "    sm = np.asmatrix(sm / float(sm.sum()))\n",
    "    tm = np.asmatrix(tm / float(tm.sum()))\n",
    "    sm_tm = np.matmul(np.transpose(sm), tm)\n",
    "    div = np.divide(fq, sm_tm, where=sm_tm != 0, out=np.zeros_like(fq))\n",
    "    ent = np.log(div, where=div != 0, out=np.zeros_like(div))\n",
    "    agg = np.multiply(fq, ent, out=np.zeros_like(fq), where=fq != 0)\n",
    "    joint_ent = -np.multiply(fq, np.log(fq, where=fq != 0, out=np.zeros_like(fq)),\n",
    "                             out=np.zeros_like(fq), where=fq != 0).sum()\n",
    "    return (joint_ent - agg.sum()) / joint_ent"
   ],
   "metadata": {
    "collapsed": false,
    "pycharm": {
     "name": "#%%\n"
    }
   }
  },
  {
   "cell_type": "code",
   "execution_count": 7,
   "outputs": [],
   "source": [
    "num_bins = int((adata.X.shape[0]) ** (1 / 3.0))\n",
    "num_genes = adata.X.shape[1]\n",
    "metric_params = {\"bins\": num_bins, \"m\": num_genes}"
   ],
   "metadata": {
    "collapsed": false,
    "pycharm": {
     "name": "#%%\n"
    }
   }
  },
  {
   "cell_type": "code",
   "execution_count": 8,
   "outputs": [
    {
     "ename": "TypingError",
     "evalue": "Failed in nopython mode pipeline (step: nopython frontend)\nFailed in nopython mode pipeline (step: nopython frontend)\nUntyped global name '_distance_func': cannot determine Numba type of <class 'function'>\n\nFile \"../../../../.pyenv/versions/3.7.4/lib/python3.7/site-packages/umap/umap_.py\", line 334:\n                    def _partial_dist_func(ind1, data1, ind2, data2):\n                        return _distance_func(ind1, data1, ind2, data2, *dist_args)\n                        ^\n\n[1] During: resolving callee type: type(CPUDispatcher(<function nearest_neighbors.<locals>._partial_dist_func at 0x1347970e0>))\n[2] During: typing of call at /Users/lding/.pyenv/versions/3.7.4/lib/python3.7/site-packages/umap/sparse_nndescent.py (235)\n\n[3] During: resolving callee type: type(CPUDispatcher(<function nearest_neighbors.<locals>._partial_dist_func at 0x1347970e0>))\n[4] During: typing of call at /Users/lding/.pyenv/versions/3.7.4/lib/python3.7/site-packages/umap/sparse_nndescent.py (54)\n\n[5] During: resolving callee type: type(CPUDispatcher(<function nearest_neighbors.<locals>._partial_dist_func at 0x1347970e0>))\n[6] During: typing of call at /Users/lding/.pyenv/versions/3.7.4/lib/python3.7/site-packages/umap/sparse_nndescent.py (54)\n\n[7] During: resolving callee type: type(CPUDispatcher(<function nearest_neighbors.<locals>._partial_dist_func at 0x1347970e0>))\n[8] During: typing of call at /Users/lding/.pyenv/versions/3.7.4/lib/python3.7/site-packages/umap/sparse_nndescent.py (103)\n\n[9] During: resolving callee type: type(CPUDispatcher(<function nearest_neighbors.<locals>._partial_dist_func at 0x1347970e0>))\n[10] During: typing of call at /Users/lding/.pyenv/versions/3.7.4/lib/python3.7/site-packages/umap/sparse_nndescent.py (120)\n\n[11] During: resolving callee type: type(CPUDispatcher(<function nearest_neighbors.<locals>._partial_dist_func at 0x1347970e0>))\n[12] During: typing of call at /Users/lding/.pyenv/versions/3.7.4/lib/python3.7/site-packages/umap/sparse_nndescent.py (103)\n\n[13] During: resolving callee type: type(CPUDispatcher(<function nearest_neighbors.<locals>._partial_dist_func at 0x1347970e0>))\n[14] During: typing of call at /Users/lding/.pyenv/versions/3.7.4/lib/python3.7/site-packages/umap/sparse_nndescent.py (120)\n\n[15] During: resolving callee type: type(CPUDispatcher(<function nearest_neighbors.<locals>._partial_dist_func at 0x1347970e0>))\n[16] During: typing of call at /Users/lding/.pyenv/versions/3.7.4/lib/python3.7/site-packages/umap/sparse_nndescent.py (172)\n\n[17] During: resolving callee type: type(CPUDispatcher(<function nearest_neighbors.<locals>._partial_dist_func at 0x1347970e0>))\n[18] During: typing of call at /Users/lding/.pyenv/versions/3.7.4/lib/python3.7/site-packages/umap/sparse_nndescent.py (191)\n\n[19] During: resolving callee type: type(CPUDispatcher(<function nearest_neighbors.<locals>._partial_dist_func at 0x1347970e0>))\n[20] During: typing of call at /Users/lding/.pyenv/versions/3.7.4/lib/python3.7/site-packages/umap/sparse_nndescent.py (172)\n\n[21] During: resolving callee type: type(CPUDispatcher(<function nearest_neighbors.<locals>._partial_dist_func at 0x1347970e0>))\n[22] During: typing of call at /Users/lding/.pyenv/versions/3.7.4/lib/python3.7/site-packages/umap/sparse_nndescent.py (191)\n\n[23] During: resolving callee type: type(CPUDispatcher(<function nearest_neighbors.<locals>._partial_dist_func at 0x1347970e0>))\n[24] During: typing of call at /Users/lding/.pyenv/versions/3.7.4/lib/python3.7/site-packages/umap/sparse_nndescent.py (235)\n\n\nFile \"../../../../.pyenv/versions/3.7.4/lib/python3.7/site-packages/umap/sparse_nndescent.py\", line 235:\ndef sparse_nn_descent(\n    <source elided>\n\n            d = sparse_dist(from_inds, from_data, to_inds, to_data)\n            ^\n",
     "output_type": "error",
     "traceback": [
      "\u001B[0;31m---------------------------------------------------------------------------\u001B[0m",
      "\u001B[0;31mTypingError\u001B[0m                               Traceback (most recent call last)",
      "\u001B[0;32m<ipython-input-8-05fbc16ad998>\u001B[0m in \u001B[0;36m<module>\u001B[0;34m\u001B[0m\n\u001B[1;32m      1\u001B[0m \u001B[0mstart\u001B[0m \u001B[0;34m=\u001B[0m \u001B[0mtime\u001B[0m\u001B[0;34m.\u001B[0m\u001B[0mtime\u001B[0m\u001B[0;34m(\u001B[0m\u001B[0;34m)\u001B[0m\u001B[0;34m\u001B[0m\u001B[0;34m\u001B[0m\u001B[0m\n\u001B[1;32m      2\u001B[0m indices, dists, forest = sc.neighbors.compute_neighbors_umap(adata.X, n_neighbors=10, metric=calc_norm_mi,\n\u001B[0;32m----> 3\u001B[0;31m                                                              metric_kwds=metric_params)\n\u001B[0m\u001B[1;32m      4\u001B[0m \u001B[0mend\u001B[0m \u001B[0;34m=\u001B[0m \u001B[0mtime\u001B[0m\u001B[0;34m.\u001B[0m\u001B[0mtime\u001B[0m\u001B[0;34m(\u001B[0m\u001B[0;34m)\u001B[0m\u001B[0;34m\u001B[0m\u001B[0;34m\u001B[0m\u001B[0m\n\u001B[1;32m      5\u001B[0m \u001B[0mruntime\u001B[0m \u001B[0;34m=\u001B[0m \u001B[0mend\u001B[0m \u001B[0;34m-\u001B[0m \u001B[0mstart\u001B[0m\u001B[0;34m\u001B[0m\u001B[0;34m\u001B[0m\u001B[0m\n",
      "\u001B[0;32m~/.pyenv/versions/3.7.4/lib/python3.7/site-packages/scanpy/neighbors/__init__.py\u001B[0m in \u001B[0;36mcompute_neighbors_umap\u001B[0;34m(X, n_neighbors, random_state, metric, metric_kwds, angular, verbose)\u001B[0m\n\u001B[1;32m    275\u001B[0m         \u001B[0mX\u001B[0m\u001B[0;34m,\u001B[0m \u001B[0mn_neighbors\u001B[0m\u001B[0;34m,\u001B[0m \u001B[0mrandom_state\u001B[0m\u001B[0;34m=\u001B[0m\u001B[0mrandom_state\u001B[0m\u001B[0;34m,\u001B[0m\u001B[0;34m\u001B[0m\u001B[0;34m\u001B[0m\u001B[0m\n\u001B[1;32m    276\u001B[0m         \u001B[0mmetric\u001B[0m\u001B[0;34m=\u001B[0m\u001B[0mmetric\u001B[0m\u001B[0;34m,\u001B[0m \u001B[0mmetric_kwds\u001B[0m\u001B[0;34m=\u001B[0m\u001B[0mmetric_kwds\u001B[0m\u001B[0;34m,\u001B[0m\u001B[0;34m\u001B[0m\u001B[0;34m\u001B[0m\u001B[0m\n\u001B[0;32m--> 277\u001B[0;31m         \u001B[0mangular\u001B[0m\u001B[0;34m=\u001B[0m\u001B[0mangular\u001B[0m\u001B[0;34m,\u001B[0m \u001B[0mverbose\u001B[0m\u001B[0;34m=\u001B[0m\u001B[0mverbose\u001B[0m\u001B[0;34m,\u001B[0m\u001B[0;34m\u001B[0m\u001B[0;34m\u001B[0m\u001B[0m\n\u001B[0m\u001B[1;32m    278\u001B[0m     )\n\u001B[1;32m    279\u001B[0m \u001B[0;34m\u001B[0m\u001B[0m\n",
      "\u001B[0;32m~/.pyenv/versions/3.7.4/lib/python3.7/site-packages/umap/umap_.py\u001B[0m in \u001B[0;36mnearest_neighbors\u001B[0;34m(X, n_neighbors, metric, metric_kwds, angular, random_state, low_memory, use_pynndescent, verbose)\u001B[0m\n\u001B[1;32m    362\u001B[0m                     \u001B[0mleaf_array\u001B[0m\u001B[0;34m=\u001B[0m\u001B[0mleaf_array\u001B[0m\u001B[0;34m,\u001B[0m\u001B[0;34m\u001B[0m\u001B[0;34m\u001B[0m\u001B[0m\n\u001B[1;32m    363\u001B[0m                     \u001B[0mn_iters\u001B[0m\u001B[0;34m=\u001B[0m\u001B[0mn_iters\u001B[0m\u001B[0;34m,\u001B[0m\u001B[0;34m\u001B[0m\u001B[0;34m\u001B[0m\u001B[0m\n\u001B[0;32m--> 364\u001B[0;31m                     \u001B[0mverbose\u001B[0m\u001B[0;34m=\u001B[0m\u001B[0mverbose\u001B[0m\u001B[0;34m,\u001B[0m\u001B[0;34m\u001B[0m\u001B[0;34m\u001B[0m\u001B[0m\n\u001B[0m\u001B[1;32m    365\u001B[0m                 )\n\u001B[1;32m    366\u001B[0m             \u001B[0;32melse\u001B[0m\u001B[0;34m:\u001B[0m\u001B[0;34m\u001B[0m\u001B[0;34m\u001B[0m\u001B[0m\n",
      "\u001B[0;32m~/.pyenv/versions/3.7.4/lib/python3.7/site-packages/numba/core/dispatcher.py\u001B[0m in \u001B[0;36m_compile_for_args\u001B[0;34m(self, *args, **kws)\u001B[0m\n\u001B[1;32m    399\u001B[0m                 \u001B[0me\u001B[0m\u001B[0;34m.\u001B[0m\u001B[0mpatch_message\u001B[0m\u001B[0;34m(\u001B[0m\u001B[0mmsg\u001B[0m\u001B[0;34m)\u001B[0m\u001B[0;34m\u001B[0m\u001B[0;34m\u001B[0m\u001B[0m\n\u001B[1;32m    400\u001B[0m \u001B[0;34m\u001B[0m\u001B[0m\n\u001B[0;32m--> 401\u001B[0;31m             \u001B[0merror_rewrite\u001B[0m\u001B[0;34m(\u001B[0m\u001B[0me\u001B[0m\u001B[0;34m,\u001B[0m \u001B[0;34m'typing'\u001B[0m\u001B[0;34m)\u001B[0m\u001B[0;34m\u001B[0m\u001B[0;34m\u001B[0m\u001B[0m\n\u001B[0m\u001B[1;32m    402\u001B[0m         \u001B[0;32mexcept\u001B[0m \u001B[0merrors\u001B[0m\u001B[0;34m.\u001B[0m\u001B[0mUnsupportedError\u001B[0m \u001B[0;32mas\u001B[0m \u001B[0me\u001B[0m\u001B[0;34m:\u001B[0m\u001B[0;34m\u001B[0m\u001B[0;34m\u001B[0m\u001B[0m\n\u001B[1;32m    403\u001B[0m             \u001B[0;31m# Something unsupported is present in the user code, add help info\u001B[0m\u001B[0;34m\u001B[0m\u001B[0;34m\u001B[0m\u001B[0;34m\u001B[0m\u001B[0m\n",
      "\u001B[0;32m~/.pyenv/versions/3.7.4/lib/python3.7/site-packages/numba/core/dispatcher.py\u001B[0m in \u001B[0;36merror_rewrite\u001B[0;34m(e, issue_type)\u001B[0m\n\u001B[1;32m    342\u001B[0m                 \u001B[0;32mraise\u001B[0m \u001B[0me\u001B[0m\u001B[0;34m\u001B[0m\u001B[0;34m\u001B[0m\u001B[0m\n\u001B[1;32m    343\u001B[0m             \u001B[0;32melse\u001B[0m\u001B[0;34m:\u001B[0m\u001B[0;34m\u001B[0m\u001B[0;34m\u001B[0m\u001B[0m\n\u001B[0;32m--> 344\u001B[0;31m                 \u001B[0mreraise\u001B[0m\u001B[0;34m(\u001B[0m\u001B[0mtype\u001B[0m\u001B[0;34m(\u001B[0m\u001B[0me\u001B[0m\u001B[0;34m)\u001B[0m\u001B[0;34m,\u001B[0m \u001B[0me\u001B[0m\u001B[0;34m,\u001B[0m \u001B[0;32mNone\u001B[0m\u001B[0;34m)\u001B[0m\u001B[0;34m\u001B[0m\u001B[0;34m\u001B[0m\u001B[0m\n\u001B[0m\u001B[1;32m    345\u001B[0m \u001B[0;34m\u001B[0m\u001B[0m\n\u001B[1;32m    346\u001B[0m         \u001B[0margtypes\u001B[0m \u001B[0;34m=\u001B[0m \u001B[0;34m[\u001B[0m\u001B[0;34m]\u001B[0m\u001B[0;34m\u001B[0m\u001B[0;34m\u001B[0m\u001B[0m\n",
      "\u001B[0;32m~/.pyenv/versions/3.7.4/lib/python3.7/site-packages/numba/core/utils.py\u001B[0m in \u001B[0;36mreraise\u001B[0;34m(tp, value, tb)\u001B[0m\n\u001B[1;32m     78\u001B[0m         \u001B[0mvalue\u001B[0m \u001B[0;34m=\u001B[0m \u001B[0mtp\u001B[0m\u001B[0;34m(\u001B[0m\u001B[0;34m)\u001B[0m\u001B[0;34m\u001B[0m\u001B[0;34m\u001B[0m\u001B[0m\n\u001B[1;32m     79\u001B[0m     \u001B[0;32mif\u001B[0m \u001B[0mvalue\u001B[0m\u001B[0;34m.\u001B[0m\u001B[0m__traceback__\u001B[0m \u001B[0;32mis\u001B[0m \u001B[0;32mnot\u001B[0m \u001B[0mtb\u001B[0m\u001B[0;34m:\u001B[0m\u001B[0;34m\u001B[0m\u001B[0;34m\u001B[0m\u001B[0m\n\u001B[0;32m---> 80\u001B[0;31m         \u001B[0;32mraise\u001B[0m \u001B[0mvalue\u001B[0m\u001B[0;34m.\u001B[0m\u001B[0mwith_traceback\u001B[0m\u001B[0;34m(\u001B[0m\u001B[0mtb\u001B[0m\u001B[0;34m)\u001B[0m\u001B[0;34m\u001B[0m\u001B[0;34m\u001B[0m\u001B[0m\n\u001B[0m\u001B[1;32m     81\u001B[0m     \u001B[0;32mraise\u001B[0m \u001B[0mvalue\u001B[0m\u001B[0;34m\u001B[0m\u001B[0;34m\u001B[0m\u001B[0m\n\u001B[1;32m     82\u001B[0m \u001B[0;34m\u001B[0m\u001B[0m\n",
      "\u001B[0;31mTypingError\u001B[0m: Failed in nopython mode pipeline (step: nopython frontend)\nFailed in nopython mode pipeline (step: nopython frontend)\nUntyped global name '_distance_func': cannot determine Numba type of <class 'function'>\n\nFile \"../../../../.pyenv/versions/3.7.4/lib/python3.7/site-packages/umap/umap_.py\", line 334:\n                    def _partial_dist_func(ind1, data1, ind2, data2):\n                        return _distance_func(ind1, data1, ind2, data2, *dist_args)\n                        ^\n\n[1] During: resolving callee type: type(CPUDispatcher(<function nearest_neighbors.<locals>._partial_dist_func at 0x1347970e0>))\n[2] During: typing of call at /Users/lding/.pyenv/versions/3.7.4/lib/python3.7/site-packages/umap/sparse_nndescent.py (235)\n\n[3] During: resolving callee type: type(CPUDispatcher(<function nearest_neighbors.<locals>._partial_dist_func at 0x1347970e0>))\n[4] During: typing of call at /Users/lding/.pyenv/versions/3.7.4/lib/python3.7/site-packages/umap/sparse_nndescent.py (54)\n\n[5] During: resolving callee type: type(CPUDispatcher(<function nearest_neighbors.<locals>._partial_dist_func at 0x1347970e0>))\n[6] During: typing of call at /Users/lding/.pyenv/versions/3.7.4/lib/python3.7/site-packages/umap/sparse_nndescent.py (54)\n\n[7] During: resolving callee type: type(CPUDispatcher(<function nearest_neighbors.<locals>._partial_dist_func at 0x1347970e0>))\n[8] During: typing of call at /Users/lding/.pyenv/versions/3.7.4/lib/python3.7/site-packages/umap/sparse_nndescent.py (103)\n\n[9] During: resolving callee type: type(CPUDispatcher(<function nearest_neighbors.<locals>._partial_dist_func at 0x1347970e0>))\n[10] During: typing of call at /Users/lding/.pyenv/versions/3.7.4/lib/python3.7/site-packages/umap/sparse_nndescent.py (120)\n\n[11] During: resolving callee type: type(CPUDispatcher(<function nearest_neighbors.<locals>._partial_dist_func at 0x1347970e0>))\n[12] During: typing of call at /Users/lding/.pyenv/versions/3.7.4/lib/python3.7/site-packages/umap/sparse_nndescent.py (103)\n\n[13] During: resolving callee type: type(CPUDispatcher(<function nearest_neighbors.<locals>._partial_dist_func at 0x1347970e0>))\n[14] During: typing of call at /Users/lding/.pyenv/versions/3.7.4/lib/python3.7/site-packages/umap/sparse_nndescent.py (120)\n\n[15] During: resolving callee type: type(CPUDispatcher(<function nearest_neighbors.<locals>._partial_dist_func at 0x1347970e0>))\n[16] During: typing of call at /Users/lding/.pyenv/versions/3.7.4/lib/python3.7/site-packages/umap/sparse_nndescent.py (172)\n\n[17] During: resolving callee type: type(CPUDispatcher(<function nearest_neighbors.<locals>._partial_dist_func at 0x1347970e0>))\n[18] During: typing of call at /Users/lding/.pyenv/versions/3.7.4/lib/python3.7/site-packages/umap/sparse_nndescent.py (191)\n\n[19] During: resolving callee type: type(CPUDispatcher(<function nearest_neighbors.<locals>._partial_dist_func at 0x1347970e0>))\n[20] During: typing of call at /Users/lding/.pyenv/versions/3.7.4/lib/python3.7/site-packages/umap/sparse_nndescent.py (172)\n\n[21] During: resolving callee type: type(CPUDispatcher(<function nearest_neighbors.<locals>._partial_dist_func at 0x1347970e0>))\n[22] During: typing of call at /Users/lding/.pyenv/versions/3.7.4/lib/python3.7/site-packages/umap/sparse_nndescent.py (191)\n\n[23] During: resolving callee type: type(CPUDispatcher(<function nearest_neighbors.<locals>._partial_dist_func at 0x1347970e0>))\n[24] During: typing of call at /Users/lding/.pyenv/versions/3.7.4/lib/python3.7/site-packages/umap/sparse_nndescent.py (235)\n\n\nFile \"../../../../.pyenv/versions/3.7.4/lib/python3.7/site-packages/umap/sparse_nndescent.py\", line 235:\ndef sparse_nn_descent(\n    <source elided>\n\n            d = sparse_dist(from_inds, from_data, to_inds, to_data)\n            ^\n"
     ]
    }
   ],
   "source": [
    "start = time.time()\n",
    "indices, dists, forest = sc.neighbors.compute_neighbors_umap(adata.X, n_neighbors=10, metric=calc_norm_mi,\n",
    "                                                             metric_kwds=metric_params)\n",
    "end = time.time()\n",
    "runtime = end - start\n",
    "msg = \"The runtime for compute_neighbors_umap took {} seconds to complete\".format(runtime)\n",
    "logging.info(msg)"
   ],
   "metadata": {
    "collapsed": false,
    "pycharm": {
     "name": "#%% Failed due to Numba\n"
    }
   }
  },
  {
   "cell_type": "code",
   "execution_count": 4,
   "outputs": [
    {
     "data": {
      "text/plain": "(30716, 9886)"
     },
     "execution_count": 4,
     "metadata": {},
     "output_type": "execute_result"
    }
   ],
   "source": [
    "adata = anndata.read_h5ad('/Users/lding/Documents/MICA/Datasets/filtered_gene_bc_matrices/hg19/pbmc33k_preprocessed.h5ad')\n",
    "frame = adata.to_df()\n",
    "frame.shape"
   ],
   "metadata": {
    "collapsed": false,
    "pycharm": {
     "name": "#%% Test on 33k PBMC\n"
    }
   }
  },
  {
   "cell_type": "code",
   "execution_count": 5,
   "outputs": [],
   "source": [
    "frame.to_csv('/Users/lding/Documents/MICA/kgraph/pmbc33k.csv')"
   ],
   "metadata": {
    "collapsed": false,
    "pycharm": {
     "name": "#%%\n"
    }
   }
  },
  {
   "cell_type": "code",
   "execution_count": 3,
   "outputs": [
    {
     "data": {
      "text/plain": "array([ 1,  2,  3,  4,  5,  6,  7,  8,  9, 10, 11])"
     },
     "execution_count": 3,
     "metadata": {},
     "output_type": "execute_result"
    }
   ],
   "source": [
    "np.arange(1, 12)"
   ],
   "metadata": {
    "collapsed": false,
    "pycharm": {
     "name": "#%%\n"
    }
   }
  }
 ],
 "metadata": {
  "kernelspec": {
   "display_name": "Python 3",
   "language": "python",
   "name": "python3"
  },
  "language_info": {
   "codemirror_mode": {
    "name": "ipython",
    "version": 2
   },
   "file_extension": ".py",
   "mimetype": "text/x-python",
   "name": "python",
   "nbconvert_exporter": "python",
   "pygments_lexer": "ipython2",
   "version": "2.7.6"
  }
 },
 "nbformat": 4,
 "nbformat_minor": 0
}